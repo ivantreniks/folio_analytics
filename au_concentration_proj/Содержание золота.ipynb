{
 "cells": [
  {
   "cell_type": "markdown",
   "metadata": {
    "toc": true
   },
   "source": [
    "<h1>Содержание<span class=\"tocSkip\"></span></h1>\n",
    "<div class=\"toc\"><ul class=\"toc-item\"><li><span><a href=\"#Подготовка-данных\" data-toc-modified-id=\"Подготовка-данных-1\"><span class=\"toc-item-num\">1&nbsp;&nbsp;</span>Подготовка данных</a></span></li><li><span><a href=\"#Анализ-данных\" data-toc-modified-id=\"Анализ-данных-2\"><span class=\"toc-item-num\">2&nbsp;&nbsp;</span>Анализ данных</a></span></li><li><span><a href=\"#Модель\" data-toc-modified-id=\"Модель-3\"><span class=\"toc-item-num\">3&nbsp;&nbsp;</span>Модель</a></span></li><li><span><a href=\"#Чек-лист-готовности-проекта\" data-toc-modified-id=\"Чек-лист-готовности-проекта-4\"><span class=\"toc-item-num\">4&nbsp;&nbsp;</span>Чек-лист готовности проекта</a></span></li></ul></div>"
   ]
  },
  {
   "cell_type": "markdown",
   "metadata": {},
   "source": [
    "# Восстановление золота из руды"
   ]
  },
  {
   "cell_type": "markdown",
   "metadata": {},
   "source": [
    "Подготовим прототип модели машинного обучения для «Цифры». Компания разрабатывает решения для эффективной работы промышленных предприятий.\n",
    "\n",
    "Модель будет предсказывать коэффициент восстановления золота из золотосодержащей руды. Используем данные с параметрами добычи и очистки. \n",
    "\n",
    "Модель поможет оптимизировать производство, чтобы не запускать предприятие с убыточными характеристиками.\n",
    "\n",
    "Нужно:\n",
    "\n",
    "1. Подготовить данные;\n",
    "2. Провести исследовательский анализ данных;\n",
    "3. Построить и обучить модель.\n"
   ]
  },
  {
   "cell_type": "markdown",
   "metadata": {},
   "source": [
    "## Подготовка данных"
   ]
  },
  {
   "cell_type": "code",
   "execution_count": 1,
   "metadata": {},
   "outputs": [],
   "source": [
    "import pandas as pd\n",
    "from sklearn.metrics import mean_absolute_error\n",
    "from matplotlib import pyplot as plt\n",
    "from scipy.stats import ttest_ind\n",
    "from scipy.stats import kstest\n",
    "from sklearn.model_selection import GridSearchCV\n",
    "import numpy as np\n",
    "from sklearn.linear_model import LinearRegression\n",
    "from sklearn.model_selection import cross_val_score\n",
    "from sklearn.tree import DecisionTreeRegressor\n",
    "from sklearn.metrics import make_scorer\n",
    "from sklearn.dummy import DummyRegressor\n"
   ]
  },
  {
   "cell_type": "code",
   "execution_count": 2,
   "metadata": {},
   "outputs": [],
   "source": [
    "df_tr=pd.read_csv('/datasets/gold_recovery_train_new.csv')\n",
    "df_te=pd.read_csv('/datasets/gold_recovery_test_new.csv')\n",
    "df_all=pd.read_csv('/datasets/gold_recovery_full_new.csv')"
   ]
  },
  {
   "cell_type": "code",
   "execution_count": 3,
   "metadata": {
    "scrolled": true
   },
   "outputs": [
    {
     "name": "stdout",
     "output_type": "stream",
     "text": [
      "<class 'pandas.core.frame.DataFrame'>\n",
      "RangeIndex: 14149 entries, 0 to 14148\n",
      "Data columns (total 87 columns):\n",
      " #   Column                                              Non-Null Count  Dtype  \n",
      "---  ------                                              --------------  -----  \n",
      " 0   date                                                14149 non-null  object \n",
      " 1   final.output.concentrate_ag                         14148 non-null  float64\n",
      " 2   final.output.concentrate_pb                         14148 non-null  float64\n",
      " 3   final.output.concentrate_sol                        13938 non-null  float64\n",
      " 4   final.output.concentrate_au                         14149 non-null  float64\n",
      " 5   final.output.recovery                               14149 non-null  float64\n",
      " 6   final.output.tail_ag                                14149 non-null  float64\n",
      " 7   final.output.tail_pb                                14049 non-null  float64\n",
      " 8   final.output.tail_sol                               14144 non-null  float64\n",
      " 9   final.output.tail_au                                14149 non-null  float64\n",
      " 10  primary_cleaner.input.sulfate                       14129 non-null  float64\n",
      " 11  primary_cleaner.input.depressant                    14117 non-null  float64\n",
      " 12  primary_cleaner.input.feed_size                     14149 non-null  float64\n",
      " 13  primary_cleaner.input.xanthate                      14049 non-null  float64\n",
      " 14  primary_cleaner.output.concentrate_ag               14149 non-null  float64\n",
      " 15  primary_cleaner.output.concentrate_pb               14063 non-null  float64\n",
      " 16  primary_cleaner.output.concentrate_sol              13863 non-null  float64\n",
      " 17  primary_cleaner.output.concentrate_au               14149 non-null  float64\n",
      " 18  primary_cleaner.output.tail_ag                      14148 non-null  float64\n",
      " 19  primary_cleaner.output.tail_pb                      14134 non-null  float64\n",
      " 20  primary_cleaner.output.tail_sol                     14103 non-null  float64\n",
      " 21  primary_cleaner.output.tail_au                      14149 non-null  float64\n",
      " 22  primary_cleaner.state.floatbank8_a_air              14145 non-null  float64\n",
      " 23  primary_cleaner.state.floatbank8_a_level            14148 non-null  float64\n",
      " 24  primary_cleaner.state.floatbank8_b_air              14145 non-null  float64\n",
      " 25  primary_cleaner.state.floatbank8_b_level            14148 non-null  float64\n",
      " 26  primary_cleaner.state.floatbank8_c_air              14147 non-null  float64\n",
      " 27  primary_cleaner.state.floatbank8_c_level            14148 non-null  float64\n",
      " 28  primary_cleaner.state.floatbank8_d_air              14146 non-null  float64\n",
      " 29  primary_cleaner.state.floatbank8_d_level            14148 non-null  float64\n",
      " 30  rougher.calculation.sulfate_to_au_concentrate       14148 non-null  float64\n",
      " 31  rougher.calculation.floatbank10_sulfate_to_au_feed  14148 non-null  float64\n",
      " 32  rougher.calculation.floatbank11_sulfate_to_au_feed  14148 non-null  float64\n",
      " 33  rougher.calculation.au_pb_ratio                     14149 non-null  float64\n",
      " 34  rougher.input.feed_ag                               14149 non-null  float64\n",
      " 35  rougher.input.feed_pb                               14049 non-null  float64\n",
      " 36  rougher.input.feed_rate                             14141 non-null  float64\n",
      " 37  rougher.input.feed_size                             14005 non-null  float64\n",
      " 38  rougher.input.feed_sol                              14071 non-null  float64\n",
      " 39  rougher.input.feed_au                               14149 non-null  float64\n",
      " 40  rougher.input.floatbank10_sulfate                   14120 non-null  float64\n",
      " 41  rougher.input.floatbank10_xanthate                  14141 non-null  float64\n",
      " 42  rougher.input.floatbank11_sulfate                   14113 non-null  float64\n",
      " 43  rougher.input.floatbank11_xanthate                  13721 non-null  float64\n",
      " 44  rougher.output.concentrate_ag                       14149 non-null  float64\n",
      " 45  rougher.output.concentrate_pb                       14149 non-null  float64\n",
      " 46  rougher.output.concentrate_sol                      14127 non-null  float64\n",
      " 47  rougher.output.concentrate_au                       14149 non-null  float64\n",
      " 48  rougher.output.recovery                             14149 non-null  float64\n",
      " 49  rougher.output.tail_ag                              14148 non-null  float64\n",
      " 50  rougher.output.tail_pb                              14149 non-null  float64\n",
      " 51  rougher.output.tail_sol                             14149 non-null  float64\n",
      " 52  rougher.output.tail_au                              14149 non-null  float64\n",
      " 53  rougher.state.floatbank10_a_air                     14148 non-null  float64\n",
      " 54  rougher.state.floatbank10_a_level                   14148 non-null  float64\n",
      " 55  rougher.state.floatbank10_b_air                     14148 non-null  float64\n",
      " 56  rougher.state.floatbank10_b_level                   14148 non-null  float64\n",
      " 57  rougher.state.floatbank10_c_air                     14148 non-null  float64\n",
      " 58  rougher.state.floatbank10_c_level                   14148 non-null  float64\n",
      " 59  rougher.state.floatbank10_d_air                     14149 non-null  float64\n",
      " 60  rougher.state.floatbank10_d_level                   14149 non-null  float64\n",
      " 61  rougher.state.floatbank10_e_air                     13713 non-null  float64\n",
      " 62  rougher.state.floatbank10_e_level                   14149 non-null  float64\n",
      " 63  rougher.state.floatbank10_f_air                     14149 non-null  float64\n",
      " 64  rougher.state.floatbank10_f_level                   14149 non-null  float64\n",
      " 65  secondary_cleaner.output.tail_ag                    14147 non-null  float64\n",
      " 66  secondary_cleaner.output.tail_pb                    14139 non-null  float64\n",
      " 67  secondary_cleaner.output.tail_sol                   12544 non-null  float64\n",
      " 68  secondary_cleaner.output.tail_au                    14149 non-null  float64\n",
      " 69  secondary_cleaner.state.floatbank2_a_air            13932 non-null  float64\n",
      " 70  secondary_cleaner.state.floatbank2_a_level          14148 non-null  float64\n",
      " 71  secondary_cleaner.state.floatbank2_b_air            14128 non-null  float64\n",
      " 72  secondary_cleaner.state.floatbank2_b_level          14148 non-null  float64\n",
      " 73  secondary_cleaner.state.floatbank3_a_air            14145 non-null  float64\n",
      " 74  secondary_cleaner.state.floatbank3_a_level          14148 non-null  float64\n",
      " 75  secondary_cleaner.state.floatbank3_b_air            14148 non-null  float64\n",
      " 76  secondary_cleaner.state.floatbank3_b_level          14148 non-null  float64\n",
      " 77  secondary_cleaner.state.floatbank4_a_air            14143 non-null  float64\n",
      " 78  secondary_cleaner.state.floatbank4_a_level          14148 non-null  float64\n",
      " 79  secondary_cleaner.state.floatbank4_b_air            14148 non-null  float64\n",
      " 80  secondary_cleaner.state.floatbank4_b_level          14148 non-null  float64\n",
      " 81  secondary_cleaner.state.floatbank5_a_air            14148 non-null  float64\n",
      " 82  secondary_cleaner.state.floatbank5_a_level          14148 non-null  float64\n",
      " 83  secondary_cleaner.state.floatbank5_b_air            14148 non-null  float64\n",
      " 84  secondary_cleaner.state.floatbank5_b_level          14148 non-null  float64\n",
      " 85  secondary_cleaner.state.floatbank6_a_air            14147 non-null  float64\n",
      " 86  secondary_cleaner.state.floatbank6_a_level          14148 non-null  float64\n",
      "dtypes: float64(86), object(1)\n",
      "memory usage: 9.4+ MB\n",
      "<class 'pandas.core.frame.DataFrame'>\n",
      "RangeIndex: 5290 entries, 0 to 5289\n",
      "Data columns (total 53 columns):\n",
      " #   Column                                      Non-Null Count  Dtype  \n",
      "---  ------                                      --------------  -----  \n",
      " 0   date                                        5290 non-null   object \n",
      " 1   primary_cleaner.input.sulfate               5286 non-null   float64\n",
      " 2   primary_cleaner.input.depressant            5285 non-null   float64\n",
      " 3   primary_cleaner.input.feed_size             5290 non-null   float64\n",
      " 4   primary_cleaner.input.xanthate              5286 non-null   float64\n",
      " 5   primary_cleaner.state.floatbank8_a_air      5290 non-null   float64\n",
      " 6   primary_cleaner.state.floatbank8_a_level    5290 non-null   float64\n",
      " 7   primary_cleaner.state.floatbank8_b_air      5290 non-null   float64\n",
      " 8   primary_cleaner.state.floatbank8_b_level    5290 non-null   float64\n",
      " 9   primary_cleaner.state.floatbank8_c_air      5290 non-null   float64\n",
      " 10  primary_cleaner.state.floatbank8_c_level    5290 non-null   float64\n",
      " 11  primary_cleaner.state.floatbank8_d_air      5290 non-null   float64\n",
      " 12  primary_cleaner.state.floatbank8_d_level    5290 non-null   float64\n",
      " 13  rougher.input.feed_ag                       5290 non-null   float64\n",
      " 14  rougher.input.feed_pb                       5290 non-null   float64\n",
      " 15  rougher.input.feed_rate                     5287 non-null   float64\n",
      " 16  rougher.input.feed_size                     5289 non-null   float64\n",
      " 17  rougher.input.feed_sol                      5269 non-null   float64\n",
      " 18  rougher.input.feed_au                       5290 non-null   float64\n",
      " 19  rougher.input.floatbank10_sulfate           5285 non-null   float64\n",
      " 20  rougher.input.floatbank10_xanthate          5290 non-null   float64\n",
      " 21  rougher.input.floatbank11_sulfate           5282 non-null   float64\n",
      " 22  rougher.input.floatbank11_xanthate          5265 non-null   float64\n",
      " 23  rougher.state.floatbank10_a_air             5290 non-null   float64\n",
      " 24  rougher.state.floatbank10_a_level           5290 non-null   float64\n",
      " 25  rougher.state.floatbank10_b_air             5290 non-null   float64\n",
      " 26  rougher.state.floatbank10_b_level           5290 non-null   float64\n",
      " 27  rougher.state.floatbank10_c_air             5290 non-null   float64\n",
      " 28  rougher.state.floatbank10_c_level           5290 non-null   float64\n",
      " 29  rougher.state.floatbank10_d_air             5290 non-null   float64\n",
      " 30  rougher.state.floatbank10_d_level           5290 non-null   float64\n",
      " 31  rougher.state.floatbank10_e_air             5290 non-null   float64\n",
      " 32  rougher.state.floatbank10_e_level           5290 non-null   float64\n",
      " 33  rougher.state.floatbank10_f_air             5290 non-null   float64\n",
      " 34  rougher.state.floatbank10_f_level           5290 non-null   float64\n",
      " 35  secondary_cleaner.state.floatbank2_a_air    5287 non-null   float64\n",
      " 36  secondary_cleaner.state.floatbank2_a_level  5290 non-null   float64\n",
      " 37  secondary_cleaner.state.floatbank2_b_air    5288 non-null   float64\n",
      " 38  secondary_cleaner.state.floatbank2_b_level  5290 non-null   float64\n",
      " 39  secondary_cleaner.state.floatbank3_a_air    5281 non-null   float64\n",
      " 40  secondary_cleaner.state.floatbank3_a_level  5290 non-null   float64\n",
      " 41  secondary_cleaner.state.floatbank3_b_air    5290 non-null   float64\n",
      " 42  secondary_cleaner.state.floatbank3_b_level  5290 non-null   float64\n",
      " 43  secondary_cleaner.state.floatbank4_a_air    5290 non-null   float64\n",
      " 44  secondary_cleaner.state.floatbank4_a_level  5290 non-null   float64\n",
      " 45  secondary_cleaner.state.floatbank4_b_air    5290 non-null   float64\n",
      " 46  secondary_cleaner.state.floatbank4_b_level  5290 non-null   float64\n",
      " 47  secondary_cleaner.state.floatbank5_a_air    5290 non-null   float64\n",
      " 48  secondary_cleaner.state.floatbank5_a_level  5290 non-null   float64\n",
      " 49  secondary_cleaner.state.floatbank5_b_air    5290 non-null   float64\n",
      " 50  secondary_cleaner.state.floatbank5_b_level  5290 non-null   float64\n",
      " 51  secondary_cleaner.state.floatbank6_a_air    5290 non-null   float64\n",
      " 52  secondary_cleaner.state.floatbank6_a_level  5290 non-null   float64\n",
      "dtypes: float64(52), object(1)\n",
      "memory usage: 2.1+ MB\n",
      "None None\n"
     ]
    }
   ],
   "source": [
    "print(df_tr.info(),df_te.info())"
   ]
  },
  {
   "cell_type": "markdown",
   "metadata": {},
   "source": [
    "В данных есть определенные пропуски: в тренировочной информации более, чем в половине столбцов, а в тестовых данных - примерно в 20%. Однако заметим, что в тренировочных данных максимально пустой столбец лишился лишь 11% данных, а в тестовых максимально неполный столбец не имеет лишь 0.4% данных."
   ]
  },
  {
   "cell_type": "code",
   "execution_count": 4,
   "metadata": {},
   "outputs": [
    {
     "name": "stdout",
     "output_type": "stream",
     "text": [
      "                  date  final.output.concentrate_ag  \\\n",
      "0  2016-01-15 00:00:00                     6.055403   \n",
      "1  2016-01-15 01:00:00                     6.029369   \n",
      "2  2016-01-15 02:00:00                     6.055926   \n",
      "3  2016-01-15 03:00:00                     6.047977   \n",
      "4  2016-01-15 04:00:00                     6.148599   \n",
      "\n",
      "   final.output.concentrate_pb  final.output.concentrate_sol  \\\n",
      "0                     9.889648                      5.507324   \n",
      "1                     9.968944                      5.257781   \n",
      "2                    10.213995                      5.383759   \n",
      "3                     9.977019                      4.858634   \n",
      "4                    10.142511                      4.939416   \n",
      "\n",
      "   final.output.concentrate_au  final.output.recovery  final.output.tail_ag  \\\n",
      "0                    42.192020              70.541216             10.411962   \n",
      "1                    42.701629              69.266198             10.462676   \n",
      "2                    42.657501              68.116445             10.507046   \n",
      "3                    42.689819              68.347543             10.422762   \n",
      "4                    42.774141              66.927016             10.360302   \n",
      "\n",
      "   final.output.tail_pb  final.output.tail_sol  final.output.tail_au  ...  \\\n",
      "0              0.895447              16.904297              2.143149  ...   \n",
      "1              0.927452              16.634514              2.224930  ...   \n",
      "2              0.953716              16.208849              2.257889  ...   \n",
      "3              0.883763              16.532835              2.146849  ...   \n",
      "4              0.792826              16.525686              2.055292  ...   \n",
      "\n",
      "   secondary_cleaner.state.floatbank4_a_air  \\\n",
      "0                                 14.016835   \n",
      "1                                 13.992281   \n",
      "2                                 14.015015   \n",
      "3                                 14.036510   \n",
      "4                                 14.027298   \n",
      "\n",
      "   secondary_cleaner.state.floatbank4_a_level  \\\n",
      "0                                 -502.488007   \n",
      "1                                 -505.503262   \n",
      "2                                 -502.520901   \n",
      "3                                 -500.857308   \n",
      "4                                 -499.838632   \n",
      "\n",
      "   secondary_cleaner.state.floatbank4_b_air  \\\n",
      "0                                 12.099931   \n",
      "1                                 11.950531   \n",
      "2                                 11.912783   \n",
      "3                                 11.999550   \n",
      "4                                 11.953070   \n",
      "\n",
      "   secondary_cleaner.state.floatbank4_b_level  \\\n",
      "0                                 -504.715942   \n",
      "1                                 -501.331529   \n",
      "2                                 -501.133383   \n",
      "3                                 -501.193686   \n",
      "4                                 -501.053894   \n",
      "\n",
      "   secondary_cleaner.state.floatbank5_a_air  \\\n",
      "0                                  9.925633   \n",
      "1                                 10.039245   \n",
      "2                                 10.070913   \n",
      "3                                  9.970366   \n",
      "4                                  9.925709   \n",
      "\n",
      "   secondary_cleaner.state.floatbank5_a_level  \\\n",
      "0                                 -498.310211   \n",
      "1                                 -500.169983   \n",
      "2                                 -500.129135   \n",
      "3                                 -499.201640   \n",
      "4                                 -501.686727   \n",
      "\n",
      "   secondary_cleaner.state.floatbank5_b_air  \\\n",
      "0                                  8.079666   \n",
      "1                                  7.984757   \n",
      "2                                  8.013877   \n",
      "3                                  7.977324   \n",
      "4                                  7.894242   \n",
      "\n",
      "   secondary_cleaner.state.floatbank5_b_level  \\\n",
      "0                                 -500.470978   \n",
      "1                                 -500.582168   \n",
      "2                                 -500.517572   \n",
      "3                                 -500.255908   \n",
      "4                                 -500.356035   \n",
      "\n",
      "   secondary_cleaner.state.floatbank6_a_air  \\\n",
      "0                                 14.151341   \n",
      "1                                 13.998353   \n",
      "2                                 14.028663   \n",
      "3                                 14.005551   \n",
      "4                                 13.996647   \n",
      "\n",
      "   secondary_cleaner.state.floatbank6_a_level  \n",
      "0                                 -605.841980  \n",
      "1                                 -599.787184  \n",
      "2                                 -601.427363  \n",
      "3                                 -599.996129  \n",
      "4                                 -601.496691  \n",
      "\n",
      "[5 rows x 87 columns] _ \n",
      "_ \n",
      "_ \n",
      "_ \n",
      "_ \n",
      "_ \n",
      "_ \n",
      "                   date  primary_cleaner.input.sulfate  \\\n",
      "0  2016-09-01 00:59:59                     210.800909   \n",
      "1  2016-09-01 01:59:59                     215.392455   \n",
      "2  2016-09-01 02:59:59                     215.259946   \n",
      "3  2016-09-01 03:59:59                     215.336236   \n",
      "4  2016-09-01 04:59:59                     199.099327   \n",
      "\n",
      "   primary_cleaner.input.depressant  primary_cleaner.input.feed_size  \\\n",
      "0                         14.993118                         8.080000   \n",
      "1                         14.987471                         8.080000   \n",
      "2                         12.884934                         7.786667   \n",
      "3                         12.006805                         7.640000   \n",
      "4                         10.682530                         7.530000   \n",
      "\n",
      "   primary_cleaner.input.xanthate  primary_cleaner.state.floatbank8_a_air  \\\n",
      "0                        1.005021                             1398.981301   \n",
      "1                        0.990469                             1398.777912   \n",
      "2                        0.996043                             1398.493666   \n",
      "3                        0.863514                             1399.618111   \n",
      "4                        0.805575                             1401.268123   \n",
      "\n",
      "   primary_cleaner.state.floatbank8_a_level  \\\n",
      "0                               -500.225577   \n",
      "1                               -500.057435   \n",
      "2                               -500.868360   \n",
      "3                               -498.863574   \n",
      "4                               -500.808305   \n",
      "\n",
      "   primary_cleaner.state.floatbank8_b_air  \\\n",
      "0                             1399.144926   \n",
      "1                             1398.055362   \n",
      "2                             1398.860436   \n",
      "3                             1397.440120   \n",
      "4                             1398.128818   \n",
      "\n",
      "   primary_cleaner.state.floatbank8_b_level  \\\n",
      "0                               -499.919735   \n",
      "1                               -499.778182   \n",
      "2                               -499.764529   \n",
      "3                               -499.211024   \n",
      "4                               -499.504543   \n",
      "\n",
      "   primary_cleaner.state.floatbank8_c_air  ...  \\\n",
      "0                             1400.102998  ...   \n",
      "1                             1396.151033  ...   \n",
      "2                             1398.075709  ...   \n",
      "3                             1400.129303  ...   \n",
      "4                             1402.172226  ...   \n",
      "\n",
      "   secondary_cleaner.state.floatbank4_a_air  \\\n",
      "0                                 12.023554   \n",
      "1                                 12.058140   \n",
      "2                                 11.962366   \n",
      "3                                 12.033091   \n",
      "4                                 12.025367   \n",
      "\n",
      "   secondary_cleaner.state.floatbank4_a_level  \\\n",
      "0                                 -497.795834   \n",
      "1                                 -498.695773   \n",
      "2                                 -498.767484   \n",
      "3                                 -498.350935   \n",
      "4                                 -500.786497   \n",
      "\n",
      "   secondary_cleaner.state.floatbank4_b_air  \\\n",
      "0                                  8.016656   \n",
      "1                                  8.130979   \n",
      "2                                  8.096893   \n",
      "3                                  8.074946   \n",
      "4                                  8.054678   \n",
      "\n",
      "   secondary_cleaner.state.floatbank4_b_level  \\\n",
      "0                                 -501.289139   \n",
      "1                                 -499.634209   \n",
      "2                                 -500.827423   \n",
      "3                                 -499.474407   \n",
      "4                                 -500.397500   \n",
      "\n",
      "   secondary_cleaner.state.floatbank5_a_air  \\\n",
      "0                                  7.946562   \n",
      "1                                  7.958270   \n",
      "2                                  8.071056   \n",
      "3                                  7.897085   \n",
      "4                                  8.107890   \n",
      "\n",
      "   secondary_cleaner.state.floatbank5_a_level  \\\n",
      "0                                 -432.317850   \n",
      "1                                 -525.839648   \n",
      "2                                 -500.801673   \n",
      "3                                 -500.868509   \n",
      "4                                 -509.526725   \n",
      "\n",
      "   secondary_cleaner.state.floatbank5_b_air  \\\n",
      "0                                  4.872511   \n",
      "1                                  4.878850   \n",
      "2                                  4.905125   \n",
      "3                                  4.931400   \n",
      "4                                  4.957674   \n",
      "\n",
      "   secondary_cleaner.state.floatbank5_b_level  \\\n",
      "0                                 -500.037437   \n",
      "1                                 -500.162375   \n",
      "2                                 -499.828510   \n",
      "3                                 -499.963623   \n",
      "4                                 -500.360026   \n",
      "\n",
      "   secondary_cleaner.state.floatbank6_a_air  \\\n",
      "0                                 26.705889   \n",
      "1                                 25.019940   \n",
      "2                                 24.994862   \n",
      "3                                 24.948919   \n",
      "4                                 25.003331   \n",
      "\n",
      "   secondary_cleaner.state.floatbank6_a_level  \n",
      "0                                 -499.709414  \n",
      "1                                 -499.819438  \n",
      "2                                 -500.622559  \n",
      "3                                 -498.709987  \n",
      "4                                 -500.856333  \n",
      "\n",
      "[5 rows x 53 columns]\n"
     ]
    }
   ],
   "source": [
    "print(df_tr.head(),'_ \\n'*7,df_te.head())"
   ]
  },
  {
   "cell_type": "code",
   "execution_count": 5,
   "metadata": {},
   "outputs": [
    {
     "name": "stdout",
     "output_type": "stream",
     "text": [
      "0    87.107763\n",
      "1    86.843261\n",
      "2    86.842308\n",
      "3    87.226430\n",
      "4    86.688794\n",
      "dtype: float64 0    87.107763\n",
      "1    86.843261\n",
      "2    86.842308\n",
      "3    87.226430\n",
      "4    86.688794\n",
      "Name: rougher.output.recovery, dtype: float64 \n",
      "_\n",
      "_\n",
      "_\n",
      "Delta MAE: 9.73512347450521e-15\n"
     ]
    }
   ],
   "source": [
    "check_ef=(df_tr['rougher.output.concentrate_au']*(df_tr['rougher.input.feed_au']-df_tr['rougher.output.tail_au']))/(df_tr['rougher.input.feed_au']*(df_tr['rougher.output.concentrate_au']-df_tr['rougher.output.tail_au']))*100\n",
    "print(check_ef.head(),df_tr['rougher.output.recovery'][:5],'\\n_'*3)\n",
    "print(\"Delta MAE:\",mean_absolute_error(check_ef,df_tr['rougher.output.recovery']))\n"
   ]
  },
  {
   "cell_type": "markdown",
   "metadata": {},
   "source": [
    "Ошибка мала - лишь 9.7 на 10 в -15 степени. Это крайне мало. Такая ошибка могла быть вызвана неточностями в подсчетах концентрата и ошибками при округлениях."
   ]
  },
  {
   "cell_type": "code",
   "execution_count": 6,
   "metadata": {},
   "outputs": [
    {
     "name": "stdout",
     "output_type": "stream",
     "text": [
      "{'primary_cleaner.output.tail_au', 'final.output.concentrate_pb', 'rougher.output.tail_sol', 'final.output.concentrate_au', 'primary_cleaner.output.concentrate_ag', 'rougher.output.tail_ag', 'rougher.calculation.sulfate_to_au_concentrate', 'rougher.output.concentrate_au', 'primary_cleaner.output.tail_sol', 'rougher.output.concentrate_pb', 'secondary_cleaner.output.tail_pb', 'final.output.recovery', 'rougher.calculation.au_pb_ratio', 'rougher.output.concentrate_sol', 'primary_cleaner.output.concentrate_sol', 'final.output.tail_ag', 'secondary_cleaner.output.tail_ag', 'rougher.calculation.floatbank11_sulfate_to_au_feed', 'primary_cleaner.output.tail_pb', 'rougher.calculation.floatbank10_sulfate_to_au_feed', 'primary_cleaner.output.tail_ag', 'rougher.output.tail_au', 'primary_cleaner.output.concentrate_au', 'rougher.output.tail_pb', 'final.output.tail_pb', 'secondary_cleaner.output.tail_sol', 'final.output.concentrate_sol', 'primary_cleaner.output.concentrate_pb', 'rougher.output.concentrate_ag', 'final.output.tail_sol', 'final.output.tail_au', 'secondary_cleaner.output.tail_au', 'rougher.output.recovery', 'final.output.concentrate_ag'} \n",
      " 34\n"
     ]
    }
   ],
   "source": [
    "diff=set(df_tr.columns).difference(set(df_te.columns))\n",
    "print(diff,'\\n',len(diff))"
   ]
  },
  {
   "cell_type": "markdown",
   "metadata": {},
   "source": [
    "В тестовых данных нет 34 параметров - среди них почти все output, а также calculation.floatbank10_sulfate_to_au_feed, ougher.calculation.au_pb_ratio и rougher.calculation.floatbank11_sulfate_to_au_feed. Данные недоступны заранее, их невозможно предугадать, поэтому их стоит убрать, чтобы они не путали модель и чтобы не было утечки."
   ]
  },
  {
   "cell_type": "code",
   "execution_count": 7,
   "metadata": {},
   "outputs": [
    {
     "name": "stdout",
     "output_type": "stream",
     "text": [
      "0\n",
      "0\n"
     ]
    }
   ],
   "source": [
    "print(df_te[df_te['date'].duplicated()==True]['date'].count())\n",
    "print(df_tr[df_tr['date'].duplicated()==True]['date'].count())"
   ]
  },
  {
   "cell_type": "markdown",
   "metadata": {},
   "source": [
    "Нет явных дубликатов, отлично!"
   ]
  },
  {
   "cell_type": "code",
   "execution_count": 8,
   "metadata": {},
   "outputs": [],
   "source": [
    "for i in [df_te,df_tr]:\n",
    "    i=i.ffill(axis=0,inplace=True)"
   ]
  },
  {
   "cell_type": "markdown",
   "metadata": {},
   "source": [
    "В задании была подсказка о том, что данные, полученные в одно время, похожи. Воспользуемся этим и заменим недостающие клетки данными из предыдущей клетки."
   ]
  },
  {
   "cell_type": "code",
   "execution_count": 9,
   "metadata": {
    "scrolled": true
   },
   "outputs": [
    {
     "name": "stdout",
     "output_type": "stream",
     "text": [
      "date                                          0\n",
      "primary_cleaner.input.sulfate                 0\n",
      "primary_cleaner.input.depressant              0\n",
      "primary_cleaner.input.feed_size               0\n",
      "primary_cleaner.input.xanthate                0\n",
      "primary_cleaner.state.floatbank8_a_air        0\n",
      "primary_cleaner.state.floatbank8_a_level      0\n",
      "primary_cleaner.state.floatbank8_b_air        0\n",
      "primary_cleaner.state.floatbank8_b_level      0\n",
      "primary_cleaner.state.floatbank8_c_air        0\n",
      "primary_cleaner.state.floatbank8_c_level      0\n",
      "primary_cleaner.state.floatbank8_d_air        0\n",
      "primary_cleaner.state.floatbank8_d_level      0\n",
      "rougher.input.feed_ag                         0\n",
      "rougher.input.feed_pb                         0\n",
      "rougher.input.feed_rate                       0\n",
      "rougher.input.feed_size                       0\n",
      "rougher.input.feed_sol                        0\n",
      "rougher.input.feed_au                         0\n",
      "rougher.input.floatbank10_sulfate             0\n",
      "rougher.input.floatbank10_xanthate            0\n",
      "rougher.input.floatbank11_sulfate             0\n",
      "rougher.input.floatbank11_xanthate            0\n",
      "rougher.state.floatbank10_a_air               0\n",
      "rougher.state.floatbank10_a_level             0\n",
      "rougher.state.floatbank10_b_air               0\n",
      "rougher.state.floatbank10_b_level             0\n",
      "rougher.state.floatbank10_c_air               0\n",
      "rougher.state.floatbank10_c_level             0\n",
      "rougher.state.floatbank10_d_air               0\n",
      "rougher.state.floatbank10_d_level             0\n",
      "rougher.state.floatbank10_e_air               0\n",
      "rougher.state.floatbank10_e_level             0\n",
      "rougher.state.floatbank10_f_air               0\n",
      "rougher.state.floatbank10_f_level             0\n",
      "secondary_cleaner.state.floatbank2_a_air      0\n",
      "secondary_cleaner.state.floatbank2_a_level    0\n",
      "secondary_cleaner.state.floatbank2_b_air      0\n",
      "secondary_cleaner.state.floatbank2_b_level    0\n",
      "secondary_cleaner.state.floatbank3_a_air      0\n",
      "secondary_cleaner.state.floatbank3_a_level    0\n",
      "secondary_cleaner.state.floatbank3_b_air      0\n",
      "secondary_cleaner.state.floatbank3_b_level    0\n",
      "secondary_cleaner.state.floatbank4_a_air      0\n",
      "secondary_cleaner.state.floatbank4_a_level    0\n",
      "secondary_cleaner.state.floatbank4_b_air      0\n",
      "secondary_cleaner.state.floatbank4_b_level    0\n",
      "secondary_cleaner.state.floatbank5_a_air      0\n",
      "secondary_cleaner.state.floatbank5_a_level    0\n",
      "secondary_cleaner.state.floatbank5_b_air      0\n",
      "secondary_cleaner.state.floatbank5_b_level    0\n",
      "secondary_cleaner.state.floatbank6_a_air      0\n",
      "secondary_cleaner.state.floatbank6_a_level    0\n",
      "dtype: int64\n",
      "date                                          0\n",
      "final.output.concentrate_ag                   0\n",
      "final.output.concentrate_pb                   0\n",
      "final.output.concentrate_sol                  0\n",
      "final.output.concentrate_au                   0\n",
      "                                             ..\n",
      "secondary_cleaner.state.floatbank5_a_level    0\n",
      "secondary_cleaner.state.floatbank5_b_air      0\n",
      "secondary_cleaner.state.floatbank5_b_level    0\n",
      "secondary_cleaner.state.floatbank6_a_air      0\n",
      "secondary_cleaner.state.floatbank6_a_level    0\n",
      "Length: 87, dtype: int64\n"
     ]
    }
   ],
   "source": [
    "for i in [df_te,df_tr]:\n",
    "    print(i[i.isna()==True].count())"
   ]
  },
  {
   "cell_type": "markdown",
   "metadata": {},
   "source": [
    "## Анализ данных"
   ]
  },
  {
   "cell_type": "code",
   "execution_count": 10,
   "metadata": {},
   "outputs": [
    {
     "name": "stdout",
     "output_type": "stream",
     "text": [
      "   rougher.input.feed_au  rougher.output.concentrate_au  \\\n",
      "0               6.486150                      19.793808   \n",
      "1               6.478583                      20.050975   \n",
      "2               6.362222                      19.737170   \n",
      "3               6.118189                      19.320810   \n",
      "4               5.663707                      19.216101   \n",
      "\n",
      "   primary_cleaner.output.concentrate_au  final.output.concentrate_au  \n",
      "0                              34.174427                    42.192020  \n",
      "1                              34.118526                    42.701629  \n",
      "2                              33.969464                    42.657501  \n",
      "3                              28.260743                    42.689819  \n",
      "4                              33.044932                    42.774141  \n"
     ]
    }
   ],
   "source": [
    "df_au=df_all[['rougher.input.feed_au' ,'rougher.output.concentrate_au' ,'primary_cleaner.output.concentrate_au' ,'final.output.concentrate_au']]\n",
    "df_pb=df_all[['rougher.input.feed_pb' ,'rougher.output.concentrate_pb' ,'primary_cleaner.output.concentrate_pb' ,'final.output.concentrate_pb']]\n",
    "df_ag=df_all[['rougher.input.feed_ag' ,'rougher.output.concentrate_ag' ,'primary_cleaner.output.concentrate_ag' ,'final.output.concentrate_ag']]\n",
    "\n",
    "\n",
    "\n",
    "print(df_au.head())"
   ]
  },
  {
   "cell_type": "code",
   "execution_count": 11,
   "metadata": {
    "scrolled": false
   },
   "outputs": [
    {
     "data": {
      "text/plain": [
       "<matplotlib.legend.Legend at 0x7f1bb6661940>"
      ]
     },
     "execution_count": 11,
     "metadata": {},
     "output_type": "execute_result"
    },
    {
     "data": {
      "image/png": "[encoded data removed]",
      "text/plain": [
       "<Figure size 720x720 with 1 Axes>"
      ]
     },
     "metadata": {
      "needs_background": "light"
     },
     "output_type": "display_data"
    }
   ],
   "source": [
    "df_all_con=[df_pb,df_ag,df_au]\n",
    "for i in df_all_con:\n",
    "    i.columns=['initial','rougher','primary','final']\n",
    "    i.mean().plot(figsize=(10,10),xlabel='stages',ylabel='percentage',title='Концентрация металов по стадиям',grid=True,legend=['pb','ag','au','sol'])\n",
    "plt.legend(['Pb', 'Ag', 'Au'])"
   ]
  },
  {
   "cell_type": "markdown",
   "metadata": {},
   "source": [
    "Видим, что концентрация золота увеличивается с 8% до 45%, а остальные концентрации остаются в пределах 10%. В этом и суть - получить максимум железа, минимизируя примеси."
   ]
  },
  {
   "cell_type": "code",
   "execution_count": 12,
   "metadata": {
    "scrolled": true
   },
   "outputs": [
    {
     "data": {
      "text/plain": [
       "<matplotlib.legend.Legend at 0x7f1bb6424ee0>"
      ]
     },
     "execution_count": 12,
     "metadata": {},
     "output_type": "execute_result"
    },
    {
     "data": {
      "image/png": "[encoded data removed]",
      "text/plain": [
       "<Figure size 576x432 with 1 Axes>"
      ]
     },
     "metadata": {
      "needs_background": "light"
     },
     "output_type": "display_data"
    }
   ],
   "source": [
    "\n",
    "df_te['rougher.input.feed_size'].hist(alpha=0.5,bins=100,figsize=(8,6),density=True)\n",
    "df_tr['rougher.input.feed_size'].hist(alpha=0.5,bins=100,figsize=(8,6),density=True)\n",
    "plt.legend(['Test', 'Train'])"
   ]
  },
  {
   "cell_type": "code",
   "execution_count": 13,
   "metadata": {},
   "outputs": [
    {
     "name": "stdout",
     "output_type": "stream",
     "text": [
      "t-test: p-value=1.6081245670851643e-33\n"
     ]
    }
   ],
   "source": [
    "stat = ttest_ind(df_te['rougher.input.feed_size'], df_tr['rougher.input.feed_size'])\n",
    "print(f\"t-test: p-value={stat[1]}\")\n"
   ]
  },
  {
   "cell_type": "markdown",
   "metadata": {},
   "source": [
    "Нулевая гипотеза: в средних значениях отсутствуют различия. t-test показал значение p-value 1.6 на 10^-33 , что существенно меньше всех разумных уровней значимости, нулевая гипотеза **отвергнута**."
   ]
  },
  {
   "cell_type": "code",
   "execution_count": 14,
   "metadata": {},
   "outputs": [
    {
     "name": "stdout",
     "output_type": "stream",
     "text": [
      "Kolmogorov-Smirnov Test: p-value=5.1997046130555955e-213\n"
     ]
    }
   ],
   "source": [
    "stat = kstest(df_te['rougher.input.feed_size'], df_tr['rougher.input.feed_size'])\n",
    "print(f\"Kolmogorov-Smirnov Test: p-value={stat[1]}\")"
   ]
  },
  {
   "cell_type": "markdown",
   "metadata": {},
   "source": [
    "Нулевая гипотеза: распределния одинаковы. Тест Колмогорова-Смирнова показал значение p-value 5.2 на 10^-213 , что существенно меньше всех разумных уровней значимости. Вывод: нулевая гипотеза об одинаковости распределений **отвергнута**.\n",
    "\n",
    "\n",
    "Итог: данные распределены неодинаково."
   ]
  },
  {
   "cell_type": "code",
   "execution_count": 15,
   "metadata": {},
   "outputs": [
    {
     "name": "stdout",
     "output_type": "stream",
     "text": [
      "0        51.680034\n",
      "1        50.659114\n",
      "2        50.609929\n",
      "3        51.061546\n",
      "4        47.859163\n",
      "           ...    \n",
      "19434    53.415050\n",
      "19435    53.696482\n",
      "19436    54.589604\n",
      "19437    54.027355\n",
      "19438    53.535054\n",
      "Length: 19439, dtype: float64\n"
     ]
    },
    {
     "data": {
      "image/png": "[encoded data removed]",
      "text/plain": [
       "<Figure size 576x432 with 1 Axes>"
      ]
     },
     "metadata": {
      "needs_background": "light"
     },
     "output_type": "display_data"
    }
   ],
   "source": [
    "df_conc_source=df_all[['rougher.input.feed_au','rougher.input.feed_pb','rougher.input.feed_ag','rougher.input.feed_sol']].sum(axis=1)\n",
    "df_conc_black=df_all[['rougher.output.concentrate_au','rougher.output.concentrate_pb','rougher.output.concentrate_ag','rougher.output.concentrate_sol']].sum(axis=1)\n",
    "df_conc_final=df_all[['final.output.concentrate_au','final.output.concentrate_pb','final.output.concentrate_ag','final.output.concentrate_sol']].sum(axis=1)\n",
    "\n",
    "df_conc_source.hist(alpha=0.5,bins=100,figsize=(8,6))\n",
    "df_conc_black.hist(alpha=0.5,bins=100,figsize=(8,6))\n",
    "df_conc_final.hist(alpha=0.5,bins=100,figsize=(8,6))\n",
    "plt.legend(['Source', 'Rougher','Final'])\n",
    "print(df_conc_source)"
   ]
  },
  {
   "cell_type": "markdown",
   "metadata": {},
   "source": [
    "Можно заключить что грубая обработка убирает совсем бесполезные примеси, а вторичная уже увеличивает концентрацию золота. Видим аномалии: нулевые концентрации. Их следует удалить из данных."
   ]
  },
  {
   "cell_type": "code",
   "execution_count": 16,
   "metadata": {
    "scrolled": true
   },
   "outputs": [
    {
     "name": "stdout",
     "output_type": "stream",
     "text": [
      "<class 'pandas.core.frame.DataFrame'>\n",
      "Int64Index: 13802 entries, 0 to 14148\n",
      "Data columns (total 87 columns):\n",
      " #   Column                                              Non-Null Count  Dtype  \n",
      "---  ------                                              --------------  -----  \n",
      " 0   date                                                13802 non-null  object \n",
      " 1   final.output.concentrate_ag                         13802 non-null  float64\n",
      " 2   final.output.concentrate_pb                         13802 non-null  float64\n",
      " 3   final.output.concentrate_sol                        13802 non-null  float64\n",
      " 4   final.output.concentrate_au                         13802 non-null  float64\n",
      " 5   final.output.recovery                               13802 non-null  float64\n",
      " 6   final.output.tail_ag                                13802 non-null  float64\n",
      " 7   final.output.tail_pb                                13802 non-null  float64\n",
      " 8   final.output.tail_sol                               13802 non-null  float64\n",
      " 9   final.output.tail_au                                13802 non-null  float64\n",
      " 10  primary_cleaner.input.sulfate                       13802 non-null  float64\n",
      " 11  primary_cleaner.input.depressant                    13802 non-null  float64\n",
      " 12  primary_cleaner.input.feed_size                     13802 non-null  float64\n",
      " 13  primary_cleaner.input.xanthate                      13802 non-null  float64\n",
      " 14  primary_cleaner.output.concentrate_ag               13802 non-null  float64\n",
      " 15  primary_cleaner.output.concentrate_pb               13802 non-null  float64\n",
      " 16  primary_cleaner.output.concentrate_sol              13802 non-null  float64\n",
      " 17  primary_cleaner.output.concentrate_au               13802 non-null  float64\n",
      " 18  primary_cleaner.output.tail_ag                      13802 non-null  float64\n",
      " 19  primary_cleaner.output.tail_pb                      13802 non-null  float64\n",
      " 20  primary_cleaner.output.tail_sol                     13802 non-null  float64\n",
      " 21  primary_cleaner.output.tail_au                      13802 non-null  float64\n",
      " 22  primary_cleaner.state.floatbank8_a_air              13802 non-null  float64\n",
      " 23  primary_cleaner.state.floatbank8_a_level            13802 non-null  float64\n",
      " 24  primary_cleaner.state.floatbank8_b_air              13802 non-null  float64\n",
      " 25  primary_cleaner.state.floatbank8_b_level            13802 non-null  float64\n",
      " 26  primary_cleaner.state.floatbank8_c_air              13802 non-null  float64\n",
      " 27  primary_cleaner.state.floatbank8_c_level            13802 non-null  float64\n",
      " 28  primary_cleaner.state.floatbank8_d_air              13802 non-null  float64\n",
      " 29  primary_cleaner.state.floatbank8_d_level            13802 non-null  float64\n",
      " 30  rougher.calculation.sulfate_to_au_concentrate       13802 non-null  float64\n",
      " 31  rougher.calculation.floatbank10_sulfate_to_au_feed  13802 non-null  float64\n",
      " 32  rougher.calculation.floatbank11_sulfate_to_au_feed  13802 non-null  float64\n",
      " 33  rougher.calculation.au_pb_ratio                     13802 non-null  float64\n",
      " 34  rougher.input.feed_ag                               13802 non-null  float64\n",
      " 35  rougher.input.feed_pb                               13802 non-null  float64\n",
      " 36  rougher.input.feed_rate                             13802 non-null  float64\n",
      " 37  rougher.input.feed_size                             13802 non-null  float64\n",
      " 38  rougher.input.feed_sol                              13802 non-null  float64\n",
      " 39  rougher.input.feed_au                               13802 non-null  float64\n",
      " 40  rougher.input.floatbank10_sulfate                   13802 non-null  float64\n",
      " 41  rougher.input.floatbank10_xanthate                  13802 non-null  float64\n",
      " 42  rougher.input.floatbank11_sulfate                   13802 non-null  float64\n",
      " 43  rougher.input.floatbank11_xanthate                  13802 non-null  float64\n",
      " 44  rougher.output.concentrate_ag                       13802 non-null  float64\n",
      " 45  rougher.output.concentrate_pb                       13802 non-null  float64\n",
      " 46  rougher.output.concentrate_sol                      13802 non-null  float64\n",
      " 47  rougher.output.concentrate_au                       13802 non-null  float64\n",
      " 48  rougher.output.recovery                             13802 non-null  float64\n",
      " 49  rougher.output.tail_ag                              13802 non-null  float64\n",
      " 50  rougher.output.tail_pb                              13802 non-null  float64\n",
      " 51  rougher.output.tail_sol                             13802 non-null  float64\n",
      " 52  rougher.output.tail_au                              13802 non-null  float64\n",
      " 53  rougher.state.floatbank10_a_air                     13802 non-null  float64\n",
      " 54  rougher.state.floatbank10_a_level                   13802 non-null  float64\n",
      " 55  rougher.state.floatbank10_b_air                     13802 non-null  float64\n",
      " 56  rougher.state.floatbank10_b_level                   13802 non-null  float64\n",
      " 57  rougher.state.floatbank10_c_air                     13802 non-null  float64\n",
      " 58  rougher.state.floatbank10_c_level                   13802 non-null  float64\n",
      " 59  rougher.state.floatbank10_d_air                     13802 non-null  float64\n",
      " 60  rougher.state.floatbank10_d_level                   13802 non-null  float64\n",
      " 61  rougher.state.floatbank10_e_air                     13802 non-null  float64\n",
      " 62  rougher.state.floatbank10_e_level                   13802 non-null  float64\n",
      " 63  rougher.state.floatbank10_f_air                     13802 non-null  float64\n",
      " 64  rougher.state.floatbank10_f_level                   13802 non-null  float64\n",
      " 65  secondary_cleaner.output.tail_ag                    13802 non-null  float64\n",
      " 66  secondary_cleaner.output.tail_pb                    13802 non-null  float64\n",
      " 67  secondary_cleaner.output.tail_sol                   13802 non-null  float64\n",
      " 68  secondary_cleaner.output.tail_au                    13802 non-null  float64\n",
      " 69  secondary_cleaner.state.floatbank2_a_air            13802 non-null  float64\n",
      " 70  secondary_cleaner.state.floatbank2_a_level          13802 non-null  float64\n",
      " 71  secondary_cleaner.state.floatbank2_b_air            13802 non-null  float64\n",
      " 72  secondary_cleaner.state.floatbank2_b_level          13802 non-null  float64\n",
      " 73  secondary_cleaner.state.floatbank3_a_air            13802 non-null  float64\n",
      " 74  secondary_cleaner.state.floatbank3_a_level          13802 non-null  float64\n",
      " 75  secondary_cleaner.state.floatbank3_b_air            13802 non-null  float64\n",
      " 76  secondary_cleaner.state.floatbank3_b_level          13802 non-null  float64\n",
      " 77  secondary_cleaner.state.floatbank4_a_air            13802 non-null  float64\n",
      " 78  secondary_cleaner.state.floatbank4_a_level          13802 non-null  float64\n",
      " 79  secondary_cleaner.state.floatbank4_b_air            13802 non-null  float64\n",
      " 80  secondary_cleaner.state.floatbank4_b_level          13802 non-null  float64\n",
      " 81  secondary_cleaner.state.floatbank5_a_air            13802 non-null  float64\n",
      " 82  secondary_cleaner.state.floatbank5_a_level          13802 non-null  float64\n",
      " 83  secondary_cleaner.state.floatbank5_b_air            13802 non-null  float64\n",
      " 84  secondary_cleaner.state.floatbank5_b_level          13802 non-null  float64\n",
      " 85  secondary_cleaner.state.floatbank6_a_air            13802 non-null  float64\n",
      " 86  secondary_cleaner.state.floatbank6_a_level          13802 non-null  float64\n",
      "dtypes: float64(86), object(1)\n",
      "memory usage: 9.3+ MB\n",
      "None\n"
     ]
    }
   ],
   "source": [
    "#df_tr.drop(index=\n",
    "df_tr=df_tr.drop(index=df_conc_black[df_conc_black==0].index,axis=0,errors='ignore')\n",
    "df_tr=df_tr.drop(index=df_conc_final[df_conc_final==0].index,axis=0,errors='ignore')\n",
    "print(df_tr.info())\n"
   ]
  },
  {
   "cell_type": "markdown",
   "metadata": {},
   "source": [
    "## Модель"
   ]
  },
  {
   "cell_type": "markdown",
   "metadata": {},
   "source": [
    "Зададим функции smape:\n",
    "\n",
    "$$\n",
    "SMAPE = \\frac{1}{n} * \\sum{\\frac{|forecast - actual|}{(|actual|+|forecast|)\\div{2}}}\n",
    "$$"
   ]
  },
  {
   "cell_type": "code",
   "execution_count": 17,
   "metadata": {},
   "outputs": [],
   "source": [
    "def smape(target, predicted):\n",
    "    return 1/len(target) * np.sum(2 * np.abs(target - predicted) / (np.abs(target) + np.abs(predicted))*100)\n",
    "def smape_final(rougher, final):\n",
    "    return 0.25*rougher + 0.75*final"
   ]
  },
  {
   "cell_type": "code",
   "execution_count": 18,
   "metadata": {},
   "outputs": [
    {
     "data": {
      "text/plain": [
       "(53,)"
      ]
     },
     "metadata": {},
     "output_type": "display_data"
    },
    {
     "data": {
      "text/plain": [
       "(53,)"
      ]
     },
     "metadata": {},
     "output_type": "display_data"
    }
   ],
   "source": [
    "display(df_te.columns.shape,df_tr[df_te.columns].columns.shape)"
   ]
  },
  {
   "cell_type": "code",
   "execution_count": 19,
   "metadata": {},
   "outputs": [],
   "source": [
    "subsets_common=['final.output.concentrate_ag',\n",
    "                        'final.output.concentrate_au',\n",
    "                        'final.output.concentrate_pb',\n",
    "                        'final.output.concentrate_sol',\n",
    "                        'final.output.tail_ag',\n",
    "                        'final.output.tail_au',\n",
    "                        'final.output.tail_pb',\n",
    "                        'final.output.tail_sol',\n",
    "                        'primary_cleaner.output.concentrate_ag',\n",
    "                        'primary_cleaner.output.concentrate_au',\n",
    "                        'primary_cleaner.output.concentrate_pb',\n",
    "                        'primary_cleaner.output.concentrate_sol',\n",
    "                        'primary_cleaner.output.tail_ag',\n",
    "                        'primary_cleaner.output.tail_au',\n",
    "                        'primary_cleaner.output.tail_pb',\n",
    "                        'primary_cleaner.output.tail_sol',\n",
    "                        'rougher.calculation.au_pb_ratio',\n",
    "                        'rougher.calculation.floatbank10_sulfate_to_au_feed',\n",
    "                        'rougher.calculation.floatbank11_sulfate_to_au_feed',\n",
    "                        'rougher.calculation.sulfate_to_au_concentrate',\n",
    "                        'rougher.output.concentrate_ag',\n",
    "                        'rougher.output.concentrate_au',\n",
    "                        'rougher.output.concentrate_pb',\n",
    "                        'rougher.output.concentrate_sol',\n",
    "                        'rougher.output.tail_ag',\n",
    "                        'rougher.output.tail_au',\n",
    "                        'rougher.output.tail_pb',\n",
    "                        'rougher.output.tail_sol',\n",
    "                        'secondary_cleaner.output.tail_ag',\n",
    "                        'secondary_cleaner.output.tail_au',\n",
    "                        'secondary_cleaner.output.tail_pb',\n",
    "                        'secondary_cleaner.output.tail_sol']"
   ]
  },
  {
   "cell_type": "code",
   "execution_count": 20,
   "metadata": {},
   "outputs": [],
   "source": [
    "df_tr=df_tr.drop(subsets_common,axis=1)"
   ]
  },
  {
   "cell_type": "code",
   "execution_count": 21,
   "metadata": {},
   "outputs": [
    {
     "name": "stdout",
     "output_type": "stream",
     "text": [
      "<class 'pandas.core.frame.DataFrame'>\n",
      "Int64Index: 13802 entries, 0 to 14148\n",
      "Data columns (total 55 columns):\n",
      " #   Column                                      Non-Null Count  Dtype  \n",
      "---  ------                                      --------------  -----  \n",
      " 0   date                                        13802 non-null  object \n",
      " 1   final.output.recovery                       13802 non-null  float64\n",
      " 2   primary_cleaner.input.sulfate               13802 non-null  float64\n",
      " 3   primary_cleaner.input.depressant            13802 non-null  float64\n",
      " 4   primary_cleaner.input.feed_size             13802 non-null  float64\n",
      " 5   primary_cleaner.input.xanthate              13802 non-null  float64\n",
      " 6   primary_cleaner.state.floatbank8_a_air      13802 non-null  float64\n",
      " 7   primary_cleaner.state.floatbank8_a_level    13802 non-null  float64\n",
      " 8   primary_cleaner.state.floatbank8_b_air      13802 non-null  float64\n",
      " 9   primary_cleaner.state.floatbank8_b_level    13802 non-null  float64\n",
      " 10  primary_cleaner.state.floatbank8_c_air      13802 non-null  float64\n",
      " 11  primary_cleaner.state.floatbank8_c_level    13802 non-null  float64\n",
      " 12  primary_cleaner.state.floatbank8_d_air      13802 non-null  float64\n",
      " 13  primary_cleaner.state.floatbank8_d_level    13802 non-null  float64\n",
      " 14  rougher.input.feed_ag                       13802 non-null  float64\n",
      " 15  rougher.input.feed_pb                       13802 non-null  float64\n",
      " 16  rougher.input.feed_rate                     13802 non-null  float64\n",
      " 17  rougher.input.feed_size                     13802 non-null  float64\n",
      " 18  rougher.input.feed_sol                      13802 non-null  float64\n",
      " 19  rougher.input.feed_au                       13802 non-null  float64\n",
      " 20  rougher.input.floatbank10_sulfate           13802 non-null  float64\n",
      " 21  rougher.input.floatbank10_xanthate          13802 non-null  float64\n",
      " 22  rougher.input.floatbank11_sulfate           13802 non-null  float64\n",
      " 23  rougher.input.floatbank11_xanthate          13802 non-null  float64\n",
      " 24  rougher.output.recovery                     13802 non-null  float64\n",
      " 25  rougher.state.floatbank10_a_air             13802 non-null  float64\n",
      " 26  rougher.state.floatbank10_a_level           13802 non-null  float64\n",
      " 27  rougher.state.floatbank10_b_air             13802 non-null  float64\n",
      " 28  rougher.state.floatbank10_b_level           13802 non-null  float64\n",
      " 29  rougher.state.floatbank10_c_air             13802 non-null  float64\n",
      " 30  rougher.state.floatbank10_c_level           13802 non-null  float64\n",
      " 31  rougher.state.floatbank10_d_air             13802 non-null  float64\n",
      " 32  rougher.state.floatbank10_d_level           13802 non-null  float64\n",
      " 33  rougher.state.floatbank10_e_air             13802 non-null  float64\n",
      " 34  rougher.state.floatbank10_e_level           13802 non-null  float64\n",
      " 35  rougher.state.floatbank10_f_air             13802 non-null  float64\n",
      " 36  rougher.state.floatbank10_f_level           13802 non-null  float64\n",
      " 37  secondary_cleaner.state.floatbank2_a_air    13802 non-null  float64\n",
      " 38  secondary_cleaner.state.floatbank2_a_level  13802 non-null  float64\n",
      " 39  secondary_cleaner.state.floatbank2_b_air    13802 non-null  float64\n",
      " 40  secondary_cleaner.state.floatbank2_b_level  13802 non-null  float64\n",
      " 41  secondary_cleaner.state.floatbank3_a_air    13802 non-null  float64\n",
      " 42  secondary_cleaner.state.floatbank3_a_level  13802 non-null  float64\n",
      " 43  secondary_cleaner.state.floatbank3_b_air    13802 non-null  float64\n",
      " 44  secondary_cleaner.state.floatbank3_b_level  13802 non-null  float64\n",
      " 45  secondary_cleaner.state.floatbank4_a_air    13802 non-null  float64\n",
      " 46  secondary_cleaner.state.floatbank4_a_level  13802 non-null  float64\n",
      " 47  secondary_cleaner.state.floatbank4_b_air    13802 non-null  float64\n",
      " 48  secondary_cleaner.state.floatbank4_b_level  13802 non-null  float64\n",
      " 49  secondary_cleaner.state.floatbank5_a_air    13802 non-null  float64\n",
      " 50  secondary_cleaner.state.floatbank5_a_level  13802 non-null  float64\n",
      " 51  secondary_cleaner.state.floatbank5_b_air    13802 non-null  float64\n",
      " 52  secondary_cleaner.state.floatbank5_b_level  13802 non-null  float64\n",
      " 53  secondary_cleaner.state.floatbank6_a_air    13802 non-null  float64\n",
      " 54  secondary_cleaner.state.floatbank6_a_level  13802 non-null  float64\n",
      "dtypes: float64(54), object(1)\n",
      "memory usage: 5.9+ MB\n",
      "<class 'pandas.core.frame.DataFrame'>\n",
      "RangeIndex: 5290 entries, 0 to 5289\n",
      "Data columns (total 53 columns):\n",
      " #   Column                                      Non-Null Count  Dtype  \n",
      "---  ------                                      --------------  -----  \n",
      " 0   date                                        5290 non-null   object \n",
      " 1   primary_cleaner.input.sulfate               5290 non-null   float64\n",
      " 2   primary_cleaner.input.depressant            5290 non-null   float64\n",
      " 3   primary_cleaner.input.feed_size             5290 non-null   float64\n",
      " 4   primary_cleaner.input.xanthate              5290 non-null   float64\n",
      " 5   primary_cleaner.state.floatbank8_a_air      5290 non-null   float64\n",
      " 6   primary_cleaner.state.floatbank8_a_level    5290 non-null   float64\n",
      " 7   primary_cleaner.state.floatbank8_b_air      5290 non-null   float64\n",
      " 8   primary_cleaner.state.floatbank8_b_level    5290 non-null   float64\n",
      " 9   primary_cleaner.state.floatbank8_c_air      5290 non-null   float64\n",
      " 10  primary_cleaner.state.floatbank8_c_level    5290 non-null   float64\n",
      " 11  primary_cleaner.state.floatbank8_d_air      5290 non-null   float64\n",
      " 12  primary_cleaner.state.floatbank8_d_level    5290 non-null   float64\n",
      " 13  rougher.input.feed_ag                       5290 non-null   float64\n",
      " 14  rougher.input.feed_pb                       5290 non-null   float64\n",
      " 15  rougher.input.feed_rate                     5290 non-null   float64\n",
      " 16  rougher.input.feed_size                     5290 non-null   float64\n",
      " 17  rougher.input.feed_sol                      5290 non-null   float64\n",
      " 18  rougher.input.feed_au                       5290 non-null   float64\n",
      " 19  rougher.input.floatbank10_sulfate           5290 non-null   float64\n",
      " 20  rougher.input.floatbank10_xanthate          5290 non-null   float64\n",
      " 21  rougher.input.floatbank11_sulfate           5290 non-null   float64\n",
      " 22  rougher.input.floatbank11_xanthate          5290 non-null   float64\n",
      " 23  rougher.state.floatbank10_a_air             5290 non-null   float64\n",
      " 24  rougher.state.floatbank10_a_level           5290 non-null   float64\n",
      " 25  rougher.state.floatbank10_b_air             5290 non-null   float64\n",
      " 26  rougher.state.floatbank10_b_level           5290 non-null   float64\n",
      " 27  rougher.state.floatbank10_c_air             5290 non-null   float64\n",
      " 28  rougher.state.floatbank10_c_level           5290 non-null   float64\n",
      " 29  rougher.state.floatbank10_d_air             5290 non-null   float64\n",
      " 30  rougher.state.floatbank10_d_level           5290 non-null   float64\n",
      " 31  rougher.state.floatbank10_e_air             5290 non-null   float64\n",
      " 32  rougher.state.floatbank10_e_level           5290 non-null   float64\n",
      " 33  rougher.state.floatbank10_f_air             5290 non-null   float64\n",
      " 34  rougher.state.floatbank10_f_level           5290 non-null   float64\n",
      " 35  secondary_cleaner.state.floatbank2_a_air    5290 non-null   float64\n",
      " 36  secondary_cleaner.state.floatbank2_a_level  5290 non-null   float64\n",
      " 37  secondary_cleaner.state.floatbank2_b_air    5290 non-null   float64\n",
      " 38  secondary_cleaner.state.floatbank2_b_level  5290 non-null   float64\n",
      " 39  secondary_cleaner.state.floatbank3_a_air    5290 non-null   float64\n",
      " 40  secondary_cleaner.state.floatbank3_a_level  5290 non-null   float64\n",
      " 41  secondary_cleaner.state.floatbank3_b_air    5290 non-null   float64\n",
      " 42  secondary_cleaner.state.floatbank3_b_level  5290 non-null   float64\n",
      " 43  secondary_cleaner.state.floatbank4_a_air    5290 non-null   float64\n",
      " 44  secondary_cleaner.state.floatbank4_a_level  5290 non-null   float64\n",
      " 45  secondary_cleaner.state.floatbank4_b_air    5290 non-null   float64\n",
      " 46  secondary_cleaner.state.floatbank4_b_level  5290 non-null   float64\n",
      " 47  secondary_cleaner.state.floatbank5_a_air    5290 non-null   float64\n",
      " 48  secondary_cleaner.state.floatbank5_a_level  5290 non-null   float64\n",
      " 49  secondary_cleaner.state.floatbank5_b_air    5290 non-null   float64\n",
      " 50  secondary_cleaner.state.floatbank5_b_level  5290 non-null   float64\n",
      " 51  secondary_cleaner.state.floatbank6_a_air    5290 non-null   float64\n",
      " 52  secondary_cleaner.state.floatbank6_a_level  5290 non-null   float64\n",
      "dtypes: float64(52), object(1)\n",
      "memory usage: 2.1+ MB\n",
      "None None\n"
     ]
    }
   ],
   "source": [
    "print(df_tr.info(),df_te.info())"
   ]
  },
  {
   "cell_type": "code",
   "execution_count": 22,
   "metadata": {},
   "outputs": [
    {
     "name": "stdout",
     "output_type": "stream",
     "text": [
      "<class 'pandas.core.frame.DataFrame'>\n",
      "Int64Index: 5290 entries, 0 to 5289\n",
      "Data columns (total 54 columns):\n",
      " #   Column                                      Non-Null Count  Dtype  \n",
      "---  ------                                      --------------  -----  \n",
      " 0   primary_cleaner.input.sulfate               5290 non-null   float64\n",
      " 1   primary_cleaner.input.depressant            5290 non-null   float64\n",
      " 2   primary_cleaner.input.feed_size             5290 non-null   float64\n",
      " 3   primary_cleaner.input.xanthate              5290 non-null   float64\n",
      " 4   primary_cleaner.state.floatbank8_a_air      5290 non-null   float64\n",
      " 5   primary_cleaner.state.floatbank8_a_level    5290 non-null   float64\n",
      " 6   primary_cleaner.state.floatbank8_b_air      5290 non-null   float64\n",
      " 7   primary_cleaner.state.floatbank8_b_level    5290 non-null   float64\n",
      " 8   primary_cleaner.state.floatbank8_c_air      5290 non-null   float64\n",
      " 9   primary_cleaner.state.floatbank8_c_level    5290 non-null   float64\n",
      " 10  primary_cleaner.state.floatbank8_d_air      5290 non-null   float64\n",
      " 11  primary_cleaner.state.floatbank8_d_level    5290 non-null   float64\n",
      " 12  rougher.input.feed_ag                       5290 non-null   float64\n",
      " 13  rougher.input.feed_pb                       5290 non-null   float64\n",
      " 14  rougher.input.feed_rate                     5290 non-null   float64\n",
      " 15  rougher.input.feed_size                     5290 non-null   float64\n",
      " 16  rougher.input.feed_sol                      5290 non-null   float64\n",
      " 17  rougher.input.feed_au                       5290 non-null   float64\n",
      " 18  rougher.input.floatbank10_sulfate           5290 non-null   float64\n",
      " 19  rougher.input.floatbank10_xanthate          5290 non-null   float64\n",
      " 20  rougher.input.floatbank11_sulfate           5290 non-null   float64\n",
      " 21  rougher.input.floatbank11_xanthate          5290 non-null   float64\n",
      " 22  rougher.state.floatbank10_a_air             5290 non-null   float64\n",
      " 23  rougher.state.floatbank10_a_level           5290 non-null   float64\n",
      " 24  rougher.state.floatbank10_b_air             5290 non-null   float64\n",
      " 25  rougher.state.floatbank10_b_level           5290 non-null   float64\n",
      " 26  rougher.state.floatbank10_c_air             5290 non-null   float64\n",
      " 27  rougher.state.floatbank10_c_level           5290 non-null   float64\n",
      " 28  rougher.state.floatbank10_d_air             5290 non-null   float64\n",
      " 29  rougher.state.floatbank10_d_level           5290 non-null   float64\n",
      " 30  rougher.state.floatbank10_e_air             5290 non-null   float64\n",
      " 31  rougher.state.floatbank10_e_level           5290 non-null   float64\n",
      " 32  rougher.state.floatbank10_f_air             5290 non-null   float64\n",
      " 33  rougher.state.floatbank10_f_level           5290 non-null   float64\n",
      " 34  secondary_cleaner.state.floatbank2_a_air    5290 non-null   float64\n",
      " 35  secondary_cleaner.state.floatbank2_a_level  5290 non-null   float64\n",
      " 36  secondary_cleaner.state.floatbank2_b_air    5290 non-null   float64\n",
      " 37  secondary_cleaner.state.floatbank2_b_level  5290 non-null   float64\n",
      " 38  secondary_cleaner.state.floatbank3_a_air    5290 non-null   float64\n",
      " 39  secondary_cleaner.state.floatbank3_a_level  5290 non-null   float64\n",
      " 40  secondary_cleaner.state.floatbank3_b_air    5290 non-null   float64\n",
      " 41  secondary_cleaner.state.floatbank3_b_level  5290 non-null   float64\n",
      " 42  secondary_cleaner.state.floatbank4_a_air    5290 non-null   float64\n",
      " 43  secondary_cleaner.state.floatbank4_a_level  5290 non-null   float64\n",
      " 44  secondary_cleaner.state.floatbank4_b_air    5290 non-null   float64\n",
      " 45  secondary_cleaner.state.floatbank4_b_level  5290 non-null   float64\n",
      " 46  secondary_cleaner.state.floatbank5_a_air    5290 non-null   float64\n",
      " 47  secondary_cleaner.state.floatbank5_a_level  5290 non-null   float64\n",
      " 48  secondary_cleaner.state.floatbank5_b_air    5290 non-null   float64\n",
      " 49  secondary_cleaner.state.floatbank5_b_level  5290 non-null   float64\n",
      " 50  secondary_cleaner.state.floatbank6_a_air    5290 non-null   float64\n",
      " 51  secondary_cleaner.state.floatbank6_a_level  5290 non-null   float64\n",
      " 52  rougher.output.recovery                     5290 non-null   float64\n",
      " 53  final.output.recovery                       5290 non-null   float64\n",
      "dtypes: float64(54)\n",
      "memory usage: 2.2 MB\n",
      "<class 'pandas.core.frame.DataFrame'>\n",
      "Int64Index: 13802 entries, 0 to 14148\n",
      "Data columns (total 54 columns):\n",
      " #   Column                                      Non-Null Count  Dtype  \n",
      "---  ------                                      --------------  -----  \n",
      " 0   final.output.recovery                       13802 non-null  float64\n",
      " 1   primary_cleaner.input.sulfate               13802 non-null  float64\n",
      " 2   primary_cleaner.input.depressant            13802 non-null  float64\n",
      " 3   primary_cleaner.input.feed_size             13802 non-null  float64\n",
      " 4   primary_cleaner.input.xanthate              13802 non-null  float64\n",
      " 5   primary_cleaner.state.floatbank8_a_air      13802 non-null  float64\n",
      " 6   primary_cleaner.state.floatbank8_a_level    13802 non-null  float64\n",
      " 7   primary_cleaner.state.floatbank8_b_air      13802 non-null  float64\n",
      " 8   primary_cleaner.state.floatbank8_b_level    13802 non-null  float64\n",
      " 9   primary_cleaner.state.floatbank8_c_air      13802 non-null  float64\n",
      " 10  primary_cleaner.state.floatbank8_c_level    13802 non-null  float64\n",
      " 11  primary_cleaner.state.floatbank8_d_air      13802 non-null  float64\n",
      " 12  primary_cleaner.state.floatbank8_d_level    13802 non-null  float64\n",
      " 13  rougher.input.feed_ag                       13802 non-null  float64\n",
      " 14  rougher.input.feed_pb                       13802 non-null  float64\n",
      " 15  rougher.input.feed_rate                     13802 non-null  float64\n",
      " 16  rougher.input.feed_size                     13802 non-null  float64\n",
      " 17  rougher.input.feed_sol                      13802 non-null  float64\n",
      " 18  rougher.input.feed_au                       13802 non-null  float64\n",
      " 19  rougher.input.floatbank10_sulfate           13802 non-null  float64\n",
      " 20  rougher.input.floatbank10_xanthate          13802 non-null  float64\n",
      " 21  rougher.input.floatbank11_sulfate           13802 non-null  float64\n",
      " 22  rougher.input.floatbank11_xanthate          13802 non-null  float64\n",
      " 23  rougher.output.recovery                     13802 non-null  float64\n",
      " 24  rougher.state.floatbank10_a_air             13802 non-null  float64\n",
      " 25  rougher.state.floatbank10_a_level           13802 non-null  float64\n",
      " 26  rougher.state.floatbank10_b_air             13802 non-null  float64\n",
      " 27  rougher.state.floatbank10_b_level           13802 non-null  float64\n",
      " 28  rougher.state.floatbank10_c_air             13802 non-null  float64\n",
      " 29  rougher.state.floatbank10_c_level           13802 non-null  float64\n",
      " 30  rougher.state.floatbank10_d_air             13802 non-null  float64\n",
      " 31  rougher.state.floatbank10_d_level           13802 non-null  float64\n",
      " 32  rougher.state.floatbank10_e_air             13802 non-null  float64\n",
      " 33  rougher.state.floatbank10_e_level           13802 non-null  float64\n",
      " 34  rougher.state.floatbank10_f_air             13802 non-null  float64\n",
      " 35  rougher.state.floatbank10_f_level           13802 non-null  float64\n",
      " 36  secondary_cleaner.state.floatbank2_a_air    13802 non-null  float64\n",
      " 37  secondary_cleaner.state.floatbank2_a_level  13802 non-null  float64\n",
      " 38  secondary_cleaner.state.floatbank2_b_air    13802 non-null  float64\n",
      " 39  secondary_cleaner.state.floatbank2_b_level  13802 non-null  float64\n",
      " 40  secondary_cleaner.state.floatbank3_a_air    13802 non-null  float64\n",
      " 41  secondary_cleaner.state.floatbank3_a_level  13802 non-null  float64\n",
      " 42  secondary_cleaner.state.floatbank3_b_air    13802 non-null  float64\n",
      " 43  secondary_cleaner.state.floatbank3_b_level  13802 non-null  float64\n",
      " 44  secondary_cleaner.state.floatbank4_a_air    13802 non-null  float64\n",
      " 45  secondary_cleaner.state.floatbank4_a_level  13802 non-null  float64\n",
      " 46  secondary_cleaner.state.floatbank4_b_air    13802 non-null  float64\n",
      " 47  secondary_cleaner.state.floatbank4_b_level  13802 non-null  float64\n",
      " 48  secondary_cleaner.state.floatbank5_a_air    13802 non-null  float64\n",
      " 49  secondary_cleaner.state.floatbank5_a_level  13802 non-null  float64\n",
      " 50  secondary_cleaner.state.floatbank5_b_air    13802 non-null  float64\n",
      " 51  secondary_cleaner.state.floatbank5_b_level  13802 non-null  float64\n",
      " 52  secondary_cleaner.state.floatbank6_a_air    13802 non-null  float64\n",
      " 53  secondary_cleaner.state.floatbank6_a_level  13802 non-null  float64\n",
      "dtypes: float64(54)\n",
      "memory usage: 5.8 MB\n",
      "None None\n"
     ]
    }
   ],
   "source": [
    "df_target = df_all[['date', 'rougher.output.recovery', 'final.output.recovery']]\n",
    "df_te = df_te.merge(df_target, how = 'left', on = ['date'])\n",
    "df_te.drop(['date'], axis=1, inplace=True)\n",
    "df_tr.drop(['date'], axis=1, inplace=True)\n",
    "\n",
    "#df_tr = df_tr.drop(set(df_tr.columns)-set(df_te.columns), axis=1)\n",
    "print(df_te.info(),df_tr.info())"
   ]
  },
  {
   "cell_type": "code",
   "execution_count": 23,
   "metadata": {},
   "outputs": [],
   "source": [
    "#subsets_common.append('rougher.output.recovery')\n",
    "#subsets_common.append('final.output.recovery')\n",
    "#print(subsets_common)\n",
    "\n",
    "features_rougher_train = df_tr\n",
    "features_rougher_train = features_rougher_train.drop(['rougher.output.recovery','final.output.recovery'], axis=1)\n",
    "\n",
    "target_rougher_train = df_tr['rougher.output.recovery']\n"
   ]
  },
  {
   "cell_type": "code",
   "execution_count": 24,
   "metadata": {},
   "outputs": [],
   "source": [
    "features_final_train = df_tr\n",
    "features_final_train=features_final_train.drop(['rougher.output.recovery','final.output.recovery'], axis=1)\n",
    "target_final_train = df_tr['final.output.recovery']\n",
    "# подготовим тестовые выборки\n",
    "features_rougher_test = df_te\n",
    "features_rougher_test = features_rougher_test.drop(['rougher.output.recovery','final.output.recovery'], axis=1)\n",
    "target_rougher_test = df_te['rougher.output.recovery']\n",
    "features_final_test = df_te.drop(['rougher.output.recovery','final.output.recovery'], axis=1)\n",
    "target_final_test = df_te['final.output.recovery']"
   ]
  },
  {
   "cell_type": "code",
   "execution_count": 25,
   "metadata": {},
   "outputs": [
    {
     "data": {
      "text/html": [
       "<div>\n",
       "<style scoped>\n",
       "    .dataframe tbody tr th:only-of-type {\n",
       "        vertical-align: middle;\n",
       "    }\n",
       "\n",
       "    .dataframe tbody tr th {\n",
       "        vertical-align: top;\n",
       "    }\n",
       "\n",
       "    .dataframe thead th {\n",
       "        text-align: right;\n",
       "    }\n",
       "</style>\n",
       "<table border=\"1\" class=\"dataframe\">\n",
       "  <thead>\n",
       "    <tr style=\"text-align: right;\">\n",
       "      <th></th>\n",
       "      <th>primary_cleaner.input.sulfate</th>\n",
       "      <th>primary_cleaner.input.depressant</th>\n",
       "      <th>primary_cleaner.input.feed_size</th>\n",
       "      <th>primary_cleaner.input.xanthate</th>\n",
       "      <th>primary_cleaner.state.floatbank8_a_air</th>\n",
       "      <th>primary_cleaner.state.floatbank8_a_level</th>\n",
       "      <th>primary_cleaner.state.floatbank8_b_air</th>\n",
       "      <th>primary_cleaner.state.floatbank8_b_level</th>\n",
       "      <th>primary_cleaner.state.floatbank8_c_air</th>\n",
       "      <th>primary_cleaner.state.floatbank8_c_level</th>\n",
       "      <th>...</th>\n",
       "      <th>secondary_cleaner.state.floatbank4_a_air</th>\n",
       "      <th>secondary_cleaner.state.floatbank4_a_level</th>\n",
       "      <th>secondary_cleaner.state.floatbank4_b_air</th>\n",
       "      <th>secondary_cleaner.state.floatbank4_b_level</th>\n",
       "      <th>secondary_cleaner.state.floatbank5_a_air</th>\n",
       "      <th>secondary_cleaner.state.floatbank5_a_level</th>\n",
       "      <th>secondary_cleaner.state.floatbank5_b_air</th>\n",
       "      <th>secondary_cleaner.state.floatbank5_b_level</th>\n",
       "      <th>secondary_cleaner.state.floatbank6_a_air</th>\n",
       "      <th>secondary_cleaner.state.floatbank6_a_level</th>\n",
       "    </tr>\n",
       "  </thead>\n",
       "  <tbody>\n",
       "    <tr>\n",
       "      <th>0</th>\n",
       "      <td>127.092003</td>\n",
       "      <td>10.128295</td>\n",
       "      <td>7.25</td>\n",
       "      <td>0.988759</td>\n",
       "      <td>1549.775757</td>\n",
       "      <td>-498.912140</td>\n",
       "      <td>1551.434204</td>\n",
       "      <td>-516.403442</td>\n",
       "      <td>1549.873901</td>\n",
       "      <td>-498.666595</td>\n",
       "      <td>...</td>\n",
       "      <td>14.016835</td>\n",
       "      <td>-502.488007</td>\n",
       "      <td>12.099931</td>\n",
       "      <td>-504.715942</td>\n",
       "      <td>9.925633</td>\n",
       "      <td>-498.310211</td>\n",
       "      <td>8.079666</td>\n",
       "      <td>-500.470978</td>\n",
       "      <td>14.151341</td>\n",
       "      <td>-605.841980</td>\n",
       "    </tr>\n",
       "    <tr>\n",
       "      <th>1</th>\n",
       "      <td>125.629232</td>\n",
       "      <td>10.296251</td>\n",
       "      <td>7.25</td>\n",
       "      <td>1.002663</td>\n",
       "      <td>1576.166671</td>\n",
       "      <td>-500.904965</td>\n",
       "      <td>1575.950626</td>\n",
       "      <td>-499.865889</td>\n",
       "      <td>1575.994189</td>\n",
       "      <td>-499.315107</td>\n",
       "      <td>...</td>\n",
       "      <td>13.992281</td>\n",
       "      <td>-505.503262</td>\n",
       "      <td>11.950531</td>\n",
       "      <td>-501.331529</td>\n",
       "      <td>10.039245</td>\n",
       "      <td>-500.169983</td>\n",
       "      <td>7.984757</td>\n",
       "      <td>-500.582168</td>\n",
       "      <td>13.998353</td>\n",
       "      <td>-599.787184</td>\n",
       "    </tr>\n",
       "    <tr>\n",
       "      <th>2</th>\n",
       "      <td>123.819808</td>\n",
       "      <td>11.316280</td>\n",
       "      <td>7.25</td>\n",
       "      <td>0.991265</td>\n",
       "      <td>1601.556163</td>\n",
       "      <td>-499.997791</td>\n",
       "      <td>1600.386685</td>\n",
       "      <td>-500.607762</td>\n",
       "      <td>1602.003542</td>\n",
       "      <td>-500.870069</td>\n",
       "      <td>...</td>\n",
       "      <td>14.015015</td>\n",
       "      <td>-502.520901</td>\n",
       "      <td>11.912783</td>\n",
       "      <td>-501.133383</td>\n",
       "      <td>10.070913</td>\n",
       "      <td>-500.129135</td>\n",
       "      <td>8.013877</td>\n",
       "      <td>-500.517572</td>\n",
       "      <td>14.028663</td>\n",
       "      <td>-601.427363</td>\n",
       "    </tr>\n",
       "    <tr>\n",
       "      <th>3</th>\n",
       "      <td>122.270188</td>\n",
       "      <td>11.322140</td>\n",
       "      <td>7.25</td>\n",
       "      <td>0.996739</td>\n",
       "      <td>1599.968720</td>\n",
       "      <td>-500.951778</td>\n",
       "      <td>1600.659236</td>\n",
       "      <td>-499.677094</td>\n",
       "      <td>1600.304144</td>\n",
       "      <td>-500.727997</td>\n",
       "      <td>...</td>\n",
       "      <td>14.036510</td>\n",
       "      <td>-500.857308</td>\n",
       "      <td>11.999550</td>\n",
       "      <td>-501.193686</td>\n",
       "      <td>9.970366</td>\n",
       "      <td>-499.201640</td>\n",
       "      <td>7.977324</td>\n",
       "      <td>-500.255908</td>\n",
       "      <td>14.005551</td>\n",
       "      <td>-599.996129</td>\n",
       "    </tr>\n",
       "    <tr>\n",
       "      <th>4</th>\n",
       "      <td>117.988169</td>\n",
       "      <td>11.913613</td>\n",
       "      <td>7.25</td>\n",
       "      <td>1.009869</td>\n",
       "      <td>1601.339707</td>\n",
       "      <td>-498.975456</td>\n",
       "      <td>1601.437854</td>\n",
       "      <td>-500.323246</td>\n",
       "      <td>1599.581894</td>\n",
       "      <td>-500.888152</td>\n",
       "      <td>...</td>\n",
       "      <td>14.027298</td>\n",
       "      <td>-499.838632</td>\n",
       "      <td>11.953070</td>\n",
       "      <td>-501.053894</td>\n",
       "      <td>9.925709</td>\n",
       "      <td>-501.686727</td>\n",
       "      <td>7.894242</td>\n",
       "      <td>-500.356035</td>\n",
       "      <td>13.996647</td>\n",
       "      <td>-601.496691</td>\n",
       "    </tr>\n",
       "  </tbody>\n",
       "</table>\n",
       "<p>5 rows × 52 columns</p>\n",
       "</div>"
      ],
      "text/plain": [
       "   primary_cleaner.input.sulfate  primary_cleaner.input.depressant  \\\n",
       "0                     127.092003                         10.128295   \n",
       "1                     125.629232                         10.296251   \n",
       "2                     123.819808                         11.316280   \n",
       "3                     122.270188                         11.322140   \n",
       "4                     117.988169                         11.913613   \n",
       "\n",
       "   primary_cleaner.input.feed_size  primary_cleaner.input.xanthate  \\\n",
       "0                             7.25                        0.988759   \n",
       "1                             7.25                        1.002663   \n",
       "2                             7.25                        0.991265   \n",
       "3                             7.25                        0.996739   \n",
       "4                             7.25                        1.009869   \n",
       "\n",
       "   primary_cleaner.state.floatbank8_a_air  \\\n",
       "0                             1549.775757   \n",
       "1                             1576.166671   \n",
       "2                             1601.556163   \n",
       "3                             1599.968720   \n",
       "4                             1601.339707   \n",
       "\n",
       "   primary_cleaner.state.floatbank8_a_level  \\\n",
       "0                               -498.912140   \n",
       "1                               -500.904965   \n",
       "2                               -499.997791   \n",
       "3                               -500.951778   \n",
       "4                               -498.975456   \n",
       "\n",
       "   primary_cleaner.state.floatbank8_b_air  \\\n",
       "0                             1551.434204   \n",
       "1                             1575.950626   \n",
       "2                             1600.386685   \n",
       "3                             1600.659236   \n",
       "4                             1601.437854   \n",
       "\n",
       "   primary_cleaner.state.floatbank8_b_level  \\\n",
       "0                               -516.403442   \n",
       "1                               -499.865889   \n",
       "2                               -500.607762   \n",
       "3                               -499.677094   \n",
       "4                               -500.323246   \n",
       "\n",
       "   primary_cleaner.state.floatbank8_c_air  \\\n",
       "0                             1549.873901   \n",
       "1                             1575.994189   \n",
       "2                             1602.003542   \n",
       "3                             1600.304144   \n",
       "4                             1599.581894   \n",
       "\n",
       "   primary_cleaner.state.floatbank8_c_level  ...  \\\n",
       "0                               -498.666595  ...   \n",
       "1                               -499.315107  ...   \n",
       "2                               -500.870069  ...   \n",
       "3                               -500.727997  ...   \n",
       "4                               -500.888152  ...   \n",
       "\n",
       "   secondary_cleaner.state.floatbank4_a_air  \\\n",
       "0                                 14.016835   \n",
       "1                                 13.992281   \n",
       "2                                 14.015015   \n",
       "3                                 14.036510   \n",
       "4                                 14.027298   \n",
       "\n",
       "   secondary_cleaner.state.floatbank4_a_level  \\\n",
       "0                                 -502.488007   \n",
       "1                                 -505.503262   \n",
       "2                                 -502.520901   \n",
       "3                                 -500.857308   \n",
       "4                                 -499.838632   \n",
       "\n",
       "   secondary_cleaner.state.floatbank4_b_air  \\\n",
       "0                                 12.099931   \n",
       "1                                 11.950531   \n",
       "2                                 11.912783   \n",
       "3                                 11.999550   \n",
       "4                                 11.953070   \n",
       "\n",
       "   secondary_cleaner.state.floatbank4_b_level  \\\n",
       "0                                 -504.715942   \n",
       "1                                 -501.331529   \n",
       "2                                 -501.133383   \n",
       "3                                 -501.193686   \n",
       "4                                 -501.053894   \n",
       "\n",
       "   secondary_cleaner.state.floatbank5_a_air  \\\n",
       "0                                  9.925633   \n",
       "1                                 10.039245   \n",
       "2                                 10.070913   \n",
       "3                                  9.970366   \n",
       "4                                  9.925709   \n",
       "\n",
       "   secondary_cleaner.state.floatbank5_a_level  \\\n",
       "0                                 -498.310211   \n",
       "1                                 -500.169983   \n",
       "2                                 -500.129135   \n",
       "3                                 -499.201640   \n",
       "4                                 -501.686727   \n",
       "\n",
       "   secondary_cleaner.state.floatbank5_b_air  \\\n",
       "0                                  8.079666   \n",
       "1                                  7.984757   \n",
       "2                                  8.013877   \n",
       "3                                  7.977324   \n",
       "4                                  7.894242   \n",
       "\n",
       "   secondary_cleaner.state.floatbank5_b_level  \\\n",
       "0                                 -500.470978   \n",
       "1                                 -500.582168   \n",
       "2                                 -500.517572   \n",
       "3                                 -500.255908   \n",
       "4                                 -500.356035   \n",
       "\n",
       "   secondary_cleaner.state.floatbank6_a_air  \\\n",
       "0                                 14.151341   \n",
       "1                                 13.998353   \n",
       "2                                 14.028663   \n",
       "3                                 14.005551   \n",
       "4                                 13.996647   \n",
       "\n",
       "   secondary_cleaner.state.floatbank6_a_level  \n",
       "0                                 -605.841980  \n",
       "1                                 -599.787184  \n",
       "2                                 -601.427363  \n",
       "3                                 -599.996129  \n",
       "4                                 -601.496691  \n",
       "\n",
       "[5 rows x 52 columns]"
      ]
     },
     "metadata": {},
     "output_type": "display_data"
    },
    {
     "data": {
      "text/html": [
       "<div>\n",
       "<style scoped>\n",
       "    .dataframe tbody tr th:only-of-type {\n",
       "        vertical-align: middle;\n",
       "    }\n",
       "\n",
       "    .dataframe tbody tr th {\n",
       "        vertical-align: top;\n",
       "    }\n",
       "\n",
       "    .dataframe thead th {\n",
       "        text-align: right;\n",
       "    }\n",
       "</style>\n",
       "<table border=\"1\" class=\"dataframe\">\n",
       "  <thead>\n",
       "    <tr style=\"text-align: right;\">\n",
       "      <th></th>\n",
       "      <th>primary_cleaner.input.sulfate</th>\n",
       "      <th>primary_cleaner.input.depressant</th>\n",
       "      <th>primary_cleaner.input.feed_size</th>\n",
       "      <th>primary_cleaner.input.xanthate</th>\n",
       "      <th>primary_cleaner.state.floatbank8_a_air</th>\n",
       "      <th>primary_cleaner.state.floatbank8_a_level</th>\n",
       "      <th>primary_cleaner.state.floatbank8_b_air</th>\n",
       "      <th>primary_cleaner.state.floatbank8_b_level</th>\n",
       "      <th>primary_cleaner.state.floatbank8_c_air</th>\n",
       "      <th>primary_cleaner.state.floatbank8_c_level</th>\n",
       "      <th>...</th>\n",
       "      <th>secondary_cleaner.state.floatbank4_a_air</th>\n",
       "      <th>secondary_cleaner.state.floatbank4_a_level</th>\n",
       "      <th>secondary_cleaner.state.floatbank4_b_air</th>\n",
       "      <th>secondary_cleaner.state.floatbank4_b_level</th>\n",
       "      <th>secondary_cleaner.state.floatbank5_a_air</th>\n",
       "      <th>secondary_cleaner.state.floatbank5_a_level</th>\n",
       "      <th>secondary_cleaner.state.floatbank5_b_air</th>\n",
       "      <th>secondary_cleaner.state.floatbank5_b_level</th>\n",
       "      <th>secondary_cleaner.state.floatbank6_a_air</th>\n",
       "      <th>secondary_cleaner.state.floatbank6_a_level</th>\n",
       "    </tr>\n",
       "  </thead>\n",
       "  <tbody>\n",
       "    <tr>\n",
       "      <th>0</th>\n",
       "      <td>210.800909</td>\n",
       "      <td>14.993118</td>\n",
       "      <td>8.080000</td>\n",
       "      <td>1.005021</td>\n",
       "      <td>1398.981301</td>\n",
       "      <td>-500.225577</td>\n",
       "      <td>1399.144926</td>\n",
       "      <td>-499.919735</td>\n",
       "      <td>1400.102998</td>\n",
       "      <td>-500.704369</td>\n",
       "      <td>...</td>\n",
       "      <td>12.023554</td>\n",
       "      <td>-497.795834</td>\n",
       "      <td>8.016656</td>\n",
       "      <td>-501.289139</td>\n",
       "      <td>7.946562</td>\n",
       "      <td>-432.317850</td>\n",
       "      <td>4.872511</td>\n",
       "      <td>-500.037437</td>\n",
       "      <td>26.705889</td>\n",
       "      <td>-499.709414</td>\n",
       "    </tr>\n",
       "    <tr>\n",
       "      <th>1</th>\n",
       "      <td>215.392455</td>\n",
       "      <td>14.987471</td>\n",
       "      <td>8.080000</td>\n",
       "      <td>0.990469</td>\n",
       "      <td>1398.777912</td>\n",
       "      <td>-500.057435</td>\n",
       "      <td>1398.055362</td>\n",
       "      <td>-499.778182</td>\n",
       "      <td>1396.151033</td>\n",
       "      <td>-499.240168</td>\n",
       "      <td>...</td>\n",
       "      <td>12.058140</td>\n",
       "      <td>-498.695773</td>\n",
       "      <td>8.130979</td>\n",
       "      <td>-499.634209</td>\n",
       "      <td>7.958270</td>\n",
       "      <td>-525.839648</td>\n",
       "      <td>4.878850</td>\n",
       "      <td>-500.162375</td>\n",
       "      <td>25.019940</td>\n",
       "      <td>-499.819438</td>\n",
       "    </tr>\n",
       "    <tr>\n",
       "      <th>2</th>\n",
       "      <td>215.259946</td>\n",
       "      <td>12.884934</td>\n",
       "      <td>7.786667</td>\n",
       "      <td>0.996043</td>\n",
       "      <td>1398.493666</td>\n",
       "      <td>-500.868360</td>\n",
       "      <td>1398.860436</td>\n",
       "      <td>-499.764529</td>\n",
       "      <td>1398.075709</td>\n",
       "      <td>-502.151509</td>\n",
       "      <td>...</td>\n",
       "      <td>11.962366</td>\n",
       "      <td>-498.767484</td>\n",
       "      <td>8.096893</td>\n",
       "      <td>-500.827423</td>\n",
       "      <td>8.071056</td>\n",
       "      <td>-500.801673</td>\n",
       "      <td>4.905125</td>\n",
       "      <td>-499.828510</td>\n",
       "      <td>24.994862</td>\n",
       "      <td>-500.622559</td>\n",
       "    </tr>\n",
       "    <tr>\n",
       "      <th>3</th>\n",
       "      <td>215.336236</td>\n",
       "      <td>12.006805</td>\n",
       "      <td>7.640000</td>\n",
       "      <td>0.863514</td>\n",
       "      <td>1399.618111</td>\n",
       "      <td>-498.863574</td>\n",
       "      <td>1397.440120</td>\n",
       "      <td>-499.211024</td>\n",
       "      <td>1400.129303</td>\n",
       "      <td>-498.355873</td>\n",
       "      <td>...</td>\n",
       "      <td>12.033091</td>\n",
       "      <td>-498.350935</td>\n",
       "      <td>8.074946</td>\n",
       "      <td>-499.474407</td>\n",
       "      <td>7.897085</td>\n",
       "      <td>-500.868509</td>\n",
       "      <td>4.931400</td>\n",
       "      <td>-499.963623</td>\n",
       "      <td>24.948919</td>\n",
       "      <td>-498.709987</td>\n",
       "    </tr>\n",
       "    <tr>\n",
       "      <th>4</th>\n",
       "      <td>199.099327</td>\n",
       "      <td>10.682530</td>\n",
       "      <td>7.530000</td>\n",
       "      <td>0.805575</td>\n",
       "      <td>1401.268123</td>\n",
       "      <td>-500.808305</td>\n",
       "      <td>1398.128818</td>\n",
       "      <td>-499.504543</td>\n",
       "      <td>1402.172226</td>\n",
       "      <td>-500.810606</td>\n",
       "      <td>...</td>\n",
       "      <td>12.025367</td>\n",
       "      <td>-500.786497</td>\n",
       "      <td>8.054678</td>\n",
       "      <td>-500.397500</td>\n",
       "      <td>8.107890</td>\n",
       "      <td>-509.526725</td>\n",
       "      <td>4.957674</td>\n",
       "      <td>-500.360026</td>\n",
       "      <td>25.003331</td>\n",
       "      <td>-500.856333</td>\n",
       "    </tr>\n",
       "  </tbody>\n",
       "</table>\n",
       "<p>5 rows × 52 columns</p>\n",
       "</div>"
      ],
      "text/plain": [
       "   primary_cleaner.input.sulfate  primary_cleaner.input.depressant  \\\n",
       "0                     210.800909                         14.993118   \n",
       "1                     215.392455                         14.987471   \n",
       "2                     215.259946                         12.884934   \n",
       "3                     215.336236                         12.006805   \n",
       "4                     199.099327                         10.682530   \n",
       "\n",
       "   primary_cleaner.input.feed_size  primary_cleaner.input.xanthate  \\\n",
       "0                         8.080000                        1.005021   \n",
       "1                         8.080000                        0.990469   \n",
       "2                         7.786667                        0.996043   \n",
       "3                         7.640000                        0.863514   \n",
       "4                         7.530000                        0.805575   \n",
       "\n",
       "   primary_cleaner.state.floatbank8_a_air  \\\n",
       "0                             1398.981301   \n",
       "1                             1398.777912   \n",
       "2                             1398.493666   \n",
       "3                             1399.618111   \n",
       "4                             1401.268123   \n",
       "\n",
       "   primary_cleaner.state.floatbank8_a_level  \\\n",
       "0                               -500.225577   \n",
       "1                               -500.057435   \n",
       "2                               -500.868360   \n",
       "3                               -498.863574   \n",
       "4                               -500.808305   \n",
       "\n",
       "   primary_cleaner.state.floatbank8_b_air  \\\n",
       "0                             1399.144926   \n",
       "1                             1398.055362   \n",
       "2                             1398.860436   \n",
       "3                             1397.440120   \n",
       "4                             1398.128818   \n",
       "\n",
       "   primary_cleaner.state.floatbank8_b_level  \\\n",
       "0                               -499.919735   \n",
       "1                               -499.778182   \n",
       "2                               -499.764529   \n",
       "3                               -499.211024   \n",
       "4                               -499.504543   \n",
       "\n",
       "   primary_cleaner.state.floatbank8_c_air  \\\n",
       "0                             1400.102998   \n",
       "1                             1396.151033   \n",
       "2                             1398.075709   \n",
       "3                             1400.129303   \n",
       "4                             1402.172226   \n",
       "\n",
       "   primary_cleaner.state.floatbank8_c_level  ...  \\\n",
       "0                               -500.704369  ...   \n",
       "1                               -499.240168  ...   \n",
       "2                               -502.151509  ...   \n",
       "3                               -498.355873  ...   \n",
       "4                               -500.810606  ...   \n",
       "\n",
       "   secondary_cleaner.state.floatbank4_a_air  \\\n",
       "0                                 12.023554   \n",
       "1                                 12.058140   \n",
       "2                                 11.962366   \n",
       "3                                 12.033091   \n",
       "4                                 12.025367   \n",
       "\n",
       "   secondary_cleaner.state.floatbank4_a_level  \\\n",
       "0                                 -497.795834   \n",
       "1                                 -498.695773   \n",
       "2                                 -498.767484   \n",
       "3                                 -498.350935   \n",
       "4                                 -500.786497   \n",
       "\n",
       "   secondary_cleaner.state.floatbank4_b_air  \\\n",
       "0                                  8.016656   \n",
       "1                                  8.130979   \n",
       "2                                  8.096893   \n",
       "3                                  8.074946   \n",
       "4                                  8.054678   \n",
       "\n",
       "   secondary_cleaner.state.floatbank4_b_level  \\\n",
       "0                                 -501.289139   \n",
       "1                                 -499.634209   \n",
       "2                                 -500.827423   \n",
       "3                                 -499.474407   \n",
       "4                                 -500.397500   \n",
       "\n",
       "   secondary_cleaner.state.floatbank5_a_air  \\\n",
       "0                                  7.946562   \n",
       "1                                  7.958270   \n",
       "2                                  8.071056   \n",
       "3                                  7.897085   \n",
       "4                                  8.107890   \n",
       "\n",
       "   secondary_cleaner.state.floatbank5_a_level  \\\n",
       "0                                 -432.317850   \n",
       "1                                 -525.839648   \n",
       "2                                 -500.801673   \n",
       "3                                 -500.868509   \n",
       "4                                 -509.526725   \n",
       "\n",
       "   secondary_cleaner.state.floatbank5_b_air  \\\n",
       "0                                  4.872511   \n",
       "1                                  4.878850   \n",
       "2                                  4.905125   \n",
       "3                                  4.931400   \n",
       "4                                  4.957674   \n",
       "\n",
       "   secondary_cleaner.state.floatbank5_b_level  \\\n",
       "0                                 -500.037437   \n",
       "1                                 -500.162375   \n",
       "2                                 -499.828510   \n",
       "3                                 -499.963623   \n",
       "4                                 -500.360026   \n",
       "\n",
       "   secondary_cleaner.state.floatbank6_a_air  \\\n",
       "0                                 26.705889   \n",
       "1                                 25.019940   \n",
       "2                                 24.994862   \n",
       "3                                 24.948919   \n",
       "4                                 25.003331   \n",
       "\n",
       "   secondary_cleaner.state.floatbank6_a_level  \n",
       "0                                 -499.709414  \n",
       "1                                 -499.819438  \n",
       "2                                 -500.622559  \n",
       "3                                 -498.709987  \n",
       "4                                 -500.856333  \n",
       "\n",
       "[5 rows x 52 columns]"
      ]
     },
     "metadata": {},
     "output_type": "display_data"
    },
    {
     "data": {
      "text/html": [
       "<div>\n",
       "<style scoped>\n",
       "    .dataframe tbody tr th:only-of-type {\n",
       "        vertical-align: middle;\n",
       "    }\n",
       "\n",
       "    .dataframe tbody tr th {\n",
       "        vertical-align: top;\n",
       "    }\n",
       "\n",
       "    .dataframe thead th {\n",
       "        text-align: right;\n",
       "    }\n",
       "</style>\n",
       "<table border=\"1\" class=\"dataframe\">\n",
       "  <thead>\n",
       "    <tr style=\"text-align: right;\">\n",
       "      <th></th>\n",
       "      <th>primary_cleaner.input.sulfate</th>\n",
       "      <th>primary_cleaner.input.depressant</th>\n",
       "      <th>primary_cleaner.input.feed_size</th>\n",
       "      <th>primary_cleaner.input.xanthate</th>\n",
       "      <th>primary_cleaner.state.floatbank8_a_air</th>\n",
       "      <th>primary_cleaner.state.floatbank8_a_level</th>\n",
       "      <th>primary_cleaner.state.floatbank8_b_air</th>\n",
       "      <th>primary_cleaner.state.floatbank8_b_level</th>\n",
       "      <th>primary_cleaner.state.floatbank8_c_air</th>\n",
       "      <th>primary_cleaner.state.floatbank8_c_level</th>\n",
       "      <th>...</th>\n",
       "      <th>secondary_cleaner.state.floatbank4_a_air</th>\n",
       "      <th>secondary_cleaner.state.floatbank4_a_level</th>\n",
       "      <th>secondary_cleaner.state.floatbank4_b_air</th>\n",
       "      <th>secondary_cleaner.state.floatbank4_b_level</th>\n",
       "      <th>secondary_cleaner.state.floatbank5_a_air</th>\n",
       "      <th>secondary_cleaner.state.floatbank5_a_level</th>\n",
       "      <th>secondary_cleaner.state.floatbank5_b_air</th>\n",
       "      <th>secondary_cleaner.state.floatbank5_b_level</th>\n",
       "      <th>secondary_cleaner.state.floatbank6_a_air</th>\n",
       "      <th>secondary_cleaner.state.floatbank6_a_level</th>\n",
       "    </tr>\n",
       "  </thead>\n",
       "  <tbody>\n",
       "    <tr>\n",
       "      <th>0</th>\n",
       "      <td>127.092003</td>\n",
       "      <td>10.128295</td>\n",
       "      <td>7.25</td>\n",
       "      <td>0.988759</td>\n",
       "      <td>1549.775757</td>\n",
       "      <td>-498.912140</td>\n",
       "      <td>1551.434204</td>\n",
       "      <td>-516.403442</td>\n",
       "      <td>1549.873901</td>\n",
       "      <td>-498.666595</td>\n",
       "      <td>...</td>\n",
       "      <td>14.016835</td>\n",
       "      <td>-502.488007</td>\n",
       "      <td>12.099931</td>\n",
       "      <td>-504.715942</td>\n",
       "      <td>9.925633</td>\n",
       "      <td>-498.310211</td>\n",
       "      <td>8.079666</td>\n",
       "      <td>-500.470978</td>\n",
       "      <td>14.151341</td>\n",
       "      <td>-605.841980</td>\n",
       "    </tr>\n",
       "    <tr>\n",
       "      <th>1</th>\n",
       "      <td>125.629232</td>\n",
       "      <td>10.296251</td>\n",
       "      <td>7.25</td>\n",
       "      <td>1.002663</td>\n",
       "      <td>1576.166671</td>\n",
       "      <td>-500.904965</td>\n",
       "      <td>1575.950626</td>\n",
       "      <td>-499.865889</td>\n",
       "      <td>1575.994189</td>\n",
       "      <td>-499.315107</td>\n",
       "      <td>...</td>\n",
       "      <td>13.992281</td>\n",
       "      <td>-505.503262</td>\n",
       "      <td>11.950531</td>\n",
       "      <td>-501.331529</td>\n",
       "      <td>10.039245</td>\n",
       "      <td>-500.169983</td>\n",
       "      <td>7.984757</td>\n",
       "      <td>-500.582168</td>\n",
       "      <td>13.998353</td>\n",
       "      <td>-599.787184</td>\n",
       "    </tr>\n",
       "    <tr>\n",
       "      <th>2</th>\n",
       "      <td>123.819808</td>\n",
       "      <td>11.316280</td>\n",
       "      <td>7.25</td>\n",
       "      <td>0.991265</td>\n",
       "      <td>1601.556163</td>\n",
       "      <td>-499.997791</td>\n",
       "      <td>1600.386685</td>\n",
       "      <td>-500.607762</td>\n",
       "      <td>1602.003542</td>\n",
       "      <td>-500.870069</td>\n",
       "      <td>...</td>\n",
       "      <td>14.015015</td>\n",
       "      <td>-502.520901</td>\n",
       "      <td>11.912783</td>\n",
       "      <td>-501.133383</td>\n",
       "      <td>10.070913</td>\n",
       "      <td>-500.129135</td>\n",
       "      <td>8.013877</td>\n",
       "      <td>-500.517572</td>\n",
       "      <td>14.028663</td>\n",
       "      <td>-601.427363</td>\n",
       "    </tr>\n",
       "    <tr>\n",
       "      <th>3</th>\n",
       "      <td>122.270188</td>\n",
       "      <td>11.322140</td>\n",
       "      <td>7.25</td>\n",
       "      <td>0.996739</td>\n",
       "      <td>1599.968720</td>\n",
       "      <td>-500.951778</td>\n",
       "      <td>1600.659236</td>\n",
       "      <td>-499.677094</td>\n",
       "      <td>1600.304144</td>\n",
       "      <td>-500.727997</td>\n",
       "      <td>...</td>\n",
       "      <td>14.036510</td>\n",
       "      <td>-500.857308</td>\n",
       "      <td>11.999550</td>\n",
       "      <td>-501.193686</td>\n",
       "      <td>9.970366</td>\n",
       "      <td>-499.201640</td>\n",
       "      <td>7.977324</td>\n",
       "      <td>-500.255908</td>\n",
       "      <td>14.005551</td>\n",
       "      <td>-599.996129</td>\n",
       "    </tr>\n",
       "    <tr>\n",
       "      <th>4</th>\n",
       "      <td>117.988169</td>\n",
       "      <td>11.913613</td>\n",
       "      <td>7.25</td>\n",
       "      <td>1.009869</td>\n",
       "      <td>1601.339707</td>\n",
       "      <td>-498.975456</td>\n",
       "      <td>1601.437854</td>\n",
       "      <td>-500.323246</td>\n",
       "      <td>1599.581894</td>\n",
       "      <td>-500.888152</td>\n",
       "      <td>...</td>\n",
       "      <td>14.027298</td>\n",
       "      <td>-499.838632</td>\n",
       "      <td>11.953070</td>\n",
       "      <td>-501.053894</td>\n",
       "      <td>9.925709</td>\n",
       "      <td>-501.686727</td>\n",
       "      <td>7.894242</td>\n",
       "      <td>-500.356035</td>\n",
       "      <td>13.996647</td>\n",
       "      <td>-601.496691</td>\n",
       "    </tr>\n",
       "  </tbody>\n",
       "</table>\n",
       "<p>5 rows × 52 columns</p>\n",
       "</div>"
      ],
      "text/plain": [
       "   primary_cleaner.input.sulfate  primary_cleaner.input.depressant  \\\n",
       "0                     127.092003                         10.128295   \n",
       "1                     125.629232                         10.296251   \n",
       "2                     123.819808                         11.316280   \n",
       "3                     122.270188                         11.322140   \n",
       "4                     117.988169                         11.913613   \n",
       "\n",
       "   primary_cleaner.input.feed_size  primary_cleaner.input.xanthate  \\\n",
       "0                             7.25                        0.988759   \n",
       "1                             7.25                        1.002663   \n",
       "2                             7.25                        0.991265   \n",
       "3                             7.25                        0.996739   \n",
       "4                             7.25                        1.009869   \n",
       "\n",
       "   primary_cleaner.state.floatbank8_a_air  \\\n",
       "0                             1549.775757   \n",
       "1                             1576.166671   \n",
       "2                             1601.556163   \n",
       "3                             1599.968720   \n",
       "4                             1601.339707   \n",
       "\n",
       "   primary_cleaner.state.floatbank8_a_level  \\\n",
       "0                               -498.912140   \n",
       "1                               -500.904965   \n",
       "2                               -499.997791   \n",
       "3                               -500.951778   \n",
       "4                               -498.975456   \n",
       "\n",
       "   primary_cleaner.state.floatbank8_b_air  \\\n",
       "0                             1551.434204   \n",
       "1                             1575.950626   \n",
       "2                             1600.386685   \n",
       "3                             1600.659236   \n",
       "4                             1601.437854   \n",
       "\n",
       "   primary_cleaner.state.floatbank8_b_level  \\\n",
       "0                               -516.403442   \n",
       "1                               -499.865889   \n",
       "2                               -500.607762   \n",
       "3                               -499.677094   \n",
       "4                               -500.323246   \n",
       "\n",
       "   primary_cleaner.state.floatbank8_c_air  \\\n",
       "0                             1549.873901   \n",
       "1                             1575.994189   \n",
       "2                             1602.003542   \n",
       "3                             1600.304144   \n",
       "4                             1599.581894   \n",
       "\n",
       "   primary_cleaner.state.floatbank8_c_level  ...  \\\n",
       "0                               -498.666595  ...   \n",
       "1                               -499.315107  ...   \n",
       "2                               -500.870069  ...   \n",
       "3                               -500.727997  ...   \n",
       "4                               -500.888152  ...   \n",
       "\n",
       "   secondary_cleaner.state.floatbank4_a_air  \\\n",
       "0                                 14.016835   \n",
       "1                                 13.992281   \n",
       "2                                 14.015015   \n",
       "3                                 14.036510   \n",
       "4                                 14.027298   \n",
       "\n",
       "   secondary_cleaner.state.floatbank4_a_level  \\\n",
       "0                                 -502.488007   \n",
       "1                                 -505.503262   \n",
       "2                                 -502.520901   \n",
       "3                                 -500.857308   \n",
       "4                                 -499.838632   \n",
       "\n",
       "   secondary_cleaner.state.floatbank4_b_air  \\\n",
       "0                                 12.099931   \n",
       "1                                 11.950531   \n",
       "2                                 11.912783   \n",
       "3                                 11.999550   \n",
       "4                                 11.953070   \n",
       "\n",
       "   secondary_cleaner.state.floatbank4_b_level  \\\n",
       "0                                 -504.715942   \n",
       "1                                 -501.331529   \n",
       "2                                 -501.133383   \n",
       "3                                 -501.193686   \n",
       "4                                 -501.053894   \n",
       "\n",
       "   secondary_cleaner.state.floatbank5_a_air  \\\n",
       "0                                  9.925633   \n",
       "1                                 10.039245   \n",
       "2                                 10.070913   \n",
       "3                                  9.970366   \n",
       "4                                  9.925709   \n",
       "\n",
       "   secondary_cleaner.state.floatbank5_a_level  \\\n",
       "0                                 -498.310211   \n",
       "1                                 -500.169983   \n",
       "2                                 -500.129135   \n",
       "3                                 -499.201640   \n",
       "4                                 -501.686727   \n",
       "\n",
       "   secondary_cleaner.state.floatbank5_b_air  \\\n",
       "0                                  8.079666   \n",
       "1                                  7.984757   \n",
       "2                                  8.013877   \n",
       "3                                  7.977324   \n",
       "4                                  7.894242   \n",
       "\n",
       "   secondary_cleaner.state.floatbank5_b_level  \\\n",
       "0                                 -500.470978   \n",
       "1                                 -500.582168   \n",
       "2                                 -500.517572   \n",
       "3                                 -500.255908   \n",
       "4                                 -500.356035   \n",
       "\n",
       "   secondary_cleaner.state.floatbank6_a_air  \\\n",
       "0                                 14.151341   \n",
       "1                                 13.998353   \n",
       "2                                 14.028663   \n",
       "3                                 14.005551   \n",
       "4                                 13.996647   \n",
       "\n",
       "   secondary_cleaner.state.floatbank6_a_level  \n",
       "0                                 -605.841980  \n",
       "1                                 -599.787184  \n",
       "2                                 -601.427363  \n",
       "3                                 -599.996129  \n",
       "4                                 -601.496691  \n",
       "\n",
       "[5 rows x 52 columns]"
      ]
     },
     "metadata": {},
     "output_type": "display_data"
    },
    {
     "data": {
      "text/html": [
       "<div>\n",
       "<style scoped>\n",
       "    .dataframe tbody tr th:only-of-type {\n",
       "        vertical-align: middle;\n",
       "    }\n",
       "\n",
       "    .dataframe tbody tr th {\n",
       "        vertical-align: top;\n",
       "    }\n",
       "\n",
       "    .dataframe thead th {\n",
       "        text-align: right;\n",
       "    }\n",
       "</style>\n",
       "<table border=\"1\" class=\"dataframe\">\n",
       "  <thead>\n",
       "    <tr style=\"text-align: right;\">\n",
       "      <th></th>\n",
       "      <th>primary_cleaner.input.sulfate</th>\n",
       "      <th>primary_cleaner.input.depressant</th>\n",
       "      <th>primary_cleaner.input.feed_size</th>\n",
       "      <th>primary_cleaner.input.xanthate</th>\n",
       "      <th>primary_cleaner.state.floatbank8_a_air</th>\n",
       "      <th>primary_cleaner.state.floatbank8_a_level</th>\n",
       "      <th>primary_cleaner.state.floatbank8_b_air</th>\n",
       "      <th>primary_cleaner.state.floatbank8_b_level</th>\n",
       "      <th>primary_cleaner.state.floatbank8_c_air</th>\n",
       "      <th>primary_cleaner.state.floatbank8_c_level</th>\n",
       "      <th>...</th>\n",
       "      <th>secondary_cleaner.state.floatbank4_a_air</th>\n",
       "      <th>secondary_cleaner.state.floatbank4_a_level</th>\n",
       "      <th>secondary_cleaner.state.floatbank4_b_air</th>\n",
       "      <th>secondary_cleaner.state.floatbank4_b_level</th>\n",
       "      <th>secondary_cleaner.state.floatbank5_a_air</th>\n",
       "      <th>secondary_cleaner.state.floatbank5_a_level</th>\n",
       "      <th>secondary_cleaner.state.floatbank5_b_air</th>\n",
       "      <th>secondary_cleaner.state.floatbank5_b_level</th>\n",
       "      <th>secondary_cleaner.state.floatbank6_a_air</th>\n",
       "      <th>secondary_cleaner.state.floatbank6_a_level</th>\n",
       "    </tr>\n",
       "  </thead>\n",
       "  <tbody>\n",
       "    <tr>\n",
       "      <th>0</th>\n",
       "      <td>210.800909</td>\n",
       "      <td>14.993118</td>\n",
       "      <td>8.080000</td>\n",
       "      <td>1.005021</td>\n",
       "      <td>1398.981301</td>\n",
       "      <td>-500.225577</td>\n",
       "      <td>1399.144926</td>\n",
       "      <td>-499.919735</td>\n",
       "      <td>1400.102998</td>\n",
       "      <td>-500.704369</td>\n",
       "      <td>...</td>\n",
       "      <td>12.023554</td>\n",
       "      <td>-497.795834</td>\n",
       "      <td>8.016656</td>\n",
       "      <td>-501.289139</td>\n",
       "      <td>7.946562</td>\n",
       "      <td>-432.317850</td>\n",
       "      <td>4.872511</td>\n",
       "      <td>-500.037437</td>\n",
       "      <td>26.705889</td>\n",
       "      <td>-499.709414</td>\n",
       "    </tr>\n",
       "    <tr>\n",
       "      <th>1</th>\n",
       "      <td>215.392455</td>\n",
       "      <td>14.987471</td>\n",
       "      <td>8.080000</td>\n",
       "      <td>0.990469</td>\n",
       "      <td>1398.777912</td>\n",
       "      <td>-500.057435</td>\n",
       "      <td>1398.055362</td>\n",
       "      <td>-499.778182</td>\n",
       "      <td>1396.151033</td>\n",
       "      <td>-499.240168</td>\n",
       "      <td>...</td>\n",
       "      <td>12.058140</td>\n",
       "      <td>-498.695773</td>\n",
       "      <td>8.130979</td>\n",
       "      <td>-499.634209</td>\n",
       "      <td>7.958270</td>\n",
       "      <td>-525.839648</td>\n",
       "      <td>4.878850</td>\n",
       "      <td>-500.162375</td>\n",
       "      <td>25.019940</td>\n",
       "      <td>-499.819438</td>\n",
       "    </tr>\n",
       "    <tr>\n",
       "      <th>2</th>\n",
       "      <td>215.259946</td>\n",
       "      <td>12.884934</td>\n",
       "      <td>7.786667</td>\n",
       "      <td>0.996043</td>\n",
       "      <td>1398.493666</td>\n",
       "      <td>-500.868360</td>\n",
       "      <td>1398.860436</td>\n",
       "      <td>-499.764529</td>\n",
       "      <td>1398.075709</td>\n",
       "      <td>-502.151509</td>\n",
       "      <td>...</td>\n",
       "      <td>11.962366</td>\n",
       "      <td>-498.767484</td>\n",
       "      <td>8.096893</td>\n",
       "      <td>-500.827423</td>\n",
       "      <td>8.071056</td>\n",
       "      <td>-500.801673</td>\n",
       "      <td>4.905125</td>\n",
       "      <td>-499.828510</td>\n",
       "      <td>24.994862</td>\n",
       "      <td>-500.622559</td>\n",
       "    </tr>\n",
       "    <tr>\n",
       "      <th>3</th>\n",
       "      <td>215.336236</td>\n",
       "      <td>12.006805</td>\n",
       "      <td>7.640000</td>\n",
       "      <td>0.863514</td>\n",
       "      <td>1399.618111</td>\n",
       "      <td>-498.863574</td>\n",
       "      <td>1397.440120</td>\n",
       "      <td>-499.211024</td>\n",
       "      <td>1400.129303</td>\n",
       "      <td>-498.355873</td>\n",
       "      <td>...</td>\n",
       "      <td>12.033091</td>\n",
       "      <td>-498.350935</td>\n",
       "      <td>8.074946</td>\n",
       "      <td>-499.474407</td>\n",
       "      <td>7.897085</td>\n",
       "      <td>-500.868509</td>\n",
       "      <td>4.931400</td>\n",
       "      <td>-499.963623</td>\n",
       "      <td>24.948919</td>\n",
       "      <td>-498.709987</td>\n",
       "    </tr>\n",
       "    <tr>\n",
       "      <th>4</th>\n",
       "      <td>199.099327</td>\n",
       "      <td>10.682530</td>\n",
       "      <td>7.530000</td>\n",
       "      <td>0.805575</td>\n",
       "      <td>1401.268123</td>\n",
       "      <td>-500.808305</td>\n",
       "      <td>1398.128818</td>\n",
       "      <td>-499.504543</td>\n",
       "      <td>1402.172226</td>\n",
       "      <td>-500.810606</td>\n",
       "      <td>...</td>\n",
       "      <td>12.025367</td>\n",
       "      <td>-500.786497</td>\n",
       "      <td>8.054678</td>\n",
       "      <td>-500.397500</td>\n",
       "      <td>8.107890</td>\n",
       "      <td>-509.526725</td>\n",
       "      <td>4.957674</td>\n",
       "      <td>-500.360026</td>\n",
       "      <td>25.003331</td>\n",
       "      <td>-500.856333</td>\n",
       "    </tr>\n",
       "  </tbody>\n",
       "</table>\n",
       "<p>5 rows × 52 columns</p>\n",
       "</div>"
      ],
      "text/plain": [
       "   primary_cleaner.input.sulfate  primary_cleaner.input.depressant  \\\n",
       "0                     210.800909                         14.993118   \n",
       "1                     215.392455                         14.987471   \n",
       "2                     215.259946                         12.884934   \n",
       "3                     215.336236                         12.006805   \n",
       "4                     199.099327                         10.682530   \n",
       "\n",
       "   primary_cleaner.input.feed_size  primary_cleaner.input.xanthate  \\\n",
       "0                         8.080000                        1.005021   \n",
       "1                         8.080000                        0.990469   \n",
       "2                         7.786667                        0.996043   \n",
       "3                         7.640000                        0.863514   \n",
       "4                         7.530000                        0.805575   \n",
       "\n",
       "   primary_cleaner.state.floatbank8_a_air  \\\n",
       "0                             1398.981301   \n",
       "1                             1398.777912   \n",
       "2                             1398.493666   \n",
       "3                             1399.618111   \n",
       "4                             1401.268123   \n",
       "\n",
       "   primary_cleaner.state.floatbank8_a_level  \\\n",
       "0                               -500.225577   \n",
       "1                               -500.057435   \n",
       "2                               -500.868360   \n",
       "3                               -498.863574   \n",
       "4                               -500.808305   \n",
       "\n",
       "   primary_cleaner.state.floatbank8_b_air  \\\n",
       "0                             1399.144926   \n",
       "1                             1398.055362   \n",
       "2                             1398.860436   \n",
       "3                             1397.440120   \n",
       "4                             1398.128818   \n",
       "\n",
       "   primary_cleaner.state.floatbank8_b_level  \\\n",
       "0                               -499.919735   \n",
       "1                               -499.778182   \n",
       "2                               -499.764529   \n",
       "3                               -499.211024   \n",
       "4                               -499.504543   \n",
       "\n",
       "   primary_cleaner.state.floatbank8_c_air  \\\n",
       "0                             1400.102998   \n",
       "1                             1396.151033   \n",
       "2                             1398.075709   \n",
       "3                             1400.129303   \n",
       "4                             1402.172226   \n",
       "\n",
       "   primary_cleaner.state.floatbank8_c_level  ...  \\\n",
       "0                               -500.704369  ...   \n",
       "1                               -499.240168  ...   \n",
       "2                               -502.151509  ...   \n",
       "3                               -498.355873  ...   \n",
       "4                               -500.810606  ...   \n",
       "\n",
       "   secondary_cleaner.state.floatbank4_a_air  \\\n",
       "0                                 12.023554   \n",
       "1                                 12.058140   \n",
       "2                                 11.962366   \n",
       "3                                 12.033091   \n",
       "4                                 12.025367   \n",
       "\n",
       "   secondary_cleaner.state.floatbank4_a_level  \\\n",
       "0                                 -497.795834   \n",
       "1                                 -498.695773   \n",
       "2                                 -498.767484   \n",
       "3                                 -498.350935   \n",
       "4                                 -500.786497   \n",
       "\n",
       "   secondary_cleaner.state.floatbank4_b_air  \\\n",
       "0                                  8.016656   \n",
       "1                                  8.130979   \n",
       "2                                  8.096893   \n",
       "3                                  8.074946   \n",
       "4                                  8.054678   \n",
       "\n",
       "   secondary_cleaner.state.floatbank4_b_level  \\\n",
       "0                                 -501.289139   \n",
       "1                                 -499.634209   \n",
       "2                                 -500.827423   \n",
       "3                                 -499.474407   \n",
       "4                                 -500.397500   \n",
       "\n",
       "   secondary_cleaner.state.floatbank5_a_air  \\\n",
       "0                                  7.946562   \n",
       "1                                  7.958270   \n",
       "2                                  8.071056   \n",
       "3                                  7.897085   \n",
       "4                                  8.107890   \n",
       "\n",
       "   secondary_cleaner.state.floatbank5_a_level  \\\n",
       "0                                 -432.317850   \n",
       "1                                 -525.839648   \n",
       "2                                 -500.801673   \n",
       "3                                 -500.868509   \n",
       "4                                 -509.526725   \n",
       "\n",
       "   secondary_cleaner.state.floatbank5_b_air  \\\n",
       "0                                  4.872511   \n",
       "1                                  4.878850   \n",
       "2                                  4.905125   \n",
       "3                                  4.931400   \n",
       "4                                  4.957674   \n",
       "\n",
       "   secondary_cleaner.state.floatbank5_b_level  \\\n",
       "0                                 -500.037437   \n",
       "1                                 -500.162375   \n",
       "2                                 -499.828510   \n",
       "3                                 -499.963623   \n",
       "4                                 -500.360026   \n",
       "\n",
       "   secondary_cleaner.state.floatbank6_a_air  \\\n",
       "0                                 26.705889   \n",
       "1                                 25.019940   \n",
       "2                                 24.994862   \n",
       "3                                 24.948919   \n",
       "4                                 25.003331   \n",
       "\n",
       "   secondary_cleaner.state.floatbank6_a_level  \n",
       "0                                 -499.709414  \n",
       "1                                 -499.819438  \n",
       "2                                 -500.622559  \n",
       "3                                 -498.709987  \n",
       "4                                 -500.856333  \n",
       "\n",
       "[5 rows x 52 columns]"
      ]
     },
     "metadata": {},
     "output_type": "display_data"
    }
   ],
   "source": [
    "display(features_final_train.head(),features_final_test.head(),features_rougher_train.head(),features_rougher_test.head())\n"
   ]
  },
  {
   "cell_type": "code",
   "execution_count": 26,
   "metadata": {
    "scrolled": true
   },
   "outputs": [
    {
     "name": "stdout",
     "output_type": "stream",
     "text": [
      "(13802, 52)\n",
      "(5290, 52)\n",
      "(13802, 52)\n",
      "(5290, 52)\n",
      "(13802,)\n",
      "(5290,)\n",
      "(13802,)\n",
      "(5290,)\n"
     ]
    }
   ],
   "source": [
    "for i in [features_final_train,features_final_test,features_rougher_train,features_rougher_test,target_final_train,target_final_test,target_rougher_train,target_rougher_test]:\n",
    "    print(i.shape)"
   ]
  },
  {
   "cell_type": "code",
   "execution_count": 27,
   "metadata": {
    "scrolled": true
   },
   "outputs": [
    {
     "name": "stdout",
     "output_type": "stream",
     "text": [
      "<class 'pandas.core.frame.DataFrame'>\n",
      "Int64Index: 13802 entries, 0 to 14148\n",
      "Data columns (total 52 columns):\n",
      " #   Column                                      Non-Null Count  Dtype  \n",
      "---  ------                                      --------------  -----  \n",
      " 0   primary_cleaner.input.sulfate               13802 non-null  float64\n",
      " 1   primary_cleaner.input.depressant            13802 non-null  float64\n",
      " 2   primary_cleaner.input.feed_size             13802 non-null  float64\n",
      " 3   primary_cleaner.input.xanthate              13802 non-null  float64\n",
      " 4   primary_cleaner.state.floatbank8_a_air      13802 non-null  float64\n",
      " 5   primary_cleaner.state.floatbank8_a_level    13802 non-null  float64\n",
      " 6   primary_cleaner.state.floatbank8_b_air      13802 non-null  float64\n",
      " 7   primary_cleaner.state.floatbank8_b_level    13802 non-null  float64\n",
      " 8   primary_cleaner.state.floatbank8_c_air      13802 non-null  float64\n",
      " 9   primary_cleaner.state.floatbank8_c_level    13802 non-null  float64\n",
      " 10  primary_cleaner.state.floatbank8_d_air      13802 non-null  float64\n",
      " 11  primary_cleaner.state.floatbank8_d_level    13802 non-null  float64\n",
      " 12  rougher.input.feed_ag                       13802 non-null  float64\n",
      " 13  rougher.input.feed_pb                       13802 non-null  float64\n",
      " 14  rougher.input.feed_rate                     13802 non-null  float64\n",
      " 15  rougher.input.feed_size                     13802 non-null  float64\n",
      " 16  rougher.input.feed_sol                      13802 non-null  float64\n",
      " 17  rougher.input.feed_au                       13802 non-null  float64\n",
      " 18  rougher.input.floatbank10_sulfate           13802 non-null  float64\n",
      " 19  rougher.input.floatbank10_xanthate          13802 non-null  float64\n",
      " 20  rougher.input.floatbank11_sulfate           13802 non-null  float64\n",
      " 21  rougher.input.floatbank11_xanthate          13802 non-null  float64\n",
      " 22  rougher.state.floatbank10_a_air             13802 non-null  float64\n",
      " 23  rougher.state.floatbank10_a_level           13802 non-null  float64\n",
      " 24  rougher.state.floatbank10_b_air             13802 non-null  float64\n",
      " 25  rougher.state.floatbank10_b_level           13802 non-null  float64\n",
      " 26  rougher.state.floatbank10_c_air             13802 non-null  float64\n",
      " 27  rougher.state.floatbank10_c_level           13802 non-null  float64\n",
      " 28  rougher.state.floatbank10_d_air             13802 non-null  float64\n",
      " 29  rougher.state.floatbank10_d_level           13802 non-null  float64\n",
      " 30  rougher.state.floatbank10_e_air             13802 non-null  float64\n",
      " 31  rougher.state.floatbank10_e_level           13802 non-null  float64\n",
      " 32  rougher.state.floatbank10_f_air             13802 non-null  float64\n",
      " 33  rougher.state.floatbank10_f_level           13802 non-null  float64\n",
      " 34  secondary_cleaner.state.floatbank2_a_air    13802 non-null  float64\n",
      " 35  secondary_cleaner.state.floatbank2_a_level  13802 non-null  float64\n",
      " 36  secondary_cleaner.state.floatbank2_b_air    13802 non-null  float64\n",
      " 37  secondary_cleaner.state.floatbank2_b_level  13802 non-null  float64\n",
      " 38  secondary_cleaner.state.floatbank3_a_air    13802 non-null  float64\n",
      " 39  secondary_cleaner.state.floatbank3_a_level  13802 non-null  float64\n",
      " 40  secondary_cleaner.state.floatbank3_b_air    13802 non-null  float64\n",
      " 41  secondary_cleaner.state.floatbank3_b_level  13802 non-null  float64\n",
      " 42  secondary_cleaner.state.floatbank4_a_air    13802 non-null  float64\n",
      " 43  secondary_cleaner.state.floatbank4_a_level  13802 non-null  float64\n",
      " 44  secondary_cleaner.state.floatbank4_b_air    13802 non-null  float64\n",
      " 45  secondary_cleaner.state.floatbank4_b_level  13802 non-null  float64\n",
      " 46  secondary_cleaner.state.floatbank5_a_air    13802 non-null  float64\n",
      " 47  secondary_cleaner.state.floatbank5_a_level  13802 non-null  float64\n",
      " 48  secondary_cleaner.state.floatbank5_b_air    13802 non-null  float64\n",
      " 49  secondary_cleaner.state.floatbank5_b_level  13802 non-null  float64\n",
      " 50  secondary_cleaner.state.floatbank6_a_air    13802 non-null  float64\n",
      " 51  secondary_cleaner.state.floatbank6_a_level  13802 non-null  float64\n",
      "dtypes: float64(52)\n",
      "memory usage: 5.6 MB\n",
      "<class 'pandas.core.frame.DataFrame'>\n",
      "Int64Index: 5290 entries, 0 to 5289\n",
      "Data columns (total 52 columns):\n",
      " #   Column                                      Non-Null Count  Dtype  \n",
      "---  ------                                      --------------  -----  \n",
      " 0   primary_cleaner.input.sulfate               5290 non-null   float64\n",
      " 1   primary_cleaner.input.depressant            5290 non-null   float64\n",
      " 2   primary_cleaner.input.feed_size             5290 non-null   float64\n",
      " 3   primary_cleaner.input.xanthate              5290 non-null   float64\n",
      " 4   primary_cleaner.state.floatbank8_a_air      5290 non-null   float64\n",
      " 5   primary_cleaner.state.floatbank8_a_level    5290 non-null   float64\n",
      " 6   primary_cleaner.state.floatbank8_b_air      5290 non-null   float64\n",
      " 7   primary_cleaner.state.floatbank8_b_level    5290 non-null   float64\n",
      " 8   primary_cleaner.state.floatbank8_c_air      5290 non-null   float64\n",
      " 9   primary_cleaner.state.floatbank8_c_level    5290 non-null   float64\n",
      " 10  primary_cleaner.state.floatbank8_d_air      5290 non-null   float64\n",
      " 11  primary_cleaner.state.floatbank8_d_level    5290 non-null   float64\n",
      " 12  rougher.input.feed_ag                       5290 non-null   float64\n",
      " 13  rougher.input.feed_pb                       5290 non-null   float64\n",
      " 14  rougher.input.feed_rate                     5290 non-null   float64\n",
      " 15  rougher.input.feed_size                     5290 non-null   float64\n",
      " 16  rougher.input.feed_sol                      5290 non-null   float64\n",
      " 17  rougher.input.feed_au                       5290 non-null   float64\n",
      " 18  rougher.input.floatbank10_sulfate           5290 non-null   float64\n",
      " 19  rougher.input.floatbank10_xanthate          5290 non-null   float64\n",
      " 20  rougher.input.floatbank11_sulfate           5290 non-null   float64\n",
      " 21  rougher.input.floatbank11_xanthate          5290 non-null   float64\n",
      " 22  rougher.state.floatbank10_a_air             5290 non-null   float64\n",
      " 23  rougher.state.floatbank10_a_level           5290 non-null   float64\n",
      " 24  rougher.state.floatbank10_b_air             5290 non-null   float64\n",
      " 25  rougher.state.floatbank10_b_level           5290 non-null   float64\n",
      " 26  rougher.state.floatbank10_c_air             5290 non-null   float64\n",
      " 27  rougher.state.floatbank10_c_level           5290 non-null   float64\n",
      " 28  rougher.state.floatbank10_d_air             5290 non-null   float64\n",
      " 29  rougher.state.floatbank10_d_level           5290 non-null   float64\n",
      " 30  rougher.state.floatbank10_e_air             5290 non-null   float64\n",
      " 31  rougher.state.floatbank10_e_level           5290 non-null   float64\n",
      " 32  rougher.state.floatbank10_f_air             5290 non-null   float64\n",
      " 33  rougher.state.floatbank10_f_level           5290 non-null   float64\n",
      " 34  secondary_cleaner.state.floatbank2_a_air    5290 non-null   float64\n",
      " 35  secondary_cleaner.state.floatbank2_a_level  5290 non-null   float64\n",
      " 36  secondary_cleaner.state.floatbank2_b_air    5290 non-null   float64\n",
      " 37  secondary_cleaner.state.floatbank2_b_level  5290 non-null   float64\n",
      " 38  secondary_cleaner.state.floatbank3_a_air    5290 non-null   float64\n",
      " 39  secondary_cleaner.state.floatbank3_a_level  5290 non-null   float64\n",
      " 40  secondary_cleaner.state.floatbank3_b_air    5290 non-null   float64\n",
      " 41  secondary_cleaner.state.floatbank3_b_level  5290 non-null   float64\n",
      " 42  secondary_cleaner.state.floatbank4_a_air    5290 non-null   float64\n",
      " 43  secondary_cleaner.state.floatbank4_a_level  5290 non-null   float64\n",
      " 44  secondary_cleaner.state.floatbank4_b_air    5290 non-null   float64\n",
      " 45  secondary_cleaner.state.floatbank4_b_level  5290 non-null   float64\n",
      " 46  secondary_cleaner.state.floatbank5_a_air    5290 non-null   float64\n",
      " 47  secondary_cleaner.state.floatbank5_a_level  5290 non-null   float64\n",
      " 48  secondary_cleaner.state.floatbank5_b_air    5290 non-null   float64\n",
      " 49  secondary_cleaner.state.floatbank5_b_level  5290 non-null   float64\n",
      " 50  secondary_cleaner.state.floatbank6_a_air    5290 non-null   float64\n",
      " 51  secondary_cleaner.state.floatbank6_a_level  5290 non-null   float64\n",
      "dtypes: float64(52)\n",
      "memory usage: 2.1 MB\n",
      "None None\n"
     ]
    }
   ],
   "source": [
    "print(features_rougher_train.info(),features_rougher_test.info())"
   ]
  },
  {
   "cell_type": "markdown",
   "metadata": {},
   "source": [
    "Рассмотрим линейную регрессию и дерево решений, подобрав гиперпараметры."
   ]
  },
  {
   "cell_type": "code",
   "execution_count": 28,
   "metadata": {},
   "outputs": [
    {
     "name": "stdout",
     "output_type": "stream",
     "text": [
      "Итоговое sMape для линейной регрессии: -12.17135640815331\n"
     ]
    }
   ],
   "source": [
    "model = LinearRegression()\n",
    "scorer = make_scorer(smape, greater_is_better=False)\n",
    "rougher_lin = cross_val_score(model, features_rougher_train, target_rougher_train, scoring=scorer, cv=5)\n",
    "final_lin =  cross_val_score(model, features_final_train, target_final_train, scoring=scorer, cv=5)\n",
    "print('Итоговое sMape для линейной регрессии:', smape_final(rougher_lin, final_lin).mean())"
   ]
  },
  {
   "cell_type": "code",
   "execution_count": 29,
   "metadata": {},
   "outputs": [
    {
     "name": "stdout",
     "output_type": "stream",
     "text": [
      "grid fitted successfully!\n",
      "Лучший результат при параметрах {'max_depth': 6, 'min_samples_leaf': 6} {'max_depth': 2, 'min_samples_leaf': 1}\n"
     ]
    }
   ],
   "source": [
    "parametrs = {'max_depth': range (1,11, 1),\n",
    "              'min_samples_leaf': range (1,11)}\n",
    "scorer = make_scorer(smape, greater_is_better=False)\n",
    "grid = GridSearchCV(DecisionTreeRegressor(random_state=12345), parametrs, cv=5,scoring=scorer)\n",
    "\n",
    "grid.fit(features_rougher_train,target_rougher_train)\n",
    "print('grid fitted successfully!') # это для отладки добавил. А то долго учится, мало ли я зря жду и всё давно крашнулось :-)\n",
    "\n",
    "grid2=GridSearchCV(DecisionTreeRegressor(random_state=12345), parametrs, cv=5,scoring=scorer)\n",
    "\n",
    "grid2.fit(features_final_train, target_final_train)\n",
    "\n",
    "print('Лучший результат при параметрах',grid.best_params_,grid2.best_params_)"
   ]
  },
  {
   "cell_type": "code",
   "execution_count": 30,
   "metadata": {},
   "outputs": [
    {
     "name": "stdout",
     "output_type": "stream",
     "text": [
      "-10.201944147611815\n",
      "-10.805523607904803\n"
     ]
    }
   ],
   "source": [
    "print(grid2.best_score_)\n",
    "print(grid.best_score_)"
   ]
  },
  {
   "cell_type": "markdown",
   "metadata": {},
   "source": [
    "Ошибка в Decision Tree меньше. Выбираем эту модель."
   ]
  },
  {
   "cell_type": "code",
   "execution_count": 31,
   "metadata": {},
   "outputs": [
    {
     "name": "stdout",
     "output_type": "stream",
     "text": [
      "На тестовых данных sMAPE: 9.431424168327103\n"
     ]
    }
   ],
   "source": [
    "tmodel_rougher = DecisionTreeRegressor(random_state=12345, max_depth = 6,min_samples_leaf=6)\n",
    "tmodel_final = DecisionTreeRegressor(random_state=12345, max_depth = 2,min_samples_leaf=1)\n",
    "tmodel_rougher.fit(features_rougher_train, target_rougher_train)\n",
    "tmodel_final.fit(features_final_train, target_final_train)\n",
    "test_predictions_r = tmodel_rougher.predict(features_rougher_test)\n",
    "test_predictions_f = tmodel_final.predict(features_final_test)\n",
    "smape_f=smape(target_final_test,test_predictions_f)\n",
    "smape_r=smape(target_rougher_test,test_predictions_r)\n",
    "\n",
    "print('На тестовых данных sMAPE:',smape_final(smape_r,smape_f))\n"
   ]
  },
  {
   "cell_type": "code",
   "execution_count": 32,
   "metadata": {},
   "outputs": [
    {
     "name": "stdout",
     "output_type": "stream",
     "text": [
      "На тестовых данных sMAPE: 14.462378580919562\n"
     ]
    }
   ],
   "source": [
    "dummy=DummyRegressor(strategy='median')\n",
    "dummy_r=dummy.fit(features_rougher_train,target_rougher_train)\n",
    "dummy_f=dummy.fit(features_final_train,target_final_train)\n",
    "dummy_predictions_r = dummy_r.predict(features_rougher_test)\n",
    "dummy_predictions_f = dummy_f.predict(features_final_test)\n",
    "smape_f=smape(target_final_test,dummy_predictions_f)\n",
    "smape_r=smape(target_rougher_test,dummy_predictions_r)\n",
    "print('На тестовых данных sMAPE:',smape_final(smape_r,smape_f))\n"
   ]
  },
  {
   "cell_type": "markdown",
   "metadata": {},
   "source": [
    "**ВЫВОД**: выполнив работу, я выявил наиболее подходящую для прогноза модель и получил значение sMAPE на уровне 9. Модель рекомендуется к использованию, поскольку модель лучше, чем регрессор, предсказывающий медиану таргета."
   ]
  },
  {
   "cell_type": "markdown",
   "metadata": {},
   "source": [
    "## Чек-лист готовности проекта"
   ]
  },
  {
   "cell_type": "markdown",
   "metadata": {},
   "source": [
    "- [x]  Jupyter Notebook открыт\n",
    "- [x]  Весь код выполняется без ошибок\n",
    "- [x]  Ячейки с кодом расположены в порядке выполнения\n",
    "- [x]  Выполнен шаг 1: данные подготовлены\n",
    "    - [x]  Проверена формула вычисления эффективности обогащения\n",
    "    - [x]  Проанализированы признаки, недоступные в тестовой выборке\n",
    "    - [x]  Проведена предобработка данных\n",
    "- [x]  Выполнен шаг 2: данные проанализированы\n",
    "    - [x]  Исследовано изменение концентрации элементов на каждом этапе\n",
    "    - [x]  Проанализированы распределения размеров гранул на обучающей и тестовой выборках\n",
    "    - [x]  Исследованы суммарные концентрации\n",
    "- [x]  Выполнен шаг 3: построена модель прогнозирования\n",
    "    - [x]  Написана функция для вычисления итогового *sMAPE*\n",
    "    - [x]  Обучено и проверено несколько моделей\n",
    "    - [x]  Выбрана лучшая модель, её качество проверено на тестовой выборке"
   ]
  }
 ],
 "metadata": {
  "ExecuteTimeLog": [
   {
    "duration": 386,
    "start_time": "2023-03-09T16:10:48.380Z"
   },
   {
    "duration": 1913,
    "start_time": "2023-03-09T16:12:05.674Z"
   },
   {
    "duration": 26,
    "start_time": "2023-03-09T16:28:08.769Z"
   },
   {
    "duration": 75,
    "start_time": "2023-03-09T16:34:46.315Z"
   },
   {
    "duration": 7,
    "start_time": "2023-03-09T16:35:01.930Z"
   },
   {
    "duration": 8,
    "start_time": "2023-03-09T16:35:13.667Z"
   },
   {
    "duration": 396,
    "start_time": "2023-03-09T16:35:21.925Z"
   },
   {
    "duration": 706,
    "start_time": "2023-03-09T16:35:22.323Z"
   },
   {
    "duration": 31,
    "start_time": "2023-03-09T16:35:23.030Z"
   },
   {
    "duration": 60,
    "start_time": "2023-03-09T16:35:23.063Z"
   },
   {
    "duration": 25,
    "start_time": "2023-03-09T16:35:40.580Z"
   },
   {
    "duration": 18,
    "start_time": "2023-03-09T16:36:14.598Z"
   },
   {
    "duration": 25,
    "start_time": "2023-03-09T16:36:27.220Z"
   },
   {
    "duration": 18,
    "start_time": "2023-03-09T16:36:40.094Z"
   },
   {
    "duration": 32,
    "start_time": "2023-03-09T16:36:57.138Z"
   },
   {
    "duration": 19,
    "start_time": "2023-03-09T16:37:01.126Z"
   },
   {
    "duration": 4,
    "start_time": "2023-03-09T16:57:49.724Z"
   },
   {
    "duration": 13,
    "start_time": "2023-03-09T16:58:06.282Z"
   },
   {
    "duration": 684,
    "start_time": "2023-03-09T16:59:09.808Z"
   },
   {
    "duration": 75,
    "start_time": "2023-03-09T16:59:48.460Z"
   },
   {
    "duration": 6,
    "start_time": "2023-03-09T16:59:52.979Z"
   },
   {
    "duration": 9,
    "start_time": "2023-03-09T17:01:41.496Z"
   },
   {
    "duration": 9,
    "start_time": "2023-03-09T17:02:10.461Z"
   },
   {
    "duration": 10,
    "start_time": "2023-03-09T17:02:14.200Z"
   },
   {
    "duration": 11,
    "start_time": "2023-03-09T17:02:26.364Z"
   },
   {
    "duration": 11,
    "start_time": "2023-03-09T17:02:31.511Z"
   },
   {
    "duration": 2,
    "start_time": "2023-03-09T17:05:07.996Z"
   },
   {
    "duration": 3,
    "start_time": "2023-03-09T17:06:58.896Z"
   },
   {
    "duration": 2,
    "start_time": "2023-03-09T17:07:03.840Z"
   },
   {
    "duration": 3,
    "start_time": "2023-03-09T17:07:07.106Z"
   },
   {
    "duration": 4,
    "start_time": "2023-03-09T17:09:02.703Z"
   },
   {
    "duration": 1172,
    "start_time": "2023-03-09T17:13:37.298Z"
   },
   {
    "duration": 22,
    "start_time": "2023-03-09T17:13:54.314Z"
   },
   {
    "duration": 6,
    "start_time": "2023-03-09T17:14:22.217Z"
   },
   {
    "duration": 5,
    "start_time": "2023-03-09T17:14:31.603Z"
   },
   {
    "duration": 6,
    "start_time": "2023-03-09T17:14:47.882Z"
   },
   {
    "duration": 6,
    "start_time": "2023-03-09T17:14:53.875Z"
   },
   {
    "duration": 5,
    "start_time": "2023-03-09T17:19:02.156Z"
   },
   {
    "duration": 19,
    "start_time": "2023-03-09T17:19:09.603Z"
   },
   {
    "duration": 8,
    "start_time": "2023-03-09T17:19:28.062Z"
   },
   {
    "duration": 7,
    "start_time": "2023-03-09T17:19:43.262Z"
   },
   {
    "duration": 10,
    "start_time": "2023-03-09T18:05:57.916Z"
   },
   {
    "duration": 16,
    "start_time": "2023-03-09T18:06:03.281Z"
   },
   {
    "duration": 8,
    "start_time": "2023-03-09T18:06:14.974Z"
   },
   {
    "duration": 14,
    "start_time": "2023-03-09T18:07:00.487Z"
   },
   {
    "duration": 9,
    "start_time": "2023-03-09T18:07:30.018Z"
   },
   {
    "duration": 38,
    "start_time": "2023-03-09T18:10:43.160Z"
   },
   {
    "duration": 5,
    "start_time": "2023-03-09T18:22:06.471Z"
   },
   {
    "duration": 8,
    "start_time": "2023-03-09T18:22:16.463Z"
   },
   {
    "duration": 11,
    "start_time": "2023-03-09T18:26:45.444Z"
   },
   {
    "duration": 551,
    "start_time": "2023-03-09T18:29:10.338Z"
   },
   {
    "duration": 162,
    "start_time": "2023-03-09T18:30:01.275Z"
   },
   {
    "duration": 183,
    "start_time": "2023-03-09T18:30:31.672Z"
   },
   {
    "duration": 28,
    "start_time": "2023-03-09T18:32:44.906Z"
   },
   {
    "duration": 166,
    "start_time": "2023-03-09T18:34:38.590Z"
   },
   {
    "duration": 169,
    "start_time": "2023-03-09T18:35:29.394Z"
   },
   {
    "duration": 255,
    "start_time": "2023-03-09T18:35:43.193Z"
   },
   {
    "duration": 397,
    "start_time": "2023-03-09T18:36:50.368Z"
   },
   {
    "duration": 331,
    "start_time": "2023-03-09T18:37:19.909Z"
   },
   {
    "duration": 252,
    "start_time": "2023-03-09T18:38:09.397Z"
   },
   {
    "duration": 229,
    "start_time": "2023-03-09T18:38:19.124Z"
   },
   {
    "duration": 176,
    "start_time": "2023-03-09T18:40:19.366Z"
   },
   {
    "duration": 3,
    "start_time": "2023-03-09T18:40:53.744Z"
   },
   {
    "duration": 211,
    "start_time": "2023-03-09T18:41:00.435Z"
   },
   {
    "duration": 384,
    "start_time": "2023-03-09T18:43:32.552Z"
   },
   {
    "duration": 376,
    "start_time": "2023-03-09T18:47:30.232Z"
   },
   {
    "duration": 311,
    "start_time": "2023-03-09T18:47:42.242Z"
   },
   {
    "duration": 291,
    "start_time": "2023-03-09T18:47:57.543Z"
   },
   {
    "duration": 2,
    "start_time": "2023-03-09T18:48:05.028Z"
   },
   {
    "duration": 240,
    "start_time": "2023-03-09T18:48:10.942Z"
   },
   {
    "duration": 420,
    "start_time": "2023-03-09T18:48:35.646Z"
   },
   {
    "duration": 161,
    "start_time": "2023-03-09T19:02:36.332Z"
   },
   {
    "duration": 130,
    "start_time": "2023-03-09T19:03:05.659Z"
   },
   {
    "duration": 147,
    "start_time": "2023-03-09T19:03:12.083Z"
   },
   {
    "duration": 150,
    "start_time": "2023-03-09T19:04:06.204Z"
   },
   {
    "duration": 154,
    "start_time": "2023-03-09T19:04:11.288Z"
   },
   {
    "duration": 170,
    "start_time": "2023-03-09T19:04:15.113Z"
   },
   {
    "duration": 152,
    "start_time": "2023-03-09T19:04:28.636Z"
   },
   {
    "duration": 148,
    "start_time": "2023-03-09T19:04:40.237Z"
   },
   {
    "duration": 315,
    "start_time": "2023-03-09T19:04:57.245Z"
   },
   {
    "duration": 445,
    "start_time": "2023-03-09T19:05:01.168Z"
   },
   {
    "duration": 374,
    "start_time": "2023-03-09T19:05:10.135Z"
   },
   {
    "duration": 344,
    "start_time": "2023-03-09T19:05:23.340Z"
   },
   {
    "duration": 428,
    "start_time": "2023-03-09T19:05:29.582Z"
   },
   {
    "duration": 260,
    "start_time": "2023-03-09T19:05:36.452Z"
   },
   {
    "duration": 347,
    "start_time": "2023-03-09T19:05:44.073Z"
   },
   {
    "duration": 14,
    "start_time": "2023-03-09T19:07:01.200Z"
   },
   {
    "duration": 444,
    "start_time": "2023-03-09T19:07:06.516Z"
   },
   {
    "duration": 11,
    "start_time": "2023-03-09T19:11:27.812Z"
   },
   {
    "duration": 12,
    "start_time": "2023-03-09T19:11:37.918Z"
   },
   {
    "duration": 4,
    "start_time": "2023-03-09T19:12:51.708Z"
   },
   {
    "duration": 6,
    "start_time": "2023-03-09T19:12:59.359Z"
   },
   {
    "duration": 6,
    "start_time": "2023-03-09T19:13:08.804Z"
   },
   {
    "duration": 5,
    "start_time": "2023-03-09T19:13:19.384Z"
   },
   {
    "duration": 5,
    "start_time": "2023-03-09T19:13:27.849Z"
   },
   {
    "duration": 5,
    "start_time": "2023-03-09T19:13:37.791Z"
   },
   {
    "duration": 6,
    "start_time": "2023-03-09T19:13:40.569Z"
   },
   {
    "duration": 6,
    "start_time": "2023-03-09T19:13:44.703Z"
   },
   {
    "duration": 6,
    "start_time": "2023-03-09T19:13:47.584Z"
   },
   {
    "duration": 7,
    "start_time": "2023-03-09T19:13:52.101Z"
   },
   {
    "duration": 6,
    "start_time": "2023-03-09T19:13:57.794Z"
   },
   {
    "duration": 13,
    "start_time": "2023-03-09T19:22:51.021Z"
   },
   {
    "duration": 4,
    "start_time": "2023-03-09T19:23:01.848Z"
   },
   {
    "duration": 22,
    "start_time": "2023-03-09T19:23:06.115Z"
   },
   {
    "duration": 21,
    "start_time": "2023-03-09T19:23:20.069Z"
   },
   {
    "duration": 11,
    "start_time": "2023-03-09T19:23:25.832Z"
   },
   {
    "duration": 23,
    "start_time": "2023-03-09T19:25:23.227Z"
   },
   {
    "duration": 703,
    "start_time": "2023-03-09T19:30:14.495Z"
   },
   {
    "duration": 433,
    "start_time": "2023-03-09T19:30:21.779Z"
   },
   {
    "duration": 405,
    "start_time": "2023-03-09T19:30:41.211Z"
   },
   {
    "duration": 430,
    "start_time": "2023-03-09T19:30:53.839Z"
   },
   {
    "duration": 530,
    "start_time": "2023-03-09T19:35:13.733Z"
   },
   {
    "duration": 338,
    "start_time": "2023-03-09T19:35:28.249Z"
   },
   {
    "duration": 364,
    "start_time": "2023-03-09T19:35:36.495Z"
   },
   {
    "duration": 381,
    "start_time": "2023-03-09T19:35:53.988Z"
   },
   {
    "duration": 545,
    "start_time": "2023-03-09T19:36:03.081Z"
   },
   {
    "duration": 10,
    "start_time": "2023-03-09T19:40:45.207Z"
   },
   {
    "duration": 259,
    "start_time": "2023-03-09T19:40:46.894Z"
   },
   {
    "duration": 10,
    "start_time": "2023-03-09T19:41:28.224Z"
   },
   {
    "duration": 1426,
    "start_time": "2023-03-09T19:58:04.507Z"
   },
   {
    "duration": 10,
    "start_time": "2023-03-09T19:59:53.282Z"
   },
   {
    "duration": 1272,
    "start_time": "2023-03-09T20:00:11.930Z"
   },
   {
    "duration": 5,
    "start_time": "2023-03-09T20:00:19.995Z"
   },
   {
    "duration": 1204,
    "start_time": "2023-03-09T20:00:24.084Z"
   },
   {
    "duration": 16,
    "start_time": "2023-03-09T20:00:52.371Z"
   },
   {
    "duration": 646,
    "start_time": "2023-03-09T20:01:52.265Z"
   },
   {
    "duration": 469,
    "start_time": "2023-03-09T20:02:35.239Z"
   },
   {
    "duration": 692,
    "start_time": "2023-03-09T20:02:47.606Z"
   },
   {
    "duration": 665,
    "start_time": "2023-03-09T20:02:55.797Z"
   },
   {
    "duration": 700,
    "start_time": "2023-03-09T20:03:28.166Z"
   },
   {
    "duration": 913,
    "start_time": "2023-03-09T20:09:38.399Z"
   },
   {
    "duration": 619,
    "start_time": "2023-03-09T20:12:54.153Z"
   },
   {
    "duration": 40,
    "start_time": "2023-03-09T20:14:38.674Z"
   },
   {
    "duration": 49,
    "start_time": "2023-03-09T20:15:02.283Z"
   },
   {
    "duration": 19,
    "start_time": "2023-03-09T20:15:31.691Z"
   },
   {
    "duration": 4,
    "start_time": "2023-03-09T20:15:40.097Z"
   },
   {
    "duration": 6,
    "start_time": "2023-03-09T20:15:58.260Z"
   },
   {
    "duration": 6,
    "start_time": "2023-03-09T20:16:00.602Z"
   },
   {
    "duration": 9,
    "start_time": "2023-03-09T20:16:11.423Z"
   },
   {
    "duration": 6,
    "start_time": "2023-03-09T20:16:16.396Z"
   },
   {
    "duration": 7,
    "start_time": "2023-03-09T20:16:34.385Z"
   },
   {
    "duration": 5,
    "start_time": "2023-03-09T20:16:54.661Z"
   },
   {
    "duration": 16,
    "start_time": "2023-03-09T20:17:11.460Z"
   },
   {
    "duration": 15,
    "start_time": "2023-03-09T20:17:20.789Z"
   },
   {
    "duration": 14,
    "start_time": "2023-03-09T20:17:31.779Z"
   },
   {
    "duration": 15,
    "start_time": "2023-03-09T20:17:36.191Z"
   },
   {
    "duration": 55,
    "start_time": "2023-03-09T20:18:07.315Z"
   },
   {
    "duration": 41,
    "start_time": "2023-03-09T20:18:30.062Z"
   },
   {
    "duration": 18,
    "start_time": "2023-03-09T20:18:44.720Z"
   },
   {
    "duration": 25,
    "start_time": "2023-03-09T20:18:54.459Z"
   },
   {
    "duration": 80,
    "start_time": "2023-03-09T20:36:50.010Z"
   },
   {
    "duration": 83,
    "start_time": "2023-03-09T20:36:53.633Z"
   },
   {
    "duration": 3,
    "start_time": "2023-03-09T20:37:48.608Z"
   },
   {
    "duration": 3,
    "start_time": "2023-03-09T20:40:26.765Z"
   },
   {
    "duration": 3,
    "start_time": "2023-03-09T20:45:38.696Z"
   },
   {
    "duration": 3,
    "start_time": "2023-03-09T20:47:54.832Z"
   },
   {
    "duration": 4,
    "start_time": "2023-03-09T20:47:56.100Z"
   },
   {
    "duration": 88,
    "start_time": "2023-03-09T22:24:32.771Z"
   },
   {
    "duration": 16,
    "start_time": "2023-03-09T22:24:36.129Z"
   },
   {
    "duration": 6,
    "start_time": "2023-03-09T22:24:44.664Z"
   },
   {
    "duration": 20,
    "start_time": "2023-03-09T22:45:24.760Z"
   },
   {
    "duration": 23,
    "start_time": "2023-03-09T22:45:32.001Z"
   },
   {
    "duration": 15,
    "start_time": "2023-03-09T22:45:38.884Z"
   },
   {
    "duration": 31,
    "start_time": "2023-03-09T22:45:43.683Z"
   },
   {
    "duration": 14,
    "start_time": "2023-03-09T22:46:31.518Z"
   },
   {
    "duration": 10,
    "start_time": "2023-03-09T22:46:43.817Z"
   },
   {
    "duration": 1319,
    "start_time": "2023-03-09T22:46:55.822Z"
   },
   {
    "duration": 662,
    "start_time": "2023-03-09T22:46:57.143Z"
   },
   {
    "duration": 25,
    "start_time": "2023-03-09T22:46:57.807Z"
   },
   {
    "duration": 20,
    "start_time": "2023-03-09T22:46:57.840Z"
   },
   {
    "duration": 10,
    "start_time": "2023-03-09T22:46:57.863Z"
   },
   {
    "duration": 4,
    "start_time": "2023-03-09T22:46:57.874Z"
   },
   {
    "duration": 11,
    "start_time": "2023-03-09T22:46:57.879Z"
   },
   {
    "duration": 9,
    "start_time": "2023-03-09T22:46:57.892Z"
   },
   {
    "duration": 65,
    "start_time": "2023-03-09T22:46:57.902Z"
   },
   {
    "duration": 8,
    "start_time": "2023-03-09T22:46:57.969Z"
   },
   {
    "duration": 233,
    "start_time": "2023-03-09T22:46:57.979Z"
   },
   {
    "duration": 423,
    "start_time": "2023-03-09T22:46:58.213Z"
   },
   {
    "duration": 5,
    "start_time": "2023-03-09T22:46:58.640Z"
   },
   {
    "duration": 10,
    "start_time": "2023-03-09T22:46:58.647Z"
   },
   {
    "duration": 1218,
    "start_time": "2023-03-09T22:46:58.658Z"
   },
   {
    "duration": 80,
    "start_time": "2023-03-09T22:46:59.878Z"
   },
   {
    "duration": 3,
    "start_time": "2023-03-09T22:46:59.960Z"
   },
   {
    "duration": 7,
    "start_time": "2023-03-09T22:46:59.965Z"
   },
   {
    "duration": 8,
    "start_time": "2023-03-09T22:46:59.974Z"
   },
   {
    "duration": 37,
    "start_time": "2023-03-09T22:47:00.040Z"
   },
   {
    "duration": 94,
    "start_time": "2023-03-09T22:53:01.574Z"
   },
   {
    "duration": 17,
    "start_time": "2023-03-09T22:54:06.975Z"
   },
   {
    "duration": 15,
    "start_time": "2023-03-09T22:54:16.913Z"
   },
   {
    "duration": 1299,
    "start_time": "2023-03-09T22:54:25.729Z"
   },
   {
    "duration": 637,
    "start_time": "2023-03-09T22:54:27.030Z"
   },
   {
    "duration": 26,
    "start_time": "2023-03-09T22:54:27.669Z"
   },
   {
    "duration": 21,
    "start_time": "2023-03-09T22:54:27.698Z"
   },
   {
    "duration": 27,
    "start_time": "2023-03-09T22:54:27.721Z"
   },
   {
    "duration": 4,
    "start_time": "2023-03-09T22:54:27.750Z"
   },
   {
    "duration": 17,
    "start_time": "2023-03-09T22:54:27.756Z"
   },
   {
    "duration": 42,
    "start_time": "2023-03-09T22:54:27.775Z"
   },
   {
    "duration": 31,
    "start_time": "2023-03-09T22:54:27.819Z"
   },
   {
    "duration": 8,
    "start_time": "2023-03-09T22:54:27.853Z"
   },
   {
    "duration": 266,
    "start_time": "2023-03-09T22:54:27.863Z"
   },
   {
    "duration": 479,
    "start_time": "2023-03-09T22:54:28.131Z"
   },
   {
    "duration": 5,
    "start_time": "2023-03-09T22:54:28.612Z"
   },
   {
    "duration": 21,
    "start_time": "2023-03-09T22:54:28.619Z"
   },
   {
    "duration": 665,
    "start_time": "2023-03-09T22:54:28.643Z"
   },
   {
    "duration": 36,
    "start_time": "2023-03-09T22:54:29.309Z"
   },
   {
    "duration": 4,
    "start_time": "2023-03-09T22:54:29.346Z"
   },
   {
    "duration": 8,
    "start_time": "2023-03-09T22:54:29.351Z"
   },
   {
    "duration": 25,
    "start_time": "2023-03-09T22:54:29.360Z"
   },
   {
    "duration": 145,
    "start_time": "2023-03-09T22:54:29.387Z"
   },
   {
    "duration": 7,
    "start_time": "2023-03-09T22:56:13.125Z"
   },
   {
    "duration": 25,
    "start_time": "2023-03-09T22:56:30.569Z"
   },
   {
    "duration": 17,
    "start_time": "2023-03-09T22:57:39.988Z"
   },
   {
    "duration": 17,
    "start_time": "2023-03-09T22:58:52.105Z"
   },
   {
    "duration": 9,
    "start_time": "2023-03-09T23:06:39.766Z"
   },
   {
    "duration": 5,
    "start_time": "2023-03-09T23:06:45.864Z"
   },
   {
    "duration": 24,
    "start_time": "2023-03-09T23:08:09.412Z"
   },
   {
    "duration": 18,
    "start_time": "2023-03-09T23:08:27.191Z"
   },
   {
    "duration": 1221,
    "start_time": "2023-03-09T23:08:41.497Z"
   },
   {
    "duration": 650,
    "start_time": "2023-03-09T23:08:42.720Z"
   },
   {
    "duration": 24,
    "start_time": "2023-03-09T23:08:43.372Z"
   },
   {
    "duration": 19,
    "start_time": "2023-03-09T23:08:43.398Z"
   },
   {
    "duration": 24,
    "start_time": "2023-03-09T23:08:43.418Z"
   },
   {
    "duration": 4,
    "start_time": "2023-03-09T23:08:43.443Z"
   },
   {
    "duration": 10,
    "start_time": "2023-03-09T23:08:43.449Z"
   },
   {
    "duration": 8,
    "start_time": "2023-03-09T23:08:43.460Z"
   },
   {
    "duration": 29,
    "start_time": "2023-03-09T23:08:43.469Z"
   },
   {
    "duration": 9,
    "start_time": "2023-03-09T23:08:43.500Z"
   },
   {
    "duration": 233,
    "start_time": "2023-03-09T23:08:43.541Z"
   },
   {
    "duration": 411,
    "start_time": "2023-03-09T23:08:43.775Z"
   },
   {
    "duration": 4,
    "start_time": "2023-03-09T23:08:44.188Z"
   },
   {
    "duration": 9,
    "start_time": "2023-03-09T23:08:44.193Z"
   },
   {
    "duration": 639,
    "start_time": "2023-03-09T23:08:44.204Z"
   },
   {
    "duration": 28,
    "start_time": "2023-03-09T23:08:44.845Z"
   },
   {
    "duration": 3,
    "start_time": "2023-03-09T23:08:44.875Z"
   },
   {
    "duration": 11,
    "start_time": "2023-03-09T23:08:44.880Z"
   },
   {
    "duration": 49,
    "start_time": "2023-03-09T23:08:44.892Z"
   },
   {
    "duration": 7,
    "start_time": "2023-03-09T23:08:44.943Z"
   },
   {
    "duration": 115,
    "start_time": "2023-03-09T23:08:44.952Z"
   },
   {
    "duration": 0,
    "start_time": "2023-03-09T23:08:45.068Z"
   },
   {
    "duration": 1285,
    "start_time": "2023-03-09T23:10:03.111Z"
   },
   {
    "duration": 689,
    "start_time": "2023-03-09T23:10:04.398Z"
   },
   {
    "duration": 24,
    "start_time": "2023-03-09T23:10:05.088Z"
   },
   {
    "duration": 36,
    "start_time": "2023-03-09T23:10:05.114Z"
   },
   {
    "duration": 12,
    "start_time": "2023-03-09T23:10:05.152Z"
   },
   {
    "duration": 3,
    "start_time": "2023-03-09T23:10:05.166Z"
   },
   {
    "duration": 14,
    "start_time": "2023-03-09T23:10:05.171Z"
   },
   {
    "duration": 14,
    "start_time": "2023-03-09T23:10:05.187Z"
   },
   {
    "duration": 71,
    "start_time": "2023-03-09T23:10:05.203Z"
   },
   {
    "duration": 9,
    "start_time": "2023-03-09T23:10:05.276Z"
   },
   {
    "duration": 239,
    "start_time": "2023-03-09T23:10:05.286Z"
   },
   {
    "duration": 442,
    "start_time": "2023-03-09T23:10:05.527Z"
   },
   {
    "duration": 5,
    "start_time": "2023-03-09T23:10:05.972Z"
   },
   {
    "duration": 11,
    "start_time": "2023-03-09T23:10:05.981Z"
   },
   {
    "duration": 672,
    "start_time": "2023-03-09T23:10:05.995Z"
   },
   {
    "duration": 30,
    "start_time": "2023-03-09T23:10:06.668Z"
   },
   {
    "duration": 5,
    "start_time": "2023-03-09T23:10:06.700Z"
   },
   {
    "duration": 8,
    "start_time": "2023-03-09T23:10:06.706Z"
   },
   {
    "duration": 41,
    "start_time": "2023-03-09T23:10:06.715Z"
   },
   {
    "duration": 17,
    "start_time": "2023-03-09T23:10:06.758Z"
   },
   {
    "duration": 104,
    "start_time": "2023-03-09T23:10:25.612Z"
   },
   {
    "duration": 21,
    "start_time": "2023-03-09T23:10:52.225Z"
   },
   {
    "duration": 20,
    "start_time": "2023-03-09T23:11:01.160Z"
   },
   {
    "duration": 1217,
    "start_time": "2023-03-09T23:11:31.886Z"
   },
   {
    "duration": 643,
    "start_time": "2023-03-09T23:11:33.105Z"
   },
   {
    "duration": 24,
    "start_time": "2023-03-09T23:11:33.750Z"
   },
   {
    "duration": 20,
    "start_time": "2023-03-09T23:11:33.775Z"
   },
   {
    "duration": 8,
    "start_time": "2023-03-09T23:11:33.796Z"
   },
   {
    "duration": 5,
    "start_time": "2023-03-09T23:11:33.805Z"
   },
   {
    "duration": 34,
    "start_time": "2023-03-09T23:11:33.812Z"
   },
   {
    "duration": 9,
    "start_time": "2023-03-09T23:11:33.848Z"
   },
   {
    "duration": 42,
    "start_time": "2023-03-09T23:11:33.859Z"
   },
   {
    "duration": 9,
    "start_time": "2023-03-09T23:11:33.904Z"
   },
   {
    "duration": 239,
    "start_time": "2023-03-09T23:11:33.915Z"
   },
   {
    "duration": 415,
    "start_time": "2023-03-09T23:11:34.155Z"
   },
   {
    "duration": 5,
    "start_time": "2023-03-09T23:11:34.572Z"
   },
   {
    "duration": 10,
    "start_time": "2023-03-09T23:11:34.578Z"
   },
   {
    "duration": 646,
    "start_time": "2023-03-09T23:11:34.590Z"
   },
   {
    "duration": 29,
    "start_time": "2023-03-09T23:11:35.240Z"
   },
   {
    "duration": 4,
    "start_time": "2023-03-09T23:11:35.271Z"
   },
   {
    "duration": 9,
    "start_time": "2023-03-09T23:11:35.276Z"
   },
   {
    "duration": 26,
    "start_time": "2023-03-09T23:11:35.287Z"
   },
   {
    "duration": 57,
    "start_time": "2023-03-09T23:11:35.315Z"
   },
   {
    "duration": 6,
    "start_time": "2023-03-09T23:14:02.689Z"
   },
   {
    "duration": 14,
    "start_time": "2023-03-09T23:16:03.448Z"
   },
   {
    "duration": 4,
    "start_time": "2023-03-09T23:18:09.707Z"
   },
   {
    "duration": 94,
    "start_time": "2023-03-09T23:22:16.187Z"
   },
   {
    "duration": 33,
    "start_time": "2023-03-09T23:22:58.660Z"
   },
   {
    "duration": 9,
    "start_time": "2023-03-09T23:23:25.383Z"
   },
   {
    "duration": 4,
    "start_time": "2023-03-09T23:23:37.971Z"
   },
   {
    "duration": 10,
    "start_time": "2023-03-09T23:23:42.705Z"
   },
   {
    "duration": 1238,
    "start_time": "2023-03-09T23:26:50.807Z"
   },
   {
    "duration": 710,
    "start_time": "2023-03-09T23:26:52.047Z"
   },
   {
    "duration": 28,
    "start_time": "2023-03-09T23:26:52.758Z"
   },
   {
    "duration": 21,
    "start_time": "2023-03-09T23:26:52.789Z"
   },
   {
    "duration": 37,
    "start_time": "2023-03-09T23:26:52.812Z"
   },
   {
    "duration": 5,
    "start_time": "2023-03-09T23:26:52.851Z"
   },
   {
    "duration": 10,
    "start_time": "2023-03-09T23:26:52.857Z"
   },
   {
    "duration": 9,
    "start_time": "2023-03-09T23:26:52.869Z"
   },
   {
    "duration": 63,
    "start_time": "2023-03-09T23:26:52.879Z"
   },
   {
    "duration": 9,
    "start_time": "2023-03-09T23:26:52.945Z"
   },
   {
    "duration": 237,
    "start_time": "2023-03-09T23:26:52.955Z"
   },
   {
    "duration": 446,
    "start_time": "2023-03-09T23:26:53.194Z"
   },
   {
    "duration": 4,
    "start_time": "2023-03-09T23:26:53.642Z"
   },
   {
    "duration": 15,
    "start_time": "2023-03-09T23:26:53.648Z"
   },
   {
    "duration": 670,
    "start_time": "2023-03-09T23:26:53.665Z"
   },
   {
    "duration": 31,
    "start_time": "2023-03-09T23:26:54.336Z"
   },
   {
    "duration": 3,
    "start_time": "2023-03-09T23:26:54.368Z"
   },
   {
    "duration": 6,
    "start_time": "2023-03-09T23:26:54.373Z"
   },
   {
    "duration": 9,
    "start_time": "2023-03-09T23:26:54.380Z"
   },
   {
    "duration": 25,
    "start_time": "2023-03-09T23:26:54.390Z"
   },
   {
    "duration": 54,
    "start_time": "2023-03-09T23:26:54.417Z"
   },
   {
    "duration": 7,
    "start_time": "2023-03-09T23:26:54.473Z"
   },
   {
    "duration": 11,
    "start_time": "2023-03-09T23:26:54.481Z"
   },
   {
    "duration": 14,
    "start_time": "2023-03-09T23:26:54.494Z"
   },
   {
    "duration": 7,
    "start_time": "2023-03-09T23:26:54.509Z"
   },
   {
    "duration": 121,
    "start_time": "2023-03-09T23:26:54.540Z"
   },
   {
    "duration": 2116,
    "start_time": "2023-03-09T23:27:19.234Z"
   },
   {
    "duration": 2169,
    "start_time": "2023-03-09T23:29:54.579Z"
   },
   {
    "duration": 3,
    "start_time": "2023-03-09T23:30:35.803Z"
   },
   {
    "duration": 3,
    "start_time": "2023-03-09T23:30:37.642Z"
   },
   {
    "duration": 2136,
    "start_time": "2023-03-09T23:30:40.807Z"
   },
   {
    "duration": 3,
    "start_time": "2023-03-09T23:32:53.283Z"
   },
   {
    "duration": 2377,
    "start_time": "2023-03-09T23:33:25.965Z"
   },
   {
    "duration": 3,
    "start_time": "2023-03-09T23:34:07.667Z"
   },
   {
    "duration": 2388,
    "start_time": "2023-03-09T23:34:15.457Z"
   },
   {
    "duration": 10,
    "start_time": "2023-03-09T23:39:17.259Z"
   },
   {
    "duration": 28,
    "start_time": "2023-03-09T23:39:40.287Z"
   },
   {
    "duration": 61126,
    "start_time": "2023-03-09T23:40:02.060Z"
   },
   {
    "duration": 78,
    "start_time": "2023-03-09T23:42:27.553Z"
   },
   {
    "duration": 61593,
    "start_time": "2023-03-09T23:42:47.015Z"
   },
   {
    "duration": 61449,
    "start_time": "2023-03-09T23:48:07.786Z"
   },
   {
    "duration": 297,
    "start_time": "2023-03-09T23:51:47.249Z"
   },
   {
    "duration": 285,
    "start_time": "2023-03-09T23:52:25.800Z"
   },
   {
    "duration": 17,
    "start_time": "2023-03-09T23:53:36.023Z"
   },
   {
    "duration": 10,
    "start_time": "2023-03-09T23:54:50.724Z"
   },
   {
    "duration": 4,
    "start_time": "2023-03-09T23:54:52.604Z"
   },
   {
    "duration": 323,
    "start_time": "2023-03-09T23:54:56.847Z"
   },
   {
    "duration": 4,
    "start_time": "2023-03-09T23:55:31.118Z"
   },
   {
    "duration": 331,
    "start_time": "2023-03-09T23:55:52.019Z"
   },
   {
    "duration": 321,
    "start_time": "2023-03-09T23:56:53.566Z"
   },
   {
    "duration": 283,
    "start_time": "2023-03-09T23:57:02.669Z"
   },
   {
    "duration": 287,
    "start_time": "2023-03-10T00:01:09.462Z"
   },
   {
    "duration": 284,
    "start_time": "2023-03-10T00:01:22.110Z"
   },
   {
    "duration": 290,
    "start_time": "2023-03-10T00:01:48.451Z"
   },
   {
    "duration": 291,
    "start_time": "2023-03-10T00:02:07.235Z"
   },
   {
    "duration": 280,
    "start_time": "2023-03-10T00:02:10.038Z"
   },
   {
    "duration": 280,
    "start_time": "2023-03-10T00:02:15.866Z"
   },
   {
    "duration": 279,
    "start_time": "2023-03-10T00:03:30.083Z"
   },
   {
    "duration": 3,
    "start_time": "2023-03-10T00:04:28.987Z"
   },
   {
    "duration": 298,
    "start_time": "2023-03-10T00:04:31.821Z"
   },
   {
    "duration": 72,
    "start_time": "2023-03-10T00:04:46.570Z"
   },
   {
    "duration": 329,
    "start_time": "2023-03-10T00:04:50.989Z"
   },
   {
    "duration": 61587,
    "start_time": "2023-03-10T00:05:01.795Z"
   },
   {
    "duration": 1334,
    "start_time": "2023-03-10T00:09:12.721Z"
   },
   {
    "duration": 629,
    "start_time": "2023-03-10T00:09:14.057Z"
   },
   {
    "duration": 24,
    "start_time": "2023-03-10T00:09:14.688Z"
   },
   {
    "duration": 34,
    "start_time": "2023-03-10T00:09:14.714Z"
   },
   {
    "duration": 8,
    "start_time": "2023-03-10T00:09:14.750Z"
   },
   {
    "duration": 3,
    "start_time": "2023-03-10T00:09:14.760Z"
   },
   {
    "duration": 33,
    "start_time": "2023-03-10T00:09:14.764Z"
   },
   {
    "duration": 9,
    "start_time": "2023-03-10T00:09:14.799Z"
   },
   {
    "duration": 37,
    "start_time": "2023-03-10T00:09:14.809Z"
   },
   {
    "duration": 10,
    "start_time": "2023-03-10T00:09:14.848Z"
   },
   {
    "duration": 230,
    "start_time": "2023-03-10T00:09:14.859Z"
   },
   {
    "duration": 444,
    "start_time": "2023-03-10T00:09:15.090Z"
   },
   {
    "duration": 6,
    "start_time": "2023-03-10T00:09:15.536Z"
   },
   {
    "duration": 11,
    "start_time": "2023-03-10T00:09:15.545Z"
   },
   {
    "duration": 637,
    "start_time": "2023-03-10T00:09:15.558Z"
   },
   {
    "duration": 28,
    "start_time": "2023-03-10T00:09:16.196Z"
   },
   {
    "duration": 3,
    "start_time": "2023-03-10T00:09:16.240Z"
   },
   {
    "duration": 8,
    "start_time": "2023-03-10T00:09:16.245Z"
   },
   {
    "duration": 26,
    "start_time": "2023-03-10T00:09:16.254Z"
   },
   {
    "duration": 32,
    "start_time": "2023-03-10T00:09:16.282Z"
   },
   {
    "duration": 24,
    "start_time": "2023-03-10T00:09:16.316Z"
   },
   {
    "duration": 10,
    "start_time": "2023-03-10T00:09:16.342Z"
   },
   {
    "duration": 15,
    "start_time": "2023-03-10T00:09:16.353Z"
   },
   {
    "duration": 6,
    "start_time": "2023-03-10T00:09:16.369Z"
   },
   {
    "duration": 28,
    "start_time": "2023-03-10T00:09:16.376Z"
   },
   {
    "duration": 123,
    "start_time": "2023-03-10T00:09:16.406Z"
   },
   {
    "duration": 0,
    "start_time": "2023-03-10T00:09:16.530Z"
   },
   {
    "duration": 0,
    "start_time": "2023-03-10T00:09:16.531Z"
   },
   {
    "duration": 3,
    "start_time": "2023-03-10T00:09:59.207Z"
   },
   {
    "duration": 1261,
    "start_time": "2023-03-10T00:10:04.374Z"
   },
   {
    "duration": 652,
    "start_time": "2023-03-10T00:10:05.637Z"
   },
   {
    "duration": 24,
    "start_time": "2023-03-10T00:10:06.291Z"
   },
   {
    "duration": 31,
    "start_time": "2023-03-10T00:10:06.317Z"
   },
   {
    "duration": 9,
    "start_time": "2023-03-10T00:10:06.350Z"
   },
   {
    "duration": 5,
    "start_time": "2023-03-10T00:10:06.360Z"
   },
   {
    "duration": 9,
    "start_time": "2023-03-10T00:10:06.366Z"
   },
   {
    "duration": 10,
    "start_time": "2023-03-10T00:10:06.377Z"
   },
   {
    "duration": 52,
    "start_time": "2023-03-10T00:10:06.388Z"
   },
   {
    "duration": 8,
    "start_time": "2023-03-10T00:10:06.442Z"
   },
   {
    "duration": 244,
    "start_time": "2023-03-10T00:10:06.451Z"
   },
   {
    "duration": 451,
    "start_time": "2023-03-10T00:10:06.698Z"
   },
   {
    "duration": 5,
    "start_time": "2023-03-10T00:10:07.151Z"
   },
   {
    "duration": 8,
    "start_time": "2023-03-10T00:10:07.159Z"
   },
   {
    "duration": 655,
    "start_time": "2023-03-10T00:10:07.169Z"
   },
   {
    "duration": 35,
    "start_time": "2023-03-10T00:10:07.826Z"
   },
   {
    "duration": 2,
    "start_time": "2023-03-10T00:10:07.863Z"
   },
   {
    "duration": 13,
    "start_time": "2023-03-10T00:10:07.867Z"
   },
   {
    "duration": 36,
    "start_time": "2023-03-10T00:10:07.882Z"
   },
   {
    "duration": 46,
    "start_time": "2023-03-10T00:10:07.920Z"
   },
   {
    "duration": 5,
    "start_time": "2023-03-10T00:10:07.968Z"
   },
   {
    "duration": 15,
    "start_time": "2023-03-10T00:10:07.975Z"
   },
   {
    "duration": 14,
    "start_time": "2023-03-10T00:10:07.992Z"
   },
   {
    "duration": 7,
    "start_time": "2023-03-10T00:10:08.008Z"
   },
   {
    "duration": 31,
    "start_time": "2023-03-10T00:10:08.016Z"
   },
   {
    "duration": 2491,
    "start_time": "2023-03-10T00:10:08.049Z"
   },
   {
    "duration": 62274,
    "start_time": "2023-03-10T00:10:10.542Z"
   },
   {
    "duration": 289,
    "start_time": "2023-03-10T00:11:12.818Z"
   },
   {
    "duration": 1277,
    "start_time": "2023-03-10T00:23:09.264Z"
   },
   {
    "duration": 649,
    "start_time": "2023-03-10T00:23:10.543Z"
   },
   {
    "duration": 25,
    "start_time": "2023-03-10T00:23:11.194Z"
   },
   {
    "duration": 34,
    "start_time": "2023-03-10T00:23:11.221Z"
   },
   {
    "duration": 8,
    "start_time": "2023-03-10T00:23:11.258Z"
   },
   {
    "duration": 3,
    "start_time": "2023-03-10T00:23:11.268Z"
   },
   {
    "duration": 11,
    "start_time": "2023-03-10T00:23:11.273Z"
   },
   {
    "duration": 9,
    "start_time": "2023-03-10T00:23:11.286Z"
   },
   {
    "duration": 56,
    "start_time": "2023-03-10T00:23:11.296Z"
   },
   {
    "duration": 8,
    "start_time": "2023-03-10T00:23:11.354Z"
   },
   {
    "duration": 224,
    "start_time": "2023-03-10T00:23:11.363Z"
   },
   {
    "duration": 413,
    "start_time": "2023-03-10T00:23:11.589Z"
   },
   {
    "duration": 5,
    "start_time": "2023-03-10T00:23:12.003Z"
   },
   {
    "duration": 9,
    "start_time": "2023-03-10T00:23:12.011Z"
   },
   {
    "duration": 668,
    "start_time": "2023-03-10T00:23:12.021Z"
   },
   {
    "duration": 30,
    "start_time": "2023-03-10T00:23:12.691Z"
   },
   {
    "duration": 19,
    "start_time": "2023-03-10T00:23:12.723Z"
   },
   {
    "duration": 9,
    "start_time": "2023-03-10T00:23:12.744Z"
   },
   {
    "duration": 44,
    "start_time": "2023-03-10T00:23:12.755Z"
   },
   {
    "duration": 41,
    "start_time": "2023-03-10T00:23:12.800Z"
   },
   {
    "duration": 6,
    "start_time": "2023-03-10T00:23:12.842Z"
   },
   {
    "duration": 14,
    "start_time": "2023-03-10T00:23:12.850Z"
   },
   {
    "duration": 29,
    "start_time": "2023-03-10T00:23:12.866Z"
   },
   {
    "duration": 6,
    "start_time": "2023-03-10T00:23:12.897Z"
   },
   {
    "duration": 22,
    "start_time": "2023-03-10T00:23:12.905Z"
   },
   {
    "duration": 2214,
    "start_time": "2023-03-10T00:23:12.928Z"
   },
   {
    "duration": 61535,
    "start_time": "2023-03-10T00:23:15.144Z"
   },
   {
    "duration": 291,
    "start_time": "2023-03-10T00:24:16.681Z"
   },
   {
    "duration": 58,
    "start_time": "2023-03-10T10:00:43.721Z"
   },
   {
    "duration": 87,
    "start_time": "2023-03-10T10:01:42.298Z"
   },
   {
    "duration": 73,
    "start_time": "2023-03-10T10:01:51.651Z"
   },
   {
    "duration": 14,
    "start_time": "2023-03-10T10:02:01.129Z"
   },
   {
    "duration": 68,
    "start_time": "2023-03-10T20:45:05.087Z"
   },
   {
    "duration": 1787,
    "start_time": "2023-03-10T20:45:10.349Z"
   },
   {
    "duration": 3901,
    "start_time": "2023-03-10T20:45:12.139Z"
   },
   {
    "duration": 30,
    "start_time": "2023-03-10T20:45:16.042Z"
   },
   {
    "duration": 34,
    "start_time": "2023-03-10T20:45:16.080Z"
   },
   {
    "duration": 15,
    "start_time": "2023-03-10T20:45:16.116Z"
   },
   {
    "duration": 5,
    "start_time": "2023-03-10T20:45:16.132Z"
   },
   {
    "duration": 18,
    "start_time": "2023-03-10T20:45:16.139Z"
   },
   {
    "duration": 28,
    "start_time": "2023-03-10T20:45:16.159Z"
   },
   {
    "duration": 40,
    "start_time": "2023-03-10T20:45:16.191Z"
   },
   {
    "duration": 9,
    "start_time": "2023-03-10T20:45:16.234Z"
   },
   {
    "duration": 350,
    "start_time": "2023-03-10T20:45:16.245Z"
   },
   {
    "duration": 641,
    "start_time": "2023-03-10T20:45:16.597Z"
   },
   {
    "duration": 5,
    "start_time": "2023-03-10T20:45:17.241Z"
   },
   {
    "duration": 35,
    "start_time": "2023-03-10T20:45:17.249Z"
   },
   {
    "duration": 755,
    "start_time": "2023-03-10T20:45:17.286Z"
   },
   {
    "duration": 46,
    "start_time": "2023-03-10T20:45:18.043Z"
   },
   {
    "duration": 5,
    "start_time": "2023-03-10T20:45:18.090Z"
   },
   {
    "duration": 28,
    "start_time": "2023-03-10T20:45:18.097Z"
   },
   {
    "duration": 31,
    "start_time": "2023-03-10T20:45:18.127Z"
   },
   {
    "duration": 44,
    "start_time": "2023-03-10T20:45:18.159Z"
   },
   {
    "duration": 7,
    "start_time": "2023-03-10T20:45:18.205Z"
   },
   {
    "duration": 16,
    "start_time": "2023-03-10T20:45:18.214Z"
   },
   {
    "duration": 33,
    "start_time": "2023-03-10T20:45:18.232Z"
   },
   {
    "duration": 180,
    "start_time": "2023-03-10T20:45:18.267Z"
   },
   {
    "duration": 0,
    "start_time": "2023-03-10T20:45:18.449Z"
   },
   {
    "duration": 0,
    "start_time": "2023-03-10T20:45:18.451Z"
   },
   {
    "duration": 0,
    "start_time": "2023-03-10T20:45:18.452Z"
   },
   {
    "duration": 0,
    "start_time": "2023-03-10T20:45:18.453Z"
   },
   {
    "duration": 0,
    "start_time": "2023-03-10T20:45:18.454Z"
   },
   {
    "duration": 26,
    "start_time": "2023-03-10T20:47:20.916Z"
   },
   {
    "duration": 23,
    "start_time": "2023-03-10T20:47:35.939Z"
   },
   {
    "duration": 47,
    "start_time": "2023-03-10T20:48:20.315Z"
   },
   {
    "duration": 11,
    "start_time": "2023-03-10T20:50:47.975Z"
   },
   {
    "duration": 5,
    "start_time": "2023-03-10T20:50:51.840Z"
   },
   {
    "duration": 27,
    "start_time": "2023-03-10T20:51:08.915Z"
   },
   {
    "duration": 20,
    "start_time": "2023-03-10T20:51:16.029Z"
   },
   {
    "duration": 1980,
    "start_time": "2023-03-10T20:51:31.970Z"
   },
   {
    "duration": 1149,
    "start_time": "2023-03-10T20:51:33.953Z"
   },
   {
    "duration": 41,
    "start_time": "2023-03-10T20:51:35.104Z"
   },
   {
    "duration": 42,
    "start_time": "2023-03-10T20:51:35.148Z"
   },
   {
    "duration": 21,
    "start_time": "2023-03-10T20:51:35.200Z"
   },
   {
    "duration": 19,
    "start_time": "2023-03-10T20:51:35.227Z"
   },
   {
    "duration": 28,
    "start_time": "2023-03-10T20:51:35.248Z"
   },
   {
    "duration": 59,
    "start_time": "2023-03-10T20:51:35.286Z"
   },
   {
    "duration": 47,
    "start_time": "2023-03-10T20:51:35.347Z"
   },
   {
    "duration": 17,
    "start_time": "2023-03-10T20:51:35.397Z"
   },
   {
    "duration": 339,
    "start_time": "2023-03-10T20:51:35.416Z"
   },
   {
    "duration": 640,
    "start_time": "2023-03-10T20:51:35.757Z"
   },
   {
    "duration": 16,
    "start_time": "2023-03-10T20:51:36.407Z"
   },
   {
    "duration": 22,
    "start_time": "2023-03-10T20:51:36.429Z"
   },
   {
    "duration": 1090,
    "start_time": "2023-03-10T20:51:36.453Z"
   },
   {
    "duration": 51,
    "start_time": "2023-03-10T20:51:37.545Z"
   },
   {
    "duration": 11,
    "start_time": "2023-03-10T20:51:37.597Z"
   },
   {
    "duration": 35,
    "start_time": "2023-03-10T20:51:37.610Z"
   },
   {
    "duration": 15,
    "start_time": "2023-03-10T20:51:37.647Z"
   },
   {
    "duration": 101,
    "start_time": "2023-03-10T20:51:37.664Z"
   },
   {
    "duration": 77,
    "start_time": "2023-03-10T20:51:37.767Z"
   },
   {
    "duration": 11,
    "start_time": "2023-03-10T20:51:37.847Z"
   },
   {
    "duration": 20,
    "start_time": "2023-03-10T20:51:37.860Z"
   },
   {
    "duration": 158,
    "start_time": "2023-03-10T20:51:37.882Z"
   },
   {
    "duration": 0,
    "start_time": "2023-03-10T20:51:38.043Z"
   },
   {
    "duration": 0,
    "start_time": "2023-03-10T20:51:38.044Z"
   },
   {
    "duration": 0,
    "start_time": "2023-03-10T20:51:38.046Z"
   },
   {
    "duration": 0,
    "start_time": "2023-03-10T20:51:38.047Z"
   },
   {
    "duration": 0,
    "start_time": "2023-03-10T20:51:38.049Z"
   },
   {
    "duration": 0,
    "start_time": "2023-03-10T20:51:38.050Z"
   },
   {
    "duration": 10,
    "start_time": "2023-03-10T20:53:14.220Z"
   },
   {
    "duration": 829,
    "start_time": "2023-03-10T20:53:24.297Z"
   },
   {
    "duration": 18,
    "start_time": "2023-03-10T20:53:41.203Z"
   },
   {
    "duration": 22,
    "start_time": "2023-03-10T20:53:51.500Z"
   },
   {
    "duration": 1684,
    "start_time": "2023-03-10T20:54:28.944Z"
   },
   {
    "duration": 1168,
    "start_time": "2023-03-10T20:54:30.631Z"
   },
   {
    "duration": 57,
    "start_time": "2023-03-10T20:54:31.810Z"
   },
   {
    "duration": 98,
    "start_time": "2023-03-10T20:54:31.870Z"
   },
   {
    "duration": 64,
    "start_time": "2023-03-10T20:54:31.970Z"
   },
   {
    "duration": 27,
    "start_time": "2023-03-10T20:54:32.036Z"
   },
   {
    "duration": 74,
    "start_time": "2023-03-10T20:54:32.067Z"
   },
   {
    "duration": 28,
    "start_time": "2023-03-10T20:54:32.143Z"
   },
   {
    "duration": 83,
    "start_time": "2023-03-10T20:54:32.176Z"
   },
   {
    "duration": 24,
    "start_time": "2023-03-10T20:54:32.263Z"
   },
   {
    "duration": 502,
    "start_time": "2023-03-10T20:54:32.299Z"
   },
   {
    "duration": 644,
    "start_time": "2023-03-10T20:54:32.808Z"
   },
   {
    "duration": 6,
    "start_time": "2023-03-10T20:54:33.454Z"
   },
   {
    "duration": 17,
    "start_time": "2023-03-10T20:54:33.461Z"
   },
   {
    "duration": 1013,
    "start_time": "2023-03-10T20:54:33.484Z"
   },
   {
    "duration": 47,
    "start_time": "2023-03-10T20:54:34.499Z"
   },
   {
    "duration": 7,
    "start_time": "2023-03-10T20:54:34.551Z"
   },
   {
    "duration": 13,
    "start_time": "2023-03-10T20:54:34.560Z"
   },
   {
    "duration": 68,
    "start_time": "2023-03-10T20:54:34.576Z"
   },
   {
    "duration": 26,
    "start_time": "2023-03-10T20:54:34.646Z"
   },
   {
    "duration": 55,
    "start_time": "2023-03-10T20:54:34.674Z"
   },
   {
    "duration": 13,
    "start_time": "2023-03-10T20:54:34.731Z"
   },
   {
    "duration": 44,
    "start_time": "2023-03-10T20:54:34.746Z"
   },
   {
    "duration": 209,
    "start_time": "2023-03-10T20:54:34.792Z"
   },
   {
    "duration": 0,
    "start_time": "2023-03-10T20:54:35.008Z"
   },
   {
    "duration": 0,
    "start_time": "2023-03-10T20:54:35.009Z"
   },
   {
    "duration": 0,
    "start_time": "2023-03-10T20:54:35.010Z"
   },
   {
    "duration": 0,
    "start_time": "2023-03-10T20:54:35.018Z"
   },
   {
    "duration": 0,
    "start_time": "2023-03-10T20:54:35.026Z"
   },
   {
    "duration": 0,
    "start_time": "2023-03-10T20:54:35.028Z"
   },
   {
    "duration": 17,
    "start_time": "2023-03-10T20:55:45.740Z"
   },
   {
    "duration": 55,
    "start_time": "2023-03-10T20:55:48.003Z"
   },
   {
    "duration": 71,
    "start_time": "2023-03-10T20:56:24.641Z"
   },
   {
    "duration": 64,
    "start_time": "2023-03-10T20:57:01.068Z"
   },
   {
    "duration": 20,
    "start_time": "2023-03-10T21:04:20.047Z"
   },
   {
    "duration": 7,
    "start_time": "2023-03-10T21:04:37.203Z"
   },
   {
    "duration": 1743,
    "start_time": "2023-03-10T21:04:52.207Z"
   },
   {
    "duration": 979,
    "start_time": "2023-03-10T21:04:53.953Z"
   },
   {
    "duration": 30,
    "start_time": "2023-03-10T21:04:54.934Z"
   },
   {
    "duration": 50,
    "start_time": "2023-03-10T21:04:54.979Z"
   },
   {
    "duration": 28,
    "start_time": "2023-03-10T21:04:55.032Z"
   },
   {
    "duration": 57,
    "start_time": "2023-03-10T21:04:55.062Z"
   },
   {
    "duration": 28,
    "start_time": "2023-03-10T21:04:55.121Z"
   },
   {
    "duration": 32,
    "start_time": "2023-03-10T21:04:55.152Z"
   },
   {
    "duration": 105,
    "start_time": "2023-03-10T21:04:55.187Z"
   },
   {
    "duration": 41,
    "start_time": "2023-03-10T21:04:55.297Z"
   },
   {
    "duration": 310,
    "start_time": "2023-03-10T21:04:55.341Z"
   },
   {
    "duration": 611,
    "start_time": "2023-03-10T21:04:55.653Z"
   },
   {
    "duration": 7,
    "start_time": "2023-03-10T21:04:56.266Z"
   },
   {
    "duration": 50,
    "start_time": "2023-03-10T21:04:56.278Z"
   },
   {
    "duration": 876,
    "start_time": "2023-03-10T21:04:56.330Z"
   },
   {
    "duration": 44,
    "start_time": "2023-03-10T21:04:57.208Z"
   },
   {
    "duration": 7,
    "start_time": "2023-03-10T21:04:57.254Z"
   },
   {
    "duration": 72,
    "start_time": "2023-03-10T21:04:57.263Z"
   },
   {
    "duration": 44,
    "start_time": "2023-03-10T21:04:57.339Z"
   },
   {
    "duration": 115,
    "start_time": "2023-03-10T21:04:57.388Z"
   },
   {
    "duration": 61,
    "start_time": "2023-03-10T21:04:57.511Z"
   },
   {
    "duration": 52,
    "start_time": "2023-03-10T21:04:57.574Z"
   },
   {
    "duration": 21,
    "start_time": "2023-03-10T21:04:57.629Z"
   },
   {
    "duration": 18,
    "start_time": "2023-03-10T21:04:57.652Z"
   },
   {
    "duration": 99,
    "start_time": "2023-03-10T21:04:57.671Z"
   },
   {
    "duration": 42,
    "start_time": "2023-03-10T21:04:57.778Z"
   },
   {
    "duration": 22,
    "start_time": "2023-03-10T21:04:57.822Z"
   },
   {
    "duration": 5878,
    "start_time": "2023-03-10T21:04:57.849Z"
   },
   {
    "duration": 88967,
    "start_time": "2023-03-10T21:05:03.729Z"
   },
   {
    "duration": 409,
    "start_time": "2023-03-10T21:06:32.707Z"
   },
   {
    "duration": 1566,
    "start_time": "2023-03-10T21:09:39.564Z"
   },
   {
    "duration": 885,
    "start_time": "2023-03-10T21:09:41.132Z"
   },
   {
    "duration": 29,
    "start_time": "2023-03-10T21:09:42.019Z"
   },
   {
    "duration": 47,
    "start_time": "2023-03-10T21:09:42.050Z"
   },
   {
    "duration": 28,
    "start_time": "2023-03-10T21:09:42.099Z"
   },
   {
    "duration": 4,
    "start_time": "2023-03-10T21:09:42.129Z"
   },
   {
    "duration": 12,
    "start_time": "2023-03-10T21:09:42.134Z"
   },
   {
    "duration": 11,
    "start_time": "2023-03-10T21:09:42.148Z"
   },
   {
    "duration": 57,
    "start_time": "2023-03-10T21:09:42.161Z"
   },
   {
    "duration": 9,
    "start_time": "2023-03-10T21:09:42.221Z"
   },
   {
    "duration": 290,
    "start_time": "2023-03-10T21:09:42.232Z"
   },
   {
    "duration": 532,
    "start_time": "2023-03-10T21:09:42.524Z"
   },
   {
    "duration": 5,
    "start_time": "2023-03-10T21:09:43.058Z"
   },
   {
    "duration": 49,
    "start_time": "2023-03-10T21:09:43.072Z"
   },
   {
    "duration": 1565,
    "start_time": "2023-03-10T21:09:43.123Z"
   },
   {
    "duration": 91,
    "start_time": "2023-03-10T21:09:44.690Z"
   },
   {
    "duration": 6,
    "start_time": "2023-03-10T21:09:44.782Z"
   },
   {
    "duration": 35,
    "start_time": "2023-03-10T21:09:44.790Z"
   },
   {
    "duration": 9,
    "start_time": "2023-03-10T21:09:44.827Z"
   },
   {
    "duration": 76,
    "start_time": "2023-03-10T21:09:44.838Z"
   },
   {
    "duration": 106,
    "start_time": "2023-03-10T21:09:44.916Z"
   },
   {
    "duration": 375,
    "start_time": "2023-03-10T21:09:45.023Z"
   },
   {
    "duration": 0,
    "start_time": "2023-03-10T21:09:45.401Z"
   },
   {
    "duration": 0,
    "start_time": "2023-03-10T21:09:45.402Z"
   },
   {
    "duration": 0,
    "start_time": "2023-03-10T21:09:45.407Z"
   },
   {
    "duration": 0,
    "start_time": "2023-03-10T21:09:45.410Z"
   },
   {
    "duration": 0,
    "start_time": "2023-03-10T21:09:45.411Z"
   },
   {
    "duration": 0,
    "start_time": "2023-03-10T21:09:45.413Z"
   },
   {
    "duration": 0,
    "start_time": "2023-03-10T21:09:45.414Z"
   },
   {
    "duration": 0,
    "start_time": "2023-03-10T21:09:45.419Z"
   },
   {
    "duration": 8,
    "start_time": "2023-03-10T21:10:02.306Z"
   },
   {
    "duration": 36,
    "start_time": "2023-03-10T21:10:05.367Z"
   },
   {
    "duration": 12,
    "start_time": "2023-03-10T21:10:08.022Z"
   },
   {
    "duration": 44,
    "start_time": "2023-03-10T21:10:09.920Z"
   },
   {
    "duration": 17,
    "start_time": "2023-03-10T21:11:03.293Z"
   },
   {
    "duration": 48,
    "start_time": "2023-03-10T21:11:04.802Z"
   },
   {
    "duration": 5,
    "start_time": "2023-03-10T21:11:22.661Z"
   },
   {
    "duration": 101,
    "start_time": "2023-03-10T21:11:50.331Z"
   },
   {
    "duration": 19,
    "start_time": "2023-03-10T21:18:02.228Z"
   },
   {
    "duration": 13,
    "start_time": "2023-03-10T21:26:04.294Z"
   },
   {
    "duration": 1511,
    "start_time": "2023-03-10T21:26:17.366Z"
   },
   {
    "duration": 1492,
    "start_time": "2023-03-10T21:26:18.888Z"
   },
   {
    "duration": 93,
    "start_time": "2023-03-10T21:26:20.383Z"
   },
   {
    "duration": 45,
    "start_time": "2023-03-10T21:26:20.478Z"
   },
   {
    "duration": 57,
    "start_time": "2023-03-10T21:26:20.525Z"
   },
   {
    "duration": 10,
    "start_time": "2023-03-10T21:26:20.584Z"
   },
   {
    "duration": 41,
    "start_time": "2023-03-10T21:26:20.602Z"
   },
   {
    "duration": 51,
    "start_time": "2023-03-10T21:26:20.645Z"
   },
   {
    "duration": 174,
    "start_time": "2023-03-10T21:26:20.701Z"
   },
   {
    "duration": 15,
    "start_time": "2023-03-10T21:26:20.879Z"
   },
   {
    "duration": 706,
    "start_time": "2023-03-10T21:26:20.896Z"
   },
   {
    "duration": 691,
    "start_time": "2023-03-10T21:26:21.606Z"
   },
   {
    "duration": 12,
    "start_time": "2023-03-10T21:26:22.300Z"
   },
   {
    "duration": 25,
    "start_time": "2023-03-10T21:26:22.317Z"
   },
   {
    "duration": 841,
    "start_time": "2023-03-10T21:26:22.345Z"
   },
   {
    "duration": 39,
    "start_time": "2023-03-10T21:26:23.188Z"
   },
   {
    "duration": 4,
    "start_time": "2023-03-10T21:26:23.228Z"
   },
   {
    "duration": 8,
    "start_time": "2023-03-10T21:26:23.233Z"
   },
   {
    "duration": 5,
    "start_time": "2023-03-10T21:26:23.243Z"
   },
   {
    "duration": 60,
    "start_time": "2023-03-10T21:26:23.249Z"
   },
   {
    "duration": 33,
    "start_time": "2023-03-10T21:26:23.311Z"
   },
   {
    "duration": 45,
    "start_time": "2023-03-10T21:26:23.346Z"
   },
   {
    "duration": 16,
    "start_time": "2023-03-10T21:26:23.397Z"
   },
   {
    "duration": 17,
    "start_time": "2023-03-10T21:26:23.419Z"
   },
   {
    "duration": 150,
    "start_time": "2023-03-10T21:26:23.438Z"
   },
   {
    "duration": 0,
    "start_time": "2023-03-10T21:26:23.591Z"
   },
   {
    "duration": 0,
    "start_time": "2023-03-10T21:26:23.592Z"
   },
   {
    "duration": 0,
    "start_time": "2023-03-10T21:26:23.593Z"
   },
   {
    "duration": 0,
    "start_time": "2023-03-10T21:26:23.594Z"
   },
   {
    "duration": 0,
    "start_time": "2023-03-10T21:26:23.595Z"
   },
   {
    "duration": 0,
    "start_time": "2023-03-10T21:26:23.596Z"
   },
   {
    "duration": 1493,
    "start_time": "2023-03-10T21:26:44.925Z"
   },
   {
    "duration": 936,
    "start_time": "2023-03-10T21:26:46.420Z"
   },
   {
    "duration": 36,
    "start_time": "2023-03-10T21:26:47.358Z"
   },
   {
    "duration": 26,
    "start_time": "2023-03-10T21:26:47.397Z"
   },
   {
    "duration": 10,
    "start_time": "2023-03-10T21:26:47.424Z"
   },
   {
    "duration": 4,
    "start_time": "2023-03-10T21:26:47.436Z"
   },
   {
    "duration": 33,
    "start_time": "2023-03-10T21:26:47.442Z"
   },
   {
    "duration": 50,
    "start_time": "2023-03-10T21:26:47.477Z"
   },
   {
    "duration": 41,
    "start_time": "2023-03-10T21:26:47.529Z"
   },
   {
    "duration": 18,
    "start_time": "2023-03-10T21:26:47.572Z"
   },
   {
    "duration": 307,
    "start_time": "2023-03-10T21:26:47.591Z"
   },
   {
    "duration": 567,
    "start_time": "2023-03-10T21:26:47.899Z"
   },
   {
    "duration": 22,
    "start_time": "2023-03-10T21:26:48.468Z"
   },
   {
    "duration": 22,
    "start_time": "2023-03-10T21:26:48.502Z"
   },
   {
    "duration": 836,
    "start_time": "2023-03-10T21:26:48.526Z"
   },
   {
    "duration": 49,
    "start_time": "2023-03-10T21:26:49.364Z"
   },
   {
    "duration": 5,
    "start_time": "2023-03-10T21:26:49.416Z"
   },
   {
    "duration": 143,
    "start_time": "2023-03-10T21:26:49.423Z"
   },
   {
    "duration": 0,
    "start_time": "2023-03-10T21:26:49.568Z"
   },
   {
    "duration": 0,
    "start_time": "2023-03-10T21:26:49.572Z"
   },
   {
    "duration": 0,
    "start_time": "2023-03-10T21:26:49.573Z"
   },
   {
    "duration": 0,
    "start_time": "2023-03-10T21:26:49.573Z"
   },
   {
    "duration": 0,
    "start_time": "2023-03-10T21:26:49.579Z"
   },
   {
    "duration": 0,
    "start_time": "2023-03-10T21:26:49.580Z"
   },
   {
    "duration": 0,
    "start_time": "2023-03-10T21:26:49.581Z"
   },
   {
    "duration": 0,
    "start_time": "2023-03-10T21:26:49.583Z"
   },
   {
    "duration": 0,
    "start_time": "2023-03-10T21:26:49.584Z"
   },
   {
    "duration": 0,
    "start_time": "2023-03-10T21:26:49.585Z"
   },
   {
    "duration": 0,
    "start_time": "2023-03-10T21:26:49.586Z"
   },
   {
    "duration": 0,
    "start_time": "2023-03-10T21:26:49.586Z"
   },
   {
    "duration": 0,
    "start_time": "2023-03-10T21:26:49.587Z"
   },
   {
    "duration": 13,
    "start_time": "2023-03-10T21:27:10.517Z"
   },
   {
    "duration": 10,
    "start_time": "2023-03-10T21:27:47.517Z"
   },
   {
    "duration": 14,
    "start_time": "2023-03-10T21:27:55.400Z"
   },
   {
    "duration": 8,
    "start_time": "2023-03-10T21:28:00.847Z"
   },
   {
    "duration": 4,
    "start_time": "2023-03-10T21:28:41.925Z"
   },
   {
    "duration": 8,
    "start_time": "2023-03-10T21:28:43.291Z"
   },
   {
    "duration": 26,
    "start_time": "2023-03-10T21:28:44.814Z"
   },
   {
    "duration": 45,
    "start_time": "2023-03-10T21:28:59.354Z"
   },
   {
    "duration": 20,
    "start_time": "2023-03-10T21:30:02.126Z"
   },
   {
    "duration": 14,
    "start_time": "2023-03-10T21:30:26.271Z"
   },
   {
    "duration": 11,
    "start_time": "2023-03-10T21:32:34.236Z"
   },
   {
    "duration": 16,
    "start_time": "2023-03-10T21:32:35.434Z"
   },
   {
    "duration": 15,
    "start_time": "2023-03-10T21:32:37.017Z"
   },
   {
    "duration": 17,
    "start_time": "2023-03-10T21:32:41.203Z"
   },
   {
    "duration": 129,
    "start_time": "2023-03-10T21:32:47.060Z"
   },
   {
    "duration": 4,
    "start_time": "2023-03-10T21:34:34.732Z"
   },
   {
    "duration": 20,
    "start_time": "2023-03-10T21:34:53.003Z"
   },
   {
    "duration": 88,
    "start_time": "2023-03-10T21:34:54.630Z"
   },
   {
    "duration": 1566,
    "start_time": "2023-03-10T21:35:32.904Z"
   },
   {
    "duration": 898,
    "start_time": "2023-03-10T21:35:34.473Z"
   },
   {
    "duration": 39,
    "start_time": "2023-03-10T21:35:35.372Z"
   },
   {
    "duration": 32,
    "start_time": "2023-03-10T21:35:35.420Z"
   },
   {
    "duration": 11,
    "start_time": "2023-03-10T21:35:35.454Z"
   },
   {
    "duration": 47,
    "start_time": "2023-03-10T21:35:35.467Z"
   },
   {
    "duration": 13,
    "start_time": "2023-03-10T21:35:35.516Z"
   },
   {
    "duration": 10,
    "start_time": "2023-03-10T21:35:35.531Z"
   },
   {
    "duration": 45,
    "start_time": "2023-03-10T21:35:35.542Z"
   },
   {
    "duration": 17,
    "start_time": "2023-03-10T21:35:35.592Z"
   },
   {
    "duration": 305,
    "start_time": "2023-03-10T21:35:35.610Z"
   },
   {
    "duration": 610,
    "start_time": "2023-03-10T21:35:35.917Z"
   },
   {
    "duration": 5,
    "start_time": "2023-03-10T21:35:36.528Z"
   },
   {
    "duration": 15,
    "start_time": "2023-03-10T21:35:36.537Z"
   },
   {
    "duration": 895,
    "start_time": "2023-03-10T21:35:36.554Z"
   },
   {
    "duration": 53,
    "start_time": "2023-03-10T21:35:37.451Z"
   },
   {
    "duration": 4,
    "start_time": "2023-03-10T21:35:37.505Z"
   },
   {
    "duration": 9,
    "start_time": "2023-03-10T21:35:37.511Z"
   },
   {
    "duration": 4,
    "start_time": "2023-03-10T21:35:37.522Z"
   },
   {
    "duration": 15,
    "start_time": "2023-03-10T21:35:37.528Z"
   },
   {
    "duration": 56,
    "start_time": "2023-03-10T21:35:37.544Z"
   },
   {
    "duration": 45,
    "start_time": "2023-03-10T21:35:37.602Z"
   },
   {
    "duration": 7,
    "start_time": "2023-03-10T21:35:37.648Z"
   },
   {
    "duration": 26,
    "start_time": "2023-03-10T21:35:37.657Z"
   },
   {
    "duration": 34,
    "start_time": "2023-03-10T21:35:37.684Z"
   },
   {
    "duration": 98,
    "start_time": "2023-03-10T21:35:37.720Z"
   },
   {
    "duration": 4,
    "start_time": "2023-03-10T21:35:37.820Z"
   },
   {
    "duration": 20,
    "start_time": "2023-03-10T21:35:37.826Z"
   },
   {
    "duration": 7955,
    "start_time": "2023-03-10T21:35:37.848Z"
   },
   {
    "duration": 86408,
    "start_time": "2023-03-10T21:35:45.812Z"
   },
   {
    "duration": 402,
    "start_time": "2023-03-10T21:37:12.223Z"
   },
   {
    "duration": 79,
    "start_time": "2023-03-10T21:38:04.625Z"
   },
   {
    "duration": 4,
    "start_time": "2023-03-10T21:40:25.517Z"
   },
   {
    "duration": 156,
    "start_time": "2023-03-10T21:41:01.146Z"
   },
   {
    "duration": 1508,
    "start_time": "2023-03-10T21:41:17.997Z"
   },
   {
    "duration": 878,
    "start_time": "2023-03-10T21:41:19.508Z"
   },
   {
    "duration": 43,
    "start_time": "2023-03-10T21:41:20.392Z"
   },
   {
    "duration": 31,
    "start_time": "2023-03-10T21:41:20.438Z"
   },
   {
    "duration": 44,
    "start_time": "2023-03-10T21:41:20.477Z"
   },
   {
    "duration": 11,
    "start_time": "2023-03-10T21:41:20.524Z"
   },
   {
    "duration": 17,
    "start_time": "2023-03-10T21:41:20.537Z"
   },
   {
    "duration": 24,
    "start_time": "2023-03-10T21:41:20.557Z"
   },
   {
    "duration": 86,
    "start_time": "2023-03-10T21:41:20.584Z"
   },
   {
    "duration": 21,
    "start_time": "2023-03-10T21:41:20.676Z"
   },
   {
    "duration": 310,
    "start_time": "2023-03-10T21:41:20.707Z"
   },
   {
    "duration": 537,
    "start_time": "2023-03-10T21:41:21.019Z"
   },
   {
    "duration": 5,
    "start_time": "2023-03-10T21:41:21.557Z"
   },
   {
    "duration": 24,
    "start_time": "2023-03-10T21:41:21.574Z"
   },
   {
    "duration": 838,
    "start_time": "2023-03-10T21:41:21.610Z"
   },
   {
    "duration": 60,
    "start_time": "2023-03-10T21:41:22.450Z"
   },
   {
    "duration": 4,
    "start_time": "2023-03-10T21:41:22.516Z"
   },
   {
    "duration": 12,
    "start_time": "2023-03-10T21:41:22.522Z"
   },
   {
    "duration": 5,
    "start_time": "2023-03-10T21:41:22.536Z"
   },
   {
    "duration": 12,
    "start_time": "2023-03-10T21:41:22.542Z"
   },
   {
    "duration": 42,
    "start_time": "2023-03-10T21:41:22.556Z"
   },
   {
    "duration": 43,
    "start_time": "2023-03-10T21:41:22.606Z"
   },
   {
    "duration": 7,
    "start_time": "2023-03-10T21:41:22.650Z"
   },
   {
    "duration": 165,
    "start_time": "2023-03-10T21:41:22.658Z"
   },
   {
    "duration": 0,
    "start_time": "2023-03-10T21:41:22.825Z"
   },
   {
    "duration": 0,
    "start_time": "2023-03-10T21:41:22.827Z"
   },
   {
    "duration": 0,
    "start_time": "2023-03-10T21:41:22.828Z"
   },
   {
    "duration": 0,
    "start_time": "2023-03-10T21:41:22.829Z"
   },
   {
    "duration": 0,
    "start_time": "2023-03-10T21:41:22.830Z"
   },
   {
    "duration": 0,
    "start_time": "2023-03-10T21:41:22.831Z"
   },
   {
    "duration": 19,
    "start_time": "2023-03-10T21:42:10.013Z"
   },
   {
    "duration": 20,
    "start_time": "2023-03-10T21:42:17.104Z"
   },
   {
    "duration": 21,
    "start_time": "2023-03-10T21:42:24.618Z"
   },
   {
    "duration": 37,
    "start_time": "2023-03-10T21:42:30.467Z"
   },
   {
    "duration": 10,
    "start_time": "2023-03-10T21:42:43.320Z"
   },
   {
    "duration": 86,
    "start_time": "2023-03-10T21:42:58.014Z"
   },
   {
    "duration": 4,
    "start_time": "2023-03-10T21:43:21.912Z"
   },
   {
    "duration": 7,
    "start_time": "2023-03-10T21:43:59.795Z"
   },
   {
    "duration": 5,
    "start_time": "2023-03-10T21:44:09.957Z"
   },
   {
    "duration": 1464,
    "start_time": "2023-03-10T21:54:26.168Z"
   },
   {
    "duration": 886,
    "start_time": "2023-03-10T21:54:27.634Z"
   },
   {
    "duration": 28,
    "start_time": "2023-03-10T21:54:28.521Z"
   },
   {
    "duration": 50,
    "start_time": "2023-03-10T21:54:28.552Z"
   },
   {
    "duration": 27,
    "start_time": "2023-03-10T21:54:28.609Z"
   },
   {
    "duration": 5,
    "start_time": "2023-03-10T21:54:28.638Z"
   },
   {
    "duration": 12,
    "start_time": "2023-03-10T21:54:28.644Z"
   },
   {
    "duration": 12,
    "start_time": "2023-03-10T21:54:28.658Z"
   },
   {
    "duration": 50,
    "start_time": "2023-03-10T21:54:28.679Z"
   },
   {
    "duration": 9,
    "start_time": "2023-03-10T21:54:28.732Z"
   },
   {
    "duration": 303,
    "start_time": "2023-03-10T21:54:28.744Z"
   },
   {
    "duration": 549,
    "start_time": "2023-03-10T21:54:29.049Z"
   },
   {
    "duration": 8,
    "start_time": "2023-03-10T21:54:29.600Z"
   },
   {
    "duration": 16,
    "start_time": "2023-03-10T21:54:29.614Z"
   },
   {
    "duration": 865,
    "start_time": "2023-03-10T21:54:29.633Z"
   },
   {
    "duration": 43,
    "start_time": "2023-03-10T21:54:30.500Z"
   },
   {
    "duration": 37,
    "start_time": "2023-03-10T21:54:30.546Z"
   },
   {
    "duration": 56,
    "start_time": "2023-03-10T21:54:30.591Z"
   },
   {
    "duration": 19,
    "start_time": "2023-03-10T21:54:30.649Z"
   },
   {
    "duration": 74,
    "start_time": "2023-03-10T21:54:30.671Z"
   },
   {
    "duration": 103,
    "start_time": "2023-03-10T21:54:30.748Z"
   },
   {
    "duration": 51,
    "start_time": "2023-03-10T21:54:30.854Z"
   },
   {
    "duration": 21,
    "start_time": "2023-03-10T21:54:30.912Z"
   },
   {
    "duration": 184,
    "start_time": "2023-03-10T21:54:30.935Z"
   },
   {
    "duration": 0,
    "start_time": "2023-03-10T21:54:31.121Z"
   },
   {
    "duration": 0,
    "start_time": "2023-03-10T21:54:31.123Z"
   },
   {
    "duration": 0,
    "start_time": "2023-03-10T21:54:31.124Z"
   },
   {
    "duration": 0,
    "start_time": "2023-03-10T21:54:31.125Z"
   },
   {
    "duration": 0,
    "start_time": "2023-03-10T21:54:31.126Z"
   },
   {
    "duration": 0,
    "start_time": "2023-03-10T21:54:31.127Z"
   },
   {
    "duration": 9,
    "start_time": "2023-03-10T21:55:03.111Z"
   },
   {
    "duration": 98,
    "start_time": "2023-03-10T21:55:04.927Z"
   },
   {
    "duration": 10,
    "start_time": "2023-03-10T21:55:21.350Z"
   },
   {
    "duration": 97,
    "start_time": "2023-03-10T21:55:24.404Z"
   },
   {
    "duration": 16,
    "start_time": "2023-03-10T21:55:36.871Z"
   },
   {
    "duration": 90,
    "start_time": "2023-03-10T21:55:38.705Z"
   },
   {
    "duration": 6,
    "start_time": "2023-03-10T21:55:46.312Z"
   },
   {
    "duration": 86,
    "start_time": "2023-03-10T21:55:48.238Z"
   },
   {
    "duration": 4,
    "start_time": "2023-03-10T21:55:59.523Z"
   },
   {
    "duration": 22,
    "start_time": "2023-03-10T21:56:07.026Z"
   },
   {
    "duration": 6632,
    "start_time": "2023-03-10T21:56:16.000Z"
   },
   {
    "duration": 117053,
    "start_time": "2023-03-10T21:56:24.561Z"
   },
   {
    "duration": 7,
    "start_time": "2023-03-10T21:58:26.099Z"
   },
   {
    "duration": 244978,
    "start_time": "2023-03-10T22:02:29.428Z"
   },
   {
    "duration": 14,
    "start_time": "2023-03-10T22:06:35.845Z"
   },
   {
    "duration": 20515,
    "start_time": "2023-03-10T22:07:01.505Z"
   },
   {
    "duration": 17410,
    "start_time": "2023-03-10T22:09:54.943Z"
   },
   {
    "duration": 326498,
    "start_time": "2023-03-10T22:10:14.736Z"
   },
   {
    "duration": 62215,
    "start_time": "2023-03-10T22:15:44.241Z"
   },
   {
    "duration": 35987,
    "start_time": "2023-03-10T22:16:47.420Z"
   },
   {
    "duration": 89,
    "start_time": "2023-03-10T22:18:35.768Z"
   },
   {
    "duration": 359006,
    "start_time": "2023-03-10T22:18:52.327Z"
   },
   {
    "duration": 684,
    "start_time": "2023-03-10T22:25:39.557Z"
   },
   {
    "duration": 11,
    "start_time": "2023-03-10T22:25:46.825Z"
   },
   {
    "duration": 5,
    "start_time": "2023-03-10T22:26:02.713Z"
   },
   {
    "duration": 11,
    "start_time": "2023-03-10T22:26:12.147Z"
   },
   {
    "duration": 11,
    "start_time": "2023-03-10T22:26:19.810Z"
   },
   {
    "duration": 1548,
    "start_time": "2023-03-10T22:27:18.557Z"
   },
   {
    "duration": 1061,
    "start_time": "2023-03-10T22:27:20.114Z"
   },
   {
    "duration": 46,
    "start_time": "2023-03-10T22:27:21.177Z"
   },
   {
    "duration": 84,
    "start_time": "2023-03-10T22:27:21.225Z"
   },
   {
    "duration": 19,
    "start_time": "2023-03-10T22:27:21.312Z"
   },
   {
    "duration": 54,
    "start_time": "2023-03-10T22:27:21.332Z"
   },
   {
    "duration": 41,
    "start_time": "2023-03-10T22:27:21.388Z"
   },
   {
    "duration": 13,
    "start_time": "2023-03-10T22:27:21.431Z"
   },
   {
    "duration": 77,
    "start_time": "2023-03-10T22:27:21.445Z"
   },
   {
    "duration": 13,
    "start_time": "2023-03-10T22:27:21.573Z"
   },
   {
    "duration": 717,
    "start_time": "2023-03-10T22:27:21.588Z"
   },
   {
    "duration": 1271,
    "start_time": "2023-03-10T22:27:22.307Z"
   },
   {
    "duration": 7,
    "start_time": "2023-03-10T22:27:23.583Z"
   },
   {
    "duration": 34,
    "start_time": "2023-03-10T22:27:23.592Z"
   },
   {
    "duration": 819,
    "start_time": "2023-03-10T22:27:23.628Z"
   },
   {
    "duration": 49,
    "start_time": "2023-03-10T22:27:24.448Z"
   },
   {
    "duration": 5,
    "start_time": "2023-03-10T22:27:24.509Z"
   },
   {
    "duration": 18,
    "start_time": "2023-03-10T22:27:24.516Z"
   },
   {
    "duration": 5,
    "start_time": "2023-03-10T22:27:24.537Z"
   },
   {
    "duration": 13,
    "start_time": "2023-03-10T22:27:24.544Z"
   },
   {
    "duration": 45,
    "start_time": "2023-03-10T22:27:24.558Z"
   },
   {
    "duration": 51,
    "start_time": "2023-03-10T22:27:24.611Z"
   },
   {
    "duration": 7,
    "start_time": "2023-03-10T22:27:24.664Z"
   },
   {
    "duration": 55,
    "start_time": "2023-03-10T22:27:24.672Z"
   },
   {
    "duration": 112,
    "start_time": "2023-03-10T22:27:24.729Z"
   },
   {
    "duration": 4,
    "start_time": "2023-03-10T22:27:24.843Z"
   },
   {
    "duration": 37,
    "start_time": "2023-03-10T22:27:24.848Z"
   },
   {
    "duration": 12124,
    "start_time": "2023-03-10T22:27:24.892Z"
   },
   {
    "duration": 1568,
    "start_time": "2023-03-10T22:29:40.741Z"
   },
   {
    "duration": 872,
    "start_time": "2023-03-10T22:29:42.315Z"
   },
   {
    "duration": 37,
    "start_time": "2023-03-10T22:29:43.188Z"
   },
   {
    "duration": 22,
    "start_time": "2023-03-10T22:29:43.229Z"
   },
   {
    "duration": 38,
    "start_time": "2023-03-10T22:29:43.253Z"
   },
   {
    "duration": 30,
    "start_time": "2023-03-10T22:29:43.302Z"
   },
   {
    "duration": 11,
    "start_time": "2023-03-10T22:29:43.334Z"
   },
   {
    "duration": 13,
    "start_time": "2023-03-10T22:29:43.347Z"
   },
   {
    "duration": 40,
    "start_time": "2023-03-10T22:29:43.362Z"
   },
   {
    "duration": 13,
    "start_time": "2023-03-10T22:29:43.405Z"
   },
   {
    "duration": 309,
    "start_time": "2023-03-10T22:29:43.420Z"
   },
   {
    "duration": 531,
    "start_time": "2023-03-10T22:29:43.731Z"
   },
   {
    "duration": 17,
    "start_time": "2023-03-10T22:29:44.264Z"
   },
   {
    "duration": 59,
    "start_time": "2023-03-10T22:29:44.283Z"
   },
   {
    "duration": 820,
    "start_time": "2023-03-10T22:29:44.350Z"
   },
   {
    "duration": 40,
    "start_time": "2023-03-10T22:29:45.173Z"
   },
   {
    "duration": 5,
    "start_time": "2023-03-10T22:29:45.216Z"
   },
   {
    "duration": 10,
    "start_time": "2023-03-10T22:29:45.223Z"
   },
   {
    "duration": 5,
    "start_time": "2023-03-10T22:29:45.235Z"
   },
   {
    "duration": 14,
    "start_time": "2023-03-10T22:29:45.241Z"
   },
   {
    "duration": 58,
    "start_time": "2023-03-10T22:29:45.277Z"
   },
   {
    "duration": 43,
    "start_time": "2023-03-10T22:29:45.337Z"
   },
   {
    "duration": 19,
    "start_time": "2023-03-10T22:29:45.385Z"
   },
   {
    "duration": 23,
    "start_time": "2023-03-10T22:29:45.408Z"
   },
   {
    "duration": 91,
    "start_time": "2023-03-10T22:29:45.433Z"
   },
   {
    "duration": 4,
    "start_time": "2023-03-10T22:29:45.526Z"
   },
   {
    "duration": 51,
    "start_time": "2023-03-10T22:29:45.532Z"
   },
   {
    "duration": 10798,
    "start_time": "2023-03-10T22:29:45.591Z"
   },
   {
    "duration": 351146,
    "start_time": "2023-03-10T22:29:56.399Z"
   },
   {
    "duration": 732,
    "start_time": "2023-03-10T22:35:47.548Z"
   },
   {
    "duration": 24,
    "start_time": "2023-03-10T22:35:48.282Z"
   },
   {
    "duration": 5,
    "start_time": "2023-03-10T22:37:19.925Z"
   },
   {
    "duration": 4,
    "start_time": "2023-03-10T22:38:11.046Z"
   },
   {
    "duration": 1542,
    "start_time": "2023-03-10T22:40:22.301Z"
   },
   {
    "duration": 938,
    "start_time": "2023-03-10T22:40:23.846Z"
   },
   {
    "duration": 35,
    "start_time": "2023-03-10T22:40:24.795Z"
   },
   {
    "duration": 22,
    "start_time": "2023-03-10T22:40:24.832Z"
   },
   {
    "duration": 31,
    "start_time": "2023-03-10T22:40:24.857Z"
   },
   {
    "duration": 5,
    "start_time": "2023-03-10T22:40:24.890Z"
   },
   {
    "duration": 36,
    "start_time": "2023-03-10T22:40:24.897Z"
   },
   {
    "duration": 8,
    "start_time": "2023-03-10T22:40:24.935Z"
   },
   {
    "duration": 36,
    "start_time": "2023-03-10T22:40:24.945Z"
   },
   {
    "duration": 13,
    "start_time": "2023-03-10T22:40:24.983Z"
   },
   {
    "duration": 309,
    "start_time": "2023-03-10T22:40:25.005Z"
   },
   {
    "duration": 579,
    "start_time": "2023-03-10T22:40:25.316Z"
   },
   {
    "duration": 5,
    "start_time": "2023-03-10T22:40:25.898Z"
   },
   {
    "duration": 24,
    "start_time": "2023-03-10T22:40:25.913Z"
   },
   {
    "duration": 865,
    "start_time": "2023-03-10T22:40:25.939Z"
   },
   {
    "duration": 42,
    "start_time": "2023-03-10T22:40:26.812Z"
   },
   {
    "duration": 4,
    "start_time": "2023-03-10T22:40:26.856Z"
   },
   {
    "duration": 39,
    "start_time": "2023-03-10T22:40:26.861Z"
   },
   {
    "duration": 27,
    "start_time": "2023-03-10T22:40:26.901Z"
   },
   {
    "duration": 17,
    "start_time": "2023-03-10T22:40:26.930Z"
   },
   {
    "duration": 33,
    "start_time": "2023-03-10T22:40:26.949Z"
   },
   {
    "duration": 51,
    "start_time": "2023-03-10T22:40:26.984Z"
   },
   {
    "duration": 6,
    "start_time": "2023-03-10T22:40:27.038Z"
   },
   {
    "duration": 16,
    "start_time": "2023-03-10T22:40:27.046Z"
   },
   {
    "duration": 101,
    "start_time": "2023-03-10T22:40:27.064Z"
   },
   {
    "duration": 10,
    "start_time": "2023-03-10T22:40:27.178Z"
   },
   {
    "duration": 57,
    "start_time": "2023-03-10T22:40:27.189Z"
   },
   {
    "duration": 9870,
    "start_time": "2023-03-10T22:40:27.248Z"
   },
   {
    "duration": 363984,
    "start_time": "2023-03-10T22:40:37.209Z"
   },
   {
    "duration": 11,
    "start_time": "2023-03-10T22:46:41.205Z"
   },
   {
    "duration": 699,
    "start_time": "2023-03-10T22:46:41.220Z"
   },
   {
    "duration": 13,
    "start_time": "2023-03-10T22:46:41.923Z"
   }
  ],
  "kernelspec": {
   "display_name": "Python 3 (ipykernel)",
   "language": "python",
   "name": "python3"
  },
  "language_info": {
   "codemirror_mode": {
    "name": "ipython",
    "version": 3
   },
   "file_extension": ".py",
   "mimetype": "text/x-python",
   "name": "python",
   "nbconvert_exporter": "python",
   "pygments_lexer": "ipython3",
   "version": "3.9.7"
  },
  "toc": {
   "base_numbering": 1,
   "nav_menu": {},
   "number_sections": true,
   "sideBar": true,
   "skip_h1_title": true,
   "title_cell": "Содержание",
   "title_sidebar": "Contents",
   "toc_cell": true,
   "toc_position": {
    "height": "calc(100% - 180px)",
    "left": "10px",
    "top": "150px",
    "width": "165px"
   },
   "toc_section_display": true,
   "toc_window_display": true
  }
 },
 "nbformat": 4,
 "nbformat_minor": 2
}
