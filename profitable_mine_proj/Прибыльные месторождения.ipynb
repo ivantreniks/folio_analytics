{
 "cells": [
  {
   "cell_type": "markdown",
   "metadata": {},
   "source": [
    "# Выбор локации для скважины"
   ]
  },
  {
   "cell_type": "markdown",
   "metadata": {},
   "source": [
    "Фирма «ГлавРосГосНефть» хочет понять, где бурить новую скважину.\n",
    "\n",
    "Предоставлены пробы нефти в трёх регионах: в каждом 10 000 месторождений, где измерили качество нефти и объём её запасов. \n",
    "\n",
    "Для предсказания построим модель машинного обучения, которая поможет определить регион, где добыча принесёт наибольшую прибыль. Проанализируем возможную прибыль и риски техникой *Bootstrap.*\n",
    "\n",
    "Шаги для выбора локации:\n",
    "\n",
    "- В избранном регионе ищут месторождения, для каждого определяют значения признаков;\n",
    "- Строят модель и оценивают объём запасов;\n",
    "- Выбирают месторождения с самым высокими оценками значений. Количество месторождений зависит от бюджета компании и стоимости разработки одной скважины;\n",
    "- Прибыль равна суммарной прибыли отобранных месторождений."
   ]
  },
  {
   "cell_type": "markdown",
   "metadata": {},
   "source": [
    "**Задача:** на основании данных о трех локациях для бурения скважин сделать вывод о наиболее выгодном варианте."
   ]
  },
  {
   "cell_type": "markdown",
   "metadata": {},
   "source": [
    "## Загрузка и подготовка данных"
   ]
  },
  {
   "cell_type": "code",
   "execution_count": 1,
   "metadata": {},
   "outputs": [],
   "source": [
    "import pandas as pd\n",
    "from sklearn.linear_model import LinearRegression\n",
    "from sklearn.model_selection import train_test_split\n",
    "from sklearn.metrics import mean_squared_error\n",
    "from numpy.random import RandomState\n",
    "from sklearn.preprocessing import StandardScaler\n",
    "from scipy import stats as st"
   ]
  },
  {
   "cell_type": "code",
   "execution_count": 2,
   "metadata": {},
   "outputs": [],
   "source": [
    "df0=pd.read_csv('/datasets/geo_data_0.csv')\n",
    "df1=pd.read_csv('/datasets/geo_data_1.csv')\n",
    "df2=pd.read_csv('/datasets/geo_data_2.csv')\n",
    "all_df=[df0,df1,df2]"
   ]
  },
  {
   "cell_type": "code",
   "execution_count": 3,
   "metadata": {},
   "outputs": [
    {
     "name": "stdout",
     "output_type": "stream",
     "text": [
      "<class 'pandas.core.frame.DataFrame'>\n",
      "RangeIndex: 100000 entries, 0 to 99999\n",
      "Data columns (total 5 columns):\n",
      " #   Column   Non-Null Count   Dtype  \n",
      "---  ------   --------------   -----  \n",
      " 0   id       100000 non-null  object \n",
      " 1   f0       100000 non-null  float64\n",
      " 2   f1       100000 non-null  float64\n",
      " 3   f2       100000 non-null  float64\n",
      " 4   product  100000 non-null  float64\n",
      "dtypes: float64(4), object(1)\n",
      "memory usage: 3.8+ MB\n",
      "<class 'pandas.core.frame.DataFrame'>\n",
      "RangeIndex: 100000 entries, 0 to 99999\n",
      "Data columns (total 5 columns):\n",
      " #   Column   Non-Null Count   Dtype  \n",
      "---  ------   --------------   -----  \n",
      " 0   id       100000 non-null  object \n",
      " 1   f0       100000 non-null  float64\n",
      " 2   f1       100000 non-null  float64\n",
      " 3   f2       100000 non-null  float64\n",
      " 4   product  100000 non-null  float64\n",
      "dtypes: float64(4), object(1)\n",
      "memory usage: 3.8+ MB\n",
      "<class 'pandas.core.frame.DataFrame'>\n",
      "RangeIndex: 100000 entries, 0 to 99999\n",
      "Data columns (total 5 columns):\n",
      " #   Column   Non-Null Count   Dtype  \n",
      "---  ------   --------------   -----  \n",
      " 0   id       100000 non-null  object \n",
      " 1   f0       100000 non-null  float64\n",
      " 2   f1       100000 non-null  float64\n",
      " 3   f2       100000 non-null  float64\n",
      " 4   product  100000 non-null  float64\n",
      "dtypes: float64(4), object(1)\n",
      "memory usage: 3.8+ MB\n",
      "None None None\n"
     ]
    }
   ],
   "source": [
    "print(df0.info(),df1.info(),df2.info())"
   ]
  },
  {
   "cell_type": "markdown",
   "metadata": {},
   "source": [
    "В данных отсутствуют пропуски, тип данных - числа с плавающей запятой."
   ]
  },
  {
   "cell_type": "code",
   "execution_count": 4,
   "metadata": {},
   "outputs": [
    {
     "name": "stdout",
     "output_type": "stream",
     "text": [
      "      id        f0        f1        f2     product\n",
      "0  txEyH  0.705745 -0.497823  1.221170  105.280062\n",
      "1  2acmU  1.334711 -0.340164  4.365080   73.037750\n",
      "2  409Wp  1.022732  0.151990  1.419926   85.265647\n",
      "3  iJLyR -0.032172  0.139033  2.978566  168.620776\n",
      "4  Xdl7t  1.988431  0.155413  4.751769  154.036647 \n",
      "       id         f0         f1        f2     product\n",
      "0  kBEdx -15.001348  -8.276000 -0.005876    3.179103\n",
      "1  62mP7  14.272088  -3.475083  0.999183   26.953261\n",
      "2  vyE1P   6.263187  -5.948386  5.001160  134.766305\n",
      "3  KcrkZ -13.081196 -11.506057  4.999415  137.945408\n",
      "4  AHL4O  12.702195  -8.147433  5.004363  134.766305 \n",
      "       id        f0        f1        f2     product\n",
      "0  fwXo0 -1.146987  0.963328 -0.828965   27.758673\n",
      "1  WJtFt  0.262778  0.269839 -2.530187   56.069697\n",
      "2  ovLUW  0.194587  0.289035 -5.586433   62.871910\n",
      "3  q6cA6  2.236060 -0.553760  0.930038  114.572842\n",
      "4  WPMUX -0.515993  1.716266  5.899011  149.600746\n"
     ]
    }
   ],
   "source": [
    "print(df0.head(),'\\n',df1.head(),'\\n',df2.head())"
   ]
  },
  {
   "cell_type": "markdown",
   "metadata": {},
   "source": [
    "Структура везде одинакова: сначала уникальный id, потом 3 признака и значение product"
   ]
  },
  {
   "cell_type": "code",
   "execution_count": 5,
   "metadata": {},
   "outputs": [
    {
     "name": "stdout",
     "output_type": "stream",
     "text": [
      "10\n",
      "4\n",
      "4\n"
     ]
    }
   ],
   "source": [
    "for i in all_df:\n",
    "    print(i[i.duplicated('id')==True]['id'].count())"
   ]
  },
  {
   "cell_type": "markdown",
   "metadata": {},
   "source": [
    "Дубликаты имеются, но их очень мало, меньше 0.1%. На них можно не обращать внимание."
   ]
  },
  {
   "cell_type": "code",
   "execution_count": 6,
   "metadata": {},
   "outputs": [
    {
     "name": "stdout",
     "output_type": "stream",
     "text": [
      "[[<AxesSubplot:title={'center':'f0'}> <AxesSubplot:title={'center':'f1'}>]\n",
      " [<AxesSubplot:title={'center':'f2'}>\n",
      "  <AxesSubplot:title={'center':'product'}>]]\n",
      "[[<AxesSubplot:title={'center':'f0'}> <AxesSubplot:title={'center':'f1'}>]\n",
      " [<AxesSubplot:title={'center':'f2'}>\n",
      "  <AxesSubplot:title={'center':'product'}>]]\n",
      "[[<AxesSubplot:title={'center':'f0'}> <AxesSubplot:title={'center':'f1'}>]\n",
      " [<AxesSubplot:title={'center':'f2'}>\n",
      "  <AxesSubplot:title={'center':'product'}>]]\n"
     ]
    },
    {
     "data": {
      "image/png": "[encoded data removed]",
      "text/plain": [
       "<Figure size 432x288 with 4 Axes>"
      ]
     },
     "metadata": {
      "needs_background": "light"
     },
     "output_type": "display_data"
    },
    {
     "data": {
      "image/png": "[encoded data removed]",
      "text/plain": [
       "<Figure size 432x288 with 4 Axes>"
      ]
     },
     "metadata": {
      "needs_background": "light"
     },
     "output_type": "display_data"
    },
    {
     "data": {
      "image/png": "[encoded data removed]",
      "text/plain": [
       "<Figure size 432x288 with 4 Axes>"
      ]
     },
     "metadata": {
      "needs_background": "light"
     },
     "output_type": "display_data"
    }
   ],
   "source": [
    "for i in all_df:\n",
    "    print(i.hist())"
   ]
  },
  {
   "cell_type": "code",
   "execution_count": 7,
   "metadata": {},
   "outputs": [
    {
     "name": "stdout",
     "output_type": "stream",
     "text": [
      "               f0        f1        f2   product\n",
      "f0       1.000000 -0.440723 -0.003153  0.143536\n",
      "f1      -0.440723  1.000000  0.001724 -0.192356\n",
      "f2      -0.003153  0.001724  1.000000  0.483663\n",
      "product  0.143536 -0.192356  0.483663  1.000000\n",
      "               f0        f1        f2   product\n",
      "f0       1.000000  0.182287 -0.001777 -0.030491\n",
      "f1       0.182287  1.000000 -0.002595 -0.010155\n",
      "f2      -0.001777 -0.002595  1.000000  0.999397\n",
      "product -0.030491 -0.010155  0.999397  1.000000\n",
      "               f0        f1        f2   product\n",
      "f0       1.000000  0.000528 -0.000448 -0.001987\n",
      "f1       0.000528  1.000000  0.000779 -0.001012\n",
      "f2      -0.000448  0.000779  1.000000  0.445871\n",
      "product -0.001987 -0.001012  0.445871  1.000000\n"
     ]
    }
   ],
   "source": [
    "for i in all_df:\n",
    "    print(i.corr())"
   ]
  },
  {
   "cell_type": "code",
   "execution_count": 8,
   "metadata": {
    "scrolled": false
   },
   "outputs": [
    {
     "data": {
      "image/png": "[encoded data removed]",
      "text/plain": [
       "<Figure size 432x288 with 16 Axes>"
      ]
     },
     "metadata": {
      "needs_background": "light"
     },
     "output_type": "display_data"
    },
    {
     "data": {
      "image/png": "[encoded data removed]",
      "text/plain": [
       "<Figure size 432x288 with 16 Axes>"
      ]
     },
     "metadata": {
      "needs_background": "light"
     },
     "output_type": "display_data"
    },
    {
     "data": {
      "image/png": "[encoded data removed]",
      "text/plain": [
       "<Figure size 432x288 with 16 Axes>"
      ]
     },
     "metadata": {
      "needs_background": "light"
     },
     "output_type": "display_data"
    }
   ],
   "source": [
    "for i in all_df:\n",
    "    pd.plotting.scatter_matrix(i)"
   ]
  },
  {
   "cell_type": "markdown",
   "metadata": {},
   "source": [
    "**Вывод**: в третьем датасете данные похожи на распределенные нормально. Кроме того, f2 в 0, f1 в 1 датасетах также похожи на нормальное распределение. Единственная важная корреляция - влияние фактора f2 на product во датасете с индексом 1."
   ]
  },
  {
   "cell_type": "markdown",
   "metadata": {},
   "source": [
    "## Обучение и проверка модели"
   ]
  },
  {
   "cell_type": "markdown",
   "metadata": {},
   "source": [
    "Обучим модель линейной регрессии, при этом заранее стандартизируем данные через StandardScaler. Посчитаем RMSE и средние значения."
   ]
  },
  {
   "cell_type": "code",
   "execution_count": 9,
   "metadata": {},
   "outputs": [
    {
     "name": "stdout",
     "output_type": "stream",
     "text": [
      "---------------\n",
      "info for reg: 0\n",
      "RMSE: 37.5794217150813 Mean value: 92.59256778438035\n",
      "--------------- \n",
      "\n",
      "---------------\n",
      "info for reg: 1\n",
      "RMSE: 0.893099286775617 Mean value: 68.728546895446\n",
      "--------------- \n",
      "\n",
      "---------------\n",
      "info for reg: 2\n",
      "RMSE: 40.02970873393434 Mean value: 94.96504596800489\n",
      "--------------- \n",
      "\n"
     ]
    }
   ],
   "source": [
    "reg_num=0\n",
    "list_res=[0,0,0]\n",
    "for i in all_df:\n",
    "    print('-'*15)\n",
    "    print('info for reg:',reg_num)\n",
    "    features=i.drop(['id','product'],axis=1)\n",
    "    target=i['product']\n",
    "\n",
    "    features_train,features_valid,target_train,target_valid=train_test_split(features,target,test_size=.25,random_state=12345)\n",
    "\n",
    "    scaler= StandardScaler()\n",
    "    scaler.fit(features_train)\n",
    "    features_train=scaler.transform(features_train)\n",
    "    features_valid=scaler.transform(features_valid)\n",
    "\n",
    "    \n",
    "    model=LinearRegression()\n",
    "    model.fit(features_train,target_train)\n",
    "    \n",
    "    prediction=model.predict(features_valid)\n",
    "    list_res[reg_num]=(pd.Series(prediction),target_valid.reset_index(drop=True))\n",
    "    print('RMSE:',mean_squared_error(prediction,target_valid)**(0.5),'Mean value:',prediction.mean())\n",
    "    reg_num+=1\n",
    "\n",
    "    print('-'*15,'\\n')\n"
   ]
  },
  {
   "cell_type": "markdown",
   "metadata": {},
   "source": [
    "**Вывод**: видим, что 0 и 2 локации частичто похожи друг на друга: у них близкие средние значения, а также корень квадратичной ошибки. На их фоне выделяется первая локация -- там распределение более кучное, но среднее значение ниже, чем у остальных. Возможно, там меньше выбросов"
   ]
  },
  {
   "cell_type": "markdown",
   "metadata": {},
   "source": [
    "## Подготовка к расчёту прибыли"
   ]
  },
  {
   "cell_type": "markdown",
   "metadata": {},
   "source": [
    "Сохраним ключевые значения в переменных."
   ]
  },
  {
   "cell_type": "code",
   "execution_count": 10,
   "metadata": {},
   "outputs": [],
   "source": [
    "n_pts=500 # кол-во точек\n",
    "n_best=200 # отборные лучшие точки\n",
    "budget=1e10 # траты на введение в эксплуатацию\n",
    "bar_price=450 # $ за баррель\n",
    "unit_rev=bar_price*1000 # $ за один лот, 1000 баррелей\n",
    "loss_prob=0.025 # 2.5%\n"
   ]
  },
  {
   "cell_type": "markdown",
   "metadata": {},
   "source": [
    "Вычислим, сколько запасов нужно иметь как минимум, чтобы окупить затраты на разработку."
   ]
  },
  {
   "cell_type": "code",
   "execution_count": 11,
   "metadata": {},
   "outputs": [
    {
     "name": "stdout",
     "output_type": "stream",
     "text": [
      "22222.222222222223\n"
     ]
    }
   ],
   "source": [
    "min_prof=budget/unit_rev\n",
    "print(min_prof)"
   ]
  },
  {
   "cell_type": "markdown",
   "metadata": {},
   "source": [
    "Среди наших отборных 200 скважин среднее значение запасов для прохождения точки безубыточности должно быть следующим:"
   ]
  },
  {
   "cell_type": "code",
   "execution_count": 12,
   "metadata": {},
   "outputs": [
    {
     "name": "stdout",
     "output_type": "stream",
     "text": [
      "111.11111111111111\n"
     ]
    }
   ],
   "source": [
    "mean_prof_best=min_prof/n_best\n",
    "print(mean_prof_best)"
   ]
  },
  {
   "cell_type": "markdown",
   "metadata": {},
   "source": [
    "У нас посчитаны лишь средние по всем точкам на локации, а здесь средние из 200 лучших. Пока мы не можем сравнивать значения, нужно выделить лучшие месторождения."
   ]
  },
  {
   "cell_type": "code",
   "execution_count": 13,
   "metadata": {},
   "outputs": [],
   "source": [
    "def profit_pred(prediction,target,n_best=n_best,unit_rev=unit_rev):\n",
    "    prediction=prediction.sort_values(ascending=False)[:n_best]\n",
    "    target=target[prediction.index]\n",
    "    profit=sum(target)*unit_rev\n",
    "    net_income=profit-budget\n",
    "    return net_income"
   ]
  },
  {
   "cell_type": "markdown",
   "metadata": {},
   "source": [
    "## Расчёт прибыли и рисков "
   ]
  },
  {
   "cell_type": "code",
   "execution_count": 14,
   "metadata": {},
   "outputs": [],
   "source": [
    "state=RandomState(12345)\n"
   ]
  },
  {
   "cell_type": "markdown",
   "metadata": {},
   "source": [
    "Применим бутстреп для 1000 выборов по 500 точек в каждой и выведем требуемую статистическую информацию."
   ]
  },
  {
   "cell_type": "code",
   "execution_count": 15,
   "metadata": {},
   "outputs": [],
   "source": [
    "def bootstrap_pred(target,predictions):\n",
    "    revenues=[]\n",
    "    for f in range(1000):\n",
    "        target_sampled=target.sample(n=500,replace=True,random_state=state)\n",
    "        pred_sampled=predictions[target_sampled.index]\n",
    "        revenues.append(profit_pred(pred_sampled,target_sampled))\n",
    "    revenues=pd.Series(revenues)\n",
    "    return revenues"
   ]
  },
  {
   "cell_type": "code",
   "execution_count": 16,
   "metadata": {},
   "outputs": [
    {
     "name": "stdout",
     "output_type": "stream",
     "text": [
      "----- STATISTICS FOR 0 -----\n",
      "mean value 600735244.2611659\n",
      "confidence interval 95% (12948331.135111189;1231163605.7914944)\n",
      "risk of losses 2.0%\n",
      "---------------------------- \n",
      "\n",
      "----- STATISTICS FOR 1 -----\n",
      "mean value 663958995.2602141\n",
      "confidence interval 95% (206476361.25178447;1191197684.7488778)\n",
      "risk of losses 0.1%\n",
      "---------------------------- \n",
      "\n",
      "----- STATISTICS FOR 2 -----\n",
      "mean value 597381047.9005234\n",
      "confidence interval 95% (1734929.5311778623;1246217960.165243)\n",
      "risk of losses 2.5%\n",
      "---------------------------- \n",
      "\n"
     ]
    }
   ],
   "source": [
    "for i in range(3):\n",
    "    print('-'*5,'STATISTICS FOR',i,'-'*5)\n",
    "    rev_final=bootstrap_pred(list_res[i][1],list_res[i][0])\n",
    "    print('mean value',rev_final.mean())\n",
    "    print('confidence interval 95%',f'({rev_final.quantile(.025)};{rev_final.quantile(.975)})')\n",
    "    print(f'risk of losses {st.percentileofscore(rev_final,0):.2}%')    \n",
    "    print('-'*28,'\\n')\n"
   ]
  },
  {
   "cell_type": "markdown",
   "metadata": {},
   "source": [
    "Итак, видим, что в регионе с индексом 1 **наибольшая** *средняя прибыль, **минимальный** риск убытков, наиболее **высокая** нижняя граница дов.интервала 95%*. Значит, локация **рекомендована** к разработкею"
   ]
  },
  {
   "cell_type": "markdown",
   "metadata": {},
   "source": [
    "**ВЫВОД**: на основании данных о трех локациях с различными параметрами с помощью модели линейной регрессии был сделан вывод о наиболее оптимальном (выгодном) расположении буровых установок. Регион с индексом 1 был выбран из-за малой вероятности убытков и большой средней прибыли. "
   ]
  },
  {
   "cell_type": "markdown",
   "metadata": {},
   "source": [
    "## Чек-лист готовности проекта"
   ]
  },
  {
   "cell_type": "markdown",
   "metadata": {},
   "source": [
    "Поставьте 'x' в выполненных пунктах. Далее нажмите Shift+Enter."
   ]
  },
  {
   "cell_type": "markdown",
   "metadata": {},
   "source": [
    "- [x]  Jupyter Notebook открыт\n",
    "- [x]  Весь код выполняется без ошибок\n",
    "- [x]  Ячейки с кодом расположены в порядке исполнения\n",
    "- [x]  Выполнен шаг 1: данные подготовлены\n",
    "- [x]  Выполнен шаг 2: модели обучены и проверены\n",
    "    - [x]  Данные корректно разбиты на обучающую и валидационную выборки\n",
    "    - [x]  Модели обучены, предсказания сделаны\n",
    "    - [x]  Предсказания и правильные ответы на валидационной выборке сохранены\n",
    "    - [x]  На экране напечатаны результаты\n",
    "    - [x]  Сделаны выводы\n",
    "- [x]  Выполнен шаг 3: проведена подготовка к расчёту прибыли\n",
    "    - [x]  Для всех ключевых значений созданы константы Python\n",
    "    - [x]  Посчитано минимальное среднее количество продукта в месторождениях региона, достаточное для разработки\n",
    "    - [x]  По предыдущему пункту сделаны выводы\n",
    "    - [x]  Написана функция расчёта прибыли\n",
    "- [x]  Выполнен шаг 4: посчитаны риски и прибыль\n",
    "    - [x]  Проведена процедура *Bootstrap*\n",
    "    - [x]  Все параметры бутстрепа соответствуют условию\n",
    "    - [x]  Найдены все нужные величины\n",
    "    - [x]  Предложен регион для разработки месторождения\n",
    "    - [x]  Выбор региона обоснован"
   ]
  }
 ],
 "metadata": {
  "ExecuteTimeLog": [
   {
    "duration": 2594,
    "start_time": "2023-03-07T18:08:17.726Z"
   },
   {
    "duration": 71,
    "start_time": "2023-03-07T18:09:22.068Z"
   },
   {
    "duration": 590,
    "start_time": "2023-03-07T18:09:43.177Z"
   },
   {
    "duration": 61,
    "start_time": "2023-03-07T18:09:43.926Z"
   },
   {
    "duration": 18,
    "start_time": "2023-03-07T18:10:18.637Z"
   },
   {
    "duration": 7,
    "start_time": "2023-03-07T18:10:22.018Z"
   },
   {
    "duration": 13,
    "start_time": "2023-03-07T18:10:36.429Z"
   },
   {
    "duration": 12,
    "start_time": "2023-03-07T18:10:50.799Z"
   },
   {
    "duration": 65,
    "start_time": "2023-03-07T18:12:09.772Z"
   },
   {
    "duration": 407,
    "start_time": "2023-03-07T18:12:15.794Z"
   },
   {
    "duration": 10,
    "start_time": "2023-03-07T18:12:19.424Z"
   },
   {
    "duration": 88,
    "start_time": "2023-03-07T18:12:27.690Z"
   },
   {
    "duration": 7,
    "start_time": "2023-03-07T18:12:29.881Z"
   },
   {
    "duration": 11,
    "start_time": "2023-03-07T18:13:07.935Z"
   },
   {
    "duration": 12,
    "start_time": "2023-03-07T18:13:09.354Z"
   },
   {
    "duration": 44,
    "start_time": "2023-03-07T18:13:18.957Z"
   },
   {
    "duration": 24,
    "start_time": "2023-03-07T18:13:25.635Z"
   },
   {
    "duration": 6,
    "start_time": "2023-03-07T18:13:35.234Z"
   },
   {
    "duration": 53,
    "start_time": "2023-03-07T18:14:16.051Z"
   },
   {
    "duration": 58,
    "start_time": "2023-03-07T18:14:32.721Z"
   },
   {
    "duration": 65,
    "start_time": "2023-03-07T18:14:37.111Z"
   },
   {
    "duration": 74,
    "start_time": "2023-03-07T18:14:46.606Z"
   },
   {
    "duration": 6,
    "start_time": "2023-03-07T18:15:09.455Z"
   },
   {
    "duration": 81,
    "start_time": "2023-03-07T18:15:25.668Z"
   },
   {
    "duration": 35,
    "start_time": "2023-03-07T18:15:33.222Z"
   },
   {
    "duration": 57,
    "start_time": "2023-03-07T18:17:53.212Z"
   },
   {
    "duration": 3,
    "start_time": "2023-03-07T18:18:09.693Z"
   },
   {
    "duration": 56,
    "start_time": "2023-03-07T18:18:22.851Z"
   },
   {
    "duration": 136,
    "start_time": "2023-03-07T18:19:26.112Z"
   },
   {
    "duration": 124,
    "start_time": "2023-03-07T18:19:39.562Z"
   },
   {
    "duration": 120,
    "start_time": "2023-03-07T18:19:49.273Z"
   },
   {
    "duration": 128,
    "start_time": "2023-03-07T18:20:00.284Z"
   },
   {
    "duration": 1381,
    "start_time": "2023-03-07T18:24:47.378Z"
   },
   {
    "duration": 389,
    "start_time": "2023-03-07T18:26:09.889Z"
   },
   {
    "duration": 61,
    "start_time": "2023-03-07T18:27:30.687Z"
   },
   {
    "duration": 12,
    "start_time": "2023-03-07T18:27:35.975Z"
   },
   {
    "duration": 20,
    "start_time": "2023-03-07T18:27:59.128Z"
   },
   {
    "duration": 46,
    "start_time": "2023-03-07T18:29:21.390Z"
   },
   {
    "duration": 467,
    "start_time": "2023-03-07T18:42:07.326Z"
   },
   {
    "duration": 112,
    "start_time": "2023-03-07T18:44:53.265Z"
   },
   {
    "duration": 229,
    "start_time": "2023-03-07T18:45:11.734Z"
   },
   {
    "duration": 11,
    "start_time": "2023-03-07T18:45:28.021Z"
   },
   {
    "duration": 401,
    "start_time": "2023-03-07T18:46:24.861Z"
   },
   {
    "duration": 234,
    "start_time": "2023-03-07T18:47:54.424Z"
   },
   {
    "duration": 4,
    "start_time": "2023-03-07T18:51:13.581Z"
   },
   {
    "duration": 3,
    "start_time": "2023-03-07T18:55:05.085Z"
   },
   {
    "duration": 2,
    "start_time": "2023-03-07T18:55:46.516Z"
   },
   {
    "duration": 3,
    "start_time": "2023-03-07T18:55:52.090Z"
   },
   {
    "duration": 3,
    "start_time": "2023-03-07T19:00:56.408Z"
   },
   {
    "duration": 4,
    "start_time": "2023-03-07T19:01:03.670Z"
   },
   {
    "duration": 354,
    "start_time": "2023-03-07T19:04:29.890Z"
   },
   {
    "duration": 7,
    "start_time": "2023-03-07T19:04:39.400Z"
   },
   {
    "duration": 65,
    "start_time": "2023-03-07T19:05:11.681Z"
   },
   {
    "duration": 121,
    "start_time": "2023-03-07T19:05:15.322Z"
   },
   {
    "duration": 4,
    "start_time": "2023-03-07T19:05:41.077Z"
   },
   {
    "duration": 329,
    "start_time": "2023-03-07T19:05:45.420Z"
   },
   {
    "duration": 7,
    "start_time": "2023-03-07T19:05:51.368Z"
   },
   {
    "duration": 79,
    "start_time": "2023-03-07T19:06:00.675Z"
   },
   {
    "duration": 7,
    "start_time": "2023-03-07T19:06:11.472Z"
   },
   {
    "duration": 3,
    "start_time": "2023-03-07T19:28:19.687Z"
   },
   {
    "duration": 91,
    "start_time": "2023-03-07T19:28:28.832Z"
   },
   {
    "duration": 3,
    "start_time": "2023-03-07T19:28:34.512Z"
   },
   {
    "duration": 3,
    "start_time": "2023-03-07T19:28:45.101Z"
   },
   {
    "duration": 3,
    "start_time": "2023-03-07T19:29:24.844Z"
   },
   {
    "duration": 3,
    "start_time": "2023-03-07T19:31:07.639Z"
   },
   {
    "duration": 12,
    "start_time": "2023-03-07T19:31:09.697Z"
   },
   {
    "duration": 371,
    "start_time": "2023-03-07T19:32:16.474Z"
   },
   {
    "duration": 11,
    "start_time": "2023-03-07T19:32:18.527Z"
   },
   {
    "duration": 4,
    "start_time": "2023-03-07T19:32:25.585Z"
   },
   {
    "duration": 22,
    "start_time": "2023-03-07T19:32:27.945Z"
   },
   {
    "duration": 3,
    "start_time": "2023-03-07T19:33:24.793Z"
   },
   {
    "duration": 21,
    "start_time": "2023-03-07T19:33:26.606Z"
   },
   {
    "duration": 1445,
    "start_time": "2023-03-07T19:36:18.949Z"
   },
   {
    "duration": 52,
    "start_time": "2023-03-07T19:36:20.399Z"
   },
   {
    "duration": 13,
    "start_time": "2023-03-07T19:36:20.453Z"
   },
   {
    "duration": 148,
    "start_time": "2023-03-07T19:36:20.467Z"
   },
   {
    "duration": 151,
    "start_time": "2023-03-07T19:36:20.616Z"
   },
   {
    "duration": 1,
    "start_time": "2023-03-07T19:36:20.769Z"
   },
   {
    "duration": 0,
    "start_time": "2023-03-07T19:36:20.771Z"
   },
   {
    "duration": 0,
    "start_time": "2023-03-07T19:36:20.772Z"
   },
   {
    "duration": 0,
    "start_time": "2023-03-07T19:36:20.773Z"
   },
   {
    "duration": 0,
    "start_time": "2023-03-07T19:36:20.774Z"
   },
   {
    "duration": 0,
    "start_time": "2023-03-07T19:36:20.775Z"
   },
   {
    "duration": 0,
    "start_time": "2023-03-07T19:36:20.776Z"
   },
   {
    "duration": 1405,
    "start_time": "2023-03-07T19:36:38.189Z"
   },
   {
    "duration": 45,
    "start_time": "2023-03-07T19:36:39.596Z"
   },
   {
    "duration": 13,
    "start_time": "2023-03-07T19:36:39.644Z"
   },
   {
    "duration": 149,
    "start_time": "2023-03-07T19:36:39.659Z"
   },
   {
    "duration": 446,
    "start_time": "2023-03-07T19:36:39.810Z"
   },
   {
    "duration": 99,
    "start_time": "2023-03-07T19:36:40.349Z"
   },
   {
    "duration": 6,
    "start_time": "2023-03-07T19:36:40.450Z"
   },
   {
    "duration": 9,
    "start_time": "2023-03-07T19:36:40.458Z"
   },
   {
    "duration": 3,
    "start_time": "2023-03-07T19:36:40.469Z"
   },
   {
    "duration": 4,
    "start_time": "2023-03-07T19:36:40.475Z"
   },
   {
    "duration": 117,
    "start_time": "2023-03-07T19:36:40.480Z"
   },
   {
    "duration": 3,
    "start_time": "2023-03-07T19:41:59.880Z"
   },
   {
    "duration": 14,
    "start_time": "2023-03-07T19:42:02.094Z"
   },
   {
    "duration": 3,
    "start_time": "2023-03-07T19:42:19.230Z"
   },
   {
    "duration": 11,
    "start_time": "2023-03-07T19:42:22.129Z"
   },
   {
    "duration": 3,
    "start_time": "2023-03-07T19:51:36.506Z"
   },
   {
    "duration": 9,
    "start_time": "2023-03-07T19:51:38.132Z"
   },
   {
    "duration": 119,
    "start_time": "2023-03-07T20:03:04.731Z"
   },
   {
    "duration": 334,
    "start_time": "2023-03-07T20:03:15.721Z"
   },
   {
    "duration": 259,
    "start_time": "2023-03-07T20:04:50.897Z"
   },
   {
    "duration": 11,
    "start_time": "2023-03-07T20:05:17.886Z"
   },
   {
    "duration": 355,
    "start_time": "2023-03-07T20:08:26.394Z"
   },
   {
    "duration": 8,
    "start_time": "2023-03-07T20:08:29.271Z"
   },
   {
    "duration": 3,
    "start_time": "2023-03-07T20:08:36.599Z"
   },
   {
    "duration": 3,
    "start_time": "2023-03-07T20:08:49.375Z"
   },
   {
    "duration": 10,
    "start_time": "2023-03-07T20:08:51.758Z"
   },
   {
    "duration": 4,
    "start_time": "2023-03-07T20:09:08.050Z"
   },
   {
    "duration": 9,
    "start_time": "2023-03-07T20:09:09.512Z"
   },
   {
    "duration": 3,
    "start_time": "2023-03-07T20:09:39.177Z"
   },
   {
    "duration": 10,
    "start_time": "2023-03-07T20:09:40.791Z"
   },
   {
    "duration": 4,
    "start_time": "2023-03-07T20:10:22.759Z"
   },
   {
    "duration": 11,
    "start_time": "2023-03-07T20:10:24.238Z"
   },
   {
    "duration": 4,
    "start_time": "2023-03-07T20:12:12.396Z"
   },
   {
    "duration": 11,
    "start_time": "2023-03-07T20:12:13.742Z"
   },
   {
    "duration": 3,
    "start_time": "2023-03-07T20:12:26.311Z"
   },
   {
    "duration": 8,
    "start_time": "2023-03-07T20:12:27.746Z"
   },
   {
    "duration": 3,
    "start_time": "2023-03-07T20:13:20.067Z"
   },
   {
    "duration": 7,
    "start_time": "2023-03-07T20:13:21.292Z"
   },
   {
    "duration": 3,
    "start_time": "2023-03-07T20:18:56.254Z"
   },
   {
    "duration": 100,
    "start_time": "2023-03-07T20:19:02.660Z"
   },
   {
    "duration": 84,
    "start_time": "2023-03-07T20:19:56.730Z"
   },
   {
    "duration": 81,
    "start_time": "2023-03-07T20:20:06.425Z"
   },
   {
    "duration": 13,
    "start_time": "2023-03-07T20:20:15.967Z"
   },
   {
    "duration": 13,
    "start_time": "2023-03-07T20:20:30.158Z"
   },
   {
    "duration": 384,
    "start_time": "2023-03-07T20:24:20.239Z"
   },
   {
    "duration": 9,
    "start_time": "2023-03-07T20:24:28.680Z"
   },
   {
    "duration": 8,
    "start_time": "2023-03-07T20:24:38.128Z"
   },
   {
    "duration": 3,
    "start_time": "2023-03-07T20:24:42.888Z"
   },
   {
    "duration": 3,
    "start_time": "2023-03-07T20:31:26.360Z"
   },
   {
    "duration": 1207,
    "start_time": "2023-03-07T20:32:14.608Z"
   },
   {
    "duration": 4,
    "start_time": "2023-03-07T20:32:55.578Z"
   },
   {
    "duration": 1244,
    "start_time": "2023-03-07T20:33:44.256Z"
   },
   {
    "duration": 3,
    "start_time": "2023-03-07T20:33:59.353Z"
   },
   {
    "duration": 1037,
    "start_time": "2023-03-07T20:34:01.064Z"
   },
   {
    "duration": 4,
    "start_time": "2023-03-07T20:34:30.747Z"
   },
   {
    "duration": 12,
    "start_time": "2023-03-07T20:34:32.209Z"
   },
   {
    "duration": 1010,
    "start_time": "2023-03-07T20:34:58.723Z"
   },
   {
    "duration": 1148,
    "start_time": "2023-03-07T20:35:16.810Z"
   },
   {
    "duration": 4,
    "start_time": "2023-03-07T20:36:20.265Z"
   },
   {
    "duration": 1025,
    "start_time": "2023-03-07T20:36:21.831Z"
   },
   {
    "duration": 3094,
    "start_time": "2023-03-07T20:37:43.433Z"
   },
   {
    "duration": 3234,
    "start_time": "2023-03-07T20:37:50.343Z"
   },
   {
    "duration": 3124,
    "start_time": "2023-03-07T20:39:33.361Z"
   },
   {
    "duration": 2954,
    "start_time": "2023-03-07T20:39:38.273Z"
   },
   {
    "duration": 3044,
    "start_time": "2023-03-07T20:39:53.822Z"
   },
   {
    "duration": 3116,
    "start_time": "2023-03-07T20:40:53.469Z"
   },
   {
    "duration": 1016,
    "start_time": "2023-03-07T20:46:48.212Z"
   },
   {
    "duration": 458,
    "start_time": "2023-03-07T20:47:21.655Z"
   },
   {
    "duration": 1209,
    "start_time": "2023-03-07T20:47:27.373Z"
   },
   {
    "duration": 403,
    "start_time": "2023-03-07T20:47:34.904Z"
   },
   {
    "duration": 3213,
    "start_time": "2023-03-07T20:47:39.114Z"
   },
   {
    "duration": 73,
    "start_time": "2023-03-07T20:48:08.855Z"
   },
   {
    "duration": 72,
    "start_time": "2023-03-07T20:49:27.488Z"
   },
   {
    "duration": 72,
    "start_time": "2023-03-07T20:49:35.604Z"
   },
   {
    "duration": 2904,
    "start_time": "2023-03-07T20:50:38.728Z"
   },
   {
    "duration": 3084,
    "start_time": "2023-03-07T20:50:46.639Z"
   },
   {
    "duration": 3033,
    "start_time": "2023-03-07T20:51:29.305Z"
   },
   {
    "duration": 3132,
    "start_time": "2023-03-07T20:51:34.950Z"
   },
   {
    "duration": 2978,
    "start_time": "2023-03-07T20:51:52.094Z"
   },
   {
    "duration": 3175,
    "start_time": "2023-03-07T20:52:16.947Z"
   },
   {
    "duration": 3104,
    "start_time": "2023-03-07T20:52:27.073Z"
   },
   {
    "duration": 3096,
    "start_time": "2023-03-07T20:52:34.005Z"
   },
   {
    "duration": 2998,
    "start_time": "2023-03-07T20:52:40.375Z"
   },
   {
    "duration": 381,
    "start_time": "2023-03-07T20:55:48.592Z"
   },
   {
    "duration": 26,
    "start_time": "2023-03-07T20:56:06.064Z"
   },
   {
    "duration": 1528,
    "start_time": "2023-03-07T21:03:58.328Z"
   },
   {
    "duration": 38,
    "start_time": "2023-03-07T21:03:59.858Z"
   },
   {
    "duration": 12,
    "start_time": "2023-03-07T21:03:59.898Z"
   },
   {
    "duration": 443,
    "start_time": "2023-03-07T21:03:59.911Z"
   },
   {
    "duration": 90,
    "start_time": "2023-03-07T21:04:00.357Z"
   },
   {
    "duration": 122,
    "start_time": "2023-03-07T21:04:00.449Z"
   },
   {
    "duration": 49,
    "start_time": "2023-03-07T21:04:00.573Z"
   },
   {
    "duration": 19,
    "start_time": "2023-03-07T21:04:00.624Z"
   },
   {
    "duration": 23,
    "start_time": "2023-03-07T21:04:00.644Z"
   },
   {
    "duration": 40,
    "start_time": "2023-03-07T21:04:00.669Z"
   },
   {
    "duration": 37,
    "start_time": "2023-03-07T21:04:00.711Z"
   },
   {
    "duration": 43,
    "start_time": "2023-03-07T21:04:00.750Z"
   },
   {
    "duration": 2990,
    "start_time": "2023-03-07T21:04:00.795Z"
   },
   {
    "duration": 3036,
    "start_time": "2023-03-07T21:06:59.371Z"
   },
   {
    "duration": 1482,
    "start_time": "2023-03-07T21:11:33.054Z"
   },
   {
    "duration": 36,
    "start_time": "2023-03-07T21:11:34.540Z"
   },
   {
    "duration": 12,
    "start_time": "2023-03-07T21:11:34.580Z"
   },
   {
    "duration": 460,
    "start_time": "2023-03-07T21:11:34.594Z"
   },
   {
    "duration": 186,
    "start_time": "2023-03-07T21:11:35.056Z"
   },
   {
    "duration": 3,
    "start_time": "2023-03-07T21:11:35.243Z"
   },
   {
    "duration": 6,
    "start_time": "2023-03-07T21:11:35.248Z"
   },
   {
    "duration": 3,
    "start_time": "2023-03-07T21:11:35.256Z"
   },
   {
    "duration": 4,
    "start_time": "2023-03-07T21:11:35.262Z"
   },
   {
    "duration": 14,
    "start_time": "2023-03-07T21:11:35.267Z"
   },
   {
    "duration": 3,
    "start_time": "2023-03-07T21:11:35.283Z"
   },
   {
    "duration": 4,
    "start_time": "2023-03-07T21:11:35.288Z"
   },
   {
    "duration": 3265,
    "start_time": "2023-03-07T21:11:35.293Z"
   },
   {
    "duration": 3020,
    "start_time": "2023-03-07T21:20:12.158Z"
   },
   {
    "duration": 3026,
    "start_time": "2023-03-07T21:20:47.605Z"
   },
   {
    "duration": 3082,
    "start_time": "2023-03-07T21:20:56.645Z"
   },
   {
    "duration": 1523,
    "start_time": "2023-03-07T21:46:29.810Z"
   },
   {
    "duration": 41,
    "start_time": "2023-03-07T21:46:31.335Z"
   },
   {
    "duration": 14,
    "start_time": "2023-03-07T21:46:31.380Z"
   },
   {
    "duration": 452,
    "start_time": "2023-03-07T21:46:31.396Z"
   },
   {
    "duration": 5,
    "start_time": "2023-03-07T21:46:31.850Z"
   },
   {
    "duration": 97,
    "start_time": "2023-03-07T21:46:31.946Z"
   },
   {
    "duration": 19,
    "start_time": "2023-03-07T21:46:32.046Z"
   },
   {
    "duration": 12,
    "start_time": "2023-03-07T21:46:32.067Z"
   },
   {
    "duration": 17,
    "start_time": "2023-03-07T21:46:32.082Z"
   },
   {
    "duration": 8,
    "start_time": "2023-03-07T21:46:32.101Z"
   },
   {
    "duration": 2994,
    "start_time": "2023-03-07T21:46:32.112Z"
   },
   {
    "duration": 2614,
    "start_time": "2023-03-08T07:55:45.665Z"
   },
   {
    "duration": 35,
    "start_time": "2023-03-08T07:55:48.281Z"
   },
   {
    "duration": 15,
    "start_time": "2023-03-08T07:55:48.319Z"
   },
   {
    "duration": 419,
    "start_time": "2023-03-08T07:55:48.336Z"
   },
   {
    "duration": 75,
    "start_time": "2023-03-08T07:55:48.757Z"
   },
   {
    "duration": 119,
    "start_time": "2023-03-08T07:55:48.836Z"
   },
   {
    "duration": 6,
    "start_time": "2023-03-08T07:55:48.956Z"
   },
   {
    "duration": 15,
    "start_time": "2023-03-08T07:55:48.964Z"
   },
   {
    "duration": 7,
    "start_time": "2023-03-08T07:55:48.980Z"
   },
   {
    "duration": 14,
    "start_time": "2023-03-08T07:55:48.989Z"
   },
   {
    "duration": 3277,
    "start_time": "2023-03-08T07:55:49.004Z"
   },
   {
    "duration": 5,
    "start_time": "2023-03-08T07:56:20.490Z"
   },
   {
    "duration": 3354,
    "start_time": "2023-03-08T07:56:22.869Z"
   },
   {
    "duration": 3415,
    "start_time": "2023-03-08T07:57:25.068Z"
   },
   {
    "duration": 14,
    "start_time": "2023-03-08T07:58:47.547Z"
   },
   {
    "duration": 6,
    "start_time": "2023-03-08T07:58:59.247Z"
   },
   {
    "duration": 3295,
    "start_time": "2023-03-08T08:00:19.595Z"
   },
   {
    "duration": 3353,
    "start_time": "2023-03-08T08:00:40.128Z"
   },
   {
    "duration": 2048,
    "start_time": "2023-03-08T08:04:06.887Z"
   },
   {
    "duration": 42,
    "start_time": "2023-03-08T08:04:08.938Z"
   },
   {
    "duration": 17,
    "start_time": "2023-03-08T08:04:08.983Z"
   },
   {
    "duration": 345,
    "start_time": "2023-03-08T08:04:09.002Z"
   },
   {
    "duration": 4,
    "start_time": "2023-03-08T08:04:09.350Z"
   },
   {
    "duration": 194,
    "start_time": "2023-03-08T08:04:09.356Z"
   },
   {
    "duration": 14,
    "start_time": "2023-03-08T08:04:09.552Z"
   },
   {
    "duration": 28,
    "start_time": "2023-03-08T08:04:09.567Z"
   },
   {
    "duration": 16,
    "start_time": "2023-03-08T08:04:09.597Z"
   },
   {
    "duration": 32,
    "start_time": "2023-03-08T08:04:09.615Z"
   },
   {
    "duration": 3328,
    "start_time": "2023-03-08T08:04:09.649Z"
   },
   {
    "duration": 421,
    "start_time": "2023-03-08T13:15:02.012Z"
   },
   {
    "duration": 70,
    "start_time": "2023-03-08T13:15:04.260Z"
   },
   {
    "duration": 47,
    "start_time": "2023-03-08T13:16:41.427Z"
   },
   {
    "duration": 1156,
    "start_time": "2023-03-08T13:16:53.860Z"
   },
   {
    "duration": 931,
    "start_time": "2023-03-08T13:16:55.333Z"
   },
   {
    "duration": 47,
    "start_time": "2023-03-08T13:16:57.454Z"
   },
   {
    "duration": 16,
    "start_time": "2023-03-08T13:16:59.497Z"
   },
   {
    "duration": 1786,
    "start_time": "2023-03-08T13:17:01.144Z"
   },
   {
    "duration": 547,
    "start_time": "2023-03-08T13:17:28.445Z"
   },
   {
    "duration": 1301,
    "start_time": "2023-03-08T13:17:36.321Z"
   },
   {
    "duration": 38,
    "start_time": "2023-03-08T13:18:29.805Z"
   },
   {
    "duration": 48,
    "start_time": "2023-03-08T13:19:01.975Z"
   },
   {
    "duration": 17,
    "start_time": "2023-03-08T13:19:53.415Z"
   },
   {
    "duration": 152,
    "start_time": "2023-03-08T13:20:03.268Z"
   },
   {
    "duration": 18,
    "start_time": "2023-03-08T13:20:32.652Z"
   },
   {
    "duration": 14,
    "start_time": "2023-03-08T13:20:45.181Z"
   },
   {
    "duration": 14850,
    "start_time": "2023-03-08T13:20:48.473Z"
   },
   {
    "duration": 99,
    "start_time": "2023-03-08T13:26:56.028Z"
   },
   {
    "duration": 109,
    "start_time": "2023-03-08T13:27:09.329Z"
   },
   {
    "duration": 106,
    "start_time": "2023-03-08T13:27:18.321Z"
   },
   {
    "duration": 43,
    "start_time": "2023-03-08T13:27:42.589Z"
   },
   {
    "duration": 66,
    "start_time": "2023-03-08T13:27:53.773Z"
   },
   {
    "duration": 79,
    "start_time": "2023-03-08T13:28:05.426Z"
   },
   {
    "duration": 7,
    "start_time": "2023-03-08T13:31:16.192Z"
   },
   {
    "duration": 1351,
    "start_time": "2023-03-08T13:35:00.223Z"
   },
   {
    "duration": 524,
    "start_time": "2023-03-08T13:35:01.578Z"
   },
   {
    "duration": 48,
    "start_time": "2023-03-08T13:35:02.105Z"
   },
   {
    "duration": 30,
    "start_time": "2023-03-08T13:35:02.156Z"
   },
   {
    "duration": 123,
    "start_time": "2023-03-08T13:35:02.188Z"
   },
   {
    "duration": 1831,
    "start_time": "2023-03-08T13:35:02.314Z"
   },
   {
    "duration": 71,
    "start_time": "2023-03-08T13:35:04.148Z"
   },
   {
    "duration": 20700,
    "start_time": "2023-03-08T13:35:04.223Z"
   },
   {
    "duration": 554,
    "start_time": "2023-03-08T13:35:24.925Z"
   },
   {
    "duration": 7,
    "start_time": "2023-03-08T13:35:25.489Z"
   },
   {
    "duration": 22,
    "start_time": "2023-03-08T13:35:25.579Z"
   },
   {
    "duration": 24,
    "start_time": "2023-03-08T13:35:25.604Z"
   },
   {
    "duration": 27,
    "start_time": "2023-03-08T13:35:25.630Z"
   },
   {
    "duration": 43,
    "start_time": "2023-03-08T13:35:25.660Z"
   },
   {
    "duration": 31,
    "start_time": "2023-03-08T13:35:25.706Z"
   },
   {
    "duration": 3945,
    "start_time": "2023-03-08T13:35:25.740Z"
   },
   {
    "duration": 1114,
    "start_time": "2023-03-08T13:37:15.392Z"
   },
   {
    "duration": 467,
    "start_time": "2023-03-08T13:37:16.508Z"
   },
   {
    "duration": 70,
    "start_time": "2023-03-08T13:37:16.978Z"
   },
   {
    "duration": 29,
    "start_time": "2023-03-08T13:37:17.052Z"
   },
   {
    "duration": 101,
    "start_time": "2023-03-08T13:37:17.083Z"
   },
   {
    "duration": 2505,
    "start_time": "2023-03-08T13:37:17.186Z"
   },
   {
    "duration": 102,
    "start_time": "2023-03-08T13:37:19.693Z"
   },
   {
    "duration": 19937,
    "start_time": "2023-03-08T13:37:19.798Z"
   },
   {
    "duration": 458,
    "start_time": "2023-03-08T13:37:39.738Z"
   },
   {
    "duration": 4,
    "start_time": "2023-03-08T13:37:40.199Z"
   },
   {
    "duration": 113,
    "start_time": "2023-03-08T13:37:40.284Z"
   },
   {
    "duration": 25,
    "start_time": "2023-03-08T13:37:40.401Z"
   },
   {
    "duration": 18,
    "start_time": "2023-03-08T13:37:40.428Z"
   },
   {
    "duration": 25,
    "start_time": "2023-03-08T13:37:40.448Z"
   },
   {
    "duration": 24,
    "start_time": "2023-03-08T13:37:40.478Z"
   },
   {
    "duration": 3732,
    "start_time": "2023-03-08T13:37:40.505Z"
   }
  ],
  "kernelspec": {
   "display_name": "Python 3 (ipykernel)",
   "language": "python",
   "name": "python3"
  },
  "language_info": {
   "codemirror_mode": {
    "name": "ipython",
    "version": 3
   },
   "file_extension": ".py",
   "mimetype": "text/x-python",
   "name": "python",
   "nbconvert_exporter": "python",
   "pygments_lexer": "ipython3",
   "version": "3.9.7"
  },
  "toc": {
   "base_numbering": 1,
   "nav_menu": {},
   "number_sections": true,
   "sideBar": true,
   "skip_h1_title": true,
   "title_cell": "Table of Contents",
   "title_sidebar": "Contents",
   "toc_cell": false,
   "toc_position": {},
   "toc_section_display": true,
   "toc_window_display": true
  }
 },
 "nbformat": 4,
 "nbformat_minor": 2
}
