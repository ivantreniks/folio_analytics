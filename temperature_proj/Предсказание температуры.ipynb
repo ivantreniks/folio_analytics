{
 "cells": [
  {
   "cell_type": "markdown",
   "id": "838113fa",
   "metadata": {},
   "source": [
    "# Проект: \"Предсказание температуры стали\""
   ]
  },
  {
   "cell_type": "markdown",
   "id": "a1ffd927",
   "metadata": {},
   "source": [
    "## Часть 1: Информация о проекте"
   ]
  },
  {
   "cell_type": "markdown",
   "id": "db7d4a55",
   "metadata": {},
   "source": [
    "**Заказчик:** ООО «Так закаляем сталь» \n",
    "\n",
    "**Бизнес-задача:** уменьшить потребление электроэнергии --> оптимизировать производственные расходы\n",
    "\n",
    "**Данные:** 7 датасетов\n",
    "\n",
    "**Обозначения датасетов:**\n",
    "\n",
    "    - data_arc_new.csv — данные об электродах;\n",
    "\n",
    "    - data_bulk_new.csv — данные о подаче сыпучих материалов (объём);\n",
    "\n",
    "    - data_bulk_time_new.csv — данные о подаче сыпучих материалов (время);\n",
    "\n",
    "    - data_gas_new.csv — данные о продувке сплава газом;\n",
    "\n",
    "    - data_temp_new.csv — результаты измерения температуры;\n",
    "\n",
    "    - data_wire_new.csv — данные о проволочных материалах (объём);\n",
    "\n",
    "    - data_wire_time_new.csv — данные о проволочных материалах (время).\n",
    "    \n",
    "**Задача DS:** предсказать температуру стали в зависимости от различных данных"
   ]
  },
  {
   "cell_type": "markdown",
   "id": "12e70a9d",
   "metadata": {},
   "source": [
    "## Часть 2: Работа с данными"
   ]
  },
  {
   "cell_type": "markdown",
   "id": "2f4eae79",
   "metadata": {},
   "source": [
    "Импортируем библиотеки"
   ]
  },
  {
   "cell_type": "code",
   "execution_count": 1,
   "id": "941ea028",
   "metadata": {},
   "outputs": [],
   "source": [
    "import pandas as pd\n",
    "import matplotlib.pyplot as plt\n",
    "import numpy as np\n",
    "import seaborn as sb\n",
    "\n",
    "from sklearn.linear_model import LinearRegression\n",
    "from sklearn.model_selection import train_test_split\n",
    "from sklearn.metrics import mean_squared_error,make_scorer,mean_absolute_error\n",
    "from sklearn.metrics import mean_absolute_error\n",
    "from sklearn.model_selection import GridSearchCV, train_test_split, cross_val_score\n",
    "from lightgbm import LGBMRegressor\n",
    "from catboost import CatBoostRegressor\n",
    "from sklearn.dummy import DummyRegressor\n",
    "from lightgbm import plot_importance"
   ]
  },
  {
   "cell_type": "code",
   "execution_count": 2,
   "id": "cd4efc32",
   "metadata": {},
   "outputs": [],
   "source": [
    "RANDOM_STATE = 170723\n",
    "CV=5"
   ]
  },
  {
   "cell_type": "code",
   "execution_count": 3,
   "id": "6650a967",
   "metadata": {},
   "outputs": [],
   "source": [
    "def model_initialize(model, params):\n",
    "    model_ = GridSearchCV(model, params, cv=CV, scoring=mae)\n",
    "    model_.fit(train_features, train_target)\n",
    "    score = abs(model_.best_score_)               \n",
    "    print(f'\\nMAE of {model.__class__.__name__} = {score}')\n",
    "    return model_.best_estimator_, score"
   ]
  },
  {
   "cell_type": "markdown",
   "id": "286aeb71",
   "metadata": {},
   "source": [
    "Загрузим данные"
   ]
  },
  {
   "cell_type": "code",
   "execution_count": 4,
   "id": "b876c99d",
   "metadata": {},
   "outputs": [],
   "source": [
    "data_arc_new=pd.read_csv('/datasets/data_arc_new.csv')\n",
    "\n",
    "data_bulk_new=pd.read_csv('/datasets/data_bulk_new.csv')\n",
    "\n",
    "data_bulk_time_new=pd.read_csv('/datasets/data_bulk_time_new.csv')\n",
    "\n",
    "data_gas_new=pd.read_csv('/datasets/data_gas_new.csv')\n",
    "\n",
    "data_temp_new=pd.read_csv('/datasets/data_temp_new.csv')\n",
    "\n",
    "data_wire_new=pd.read_csv('/datasets/data_wire_new.csv')\n",
    "\n",
    "data_wire_time_new=pd.read_csv('/datasets/data_wire_time_new.csv')\n",
    "\n",
    "all_data=[data_arc_new,data_bulk_new,data_bulk_time_new,data_gas_new,data_temp_new,data_wire_new,data_wire_time_new]"
   ]
  },
  {
   "cell_type": "code",
   "execution_count": 5,
   "id": "bacc4d8e",
   "metadata": {},
   "outputs": [
    {
     "name": "stdout",
     "output_type": "stream",
     "text": [
      "(14876, 5)\n",
      "(3129, 16)\n",
      "(3129, 16)\n",
      "(3239, 2)\n",
      "(18092, 3)\n",
      "(3081, 10)\n",
      "(3081, 10)\n"
     ]
    }
   ],
   "source": [
    "for i in all_data:\n",
    "    print(i.shape)"
   ]
  },
  {
   "cell_type": "markdown",
   "id": "59f71153",
   "metadata": {},
   "source": [
    "Больше всего строк в файле \"data_temp_new\"\n",
    "\n",
    "Больше всего столбцов в файлах \"data_bulk_new\" и \"data_bulk_time_new\""
   ]
  },
  {
   "cell_type": "code",
   "execution_count": 6,
   "id": "73bc1095",
   "metadata": {},
   "outputs": [
    {
     "name": "stdout",
     "output_type": "stream",
     "text": [
      "<class 'pandas.core.frame.DataFrame'>\n",
      "RangeIndex: 14876 entries, 0 to 14875\n",
      "Data columns (total 5 columns):\n",
      " #   Column                Non-Null Count  Dtype  \n",
      "---  ------                --------------  -----  \n",
      " 0   key                   14876 non-null  int64  \n",
      " 1   Начало нагрева дугой  14876 non-null  object \n",
      " 2   Конец нагрева дугой   14876 non-null  object \n",
      " 3   Активная мощность     14876 non-null  float64\n",
      " 4   Реактивная мощность   14876 non-null  float64\n",
      "dtypes: float64(2), int64(1), object(2)\n",
      "memory usage: 581.2+ KB\n",
      "None \n",
      "\n",
      "    key Начало нагрева дугой  Конец нагрева дугой  Активная мощность  \\\n",
      "0    1  2019-05-03 11:02:14  2019-05-03 11:06:02           0.305130   \n",
      "1    1  2019-05-03 11:07:28  2019-05-03 11:10:33           0.765658   \n",
      "2    1  2019-05-03 11:11:44  2019-05-03 11:14:36           0.580313   \n",
      "3    1  2019-05-03 11:18:14  2019-05-03 11:24:19           0.518496   \n",
      "4    1  2019-05-03 11:26:09  2019-05-03 11:28:37           0.867133   \n",
      "\n",
      "   Реактивная мощность  \n",
      "0             0.211253  \n",
      "1             0.477438  \n",
      "2             0.430460  \n",
      "3             0.379979  \n",
      "4             0.643691   \n",
      " _ _ _ _ _ _ _ _ _ _ _ _ _ _ _ _ _ _ _ _ _ _ _ _ _ _ _ _ _ _ _ _ _ _ _ _ _ _ _ _ \n",
      "<class 'pandas.core.frame.DataFrame'>\n",
      "RangeIndex: 3129 entries, 0 to 3128\n",
      "Data columns (total 16 columns):\n",
      " #   Column   Non-Null Count  Dtype  \n",
      "---  ------   --------------  -----  \n",
      " 0   key      3129 non-null   int64  \n",
      " 1   Bulk 1   252 non-null    float64\n",
      " 2   Bulk 2   22 non-null     float64\n",
      " 3   Bulk 3   1298 non-null   float64\n",
      " 4   Bulk 4   1014 non-null   float64\n",
      " 5   Bulk 5   77 non-null     float64\n",
      " 6   Bulk 6   576 non-null    float64\n",
      " 7   Bulk 7   25 non-null     float64\n",
      " 8   Bulk 8   1 non-null      float64\n",
      " 9   Bulk 9   19 non-null     float64\n",
      " 10  Bulk 10  176 non-null    float64\n",
      " 11  Bulk 11  177 non-null    float64\n",
      " 12  Bulk 12  2450 non-null   float64\n",
      " 13  Bulk 13  18 non-null     float64\n",
      " 14  Bulk 14  2806 non-null   float64\n",
      " 15  Bulk 15  2248 non-null   float64\n",
      "dtypes: float64(15), int64(1)\n",
      "memory usage: 391.2 KB\n",
      "None \n",
      "\n",
      "    key  Bulk 1  Bulk 2  Bulk 3  Bulk 4  Bulk 5  Bulk 6  Bulk 7  Bulk 8  \\\n",
      "0    1     NaN     NaN     NaN    43.0     NaN     NaN     NaN     NaN   \n",
      "1    2     NaN     NaN     NaN    73.0     NaN     NaN     NaN     NaN   \n",
      "2    3     NaN     NaN     NaN    34.0     NaN     NaN     NaN     NaN   \n",
      "3    4     NaN     NaN     NaN    81.0     NaN     NaN     NaN     NaN   \n",
      "4    5     NaN     NaN     NaN    78.0     NaN     NaN     NaN     NaN   \n",
      "\n",
      "   Bulk 9  Bulk 10  Bulk 11  Bulk 12  Bulk 13  Bulk 14  Bulk 15  \n",
      "0     NaN      NaN      NaN    206.0      NaN    150.0    154.0  \n",
      "1     NaN      NaN      NaN    206.0      NaN    149.0    154.0  \n",
      "2     NaN      NaN      NaN    205.0      NaN    152.0    153.0  \n",
      "3     NaN      NaN      NaN    207.0      NaN    153.0    154.0  \n",
      "4     NaN      NaN      NaN    203.0      NaN    151.0    152.0   \n",
      " _ _ _ _ _ _ _ _ _ _ _ _ _ _ _ _ _ _ _ _ _ _ _ _ _ _ _ _ _ _ _ _ _ _ _ _ _ _ _ _ \n",
      "<class 'pandas.core.frame.DataFrame'>\n",
      "RangeIndex: 3129 entries, 0 to 3128\n",
      "Data columns (total 16 columns):\n",
      " #   Column   Non-Null Count  Dtype \n",
      "---  ------   --------------  ----- \n",
      " 0   key      3129 non-null   int64 \n",
      " 1   Bulk 1   252 non-null    object\n",
      " 2   Bulk 2   22 non-null     object\n",
      " 3   Bulk 3   1298 non-null   object\n",
      " 4   Bulk 4   1014 non-null   object\n",
      " 5   Bulk 5   77 non-null     object\n",
      " 6   Bulk 6   576 non-null    object\n",
      " 7   Bulk 7   25 non-null     object\n",
      " 8   Bulk 8   1 non-null      object\n",
      " 9   Bulk 9   19 non-null     object\n",
      " 10  Bulk 10  176 non-null    object\n",
      " 11  Bulk 11  177 non-null    object\n",
      " 12  Bulk 12  2450 non-null   object\n",
      " 13  Bulk 13  18 non-null     object\n",
      " 14  Bulk 14  2806 non-null   object\n",
      " 15  Bulk 15  2248 non-null   object\n",
      "dtypes: int64(1), object(15)\n",
      "memory usage: 391.2+ KB\n",
      "None \n",
      "\n",
      "    key Bulk 1 Bulk 2 Bulk 3               Bulk 4 Bulk 5 Bulk 6 Bulk 7 Bulk 8  \\\n",
      "0    1    NaN    NaN    NaN  2019-05-03 11:28:48    NaN    NaN    NaN    NaN   \n",
      "1    2    NaN    NaN    NaN  2019-05-03 11:36:50    NaN    NaN    NaN    NaN   \n",
      "2    3    NaN    NaN    NaN  2019-05-03 12:32:39    NaN    NaN    NaN    NaN   \n",
      "3    4    NaN    NaN    NaN  2019-05-03 12:43:22    NaN    NaN    NaN    NaN   \n",
      "4    5    NaN    NaN    NaN  2019-05-03 13:30:47    NaN    NaN    NaN    NaN   \n",
      "\n",
      "  Bulk 9 Bulk 10 Bulk 11              Bulk 12 Bulk 13              Bulk 14  \\\n",
      "0    NaN     NaN     NaN  2019-05-03 11:24:31     NaN  2019-05-03 11:14:50   \n",
      "1    NaN     NaN     NaN  2019-05-03 11:53:30     NaN  2019-05-03 11:48:37   \n",
      "2    NaN     NaN     NaN  2019-05-03 12:27:13     NaN  2019-05-03 12:21:01   \n",
      "3    NaN     NaN     NaN  2019-05-03 12:58:00     NaN  2019-05-03 12:51:11   \n",
      "4    NaN     NaN     NaN  2019-05-03 13:30:47     NaN  2019-05-03 13:34:12   \n",
      "\n",
      "               Bulk 15  \n",
      "0  2019-05-03 11:10:43  \n",
      "1  2019-05-03 11:44:39  \n",
      "2  2019-05-03 12:16:16  \n",
      "3  2019-05-03 12:46:36  \n",
      "4  2019-05-03 13:30:47   \n",
      " _ _ _ _ _ _ _ _ _ _ _ _ _ _ _ _ _ _ _ _ _ _ _ _ _ _ _ _ _ _ _ _ _ _ _ _ _ _ _ _ \n",
      "<class 'pandas.core.frame.DataFrame'>\n",
      "RangeIndex: 3239 entries, 0 to 3238\n",
      "Data columns (total 2 columns):\n",
      " #   Column  Non-Null Count  Dtype  \n",
      "---  ------  --------------  -----  \n",
      " 0   key     3239 non-null   int64  \n",
      " 1   Газ 1   3239 non-null   float64\n",
      "dtypes: float64(1), int64(1)\n",
      "memory usage: 50.7 KB\n",
      "None \n",
      "\n",
      "    key      Газ 1\n",
      "0    1  29.749986\n",
      "1    2  12.555561\n",
      "2    3  28.554793\n",
      "3    4  18.841219\n",
      "4    5   5.413692 \n",
      " _ _ _ _ _ _ _ _ _ _ _ _ _ _ _ _ _ _ _ _ _ _ _ _ _ _ _ _ _ _ _ _ _ _ _ _ _ _ _ _ \n",
      "<class 'pandas.core.frame.DataFrame'>\n",
      "RangeIndex: 18092 entries, 0 to 18091\n",
      "Data columns (total 3 columns):\n",
      " #   Column        Non-Null Count  Dtype  \n",
      "---  ------        --------------  -----  \n",
      " 0   key           18092 non-null  int64  \n",
      " 1   Время замера  18092 non-null  object \n",
      " 2   Температура   14665 non-null  float64\n",
      "dtypes: float64(1), int64(1), object(1)\n",
      "memory usage: 424.2+ KB\n",
      "None \n",
      "\n",
      "    key         Время замера  Температура\n",
      "0    1  2019-05-03 11:02:04       1571.0\n",
      "1    1  2019-05-03 11:07:18       1604.0\n",
      "2    1  2019-05-03 11:11:34       1618.0\n",
      "3    1  2019-05-03 11:18:04       1601.0\n",
      "4    1  2019-05-03 11:25:59       1606.0 \n",
      " _ _ _ _ _ _ _ _ _ _ _ _ _ _ _ _ _ _ _ _ _ _ _ _ _ _ _ _ _ _ _ _ _ _ _ _ _ _ _ _ \n",
      "<class 'pandas.core.frame.DataFrame'>\n",
      "RangeIndex: 3081 entries, 0 to 3080\n",
      "Data columns (total 10 columns):\n",
      " #   Column  Non-Null Count  Dtype  \n",
      "---  ------  --------------  -----  \n",
      " 0   key     3081 non-null   int64  \n",
      " 1   Wire 1  3055 non-null   float64\n",
      " 2   Wire 2  1079 non-null   float64\n",
      " 3   Wire 3  63 non-null     float64\n",
      " 4   Wire 4  14 non-null     float64\n",
      " 5   Wire 5  1 non-null      float64\n",
      " 6   Wire 6  73 non-null     float64\n",
      " 7   Wire 7  11 non-null     float64\n",
      " 8   Wire 8  19 non-null     float64\n",
      " 9   Wire 9  29 non-null     float64\n",
      "dtypes: float64(9), int64(1)\n",
      "memory usage: 240.8 KB\n",
      "None \n",
      "\n",
      "    key     Wire 1   Wire 2  Wire 3  Wire 4  Wire 5  Wire 6  Wire 7  Wire 8  \\\n",
      "0    1  60.059998      NaN     NaN     NaN     NaN     NaN     NaN     NaN   \n",
      "1    2  96.052315      NaN     NaN     NaN     NaN     NaN     NaN     NaN   \n",
      "2    3  91.160157      NaN     NaN     NaN     NaN     NaN     NaN     NaN   \n",
      "3    4  89.063515      NaN     NaN     NaN     NaN     NaN     NaN     NaN   \n",
      "4    5  89.238236  9.11456     NaN     NaN     NaN     NaN     NaN     NaN   \n",
      "\n",
      "   Wire 9  \n",
      "0     NaN  \n",
      "1     NaN  \n",
      "2     NaN  \n",
      "3     NaN  \n",
      "4     NaN   \n",
      " _ _ _ _ _ _ _ _ _ _ _ _ _ _ _ _ _ _ _ _ _ _ _ _ _ _ _ _ _ _ _ _ _ _ _ _ _ _ _ _ \n",
      "<class 'pandas.core.frame.DataFrame'>\n",
      "RangeIndex: 3081 entries, 0 to 3080\n",
      "Data columns (total 10 columns):\n",
      " #   Column  Non-Null Count  Dtype \n",
      "---  ------  --------------  ----- \n",
      " 0   key     3081 non-null   int64 \n",
      " 1   Wire 1  3055 non-null   object\n",
      " 2   Wire 2  1079 non-null   object\n",
      " 3   Wire 3  63 non-null     object\n",
      " 4   Wire 4  14 non-null     object\n",
      " 5   Wire 5  1 non-null      object\n",
      " 6   Wire 6  73 non-null     object\n",
      " 7   Wire 7  11 non-null     object\n",
      " 8   Wire 8  19 non-null     object\n",
      " 9   Wire 9  29 non-null     object\n",
      "dtypes: int64(1), object(9)\n",
      "memory usage: 240.8+ KB\n",
      "None \n",
      "\n",
      "    key               Wire 1               Wire 2 Wire 3 Wire 4 Wire 5 Wire 6  \\\n",
      "0    1  2019-05-03 11:06:19                  NaN    NaN    NaN    NaN    NaN   \n",
      "1    2  2019-05-03 11:36:50                  NaN    NaN    NaN    NaN    NaN   \n",
      "2    3  2019-05-03 12:11:46                  NaN    NaN    NaN    NaN    NaN   \n",
      "3    4  2019-05-03 12:43:22                  NaN    NaN    NaN    NaN    NaN   \n",
      "4    5  2019-05-03 13:20:44  2019-05-03 13:15:34    NaN    NaN    NaN    NaN   \n",
      "\n",
      "  Wire 7 Wire 8 Wire 9  \n",
      "0    NaN    NaN    NaN  \n",
      "1    NaN    NaN    NaN  \n",
      "2    NaN    NaN    NaN  \n",
      "3    NaN    NaN    NaN  \n",
      "4    NaN    NaN    NaN   \n",
      " _ _ _ _ _ _ _ _ _ _ _ _ _ _ _ _ _ _ _ _ _ _ _ _ _ _ _ _ _ _ _ _ _ _ _ _ _ _ _ _ \n"
     ]
    }
   ],
   "source": [
    "for i in all_data:\n",
    "    print(i.info(), '\\n'*2,i.head(),'\\n','_ '*40)"
   ]
  },
  {
   "cell_type": "markdown",
   "id": "b48ed456",
   "metadata": {},
   "source": [
    "К исправлению:\n",
    "\n",
    "    - дата является строкой (решение - станет датой)\n",
    "    - очень много пропусков в bulk и wire файлах (решение - более детально изучить пропуски, превратить их в 0)"
   ]
  },
  {
   "cell_type": "markdown",
   "id": "cfe366ce",
   "metadata": {},
   "source": [
    "Изучим числовые данные:"
   ]
  },
  {
   "cell_type": "code",
   "execution_count": 7,
   "id": "115597a0",
   "metadata": {},
   "outputs": [
    {
     "data": {
      "image/png": "[encoded data removed]",
      "text/plain": [
       "<Figure size 432x288 with 1 Axes>"
      ]
     },
     "metadata": {
      "needs_background": "light"
     },
     "output_type": "display_data"
    },
    {
     "data": {
      "image/png": "[encoded data removed]",
      "text/plain": [
       "<Figure size 432x288 with 1 Axes>"
      ]
     },
     "metadata": {
      "needs_background": "light"
     },
     "output_type": "display_data"
    }
   ],
   "source": [
    "plt.hist(data_arc_new['Активная мощность'],bins=100)\n",
    "plt.title('Распределение - Активная мощность')\n",
    "plt.show()\n",
    "\n",
    "plt.hist(data_arc_new['Реактивная мощность'])\n",
    "plt.title('Распределение - Реактивная мощность')\n",
    "plt.show()\n"
   ]
  },
  {
   "cell_type": "markdown",
   "id": "bf35130b",
   "metadata": {},
   "source": [
    "Определенно обнаружен **выброс** в \"Реактивная мощность\""
   ]
  },
  {
   "cell_type": "code",
   "execution_count": 8,
   "id": "0fe3c348",
   "metadata": {},
   "outputs": [
    {
     "data": {
      "text/plain": [
       "Int64Index([9780], dtype='int64')"
      ]
     },
     "execution_count": 8,
     "metadata": {},
     "output_type": "execute_result"
    }
   ],
   "source": [
    "data_arc_new[data_arc_new['Реактивная мощность']==data_arc_new['Реактивная мощность'].min()].index"
   ]
  },
  {
   "cell_type": "code",
   "execution_count": 9,
   "id": "959d5f81",
   "metadata": {},
   "outputs": [],
   "source": [
    "data_arc_new.drop(index=data_arc_new[data_arc_new['Реактивная мощность']==data_arc_new['Реактивная мощность'].min()].index,inplace=True)"
   ]
  },
  {
   "cell_type": "code",
   "execution_count": 10,
   "id": "e1663b3f",
   "metadata": {},
   "outputs": [
    {
     "data": {
      "text/html": [
       "<div>\n",
       "<style scoped>\n",
       "    .dataframe tbody tr th:only-of-type {\n",
       "        vertical-align: middle;\n",
       "    }\n",
       "\n",
       "    .dataframe tbody tr th {\n",
       "        vertical-align: top;\n",
       "    }\n",
       "\n",
       "    .dataframe thead th {\n",
       "        text-align: right;\n",
       "    }\n",
       "</style>\n",
       "<table border=\"1\" class=\"dataframe\">\n",
       "  <thead>\n",
       "    <tr style=\"text-align: right;\">\n",
       "      <th></th>\n",
       "      <th>key</th>\n",
       "      <th>Начало нагрева дугой</th>\n",
       "      <th>Конец нагрева дугой</th>\n",
       "      <th>Активная мощность</th>\n",
       "      <th>Реактивная мощность</th>\n",
       "    </tr>\n",
       "  </thead>\n",
       "  <tbody>\n",
       "    <tr>\n",
       "      <th>709</th>\n",
       "      <td>152</td>\n",
       "      <td>2019-05-09 11:26:58</td>\n",
       "      <td>2019-05-09 11:29:41</td>\n",
       "      <td>0.228852</td>\n",
       "      <td>0.153777</td>\n",
       "    </tr>\n",
       "  </tbody>\n",
       "</table>\n",
       "</div>"
      ],
      "text/plain": [
       "     key Начало нагрева дугой  Конец нагрева дугой  Активная мощность  \\\n",
       "709  152  2019-05-09 11:26:58  2019-05-09 11:29:41           0.228852   \n",
       "\n",
       "     Реактивная мощность  \n",
       "709             0.153777  "
      ]
     },
     "execution_count": 10,
     "metadata": {},
     "output_type": "execute_result"
    }
   ],
   "source": [
    "data_arc_new[data_arc_new['Реактивная мощность']==data_arc_new['Реактивная мощность'].min()]"
   ]
  },
  {
   "cell_type": "code",
   "execution_count": 11,
   "id": "fe2a47e3",
   "metadata": {},
   "outputs": [
    {
     "data": {
      "image/png": "[encoded data removed]",
      "text/plain": [
       "<Figure size 432x288 with 1 Axes>"
      ]
     },
     "metadata": {
      "needs_background": "light"
     },
     "output_type": "display_data"
    }
   ],
   "source": [
    "plt.hist(data_arc_new['Реактивная мощность'],bins=100)\n",
    "plt.title('Распределение - Реактивная мощность')\n",
    "plt.show()"
   ]
  },
  {
   "cell_type": "markdown",
   "id": "a5cd12d1",
   "metadata": {},
   "source": [
    "Распределение у активной и реактивной мощностей схожие, напоминают нормальное (скорее даже Хи-2)"
   ]
  },
  {
   "cell_type": "code",
   "execution_count": 12,
   "id": "90b78814",
   "metadata": {},
   "outputs": [
    {
     "data": {
      "image/png": "[encoded data removed]",
      "text/plain": [
       "<Figure size 432x288 with 1 Axes>"
      ]
     },
     "metadata": {
      "needs_background": "light"
     },
     "output_type": "display_data"
    },
    {
     "data": {
      "image/png": "[encoded data removed]",
      "text/plain": [
       "<Figure size 432x288 with 1 Axes>"
      ]
     },
     "metadata": {
      "needs_background": "light"
     },
     "output_type": "display_data"
    },
    {
     "data": {
      "image/png": "[encoded data removed]",
      "text/plain": [
       "<Figure size 432x288 with 1 Axes>"
      ]
     },
     "metadata": {
      "needs_background": "light"
     },
     "output_type": "display_data"
    }
   ],
   "source": [
    "\n",
    "plt.hist(data_bulk_new['Bulk 12'])\n",
    "plt.title('Распределение - Bulk 12')\n",
    "plt.show()\n",
    "\n",
    "plt.hist(data_bulk_new['Bulk 14'])\n",
    "plt.title('Распределение - Bulk 14')\n",
    "plt.show()\n",
    "\n",
    "\n",
    "\n",
    "\n",
    "plt.hist(data_bulk_new['Bulk 15'])\n",
    "plt.title('Распределение - Bulk 15')\n",
    "plt.show()\n",
    "\n",
    "# PS 12, 14 и 15 были выбраны, потому что в них больше всего данных"
   ]
  },
  {
   "cell_type": "code",
   "execution_count": 13,
   "id": "87f525a6",
   "metadata": {},
   "outputs": [
    {
     "data": {
      "image/png": "[encoded data removed]",
      "text/plain": [
       "<Figure size 1080x1080 with 16 Axes>"
      ]
     },
     "metadata": {
      "needs_background": "light"
     },
     "output_type": "display_data"
    }
   ],
   "source": [
    "\n",
    "data_bulk_new.hist(figsize=(15, 15), bins=100)\n",
    "plt.show()"
   ]
  },
  {
   "cell_type": "markdown",
   "id": "29a60fef",
   "metadata": {},
   "source": [
    "Распределения Bulk мало похожи друг на друга"
   ]
  },
  {
   "cell_type": "code",
   "execution_count": 14,
   "id": "58abd39b",
   "metadata": {},
   "outputs": [
    {
     "data": {
      "image/png": "[encoded data removed]",
      "text/plain": [
       "<Figure size 432x288 with 1 Axes>"
      ]
     },
     "metadata": {
      "needs_background": "light"
     },
     "output_type": "display_data"
    },
    {
     "data": {
      "image/png": "[encoded data removed]",
      "text/plain": [
       "<Figure size 432x288 with 1 Axes>"
      ]
     },
     "metadata": {
      "needs_background": "light"
     },
     "output_type": "display_data"
    },
    {
     "data": {
      "image/png": "[encoded data removed]",
      "text/plain": [
       "<Figure size 432x288 with 1 Axes>"
      ]
     },
     "metadata": {
      "needs_background": "light"
     },
     "output_type": "display_data"
    },
    {
     "data": {
      "image/png": "[encoded data removed]",
      "text/plain": [
       "<Figure size 432x288 with 1 Axes>"
      ]
     },
     "metadata": {
      "needs_background": "light"
     },
     "output_type": "display_data"
    }
   ],
   "source": [
    "\n",
    "\n",
    "plt.hist(data_gas_new['Газ 1'],bins=100)\n",
    "plt.title('Распределение - Газ 1')\n",
    "plt.show()\n",
    "\n",
    "plt.hist(data_gas_new['Газ 1'],bins=100)\n",
    "plt.xlim(0,40)\n",
    "plt.title('Распределение - Газ 1 (без излишне больших значений)')\n",
    "plt.show()\n",
    "\n",
    "plt.hist(data_temp_new['Температура'],bins=100)\n",
    "plt.title('Распределение - (Газ) Температура')\n",
    "plt.show()\n",
    "\n",
    "plt.hist(data_temp_new['Температура'],bins=100)\n",
    "plt.xlim(1500,1700)\n",
    "\n",
    "plt.title('Распределение - (Газ) Температура (без излишне малых значений)')\n",
    "plt.show()"
   ]
  },
  {
   "cell_type": "markdown",
   "id": "62de8160",
   "metadata": {},
   "source": [
    "Сразу же избавимся от значений менее 1400, поскольку технология не предусматривает подобные случаи"
   ]
  },
  {
   "cell_type": "code",
   "execution_count": 15,
   "id": "0c799827",
   "metadata": {},
   "outputs": [],
   "source": [
    "data_temp_new=data_temp_new.drop(data_temp_new[data_temp_new['Температура']<1400].index,axis=0)"
   ]
  },
  {
   "cell_type": "code",
   "execution_count": 16,
   "id": "e1b0195e",
   "metadata": {},
   "outputs": [
    {
     "data": {
      "text/html": [
       "<div>\n",
       "<style scoped>\n",
       "    .dataframe tbody tr th:only-of-type {\n",
       "        vertical-align: middle;\n",
       "    }\n",
       "\n",
       "    .dataframe tbody tr th {\n",
       "        vertical-align: top;\n",
       "    }\n",
       "\n",
       "    .dataframe thead th {\n",
       "        text-align: right;\n",
       "    }\n",
       "</style>\n",
       "<table border=\"1\" class=\"dataframe\">\n",
       "  <thead>\n",
       "    <tr style=\"text-align: right;\">\n",
       "      <th></th>\n",
       "      <th>key</th>\n",
       "      <th>Время замера</th>\n",
       "      <th>Температура</th>\n",
       "    </tr>\n",
       "  </thead>\n",
       "  <tbody>\n",
       "    <tr>\n",
       "      <th>0</th>\n",
       "      <td>1</td>\n",
       "      <td>2019-05-03 11:02:04</td>\n",
       "      <td>1571.0</td>\n",
       "    </tr>\n",
       "    <tr>\n",
       "      <th>1</th>\n",
       "      <td>1</td>\n",
       "      <td>2019-05-03 11:07:18</td>\n",
       "      <td>1604.0</td>\n",
       "    </tr>\n",
       "    <tr>\n",
       "      <th>2</th>\n",
       "      <td>1</td>\n",
       "      <td>2019-05-03 11:11:34</td>\n",
       "      <td>1618.0</td>\n",
       "    </tr>\n",
       "    <tr>\n",
       "      <th>3</th>\n",
       "      <td>1</td>\n",
       "      <td>2019-05-03 11:18:04</td>\n",
       "      <td>1601.0</td>\n",
       "    </tr>\n",
       "    <tr>\n",
       "      <th>4</th>\n",
       "      <td>1</td>\n",
       "      <td>2019-05-03 11:25:59</td>\n",
       "      <td>1606.0</td>\n",
       "    </tr>\n",
       "    <tr>\n",
       "      <th>...</th>\n",
       "      <td>...</td>\n",
       "      <td>...</td>\n",
       "      <td>...</td>\n",
       "    </tr>\n",
       "    <tr>\n",
       "      <th>18087</th>\n",
       "      <td>3241</td>\n",
       "      <td>2019-09-06 16:55:01</td>\n",
       "      <td>NaN</td>\n",
       "    </tr>\n",
       "    <tr>\n",
       "      <th>18088</th>\n",
       "      <td>3241</td>\n",
       "      <td>2019-09-06 17:06:38</td>\n",
       "      <td>NaN</td>\n",
       "    </tr>\n",
       "    <tr>\n",
       "      <th>18089</th>\n",
       "      <td>3241</td>\n",
       "      <td>2019-09-06 17:21:48</td>\n",
       "      <td>NaN</td>\n",
       "    </tr>\n",
       "    <tr>\n",
       "      <th>18090</th>\n",
       "      <td>3241</td>\n",
       "      <td>2019-09-06 17:24:44</td>\n",
       "      <td>NaN</td>\n",
       "    </tr>\n",
       "    <tr>\n",
       "      <th>18091</th>\n",
       "      <td>3241</td>\n",
       "      <td>2019-09-06 17:30:05</td>\n",
       "      <td>NaN</td>\n",
       "    </tr>\n",
       "  </tbody>\n",
       "</table>\n",
       "<p>18087 rows × 3 columns</p>\n",
       "</div>"
      ],
      "text/plain": [
       "        key         Время замера  Температура\n",
       "0         1  2019-05-03 11:02:04       1571.0\n",
       "1         1  2019-05-03 11:07:18       1604.0\n",
       "2         1  2019-05-03 11:11:34       1618.0\n",
       "3         1  2019-05-03 11:18:04       1601.0\n",
       "4         1  2019-05-03 11:25:59       1606.0\n",
       "...     ...                  ...          ...\n",
       "18087  3241  2019-09-06 16:55:01          NaN\n",
       "18088  3241  2019-09-06 17:06:38          NaN\n",
       "18089  3241  2019-09-06 17:21:48          NaN\n",
       "18090  3241  2019-09-06 17:24:44          NaN\n",
       "18091  3241  2019-09-06 17:30:05          NaN\n",
       "\n",
       "[18087 rows x 3 columns]"
      ]
     },
     "execution_count": 16,
     "metadata": {},
     "output_type": "execute_result"
    }
   ],
   "source": [
    "data_temp_new"
   ]
  },
  {
   "cell_type": "markdown",
   "id": "9f367ab8",
   "metadata": {},
   "source": [
    "Распределения по столбцам \"Газ 1\" и \"Температура\" схожи, напоминают нормальное распределение. Есть выброс, который успешно устранен."
   ]
  },
  {
   "cell_type": "code",
   "execution_count": 17,
   "id": "c88a493b",
   "metadata": {},
   "outputs": [
    {
     "data": {
      "image/png": "[encoded data removed]",
      "text/plain": [
       "<Figure size 1080x1080 with 12 Axes>"
      ]
     },
     "metadata": {
      "needs_background": "light"
     },
     "output_type": "display_data"
    }
   ],
   "source": [
    "\n",
    "\n",
    "\n",
    "data_wire_new.hist(figsize=(15, 15), bins=100)\n",
    "plt.show()\n"
   ]
  },
  {
   "cell_type": "markdown",
   "id": "03d21215",
   "metadata": {},
   "source": [
    "Распределение по столбцу \"Wire 1\" напоминает нормальное\n",
    "\n",
    "Распределение по столбцу \"Wire 2\" напоминает экспоненциальное\n",
    "\n",
    "\n",
    "___"
   ]
  },
  {
   "cell_type": "markdown",
   "id": "14a988f6",
   "metadata": {},
   "source": [
    "Сделаем дату датой"
   ]
  },
  {
   "cell_type": "code",
   "execution_count": 18,
   "id": "2a5bd608",
   "metadata": {},
   "outputs": [],
   "source": [
    "wires=list()\n",
    "for i in range(1,10):\n",
    "    wires.append(f'Wire {i}')\n",
    "\n",
    "bulks=list()\n",
    "for i in range(1,16):\n",
    "    bulks.append(f'Bulk {i}')\n",
    "\n",
    "\n",
    "    \n",
    "    "
   ]
  },
  {
   "cell_type": "code",
   "execution_count": 19,
   "id": "1d9206af",
   "metadata": {},
   "outputs": [],
   "source": [
    "data_arc_new['Начало нагрева дугой']=pd.to_datetime(data_arc_new['Начало нагрева дугой'],errors='coerce')\n",
    "data_arc_new['Конец нагрева дугой']=pd.to_datetime(data_arc_new['Конец нагрева дугой'],errors='coerce')\n",
    "\n",
    "data_bulk_time_new[bulks]=pd.to_datetime(data_bulk_time_new[bulks].stack(),errors='coerce').unstack()\n",
    "\n",
    "data_temp_new['Время замера']=pd.to_datetime(data_temp_new['Время замера'],errors='coerce')\n",
    "\n",
    "data_wire_time_new[wires]=pd.to_datetime(data_wire_time_new[wires].stack(),errors='coerce').unstack()"
   ]
  },
  {
   "cell_type": "code",
   "execution_count": 20,
   "id": "493e57e5",
   "metadata": {},
   "outputs": [
    {
     "data": {
      "text/html": [
       "<div>\n",
       "<style scoped>\n",
       "    .dataframe tbody tr th:only-of-type {\n",
       "        vertical-align: middle;\n",
       "    }\n",
       "\n",
       "    .dataframe tbody tr th {\n",
       "        vertical-align: top;\n",
       "    }\n",
       "\n",
       "    .dataframe thead th {\n",
       "        text-align: right;\n",
       "    }\n",
       "</style>\n",
       "<table border=\"1\" class=\"dataframe\">\n",
       "  <thead>\n",
       "    <tr style=\"text-align: right;\">\n",
       "      <th></th>\n",
       "      <th>key</th>\n",
       "      <th>Wire 1</th>\n",
       "      <th>Wire 2</th>\n",
       "      <th>Wire 3</th>\n",
       "      <th>Wire 4</th>\n",
       "      <th>Wire 5</th>\n",
       "      <th>Wire 6</th>\n",
       "      <th>Wire 7</th>\n",
       "      <th>Wire 8</th>\n",
       "      <th>Wire 9</th>\n",
       "    </tr>\n",
       "  </thead>\n",
       "  <tbody>\n",
       "    <tr>\n",
       "      <th>0</th>\n",
       "      <td>1</td>\n",
       "      <td>2019-05-03 11:06:19</td>\n",
       "      <td>NaT</td>\n",
       "      <td>NaT</td>\n",
       "      <td>NaT</td>\n",
       "      <td>NaT</td>\n",
       "      <td>NaT</td>\n",
       "      <td>NaT</td>\n",
       "      <td>NaT</td>\n",
       "      <td>NaT</td>\n",
       "    </tr>\n",
       "    <tr>\n",
       "      <th>1</th>\n",
       "      <td>2</td>\n",
       "      <td>2019-05-03 11:36:50</td>\n",
       "      <td>NaT</td>\n",
       "      <td>NaT</td>\n",
       "      <td>NaT</td>\n",
       "      <td>NaT</td>\n",
       "      <td>NaT</td>\n",
       "      <td>NaT</td>\n",
       "      <td>NaT</td>\n",
       "      <td>NaT</td>\n",
       "    </tr>\n",
       "    <tr>\n",
       "      <th>2</th>\n",
       "      <td>3</td>\n",
       "      <td>2019-05-03 12:11:46</td>\n",
       "      <td>NaT</td>\n",
       "      <td>NaT</td>\n",
       "      <td>NaT</td>\n",
       "      <td>NaT</td>\n",
       "      <td>NaT</td>\n",
       "      <td>NaT</td>\n",
       "      <td>NaT</td>\n",
       "      <td>NaT</td>\n",
       "    </tr>\n",
       "    <tr>\n",
       "      <th>3</th>\n",
       "      <td>4</td>\n",
       "      <td>2019-05-03 12:43:22</td>\n",
       "      <td>NaT</td>\n",
       "      <td>NaT</td>\n",
       "      <td>NaT</td>\n",
       "      <td>NaT</td>\n",
       "      <td>NaT</td>\n",
       "      <td>NaT</td>\n",
       "      <td>NaT</td>\n",
       "      <td>NaT</td>\n",
       "    </tr>\n",
       "    <tr>\n",
       "      <th>4</th>\n",
       "      <td>5</td>\n",
       "      <td>2019-05-03 13:20:44</td>\n",
       "      <td>2019-05-03 13:15:34</td>\n",
       "      <td>NaT</td>\n",
       "      <td>NaT</td>\n",
       "      <td>NaT</td>\n",
       "      <td>NaT</td>\n",
       "      <td>NaT</td>\n",
       "      <td>NaT</td>\n",
       "      <td>NaT</td>\n",
       "    </tr>\n",
       "  </tbody>\n",
       "</table>\n",
       "</div>"
      ],
      "text/plain": [
       "   key              Wire 1              Wire 2 Wire 3 Wire 4 Wire 5 Wire 6  \\\n",
       "0    1 2019-05-03 11:06:19                 NaT    NaT    NaT    NaT    NaT   \n",
       "1    2 2019-05-03 11:36:50                 NaT    NaT    NaT    NaT    NaT   \n",
       "2    3 2019-05-03 12:11:46                 NaT    NaT    NaT    NaT    NaT   \n",
       "3    4 2019-05-03 12:43:22                 NaT    NaT    NaT    NaT    NaT   \n",
       "4    5 2019-05-03 13:20:44 2019-05-03 13:15:34    NaT    NaT    NaT    NaT   \n",
       "\n",
       "  Wire 7 Wire 8 Wire 9  \n",
       "0    NaT    NaT    NaT  \n",
       "1    NaT    NaT    NaT  \n",
       "2    NaT    NaT    NaT  \n",
       "3    NaT    NaT    NaT  \n",
       "4    NaT    NaT    NaT  "
      ]
     },
     "execution_count": 20,
     "metadata": {},
     "output_type": "execute_result"
    }
   ],
   "source": [
    "data_wire_time_new.head()\n",
    "# работает!"
   ]
  },
  {
   "cell_type": "markdown",
   "id": "fccdd13d",
   "metadata": {},
   "source": [
    "## Часть 3: План действий"
   ]
  },
  {
   "cell_type": "markdown",
   "id": "d3598256",
   "metadata": {},
   "source": [
    "**1. Предобработка исходных данных.** Изучение данных, избавление от выбросов и дубликатов.\n",
    "\n",
    "**2. Подготовка данных к обучению.** Вычленение нужных для обучения данных, изучение корелляции между данными,\n",
    "\n",
    "**3. Подбор релевантной модели и её обучение.** Проверка эффективности различных моделей с различными гиперпараметрами.\n",
    "\n",
    "**4. Тестирование модели.** Тестирование на отдельном наборе данных, проверка модели на адекватность."
   ]
  },
  {
   "cell_type": "markdown",
   "id": "5ff80c15",
   "metadata": {},
   "source": [
    "#### Выводы: ####\n",
    "\n",
    "- данные считаны\n",
    "- в некоторых данных имеются аномальные значения - они могут быть впоследствии удалены\n",
    "- исправлен формат даты\n",
    "- в некоторых данных имеются пропуски - предложены варианты их устранения"
   ]
  },
  {
   "cell_type": "markdown",
   "id": "5d136a8f",
   "metadata": {},
   "source": [
    "## Часть 4: Вопросы"
   ]
  },
  {
   "cell_type": "markdown",
   "id": "4ada5096",
   "metadata": {},
   "source": [
    "- Как следует интерпретировать столбцы \"Активная мощность\" и \"Реактивная мощность\", в чем отличия?\n",
    "\n",
    "- \"Начало нагрева дугой\" и\t\"Конец нагрева дугой\" даны для нахождения времени нагрева?\n",
    "\n",
    "- Почему в существуют 15 столбцов Bulk и 9 Wire? Что означают эти столбцы?\n",
    "\n",
    "- Были ли в технологии производства какие-либо изменения с течением времени?\n",
    "\n",
    "- Как именно прогноз температуры повлияет на повышении эффективности?"
   ]
  },
  {
   "cell_type": "markdown",
   "id": "81c6acca",
   "metadata": {},
   "source": [
    "## Часть 5: Очистка данных"
   ]
  },
  {
   "cell_type": "markdown",
   "id": "b9fad9f9",
   "metadata": {},
   "source": [
    "Если в данных о температуре есть пропуски, значит эти данные нельзя использовать. Удалим пропуски"
   ]
  },
  {
   "cell_type": "code",
   "execution_count": 21,
   "id": "d66991b7",
   "metadata": {},
   "outputs": [],
   "source": [
    "data_temp_new.dropna(axis=0,subset=['Температура'],inplace=True)"
   ]
  },
  {
   "cell_type": "markdown",
   "id": "5b36ca7c",
   "metadata": {},
   "source": [
    "Эмпирическим путём выяснено, что после удаления остались одиночные строки (один ключ = одна строка), которые могут исказить результат. Удалим подобные строки."
   ]
  },
  {
   "cell_type": "code",
   "execution_count": 22,
   "id": "14251c3e",
   "metadata": {},
   "outputs": [
    {
     "name": "stdout",
     "output_type": "stream",
     "text": [
      "Deleted: 740\n"
     ]
    }
   ],
   "source": [
    "def destroy_singles(data):\n",
    "    temp = data['key'].value_counts()\n",
    "    len_data_start = len(data)\n",
    "    data_new = data[data.key.isin (temp[temp.values > 1].index)]\n",
    "    print('Deleted:', len_data_start - len(data_new))\n",
    "    \n",
    "    return data_new\n",
    "data_temp_new = destroy_singles(data_temp_new)"
   ]
  },
  {
   "cell_type": "markdown",
   "id": "b9788950",
   "metadata": {},
   "source": [
    "Как было сказано в Части 2, заменим нулями NaN в данных о Wire и Bulk"
   ]
  },
  {
   "cell_type": "code",
   "execution_count": 23,
   "id": "6d9e75ae",
   "metadata": {},
   "outputs": [
    {
     "data": {
      "text/html": [
       "<div>\n",
       "<style scoped>\n",
       "    .dataframe tbody tr th:only-of-type {\n",
       "        vertical-align: middle;\n",
       "    }\n",
       "\n",
       "    .dataframe tbody tr th {\n",
       "        vertical-align: top;\n",
       "    }\n",
       "\n",
       "    .dataframe thead th {\n",
       "        text-align: right;\n",
       "    }\n",
       "</style>\n",
       "<table border=\"1\" class=\"dataframe\">\n",
       "  <thead>\n",
       "    <tr style=\"text-align: right;\">\n",
       "      <th></th>\n",
       "      <th>key</th>\n",
       "      <th>Bulk 1</th>\n",
       "      <th>Bulk 2</th>\n",
       "      <th>Bulk 3</th>\n",
       "      <th>Bulk 4</th>\n",
       "      <th>Bulk 5</th>\n",
       "      <th>Bulk 6</th>\n",
       "      <th>Bulk 7</th>\n",
       "      <th>Bulk 8</th>\n",
       "      <th>Bulk 9</th>\n",
       "      <th>Bulk 10</th>\n",
       "      <th>Bulk 11</th>\n",
       "      <th>Bulk 12</th>\n",
       "      <th>Bulk 13</th>\n",
       "      <th>Bulk 14</th>\n",
       "      <th>Bulk 15</th>\n",
       "    </tr>\n",
       "  </thead>\n",
       "  <tbody>\n",
       "    <tr>\n",
       "      <th>0</th>\n",
       "      <td>1</td>\n",
       "      <td>0.0</td>\n",
       "      <td>0.0</td>\n",
       "      <td>0.0</td>\n",
       "      <td>43.0</td>\n",
       "      <td>0.0</td>\n",
       "      <td>0.0</td>\n",
       "      <td>0.0</td>\n",
       "      <td>0.0</td>\n",
       "      <td>0.0</td>\n",
       "      <td>0.0</td>\n",
       "      <td>0.0</td>\n",
       "      <td>206.0</td>\n",
       "      <td>0.0</td>\n",
       "      <td>150.0</td>\n",
       "      <td>154.0</td>\n",
       "    </tr>\n",
       "    <tr>\n",
       "      <th>1</th>\n",
       "      <td>2</td>\n",
       "      <td>0.0</td>\n",
       "      <td>0.0</td>\n",
       "      <td>0.0</td>\n",
       "      <td>73.0</td>\n",
       "      <td>0.0</td>\n",
       "      <td>0.0</td>\n",
       "      <td>0.0</td>\n",
       "      <td>0.0</td>\n",
       "      <td>0.0</td>\n",
       "      <td>0.0</td>\n",
       "      <td>0.0</td>\n",
       "      <td>206.0</td>\n",
       "      <td>0.0</td>\n",
       "      <td>149.0</td>\n",
       "      <td>154.0</td>\n",
       "    </tr>\n",
       "    <tr>\n",
       "      <th>2</th>\n",
       "      <td>3</td>\n",
       "      <td>0.0</td>\n",
       "      <td>0.0</td>\n",
       "      <td>0.0</td>\n",
       "      <td>34.0</td>\n",
       "      <td>0.0</td>\n",
       "      <td>0.0</td>\n",
       "      <td>0.0</td>\n",
       "      <td>0.0</td>\n",
       "      <td>0.0</td>\n",
       "      <td>0.0</td>\n",
       "      <td>0.0</td>\n",
       "      <td>205.0</td>\n",
       "      <td>0.0</td>\n",
       "      <td>152.0</td>\n",
       "      <td>153.0</td>\n",
       "    </tr>\n",
       "    <tr>\n",
       "      <th>3</th>\n",
       "      <td>4</td>\n",
       "      <td>0.0</td>\n",
       "      <td>0.0</td>\n",
       "      <td>0.0</td>\n",
       "      <td>81.0</td>\n",
       "      <td>0.0</td>\n",
       "      <td>0.0</td>\n",
       "      <td>0.0</td>\n",
       "      <td>0.0</td>\n",
       "      <td>0.0</td>\n",
       "      <td>0.0</td>\n",
       "      <td>0.0</td>\n",
       "      <td>207.0</td>\n",
       "      <td>0.0</td>\n",
       "      <td>153.0</td>\n",
       "      <td>154.0</td>\n",
       "    </tr>\n",
       "    <tr>\n",
       "      <th>4</th>\n",
       "      <td>5</td>\n",
       "      <td>0.0</td>\n",
       "      <td>0.0</td>\n",
       "      <td>0.0</td>\n",
       "      <td>78.0</td>\n",
       "      <td>0.0</td>\n",
       "      <td>0.0</td>\n",
       "      <td>0.0</td>\n",
       "      <td>0.0</td>\n",
       "      <td>0.0</td>\n",
       "      <td>0.0</td>\n",
       "      <td>0.0</td>\n",
       "      <td>203.0</td>\n",
       "      <td>0.0</td>\n",
       "      <td>151.0</td>\n",
       "      <td>152.0</td>\n",
       "    </tr>\n",
       "  </tbody>\n",
       "</table>\n",
       "</div>"
      ],
      "text/plain": [
       "   key  Bulk 1  Bulk 2  Bulk 3  Bulk 4  Bulk 5  Bulk 6  Bulk 7  Bulk 8  \\\n",
       "0    1     0.0     0.0     0.0    43.0     0.0     0.0     0.0     0.0   \n",
       "1    2     0.0     0.0     0.0    73.0     0.0     0.0     0.0     0.0   \n",
       "2    3     0.0     0.0     0.0    34.0     0.0     0.0     0.0     0.0   \n",
       "3    4     0.0     0.0     0.0    81.0     0.0     0.0     0.0     0.0   \n",
       "4    5     0.0     0.0     0.0    78.0     0.0     0.0     0.0     0.0   \n",
       "\n",
       "   Bulk 9  Bulk 10  Bulk 11  Bulk 12  Bulk 13  Bulk 14  Bulk 15  \n",
       "0     0.0      0.0      0.0    206.0      0.0    150.0    154.0  \n",
       "1     0.0      0.0      0.0    206.0      0.0    149.0    154.0  \n",
       "2     0.0      0.0      0.0    205.0      0.0    152.0    153.0  \n",
       "3     0.0      0.0      0.0    207.0      0.0    153.0    154.0  \n",
       "4     0.0      0.0      0.0    203.0      0.0    151.0    152.0  "
      ]
     },
     "execution_count": 23,
     "metadata": {},
     "output_type": "execute_result"
    }
   ],
   "source": [
    "data_bulk_new.fillna(0,inplace=True)\n",
    "data_wire_new.fillna(0,inplace=True)\n",
    "data_bulk_new.head() # проверка"
   ]
  },
  {
   "cell_type": "markdown",
   "id": "5bc4c493",
   "metadata": {},
   "source": [
    "По формуле ниже объединим Активную и Реактивную мощности в Полную мощность\n",
    "\n",
    "$$\n",
    "E_{по}=\\sqrt{E_{реак}^2 + E_{акт}^2}\n",
    "$$\n"
   ]
  },
  {
   "cell_type": "code",
   "execution_count": 24,
   "id": "38f44c86",
   "metadata": {},
   "outputs": [],
   "source": [
    "data_arc_new['full_energy']=(data_arc_new['Активная мощность']**(2)+data_arc_new['Реактивная мощность']**(2))**0.5"
   ]
  },
  {
   "cell_type": "code",
   "execution_count": 25,
   "id": "a18928b9",
   "metadata": {},
   "outputs": [
    {
     "data": {
      "text/html": [
       "<div>\n",
       "<style scoped>\n",
       "    .dataframe tbody tr th:only-of-type {\n",
       "        vertical-align: middle;\n",
       "    }\n",
       "\n",
       "    .dataframe tbody tr th {\n",
       "        vertical-align: top;\n",
       "    }\n",
       "\n",
       "    .dataframe thead th {\n",
       "        text-align: right;\n",
       "    }\n",
       "</style>\n",
       "<table border=\"1\" class=\"dataframe\">\n",
       "  <thead>\n",
       "    <tr style=\"text-align: right;\">\n",
       "      <th></th>\n",
       "      <th>key</th>\n",
       "      <th>Начало нагрева дугой</th>\n",
       "      <th>Конец нагрева дугой</th>\n",
       "      <th>Активная мощность</th>\n",
       "      <th>Реактивная мощность</th>\n",
       "      <th>full_energy</th>\n",
       "    </tr>\n",
       "  </thead>\n",
       "  <tbody>\n",
       "    <tr>\n",
       "      <th>0</th>\n",
       "      <td>1</td>\n",
       "      <td>2019-05-03 11:02:14</td>\n",
       "      <td>2019-05-03 11:06:02</td>\n",
       "      <td>0.305130</td>\n",
       "      <td>0.211253</td>\n",
       "      <td>0.371123</td>\n",
       "    </tr>\n",
       "    <tr>\n",
       "      <th>1</th>\n",
       "      <td>1</td>\n",
       "      <td>2019-05-03 11:07:28</td>\n",
       "      <td>2019-05-03 11:10:33</td>\n",
       "      <td>0.765658</td>\n",
       "      <td>0.477438</td>\n",
       "      <td>0.902319</td>\n",
       "    </tr>\n",
       "    <tr>\n",
       "      <th>2</th>\n",
       "      <td>1</td>\n",
       "      <td>2019-05-03 11:11:44</td>\n",
       "      <td>2019-05-03 11:14:36</td>\n",
       "      <td>0.580313</td>\n",
       "      <td>0.430460</td>\n",
       "      <td>0.722536</td>\n",
       "    </tr>\n",
       "    <tr>\n",
       "      <th>3</th>\n",
       "      <td>1</td>\n",
       "      <td>2019-05-03 11:18:14</td>\n",
       "      <td>2019-05-03 11:24:19</td>\n",
       "      <td>0.518496</td>\n",
       "      <td>0.379979</td>\n",
       "      <td>0.642824</td>\n",
       "    </tr>\n",
       "    <tr>\n",
       "      <th>4</th>\n",
       "      <td>1</td>\n",
       "      <td>2019-05-03 11:26:09</td>\n",
       "      <td>2019-05-03 11:28:37</td>\n",
       "      <td>0.867133</td>\n",
       "      <td>0.643691</td>\n",
       "      <td>1.079934</td>\n",
       "    </tr>\n",
       "  </tbody>\n",
       "</table>\n",
       "</div>"
      ],
      "text/plain": [
       "   key Начало нагрева дугой Конец нагрева дугой  Активная мощность  \\\n",
       "0    1  2019-05-03 11:02:14 2019-05-03 11:06:02           0.305130   \n",
       "1    1  2019-05-03 11:07:28 2019-05-03 11:10:33           0.765658   \n",
       "2    1  2019-05-03 11:11:44 2019-05-03 11:14:36           0.580313   \n",
       "3    1  2019-05-03 11:18:14 2019-05-03 11:24:19           0.518496   \n",
       "4    1  2019-05-03 11:26:09 2019-05-03 11:28:37           0.867133   \n",
       "\n",
       "   Реактивная мощность  full_energy  \n",
       "0             0.211253     0.371123  \n",
       "1             0.477438     0.902319  \n",
       "2             0.430460     0.722536  \n",
       "3             0.379979     0.642824  \n",
       "4             0.643691     1.079934  "
      ]
     },
     "execution_count": 25,
     "metadata": {},
     "output_type": "execute_result"
    }
   ],
   "source": [
    "data_arc_new.head()"
   ]
  },
  {
   "cell_type": "markdown",
   "id": "00855bd6",
   "metadata": {},
   "source": [
    "Посмотрим, сколько секунд ушло на каждую строку, укажем это в новом столбце"
   ]
  },
  {
   "cell_type": "code",
   "execution_count": 26,
   "id": "2a20ed37",
   "metadata": {},
   "outputs": [
    {
     "data": {
      "text/html": [
       "<div>\n",
       "<style scoped>\n",
       "    .dataframe tbody tr th:only-of-type {\n",
       "        vertical-align: middle;\n",
       "    }\n",
       "\n",
       "    .dataframe tbody tr th {\n",
       "        vertical-align: top;\n",
       "    }\n",
       "\n",
       "    .dataframe thead th {\n",
       "        text-align: right;\n",
       "    }\n",
       "</style>\n",
       "<table border=\"1\" class=\"dataframe\">\n",
       "  <thead>\n",
       "    <tr style=\"text-align: right;\">\n",
       "      <th></th>\n",
       "      <th>key</th>\n",
       "      <th>Начало нагрева дугой</th>\n",
       "      <th>Конец нагрева дугой</th>\n",
       "      <th>Активная мощность</th>\n",
       "      <th>Реактивная мощность</th>\n",
       "      <th>full_energy</th>\n",
       "      <th>line_time</th>\n",
       "    </tr>\n",
       "  </thead>\n",
       "  <tbody>\n",
       "    <tr>\n",
       "      <th>0</th>\n",
       "      <td>1</td>\n",
       "      <td>2019-05-03 11:02:14</td>\n",
       "      <td>2019-05-03 11:06:02</td>\n",
       "      <td>0.305130</td>\n",
       "      <td>0.211253</td>\n",
       "      <td>0.371123</td>\n",
       "      <td>228.0</td>\n",
       "    </tr>\n",
       "    <tr>\n",
       "      <th>1</th>\n",
       "      <td>1</td>\n",
       "      <td>2019-05-03 11:07:28</td>\n",
       "      <td>2019-05-03 11:10:33</td>\n",
       "      <td>0.765658</td>\n",
       "      <td>0.477438</td>\n",
       "      <td>0.902319</td>\n",
       "      <td>185.0</td>\n",
       "    </tr>\n",
       "    <tr>\n",
       "      <th>2</th>\n",
       "      <td>1</td>\n",
       "      <td>2019-05-03 11:11:44</td>\n",
       "      <td>2019-05-03 11:14:36</td>\n",
       "      <td>0.580313</td>\n",
       "      <td>0.430460</td>\n",
       "      <td>0.722536</td>\n",
       "      <td>172.0</td>\n",
       "    </tr>\n",
       "    <tr>\n",
       "      <th>3</th>\n",
       "      <td>1</td>\n",
       "      <td>2019-05-03 11:18:14</td>\n",
       "      <td>2019-05-03 11:24:19</td>\n",
       "      <td>0.518496</td>\n",
       "      <td>0.379979</td>\n",
       "      <td>0.642824</td>\n",
       "      <td>365.0</td>\n",
       "    </tr>\n",
       "    <tr>\n",
       "      <th>4</th>\n",
       "      <td>1</td>\n",
       "      <td>2019-05-03 11:26:09</td>\n",
       "      <td>2019-05-03 11:28:37</td>\n",
       "      <td>0.867133</td>\n",
       "      <td>0.643691</td>\n",
       "      <td>1.079934</td>\n",
       "      <td>148.0</td>\n",
       "    </tr>\n",
       "  </tbody>\n",
       "</table>\n",
       "</div>"
      ],
      "text/plain": [
       "   key Начало нагрева дугой Конец нагрева дугой  Активная мощность  \\\n",
       "0    1  2019-05-03 11:02:14 2019-05-03 11:06:02           0.305130   \n",
       "1    1  2019-05-03 11:07:28 2019-05-03 11:10:33           0.765658   \n",
       "2    1  2019-05-03 11:11:44 2019-05-03 11:14:36           0.580313   \n",
       "3    1  2019-05-03 11:18:14 2019-05-03 11:24:19           0.518496   \n",
       "4    1  2019-05-03 11:26:09 2019-05-03 11:28:37           0.867133   \n",
       "\n",
       "   Реактивная мощность  full_energy  line_time  \n",
       "0             0.211253     0.371123      228.0  \n",
       "1             0.477438     0.902319      185.0  \n",
       "2             0.430460     0.722536      172.0  \n",
       "3             0.379979     0.642824      365.0  \n",
       "4             0.643691     1.079934      148.0  "
      ]
     },
     "execution_count": 26,
     "metadata": {},
     "output_type": "execute_result"
    }
   ],
   "source": [
    "data_arc_new['line_time']= (data_arc_new['Конец нагрева дугой'] - data_arc_new['Начало нагрева дугой']).dt.total_seconds()\n",
    "data_arc_new.head()"
   ]
  },
  {
   "cell_type": "markdown",
   "id": "5eb0b7b6",
   "metadata": {},
   "source": [
    "Заглядывая вперед, посмотрим на агрегированные данные"
   ]
  },
  {
   "cell_type": "code",
   "execution_count": 27,
   "id": "90bf3c87",
   "metadata": {},
   "outputs": [
    {
     "data": {
      "text/plain": [
       "key\n",
       "1       1098.0\n",
       "2        811.0\n",
       "3        655.0\n",
       "4        741.0\n",
       "5        869.0\n",
       "         ...  \n",
       "3237     909.0\n",
       "3238     546.0\n",
       "3239    1216.0\n",
       "3240     839.0\n",
       "3241     659.0\n",
       "Name: line_time, Length: 3214, dtype: float64"
      ]
     },
     "execution_count": 27,
     "metadata": {},
     "output_type": "execute_result"
    }
   ],
   "source": [
    "data_arc_new.groupby('key')['line_time'].sum()"
   ]
  },
  {
   "cell_type": "markdown",
   "id": "47f973dd",
   "metadata": {},
   "source": [
    "Начнем создавать единый ДатаФрейм, в который будем собирать все данные. Включим в него также и время обработки каждого ковша (вычтем из времени конца время начала)"
   ]
  },
  {
   "cell_type": "code",
   "execution_count": 28,
   "id": "34b962bd",
   "metadata": {},
   "outputs": [
    {
     "data": {
      "text/html": [
       "<div>\n",
       "<style scoped>\n",
       "    .dataframe tbody tr th:only-of-type {\n",
       "        vertical-align: middle;\n",
       "    }\n",
       "\n",
       "    .dataframe tbody tr th {\n",
       "        vertical-align: top;\n",
       "    }\n",
       "\n",
       "    .dataframe thead th {\n",
       "        text-align: right;\n",
       "    }\n",
       "</style>\n",
       "<table border=\"1\" class=\"dataframe\">\n",
       "  <thead>\n",
       "    <tr style=\"text-align: right;\">\n",
       "      <th></th>\n",
       "      <th>full_energy</th>\n",
       "      <th>line_time</th>\n",
       "      <th>time_delta</th>\n",
       "    </tr>\n",
       "    <tr>\n",
       "      <th>key</th>\n",
       "      <th></th>\n",
       "      <th></th>\n",
       "      <th></th>\n",
       "    </tr>\n",
       "  </thead>\n",
       "  <tbody>\n",
       "    <tr>\n",
       "      <th>1</th>\n",
       "      <td>3.718736</td>\n",
       "      <td>1098.0</td>\n",
       "      <td>1583.0</td>\n",
       "    </tr>\n",
       "    <tr>\n",
       "      <th>2</th>\n",
       "      <td>2.588349</td>\n",
       "      <td>811.0</td>\n",
       "      <td>1144.0</td>\n",
       "    </tr>\n",
       "    <tr>\n",
       "      <th>3</th>\n",
       "      <td>5.019223</td>\n",
       "      <td>655.0</td>\n",
       "      <td>1525.0</td>\n",
       "    </tr>\n",
       "    <tr>\n",
       "      <th>4</th>\n",
       "      <td>3.400038</td>\n",
       "      <td>741.0</td>\n",
       "      <td>1093.0</td>\n",
       "    </tr>\n",
       "    <tr>\n",
       "      <th>5</th>\n",
       "      <td>2.816980</td>\n",
       "      <td>869.0</td>\n",
       "      <td>1362.0</td>\n",
       "    </tr>\n",
       "  </tbody>\n",
       "</table>\n",
       "</div>"
      ],
      "text/plain": [
       "     full_energy  line_time  time_delta\n",
       "key                                    \n",
       "1       3.718736     1098.0      1583.0\n",
       "2       2.588349      811.0      1144.0\n",
       "3       5.019223      655.0      1525.0\n",
       "4       3.400038      741.0      1093.0\n",
       "5       2.816980      869.0      1362.0"
      ]
     },
     "execution_count": 28,
     "metadata": {},
     "output_type": "execute_result"
    }
   ],
   "source": [
    "table = pd.pivot_table(data_arc_new, values=['Начало нагрева дугой','Конец нагрева дугой','full_energy','line_time'], index=['key'],\n",
    "                       aggfunc={'Начало нагрева дугой': np.min,\n",
    "                                'Конец нагрева дугой' : np.max,\n",
    "                                'full_energy': np.sum,\n",
    "                               'line_time': np.sum})\n",
    "table['time_delta']=pd.to_datetime(table['Конец нагрева дугой'])-pd.to_datetime(table['Начало нагрева дугой'])\n",
    "table['time_delta']=table['time_delta'].dt.total_seconds()\n",
    "table.drop(['Конец нагрева дугой','Начало нагрева дугой'],axis=1,inplace=True)\n",
    "table.head()"
   ]
  },
  {
   "cell_type": "markdown",
   "id": "308c6e3c",
   "metadata": {},
   "source": [
    "Иные данные о датах, кроме затронутых в клетке выше, не понадабятся. Значит мы не возьмём их в итоговый ДатаФрейм.\n",
    "\n",
    "Укажем в списке все числовые данные."
   ]
  },
  {
   "cell_type": "code",
   "execution_count": 29,
   "id": "27e72845",
   "metadata": {},
   "outputs": [],
   "source": [
    "all_data_n=[data_arc_new,data_bulk_new,data_gas_new,data_temp_new,data_wire_new]"
   ]
  },
  {
   "cell_type": "markdown",
   "id": "43429cd1",
   "metadata": {},
   "source": [
    "Для корректного обучения нужны только совпадающие ключи во ВСЕХ таблицах. Отберём через множество нужные ключи."
   ]
  },
  {
   "cell_type": "code",
   "execution_count": 30,
   "id": "4c8bf7c9",
   "metadata": {},
   "outputs": [
    {
     "name": "stdout",
     "output_type": "stream",
     "text": [
      "Всего ключей: 2329\n"
     ]
    }
   ],
   "source": [
    "uniq_keys=set(range(10200))\n",
    "for i in all_data_n:\n",
    "    uniq_keys=uniq_keys.intersection(i['key'].unique())\n",
    "print(\"Всего ключей:\",len(uniq_keys))"
   ]
  },
  {
   "cell_type": "code",
   "execution_count": 31,
   "id": "71ac238e",
   "metadata": {},
   "outputs": [],
   "source": [
    "table=table.loc[list(uniq_keys)]"
   ]
  },
  {
   "cell_type": "code",
   "execution_count": 32,
   "id": "38d90887",
   "metadata": {},
   "outputs": [
    {
     "data": {
      "text/html": [
       "<div>\n",
       "<style scoped>\n",
       "    .dataframe tbody tr th:only-of-type {\n",
       "        vertical-align: middle;\n",
       "    }\n",
       "\n",
       "    .dataframe tbody tr th {\n",
       "        vertical-align: top;\n",
       "    }\n",
       "\n",
       "    .dataframe thead th {\n",
       "        text-align: right;\n",
       "    }\n",
       "</style>\n",
       "<table border=\"1\" class=\"dataframe\">\n",
       "  <thead>\n",
       "    <tr style=\"text-align: right;\">\n",
       "      <th></th>\n",
       "      <th>full_energy</th>\n",
       "      <th>line_time</th>\n",
       "      <th>time_delta</th>\n",
       "    </tr>\n",
       "    <tr>\n",
       "      <th>key</th>\n",
       "      <th></th>\n",
       "      <th></th>\n",
       "      <th></th>\n",
       "    </tr>\n",
       "  </thead>\n",
       "  <tbody>\n",
       "    <tr>\n",
       "      <th>1</th>\n",
       "      <td>3.718736</td>\n",
       "      <td>1098.0</td>\n",
       "      <td>1583.0</td>\n",
       "    </tr>\n",
       "    <tr>\n",
       "      <th>2</th>\n",
       "      <td>2.588349</td>\n",
       "      <td>811.0</td>\n",
       "      <td>1144.0</td>\n",
       "    </tr>\n",
       "    <tr>\n",
       "      <th>3</th>\n",
       "      <td>5.019223</td>\n",
       "      <td>655.0</td>\n",
       "      <td>1525.0</td>\n",
       "    </tr>\n",
       "    <tr>\n",
       "      <th>4</th>\n",
       "      <td>3.400038</td>\n",
       "      <td>741.0</td>\n",
       "      <td>1093.0</td>\n",
       "    </tr>\n",
       "    <tr>\n",
       "      <th>5</th>\n",
       "      <td>2.816980</td>\n",
       "      <td>869.0</td>\n",
       "      <td>1362.0</td>\n",
       "    </tr>\n",
       "  </tbody>\n",
       "</table>\n",
       "</div>"
      ],
      "text/plain": [
       "     full_energy  line_time  time_delta\n",
       "key                                    \n",
       "1       3.718736     1098.0      1583.0\n",
       "2       2.588349      811.0      1144.0\n",
       "3       5.019223      655.0      1525.0\n",
       "4       3.400038      741.0      1093.0\n",
       "5       2.816980      869.0      1362.0"
      ]
     },
     "execution_count": 32,
     "metadata": {},
     "output_type": "execute_result"
    }
   ],
   "source": [
    "table.head()"
   ]
  },
  {
   "cell_type": "markdown",
   "id": "e94eae65",
   "metadata": {},
   "source": [
    "**Присоединим** данные о Bulk"
   ]
  },
  {
   "cell_type": "code",
   "execution_count": 33,
   "id": "a08811a5",
   "metadata": {},
   "outputs": [],
   "source": [
    "table=table.join(data_bulk_new.set_index('key'),on='key')"
   ]
  },
  {
   "cell_type": "code",
   "execution_count": 34,
   "id": "78aa7002",
   "metadata": {},
   "outputs": [
    {
     "data": {
      "text/html": [
       "<div>\n",
       "<style scoped>\n",
       "    .dataframe tbody tr th:only-of-type {\n",
       "        vertical-align: middle;\n",
       "    }\n",
       "\n",
       "    .dataframe tbody tr th {\n",
       "        vertical-align: top;\n",
       "    }\n",
       "\n",
       "    .dataframe thead th {\n",
       "        text-align: right;\n",
       "    }\n",
       "</style>\n",
       "<table border=\"1\" class=\"dataframe\">\n",
       "  <thead>\n",
       "    <tr style=\"text-align: right;\">\n",
       "      <th></th>\n",
       "      <th>full_energy</th>\n",
       "      <th>line_time</th>\n",
       "      <th>time_delta</th>\n",
       "      <th>Bulk 1</th>\n",
       "      <th>Bulk 2</th>\n",
       "      <th>Bulk 3</th>\n",
       "      <th>Bulk 4</th>\n",
       "      <th>Bulk 5</th>\n",
       "      <th>Bulk 6</th>\n",
       "      <th>Bulk 7</th>\n",
       "      <th>Bulk 8</th>\n",
       "      <th>Bulk 9</th>\n",
       "      <th>Bulk 10</th>\n",
       "      <th>Bulk 11</th>\n",
       "      <th>Bulk 12</th>\n",
       "      <th>Bulk 13</th>\n",
       "      <th>Bulk 14</th>\n",
       "      <th>Bulk 15</th>\n",
       "    </tr>\n",
       "    <tr>\n",
       "      <th>key</th>\n",
       "      <th></th>\n",
       "      <th></th>\n",
       "      <th></th>\n",
       "      <th></th>\n",
       "      <th></th>\n",
       "      <th></th>\n",
       "      <th></th>\n",
       "      <th></th>\n",
       "      <th></th>\n",
       "      <th></th>\n",
       "      <th></th>\n",
       "      <th></th>\n",
       "      <th></th>\n",
       "      <th></th>\n",
       "      <th></th>\n",
       "      <th></th>\n",
       "      <th></th>\n",
       "      <th></th>\n",
       "    </tr>\n",
       "  </thead>\n",
       "  <tbody>\n",
       "    <tr>\n",
       "      <th>1</th>\n",
       "      <td>3.718736</td>\n",
       "      <td>1098.0</td>\n",
       "      <td>1583.0</td>\n",
       "      <td>0.0</td>\n",
       "      <td>0.0</td>\n",
       "      <td>0.0</td>\n",
       "      <td>43.0</td>\n",
       "      <td>0.0</td>\n",
       "      <td>0.0</td>\n",
       "      <td>0.0</td>\n",
       "      <td>0.0</td>\n",
       "      <td>0.0</td>\n",
       "      <td>0.0</td>\n",
       "      <td>0.0</td>\n",
       "      <td>206.0</td>\n",
       "      <td>0.0</td>\n",
       "      <td>150.0</td>\n",
       "      <td>154.0</td>\n",
       "    </tr>\n",
       "    <tr>\n",
       "      <th>2</th>\n",
       "      <td>2.588349</td>\n",
       "      <td>811.0</td>\n",
       "      <td>1144.0</td>\n",
       "      <td>0.0</td>\n",
       "      <td>0.0</td>\n",
       "      <td>0.0</td>\n",
       "      <td>73.0</td>\n",
       "      <td>0.0</td>\n",
       "      <td>0.0</td>\n",
       "      <td>0.0</td>\n",
       "      <td>0.0</td>\n",
       "      <td>0.0</td>\n",
       "      <td>0.0</td>\n",
       "      <td>0.0</td>\n",
       "      <td>206.0</td>\n",
       "      <td>0.0</td>\n",
       "      <td>149.0</td>\n",
       "      <td>154.0</td>\n",
       "    </tr>\n",
       "    <tr>\n",
       "      <th>3</th>\n",
       "      <td>5.019223</td>\n",
       "      <td>655.0</td>\n",
       "      <td>1525.0</td>\n",
       "      <td>0.0</td>\n",
       "      <td>0.0</td>\n",
       "      <td>0.0</td>\n",
       "      <td>34.0</td>\n",
       "      <td>0.0</td>\n",
       "      <td>0.0</td>\n",
       "      <td>0.0</td>\n",
       "      <td>0.0</td>\n",
       "      <td>0.0</td>\n",
       "      <td>0.0</td>\n",
       "      <td>0.0</td>\n",
       "      <td>205.0</td>\n",
       "      <td>0.0</td>\n",
       "      <td>152.0</td>\n",
       "      <td>153.0</td>\n",
       "    </tr>\n",
       "    <tr>\n",
       "      <th>4</th>\n",
       "      <td>3.400038</td>\n",
       "      <td>741.0</td>\n",
       "      <td>1093.0</td>\n",
       "      <td>0.0</td>\n",
       "      <td>0.0</td>\n",
       "      <td>0.0</td>\n",
       "      <td>81.0</td>\n",
       "      <td>0.0</td>\n",
       "      <td>0.0</td>\n",
       "      <td>0.0</td>\n",
       "      <td>0.0</td>\n",
       "      <td>0.0</td>\n",
       "      <td>0.0</td>\n",
       "      <td>0.0</td>\n",
       "      <td>207.0</td>\n",
       "      <td>0.0</td>\n",
       "      <td>153.0</td>\n",
       "      <td>154.0</td>\n",
       "    </tr>\n",
       "    <tr>\n",
       "      <th>5</th>\n",
       "      <td>2.816980</td>\n",
       "      <td>869.0</td>\n",
       "      <td>1362.0</td>\n",
       "      <td>0.0</td>\n",
       "      <td>0.0</td>\n",
       "      <td>0.0</td>\n",
       "      <td>78.0</td>\n",
       "      <td>0.0</td>\n",
       "      <td>0.0</td>\n",
       "      <td>0.0</td>\n",
       "      <td>0.0</td>\n",
       "      <td>0.0</td>\n",
       "      <td>0.0</td>\n",
       "      <td>0.0</td>\n",
       "      <td>203.0</td>\n",
       "      <td>0.0</td>\n",
       "      <td>151.0</td>\n",
       "      <td>152.0</td>\n",
       "    </tr>\n",
       "  </tbody>\n",
       "</table>\n",
       "</div>"
      ],
      "text/plain": [
       "     full_energy  line_time  time_delta  Bulk 1  Bulk 2  Bulk 3  Bulk 4  \\\n",
       "key                                                                       \n",
       "1       3.718736     1098.0      1583.0     0.0     0.0     0.0    43.0   \n",
       "2       2.588349      811.0      1144.0     0.0     0.0     0.0    73.0   \n",
       "3       5.019223      655.0      1525.0     0.0     0.0     0.0    34.0   \n",
       "4       3.400038      741.0      1093.0     0.0     0.0     0.0    81.0   \n",
       "5       2.816980      869.0      1362.0     0.0     0.0     0.0    78.0   \n",
       "\n",
       "     Bulk 5  Bulk 6  Bulk 7  Bulk 8  Bulk 9  Bulk 10  Bulk 11  Bulk 12  \\\n",
       "key                                                                      \n",
       "1       0.0     0.0     0.0     0.0     0.0      0.0      0.0    206.0   \n",
       "2       0.0     0.0     0.0     0.0     0.0      0.0      0.0    206.0   \n",
       "3       0.0     0.0     0.0     0.0     0.0      0.0      0.0    205.0   \n",
       "4       0.0     0.0     0.0     0.0     0.0      0.0      0.0    207.0   \n",
       "5       0.0     0.0     0.0     0.0     0.0      0.0      0.0    203.0   \n",
       "\n",
       "     Bulk 13  Bulk 14  Bulk 15  \n",
       "key                             \n",
       "1        0.0    150.0    154.0  \n",
       "2        0.0    149.0    154.0  \n",
       "3        0.0    152.0    153.0  \n",
       "4        0.0    153.0    154.0  \n",
       "5        0.0    151.0    152.0  "
      ]
     },
     "execution_count": 34,
     "metadata": {},
     "output_type": "execute_result"
    }
   ],
   "source": [
    "table.head()"
   ]
  },
  {
   "cell_type": "markdown",
   "id": "bee92d8f",
   "metadata": {},
   "source": [
    "**Присоединим** данные о Gas"
   ]
  },
  {
   "cell_type": "code",
   "execution_count": 35,
   "id": "ca759f2c",
   "metadata": {},
   "outputs": [],
   "source": [
    "table=table.join(data_gas_new.set_index('key'),on='key')"
   ]
  },
  {
   "cell_type": "code",
   "execution_count": 36,
   "id": "ac755367",
   "metadata": {},
   "outputs": [
    {
     "data": {
      "text/html": [
       "<div>\n",
       "<style scoped>\n",
       "    .dataframe tbody tr th:only-of-type {\n",
       "        vertical-align: middle;\n",
       "    }\n",
       "\n",
       "    .dataframe tbody tr th {\n",
       "        vertical-align: top;\n",
       "    }\n",
       "\n",
       "    .dataframe thead th {\n",
       "        text-align: right;\n",
       "    }\n",
       "</style>\n",
       "<table border=\"1\" class=\"dataframe\">\n",
       "  <thead>\n",
       "    <tr style=\"text-align: right;\">\n",
       "      <th></th>\n",
       "      <th>full_energy</th>\n",
       "      <th>line_time</th>\n",
       "      <th>time_delta</th>\n",
       "      <th>Bulk 1</th>\n",
       "      <th>Bulk 2</th>\n",
       "      <th>Bulk 3</th>\n",
       "      <th>Bulk 4</th>\n",
       "      <th>Bulk 5</th>\n",
       "      <th>Bulk 6</th>\n",
       "      <th>Bulk 7</th>\n",
       "      <th>Bulk 8</th>\n",
       "      <th>Bulk 9</th>\n",
       "      <th>Bulk 10</th>\n",
       "      <th>Bulk 11</th>\n",
       "      <th>Bulk 12</th>\n",
       "      <th>Bulk 13</th>\n",
       "      <th>Bulk 14</th>\n",
       "      <th>Bulk 15</th>\n",
       "      <th>Газ 1</th>\n",
       "    </tr>\n",
       "    <tr>\n",
       "      <th>key</th>\n",
       "      <th></th>\n",
       "      <th></th>\n",
       "      <th></th>\n",
       "      <th></th>\n",
       "      <th></th>\n",
       "      <th></th>\n",
       "      <th></th>\n",
       "      <th></th>\n",
       "      <th></th>\n",
       "      <th></th>\n",
       "      <th></th>\n",
       "      <th></th>\n",
       "      <th></th>\n",
       "      <th></th>\n",
       "      <th></th>\n",
       "      <th></th>\n",
       "      <th></th>\n",
       "      <th></th>\n",
       "      <th></th>\n",
       "    </tr>\n",
       "  </thead>\n",
       "  <tbody>\n",
       "    <tr>\n",
       "      <th>1</th>\n",
       "      <td>3.718736</td>\n",
       "      <td>1098.0</td>\n",
       "      <td>1583.0</td>\n",
       "      <td>0.0</td>\n",
       "      <td>0.0</td>\n",
       "      <td>0.0</td>\n",
       "      <td>43.0</td>\n",
       "      <td>0.0</td>\n",
       "      <td>0.0</td>\n",
       "      <td>0.0</td>\n",
       "      <td>0.0</td>\n",
       "      <td>0.0</td>\n",
       "      <td>0.0</td>\n",
       "      <td>0.0</td>\n",
       "      <td>206.0</td>\n",
       "      <td>0.0</td>\n",
       "      <td>150.0</td>\n",
       "      <td>154.0</td>\n",
       "      <td>29.749986</td>\n",
       "    </tr>\n",
       "    <tr>\n",
       "      <th>2</th>\n",
       "      <td>2.588349</td>\n",
       "      <td>811.0</td>\n",
       "      <td>1144.0</td>\n",
       "      <td>0.0</td>\n",
       "      <td>0.0</td>\n",
       "      <td>0.0</td>\n",
       "      <td>73.0</td>\n",
       "      <td>0.0</td>\n",
       "      <td>0.0</td>\n",
       "      <td>0.0</td>\n",
       "      <td>0.0</td>\n",
       "      <td>0.0</td>\n",
       "      <td>0.0</td>\n",
       "      <td>0.0</td>\n",
       "      <td>206.0</td>\n",
       "      <td>0.0</td>\n",
       "      <td>149.0</td>\n",
       "      <td>154.0</td>\n",
       "      <td>12.555561</td>\n",
       "    </tr>\n",
       "    <tr>\n",
       "      <th>3</th>\n",
       "      <td>5.019223</td>\n",
       "      <td>655.0</td>\n",
       "      <td>1525.0</td>\n",
       "      <td>0.0</td>\n",
       "      <td>0.0</td>\n",
       "      <td>0.0</td>\n",
       "      <td>34.0</td>\n",
       "      <td>0.0</td>\n",
       "      <td>0.0</td>\n",
       "      <td>0.0</td>\n",
       "      <td>0.0</td>\n",
       "      <td>0.0</td>\n",
       "      <td>0.0</td>\n",
       "      <td>0.0</td>\n",
       "      <td>205.0</td>\n",
       "      <td>0.0</td>\n",
       "      <td>152.0</td>\n",
       "      <td>153.0</td>\n",
       "      <td>28.554793</td>\n",
       "    </tr>\n",
       "    <tr>\n",
       "      <th>4</th>\n",
       "      <td>3.400038</td>\n",
       "      <td>741.0</td>\n",
       "      <td>1093.0</td>\n",
       "      <td>0.0</td>\n",
       "      <td>0.0</td>\n",
       "      <td>0.0</td>\n",
       "      <td>81.0</td>\n",
       "      <td>0.0</td>\n",
       "      <td>0.0</td>\n",
       "      <td>0.0</td>\n",
       "      <td>0.0</td>\n",
       "      <td>0.0</td>\n",
       "      <td>0.0</td>\n",
       "      <td>0.0</td>\n",
       "      <td>207.0</td>\n",
       "      <td>0.0</td>\n",
       "      <td>153.0</td>\n",
       "      <td>154.0</td>\n",
       "      <td>18.841219</td>\n",
       "    </tr>\n",
       "    <tr>\n",
       "      <th>5</th>\n",
       "      <td>2.816980</td>\n",
       "      <td>869.0</td>\n",
       "      <td>1362.0</td>\n",
       "      <td>0.0</td>\n",
       "      <td>0.0</td>\n",
       "      <td>0.0</td>\n",
       "      <td>78.0</td>\n",
       "      <td>0.0</td>\n",
       "      <td>0.0</td>\n",
       "      <td>0.0</td>\n",
       "      <td>0.0</td>\n",
       "      <td>0.0</td>\n",
       "      <td>0.0</td>\n",
       "      <td>0.0</td>\n",
       "      <td>203.0</td>\n",
       "      <td>0.0</td>\n",
       "      <td>151.0</td>\n",
       "      <td>152.0</td>\n",
       "      <td>5.413692</td>\n",
       "    </tr>\n",
       "  </tbody>\n",
       "</table>\n",
       "</div>"
      ],
      "text/plain": [
       "     full_energy  line_time  time_delta  Bulk 1  Bulk 2  Bulk 3  Bulk 4  \\\n",
       "key                                                                       \n",
       "1       3.718736     1098.0      1583.0     0.0     0.0     0.0    43.0   \n",
       "2       2.588349      811.0      1144.0     0.0     0.0     0.0    73.0   \n",
       "3       5.019223      655.0      1525.0     0.0     0.0     0.0    34.0   \n",
       "4       3.400038      741.0      1093.0     0.0     0.0     0.0    81.0   \n",
       "5       2.816980      869.0      1362.0     0.0     0.0     0.0    78.0   \n",
       "\n",
       "     Bulk 5  Bulk 6  Bulk 7  Bulk 8  Bulk 9  Bulk 10  Bulk 11  Bulk 12  \\\n",
       "key                                                                      \n",
       "1       0.0     0.0     0.0     0.0     0.0      0.0      0.0    206.0   \n",
       "2       0.0     0.0     0.0     0.0     0.0      0.0      0.0    206.0   \n",
       "3       0.0     0.0     0.0     0.0     0.0      0.0      0.0    205.0   \n",
       "4       0.0     0.0     0.0     0.0     0.0      0.0      0.0    207.0   \n",
       "5       0.0     0.0     0.0     0.0     0.0      0.0      0.0    203.0   \n",
       "\n",
       "     Bulk 13  Bulk 14  Bulk 15      Газ 1  \n",
       "key                                        \n",
       "1        0.0    150.0    154.0  29.749986  \n",
       "2        0.0    149.0    154.0  12.555561  \n",
       "3        0.0    152.0    153.0  28.554793  \n",
       "4        0.0    153.0    154.0  18.841219  \n",
       "5        0.0    151.0    152.0   5.413692  "
      ]
     },
     "execution_count": 36,
     "metadata": {},
     "output_type": "execute_result"
    }
   ],
   "source": [
    "table.head()"
   ]
  },
  {
   "cell_type": "markdown",
   "id": "0c524280",
   "metadata": {},
   "source": [
    "**Присоединим** данные о Температуре. Укажим начальную (суффикс _be (beginning) в конце названия столбца) и конечную."
   ]
  },
  {
   "cell_type": "code",
   "execution_count": 37,
   "id": "f938c7fa",
   "metadata": {},
   "outputs": [],
   "source": [
    "table=table.join(data_temp_new[['key', 'Температура']].groupby('key').first(),on='key')\n",
    "table=table.join(data_temp_new[['key', 'Температура']].groupby('key').last(),on='key',lsuffix='_be')"
   ]
  },
  {
   "cell_type": "code",
   "execution_count": 38,
   "id": "ec458251",
   "metadata": {},
   "outputs": [
    {
     "data": {
      "text/html": [
       "<div>\n",
       "<style scoped>\n",
       "    .dataframe tbody tr th:only-of-type {\n",
       "        vertical-align: middle;\n",
       "    }\n",
       "\n",
       "    .dataframe tbody tr th {\n",
       "        vertical-align: top;\n",
       "    }\n",
       "\n",
       "    .dataframe thead th {\n",
       "        text-align: right;\n",
       "    }\n",
       "</style>\n",
       "<table border=\"1\" class=\"dataframe\">\n",
       "  <thead>\n",
       "    <tr style=\"text-align: right;\">\n",
       "      <th></th>\n",
       "      <th>full_energy</th>\n",
       "      <th>line_time</th>\n",
       "      <th>time_delta</th>\n",
       "      <th>Bulk 1</th>\n",
       "      <th>Bulk 2</th>\n",
       "      <th>Bulk 3</th>\n",
       "      <th>Bulk 4</th>\n",
       "      <th>Bulk 5</th>\n",
       "      <th>Bulk 6</th>\n",
       "      <th>Bulk 7</th>\n",
       "      <th>...</th>\n",
       "      <th>Bulk 9</th>\n",
       "      <th>Bulk 10</th>\n",
       "      <th>Bulk 11</th>\n",
       "      <th>Bulk 12</th>\n",
       "      <th>Bulk 13</th>\n",
       "      <th>Bulk 14</th>\n",
       "      <th>Bulk 15</th>\n",
       "      <th>Газ 1</th>\n",
       "      <th>Температура_be</th>\n",
       "      <th>Температура</th>\n",
       "    </tr>\n",
       "    <tr>\n",
       "      <th>key</th>\n",
       "      <th></th>\n",
       "      <th></th>\n",
       "      <th></th>\n",
       "      <th></th>\n",
       "      <th></th>\n",
       "      <th></th>\n",
       "      <th></th>\n",
       "      <th></th>\n",
       "      <th></th>\n",
       "      <th></th>\n",
       "      <th></th>\n",
       "      <th></th>\n",
       "      <th></th>\n",
       "      <th></th>\n",
       "      <th></th>\n",
       "      <th></th>\n",
       "      <th></th>\n",
       "      <th></th>\n",
       "      <th></th>\n",
       "      <th></th>\n",
       "      <th></th>\n",
       "    </tr>\n",
       "  </thead>\n",
       "  <tbody>\n",
       "    <tr>\n",
       "      <th>1</th>\n",
       "      <td>3.718736</td>\n",
       "      <td>1098.0</td>\n",
       "      <td>1583.0</td>\n",
       "      <td>0.0</td>\n",
       "      <td>0.0</td>\n",
       "      <td>0.0</td>\n",
       "      <td>43.0</td>\n",
       "      <td>0.0</td>\n",
       "      <td>0.0</td>\n",
       "      <td>0.0</td>\n",
       "      <td>...</td>\n",
       "      <td>0.0</td>\n",
       "      <td>0.0</td>\n",
       "      <td>0.0</td>\n",
       "      <td>206.0</td>\n",
       "      <td>0.0</td>\n",
       "      <td>150.0</td>\n",
       "      <td>154.0</td>\n",
       "      <td>29.749986</td>\n",
       "      <td>1571.0</td>\n",
       "      <td>1613.0</td>\n",
       "    </tr>\n",
       "    <tr>\n",
       "      <th>2</th>\n",
       "      <td>2.588349</td>\n",
       "      <td>811.0</td>\n",
       "      <td>1144.0</td>\n",
       "      <td>0.0</td>\n",
       "      <td>0.0</td>\n",
       "      <td>0.0</td>\n",
       "      <td>73.0</td>\n",
       "      <td>0.0</td>\n",
       "      <td>0.0</td>\n",
       "      <td>0.0</td>\n",
       "      <td>...</td>\n",
       "      <td>0.0</td>\n",
       "      <td>0.0</td>\n",
       "      <td>0.0</td>\n",
       "      <td>206.0</td>\n",
       "      <td>0.0</td>\n",
       "      <td>149.0</td>\n",
       "      <td>154.0</td>\n",
       "      <td>12.555561</td>\n",
       "      <td>1581.0</td>\n",
       "      <td>1602.0</td>\n",
       "    </tr>\n",
       "    <tr>\n",
       "      <th>3</th>\n",
       "      <td>5.019223</td>\n",
       "      <td>655.0</td>\n",
       "      <td>1525.0</td>\n",
       "      <td>0.0</td>\n",
       "      <td>0.0</td>\n",
       "      <td>0.0</td>\n",
       "      <td>34.0</td>\n",
       "      <td>0.0</td>\n",
       "      <td>0.0</td>\n",
       "      <td>0.0</td>\n",
       "      <td>...</td>\n",
       "      <td>0.0</td>\n",
       "      <td>0.0</td>\n",
       "      <td>0.0</td>\n",
       "      <td>205.0</td>\n",
       "      <td>0.0</td>\n",
       "      <td>152.0</td>\n",
       "      <td>153.0</td>\n",
       "      <td>28.554793</td>\n",
       "      <td>1596.0</td>\n",
       "      <td>1599.0</td>\n",
       "    </tr>\n",
       "    <tr>\n",
       "      <th>4</th>\n",
       "      <td>3.400038</td>\n",
       "      <td>741.0</td>\n",
       "      <td>1093.0</td>\n",
       "      <td>0.0</td>\n",
       "      <td>0.0</td>\n",
       "      <td>0.0</td>\n",
       "      <td>81.0</td>\n",
       "      <td>0.0</td>\n",
       "      <td>0.0</td>\n",
       "      <td>0.0</td>\n",
       "      <td>...</td>\n",
       "      <td>0.0</td>\n",
       "      <td>0.0</td>\n",
       "      <td>0.0</td>\n",
       "      <td>207.0</td>\n",
       "      <td>0.0</td>\n",
       "      <td>153.0</td>\n",
       "      <td>154.0</td>\n",
       "      <td>18.841219</td>\n",
       "      <td>1601.0</td>\n",
       "      <td>1625.0</td>\n",
       "    </tr>\n",
       "    <tr>\n",
       "      <th>5</th>\n",
       "      <td>2.816980</td>\n",
       "      <td>869.0</td>\n",
       "      <td>1362.0</td>\n",
       "      <td>0.0</td>\n",
       "      <td>0.0</td>\n",
       "      <td>0.0</td>\n",
       "      <td>78.0</td>\n",
       "      <td>0.0</td>\n",
       "      <td>0.0</td>\n",
       "      <td>0.0</td>\n",
       "      <td>...</td>\n",
       "      <td>0.0</td>\n",
       "      <td>0.0</td>\n",
       "      <td>0.0</td>\n",
       "      <td>203.0</td>\n",
       "      <td>0.0</td>\n",
       "      <td>151.0</td>\n",
       "      <td>152.0</td>\n",
       "      <td>5.413692</td>\n",
       "      <td>1576.0</td>\n",
       "      <td>1602.0</td>\n",
       "    </tr>\n",
       "  </tbody>\n",
       "</table>\n",
       "<p>5 rows × 21 columns</p>\n",
       "</div>"
      ],
      "text/plain": [
       "     full_energy  line_time  time_delta  Bulk 1  Bulk 2  Bulk 3  Bulk 4  \\\n",
       "key                                                                       \n",
       "1       3.718736     1098.0      1583.0     0.0     0.0     0.0    43.0   \n",
       "2       2.588349      811.0      1144.0     0.0     0.0     0.0    73.0   \n",
       "3       5.019223      655.0      1525.0     0.0     0.0     0.0    34.0   \n",
       "4       3.400038      741.0      1093.0     0.0     0.0     0.0    81.0   \n",
       "5       2.816980      869.0      1362.0     0.0     0.0     0.0    78.0   \n",
       "\n",
       "     Bulk 5  Bulk 6  Bulk 7  ...  Bulk 9  Bulk 10  Bulk 11  Bulk 12  Bulk 13  \\\n",
       "key                          ...                                               \n",
       "1       0.0     0.0     0.0  ...     0.0      0.0      0.0    206.0      0.0   \n",
       "2       0.0     0.0     0.0  ...     0.0      0.0      0.0    206.0      0.0   \n",
       "3       0.0     0.0     0.0  ...     0.0      0.0      0.0    205.0      0.0   \n",
       "4       0.0     0.0     0.0  ...     0.0      0.0      0.0    207.0      0.0   \n",
       "5       0.0     0.0     0.0  ...     0.0      0.0      0.0    203.0      0.0   \n",
       "\n",
       "     Bulk 14  Bulk 15      Газ 1  Температура_be  Температура  \n",
       "key                                                            \n",
       "1      150.0    154.0  29.749986          1571.0       1613.0  \n",
       "2      149.0    154.0  12.555561          1581.0       1602.0  \n",
       "3      152.0    153.0  28.554793          1596.0       1599.0  \n",
       "4      153.0    154.0  18.841219          1601.0       1625.0  \n",
       "5      151.0    152.0   5.413692          1576.0       1602.0  \n",
       "\n",
       "[5 rows x 21 columns]"
      ]
     },
     "execution_count": 38,
     "metadata": {},
     "output_type": "execute_result"
    }
   ],
   "source": [
    "table.head()"
   ]
  },
  {
   "cell_type": "markdown",
   "id": "bc24c2ad",
   "metadata": {},
   "source": [
    "**Присоединим** данные о Wire"
   ]
  },
  {
   "cell_type": "code",
   "execution_count": 39,
   "id": "e29598e5",
   "metadata": {},
   "outputs": [],
   "source": [
    "table=table.join(data_wire_new.groupby('key').last(),on='key')"
   ]
  },
  {
   "cell_type": "code",
   "execution_count": 40,
   "id": "7e0edced",
   "metadata": {},
   "outputs": [
    {
     "data": {
      "text/plain": [
       "array([0.])"
      ]
     },
     "execution_count": 40,
     "metadata": {},
     "output_type": "execute_result"
    }
   ],
   "source": [
    "table['Wire 5'].unique()"
   ]
  },
  {
   "cell_type": "markdown",
   "id": "b73525bf",
   "metadata": {},
   "source": [
    "Получилось, что столбец Wire 5 имеет только значения 0. Удалим его."
   ]
  },
  {
   "cell_type": "code",
   "execution_count": 41,
   "id": "645e449d",
   "metadata": {},
   "outputs": [],
   "source": [
    "table.drop('Wire 5',inplace=True,axis=1)"
   ]
  },
  {
   "cell_type": "code",
   "execution_count": 42,
   "id": "352f6747",
   "metadata": {},
   "outputs": [
    {
     "name": "stdout",
     "output_type": "stream",
     "text": [
      "<class 'pandas.core.frame.DataFrame'>\n",
      "Int64Index: 2329 entries, 1 to 2499\n",
      "Data columns (total 29 columns):\n",
      " #   Column          Non-Null Count  Dtype  \n",
      "---  ------          --------------  -----  \n",
      " 0   full_energy     2329 non-null   float64\n",
      " 1   line_time       2329 non-null   float64\n",
      " 2   time_delta      2329 non-null   float64\n",
      " 3   Bulk 1          2329 non-null   float64\n",
      " 4   Bulk 2          2329 non-null   float64\n",
      " 5   Bulk 3          2329 non-null   float64\n",
      " 6   Bulk 4          2329 non-null   float64\n",
      " 7   Bulk 5          2329 non-null   float64\n",
      " 8   Bulk 6          2329 non-null   float64\n",
      " 9   Bulk 7          2329 non-null   float64\n",
      " 10  Bulk 8          2329 non-null   float64\n",
      " 11  Bulk 9          2329 non-null   float64\n",
      " 12  Bulk 10         2329 non-null   float64\n",
      " 13  Bulk 11         2329 non-null   float64\n",
      " 14  Bulk 12         2329 non-null   float64\n",
      " 15  Bulk 13         2329 non-null   float64\n",
      " 16  Bulk 14         2329 non-null   float64\n",
      " 17  Bulk 15         2329 non-null   float64\n",
      " 18  Газ 1           2329 non-null   float64\n",
      " 19  Температура_be  2329 non-null   float64\n",
      " 20  Температура     2329 non-null   float64\n",
      " 21  Wire 1          2329 non-null   float64\n",
      " 22  Wire 2          2329 non-null   float64\n",
      " 23  Wire 3          2329 non-null   float64\n",
      " 24  Wire 4          2329 non-null   float64\n",
      " 25  Wire 6          2329 non-null   float64\n",
      " 26  Wire 7          2329 non-null   float64\n",
      " 27  Wire 8          2329 non-null   float64\n",
      " 28  Wire 9          2329 non-null   float64\n",
      "dtypes: float64(29)\n",
      "memory usage: 545.9 KB\n"
     ]
    }
   ],
   "source": [
    "table.info()"
   ]
  },
  {
   "cell_type": "markdown",
   "id": "8982b51a",
   "metadata": {},
   "source": [
    "Рассмотрим корелляции для устранения автокорелляции"
   ]
  },
  {
   "cell_type": "code",
   "execution_count": 43,
   "id": "c1fa9490",
   "metadata": {
    "scrolled": true
   },
   "outputs": [
    {
     "data": {
      "text/html": [
       "<div>\n",
       "<style scoped>\n",
       "    .dataframe tbody tr th:only-of-type {\n",
       "        vertical-align: middle;\n",
       "    }\n",
       "\n",
       "    .dataframe tbody tr th {\n",
       "        vertical-align: top;\n",
       "    }\n",
       "\n",
       "    .dataframe thead th {\n",
       "        text-align: right;\n",
       "    }\n",
       "</style>\n",
       "<table border=\"1\" class=\"dataframe\">\n",
       "  <thead>\n",
       "    <tr style=\"text-align: right;\">\n",
       "      <th></th>\n",
       "      <th>full_energy</th>\n",
       "      <th>line_time</th>\n",
       "      <th>time_delta</th>\n",
       "      <th>Bulk 1</th>\n",
       "      <th>Bulk 2</th>\n",
       "      <th>Bulk 3</th>\n",
       "      <th>Bulk 4</th>\n",
       "      <th>Bulk 5</th>\n",
       "      <th>Bulk 6</th>\n",
       "      <th>Bulk 7</th>\n",
       "      <th>...</th>\n",
       "      <th>Температура_be</th>\n",
       "      <th>Температура</th>\n",
       "      <th>Wire 1</th>\n",
       "      <th>Wire 2</th>\n",
       "      <th>Wire 3</th>\n",
       "      <th>Wire 4</th>\n",
       "      <th>Wire 6</th>\n",
       "      <th>Wire 7</th>\n",
       "      <th>Wire 8</th>\n",
       "      <th>Wire 9</th>\n",
       "    </tr>\n",
       "  </thead>\n",
       "  <tbody>\n",
       "    <tr>\n",
       "      <th>full_energy</th>\n",
       "      <td>1.000000</td>\n",
       "      <td>0.719734</td>\n",
       "      <td>0.616322</td>\n",
       "      <td>0.098198</td>\n",
       "      <td>0.090067</td>\n",
       "      <td>0.102638</td>\n",
       "      <td>0.005236</td>\n",
       "      <td>0.073118</td>\n",
       "      <td>0.132792</td>\n",
       "      <td>0.145061</td>\n",
       "      <td>...</td>\n",
       "      <td>-0.154205</td>\n",
       "      <td>0.175668</td>\n",
       "      <td>0.138347</td>\n",
       "      <td>0.062370</td>\n",
       "      <td>0.055113</td>\n",
       "      <td>0.102785</td>\n",
       "      <td>0.055588</td>\n",
       "      <td>0.063541</td>\n",
       "      <td>0.032595</td>\n",
       "      <td>-0.022317</td>\n",
       "    </tr>\n",
       "    <tr>\n",
       "      <th>line_time</th>\n",
       "      <td>0.719734</td>\n",
       "      <td>1.000000</td>\n",
       "      <td>0.653428</td>\n",
       "      <td>0.103047</td>\n",
       "      <td>0.038217</td>\n",
       "      <td>0.092682</td>\n",
       "      <td>-0.028237</td>\n",
       "      <td>0.013533</td>\n",
       "      <td>0.161597</td>\n",
       "      <td>0.084614</td>\n",
       "      <td>...</td>\n",
       "      <td>-0.384507</td>\n",
       "      <td>0.278716</td>\n",
       "      <td>0.055495</td>\n",
       "      <td>0.054543</td>\n",
       "      <td>0.033409</td>\n",
       "      <td>0.054802</td>\n",
       "      <td>0.042296</td>\n",
       "      <td>0.027619</td>\n",
       "      <td>0.017882</td>\n",
       "      <td>-0.011570</td>\n",
       "    </tr>\n",
       "    <tr>\n",
       "      <th>time_delta</th>\n",
       "      <td>0.616322</td>\n",
       "      <td>0.653428</td>\n",
       "      <td>1.000000</td>\n",
       "      <td>0.142438</td>\n",
       "      <td>0.252779</td>\n",
       "      <td>0.038237</td>\n",
       "      <td>-0.002659</td>\n",
       "      <td>0.099963</td>\n",
       "      <td>0.160613</td>\n",
       "      <td>0.234641</td>\n",
       "      <td>...</td>\n",
       "      <td>0.124474</td>\n",
       "      <td>0.114453</td>\n",
       "      <td>0.146462</td>\n",
       "      <td>0.057718</td>\n",
       "      <td>0.069138</td>\n",
       "      <td>0.250843</td>\n",
       "      <td>0.139356</td>\n",
       "      <td>0.152616</td>\n",
       "      <td>0.002896</td>\n",
       "      <td>-0.005037</td>\n",
       "    </tr>\n",
       "    <tr>\n",
       "      <th>Bulk 1</th>\n",
       "      <td>0.098198</td>\n",
       "      <td>0.103047</td>\n",
       "      <td>0.142438</td>\n",
       "      <td>1.000000</td>\n",
       "      <td>0.224701</td>\n",
       "      <td>-0.011628</td>\n",
       "      <td>0.041846</td>\n",
       "      <td>0.060429</td>\n",
       "      <td>-0.003630</td>\n",
       "      <td>0.237213</td>\n",
       "      <td>...</td>\n",
       "      <td>0.078831</td>\n",
       "      <td>-0.075206</td>\n",
       "      <td>0.013682</td>\n",
       "      <td>-0.009229</td>\n",
       "      <td>0.020271</td>\n",
       "      <td>0.146301</td>\n",
       "      <td>0.148561</td>\n",
       "      <td>0.083443</td>\n",
       "      <td>-0.019535</td>\n",
       "      <td>0.011066</td>\n",
       "    </tr>\n",
       "    <tr>\n",
       "      <th>Bulk 2</th>\n",
       "      <td>0.090067</td>\n",
       "      <td>0.038217</td>\n",
       "      <td>0.252779</td>\n",
       "      <td>0.224701</td>\n",
       "      <td>1.000000</td>\n",
       "      <td>-0.046888</td>\n",
       "      <td>0.040792</td>\n",
       "      <td>0.360302</td>\n",
       "      <td>-0.029984</td>\n",
       "      <td>0.679356</td>\n",
       "      <td>...</td>\n",
       "      <td>0.141386</td>\n",
       "      <td>-0.082454</td>\n",
       "      <td>-0.169477</td>\n",
       "      <td>-0.039058</td>\n",
       "      <td>0.223202</td>\n",
       "      <td>0.699342</td>\n",
       "      <td>0.558889</td>\n",
       "      <td>0.431737</td>\n",
       "      <td>-0.005273</td>\n",
       "      <td>-0.006842</td>\n",
       "    </tr>\n",
       "    <tr>\n",
       "      <th>Bulk 3</th>\n",
       "      <td>0.102638</td>\n",
       "      <td>0.092682</td>\n",
       "      <td>0.038237</td>\n",
       "      <td>-0.011628</td>\n",
       "      <td>-0.046888</td>\n",
       "      <td>1.000000</td>\n",
       "      <td>-0.295431</td>\n",
       "      <td>-0.006801</td>\n",
       "      <td>0.065284</td>\n",
       "      <td>-0.033480</td>\n",
       "      <td>...</td>\n",
       "      <td>-0.113925</td>\n",
       "      <td>-0.035977</td>\n",
       "      <td>0.039637</td>\n",
       "      <td>0.095723</td>\n",
       "      <td>0.005780</td>\n",
       "      <td>-0.040526</td>\n",
       "      <td>0.007113</td>\n",
       "      <td>-0.019448</td>\n",
       "      <td>0.004846</td>\n",
       "      <td>0.004621</td>\n",
       "    </tr>\n",
       "    <tr>\n",
       "      <th>Bulk 4</th>\n",
       "      <td>0.005236</td>\n",
       "      <td>-0.028237</td>\n",
       "      <td>-0.002659</td>\n",
       "      <td>0.041846</td>\n",
       "      <td>0.040792</td>\n",
       "      <td>-0.295431</td>\n",
       "      <td>1.000000</td>\n",
       "      <td>0.028348</td>\n",
       "      <td>-0.251562</td>\n",
       "      <td>0.045893</td>\n",
       "      <td>...</td>\n",
       "      <td>0.164936</td>\n",
       "      <td>0.187970</td>\n",
       "      <td>0.297591</td>\n",
       "      <td>-0.268142</td>\n",
       "      <td>-0.039219</td>\n",
       "      <td>0.034421</td>\n",
       "      <td>-0.011417</td>\n",
       "      <td>0.033829</td>\n",
       "      <td>0.007830</td>\n",
       "      <td>-0.058138</td>\n",
       "    </tr>\n",
       "    <tr>\n",
       "      <th>Bulk 5</th>\n",
       "      <td>0.073118</td>\n",
       "      <td>0.013533</td>\n",
       "      <td>0.099963</td>\n",
       "      <td>0.060429</td>\n",
       "      <td>0.360302</td>\n",
       "      <td>-0.006801</td>\n",
       "      <td>0.028348</td>\n",
       "      <td>1.000000</td>\n",
       "      <td>-0.021852</td>\n",
       "      <td>0.288338</td>\n",
       "      <td>...</td>\n",
       "      <td>0.078583</td>\n",
       "      <td>-0.028355</td>\n",
       "      <td>-0.013493</td>\n",
       "      <td>-0.013794</td>\n",
       "      <td>0.070916</td>\n",
       "      <td>0.262763</td>\n",
       "      <td>0.204819</td>\n",
       "      <td>0.172141</td>\n",
       "      <td>-0.008337</td>\n",
       "      <td>-0.010817</td>\n",
       "    </tr>\n",
       "    <tr>\n",
       "      <th>Bulk 6</th>\n",
       "      <td>0.132792</td>\n",
       "      <td>0.161597</td>\n",
       "      <td>0.160613</td>\n",
       "      <td>-0.003630</td>\n",
       "      <td>-0.029984</td>\n",
       "      <td>0.065284</td>\n",
       "      <td>-0.251562</td>\n",
       "      <td>-0.021852</td>\n",
       "      <td>1.000000</td>\n",
       "      <td>-0.025099</td>\n",
       "      <td>...</td>\n",
       "      <td>-0.127486</td>\n",
       "      <td>-0.181816</td>\n",
       "      <td>-0.235793</td>\n",
       "      <td>0.204627</td>\n",
       "      <td>-0.046518</td>\n",
       "      <td>-0.025915</td>\n",
       "      <td>-0.020223</td>\n",
       "      <td>-0.012437</td>\n",
       "      <td>-0.028440</td>\n",
       "      <td>-0.013335</td>\n",
       "    </tr>\n",
       "    <tr>\n",
       "      <th>Bulk 7</th>\n",
       "      <td>0.145061</td>\n",
       "      <td>0.084614</td>\n",
       "      <td>0.234641</td>\n",
       "      <td>0.237213</td>\n",
       "      <td>0.679356</td>\n",
       "      <td>-0.033480</td>\n",
       "      <td>0.045893</td>\n",
       "      <td>0.288338</td>\n",
       "      <td>-0.025099</td>\n",
       "      <td>1.000000</td>\n",
       "      <td>...</td>\n",
       "      <td>0.087660</td>\n",
       "      <td>-0.107275</td>\n",
       "      <td>-0.143267</td>\n",
       "      <td>-0.000631</td>\n",
       "      <td>0.156626</td>\n",
       "      <td>0.740572</td>\n",
       "      <td>0.456101</td>\n",
       "      <td>0.372250</td>\n",
       "      <td>-0.004623</td>\n",
       "      <td>-0.005998</td>\n",
       "    </tr>\n",
       "    <tr>\n",
       "      <th>Bulk 8</th>\n",
       "      <td>-0.025532</td>\n",
       "      <td>-0.011286</td>\n",
       "      <td>-0.004365</td>\n",
       "      <td>-0.005725</td>\n",
       "      <td>-0.001545</td>\n",
       "      <td>0.020824</td>\n",
       "      <td>-0.013187</td>\n",
       "      <td>-0.002443</td>\n",
       "      <td>-0.008334</td>\n",
       "      <td>-0.001355</td>\n",
       "      <td>...</td>\n",
       "      <td>-0.011748</td>\n",
       "      <td>-0.026587</td>\n",
       "      <td>0.034650</td>\n",
       "      <td>0.018912</td>\n",
       "      <td>-0.002400</td>\n",
       "      <td>-0.001336</td>\n",
       "      <td>-0.002334</td>\n",
       "      <td>-0.000641</td>\n",
       "      <td>0.321040</td>\n",
       "      <td>-0.001902</td>\n",
       "    </tr>\n",
       "    <tr>\n",
       "      <th>Bulk 9</th>\n",
       "      <td>0.025588</td>\n",
       "      <td>0.012955</td>\n",
       "      <td>-0.001737</td>\n",
       "      <td>-0.019756</td>\n",
       "      <td>-0.005333</td>\n",
       "      <td>0.011337</td>\n",
       "      <td>-0.002940</td>\n",
       "      <td>-0.008431</td>\n",
       "      <td>-0.028762</td>\n",
       "      <td>-0.004675</td>\n",
       "      <td>...</td>\n",
       "      <td>-0.033421</td>\n",
       "      <td>-0.016075</td>\n",
       "      <td>0.022596</td>\n",
       "      <td>0.066733</td>\n",
       "      <td>-0.008282</td>\n",
       "      <td>-0.004609</td>\n",
       "      <td>-0.008055</td>\n",
       "      <td>-0.002212</td>\n",
       "      <td>0.974969</td>\n",
       "      <td>-0.006563</td>\n",
       "    </tr>\n",
       "    <tr>\n",
       "      <th>Bulk 10</th>\n",
       "      <td>0.009833</td>\n",
       "      <td>-0.004997</td>\n",
       "      <td>-0.003358</td>\n",
       "      <td>-0.023187</td>\n",
       "      <td>-0.018015</td>\n",
       "      <td>-0.085186</td>\n",
       "      <td>-0.084746</td>\n",
       "      <td>-0.028480</td>\n",
       "      <td>-0.097157</td>\n",
       "      <td>-0.015793</td>\n",
       "      <td>...</td>\n",
       "      <td>0.035584</td>\n",
       "      <td>0.061350</td>\n",
       "      <td>0.062713</td>\n",
       "      <td>-0.103758</td>\n",
       "      <td>-0.027977</td>\n",
       "      <td>-0.015571</td>\n",
       "      <td>-0.017800</td>\n",
       "      <td>-0.007472</td>\n",
       "      <td>-0.017087</td>\n",
       "      <td>-0.022170</td>\n",
       "    </tr>\n",
       "    <tr>\n",
       "      <th>Bulk 11</th>\n",
       "      <td>0.065340</td>\n",
       "      <td>0.078183</td>\n",
       "      <td>0.038681</td>\n",
       "      <td>-0.037892</td>\n",
       "      <td>0.001479</td>\n",
       "      <td>-0.007445</td>\n",
       "      <td>-0.119529</td>\n",
       "      <td>-0.015840</td>\n",
       "      <td>0.196733</td>\n",
       "      <td>-0.004910</td>\n",
       "      <td>...</td>\n",
       "      <td>-0.110481</td>\n",
       "      <td>-0.114753</td>\n",
       "      <td>-0.117755</td>\n",
       "      <td>0.062067</td>\n",
       "      <td>-0.021829</td>\n",
       "      <td>-0.012153</td>\n",
       "      <td>0.008701</td>\n",
       "      <td>-0.005832</td>\n",
       "      <td>-0.013338</td>\n",
       "      <td>-0.017305</td>\n",
       "    </tr>\n",
       "    <tr>\n",
       "      <th>Bulk 12</th>\n",
       "      <td>0.286423</td>\n",
       "      <td>0.466789</td>\n",
       "      <td>0.252514</td>\n",
       "      <td>0.325771</td>\n",
       "      <td>-0.098962</td>\n",
       "      <td>0.018371</td>\n",
       "      <td>0.105791</td>\n",
       "      <td>-0.072758</td>\n",
       "      <td>-0.112902</td>\n",
       "      <td>-0.017742</td>\n",
       "      <td>...</td>\n",
       "      <td>-0.080115</td>\n",
       "      <td>0.267424</td>\n",
       "      <td>0.170167</td>\n",
       "      <td>-0.098263</td>\n",
       "      <td>-0.120469</td>\n",
       "      <td>-0.085535</td>\n",
       "      <td>-0.042731</td>\n",
       "      <td>-0.041048</td>\n",
       "      <td>-0.055774</td>\n",
       "      <td>-0.042218</td>\n",
       "    </tr>\n",
       "    <tr>\n",
       "      <th>Bulk 13</th>\n",
       "      <td>0.104599</td>\n",
       "      <td>0.129262</td>\n",
       "      <td>0.258493</td>\n",
       "      <td>-0.010279</td>\n",
       "      <td>-0.005592</td>\n",
       "      <td>-0.013389</td>\n",
       "      <td>0.003209</td>\n",
       "      <td>-0.008841</td>\n",
       "      <td>0.042632</td>\n",
       "      <td>-0.004902</td>\n",
       "      <td>...</td>\n",
       "      <td>0.020167</td>\n",
       "      <td>-0.010920</td>\n",
       "      <td>0.039439</td>\n",
       "      <td>-0.001390</td>\n",
       "      <td>-0.008685</td>\n",
       "      <td>-0.004833</td>\n",
       "      <td>-0.008447</td>\n",
       "      <td>-0.002320</td>\n",
       "      <td>-0.005304</td>\n",
       "      <td>-0.006882</td>\n",
       "    </tr>\n",
       "    <tr>\n",
       "      <th>Bulk 14</th>\n",
       "      <td>0.299090</td>\n",
       "      <td>0.461181</td>\n",
       "      <td>0.222587</td>\n",
       "      <td>0.207718</td>\n",
       "      <td>-0.140952</td>\n",
       "      <td>0.010772</td>\n",
       "      <td>-0.090602</td>\n",
       "      <td>-0.065890</td>\n",
       "      <td>0.177490</td>\n",
       "      <td>-0.076388</td>\n",
       "      <td>...</td>\n",
       "      <td>-0.181076</td>\n",
       "      <td>0.114617</td>\n",
       "      <td>-0.053835</td>\n",
       "      <td>0.036309</td>\n",
       "      <td>-0.008859</td>\n",
       "      <td>-0.121828</td>\n",
       "      <td>-0.052387</td>\n",
       "      <td>-0.058465</td>\n",
       "      <td>0.043656</td>\n",
       "      <td>0.018576</td>\n",
       "    </tr>\n",
       "    <tr>\n",
       "      <th>Bulk 15</th>\n",
       "      <td>0.169506</td>\n",
       "      <td>0.295854</td>\n",
       "      <td>0.144513</td>\n",
       "      <td>-0.000800</td>\n",
       "      <td>-0.105693</td>\n",
       "      <td>-0.012860</td>\n",
       "      <td>0.101514</td>\n",
       "      <td>-0.067190</td>\n",
       "      <td>-0.109316</td>\n",
       "      <td>-0.090099</td>\n",
       "      <td>...</td>\n",
       "      <td>-0.063041</td>\n",
       "      <td>0.266414</td>\n",
       "      <td>0.118437</td>\n",
       "      <td>-0.096415</td>\n",
       "      <td>-0.118076</td>\n",
       "      <td>-0.091352</td>\n",
       "      <td>-0.032421</td>\n",
       "      <td>-0.043840</td>\n",
       "      <td>-0.089947</td>\n",
       "      <td>-0.036960</td>\n",
       "    </tr>\n",
       "    <tr>\n",
       "      <th>Газ 1</th>\n",
       "      <td>0.370555</td>\n",
       "      <td>0.396306</td>\n",
       "      <td>0.450377</td>\n",
       "      <td>0.234141</td>\n",
       "      <td>0.217415</td>\n",
       "      <td>0.059628</td>\n",
       "      <td>0.017578</td>\n",
       "      <td>0.086902</td>\n",
       "      <td>0.139625</td>\n",
       "      <td>0.198311</td>\n",
       "      <td>...</td>\n",
       "      <td>0.036047</td>\n",
       "      <td>0.059160</td>\n",
       "      <td>0.117313</td>\n",
       "      <td>0.104248</td>\n",
       "      <td>0.103382</td>\n",
       "      <td>0.145413</td>\n",
       "      <td>0.108089</td>\n",
       "      <td>0.078953</td>\n",
       "      <td>0.118068</td>\n",
       "      <td>0.014070</td>\n",
       "    </tr>\n",
       "    <tr>\n",
       "      <th>Температура_be</th>\n",
       "      <td>-0.154205</td>\n",
       "      <td>-0.384507</td>\n",
       "      <td>0.124474</td>\n",
       "      <td>0.078831</td>\n",
       "      <td>0.141386</td>\n",
       "      <td>-0.113925</td>\n",
       "      <td>0.164936</td>\n",
       "      <td>0.078583</td>\n",
       "      <td>-0.127486</td>\n",
       "      <td>0.087660</td>\n",
       "      <td>...</td>\n",
       "      <td>1.000000</td>\n",
       "      <td>0.301320</td>\n",
       "      <td>0.262598</td>\n",
       "      <td>-0.100733</td>\n",
       "      <td>-0.003485</td>\n",
       "      <td>0.076022</td>\n",
       "      <td>0.020635</td>\n",
       "      <td>0.052750</td>\n",
       "      <td>-0.029860</td>\n",
       "      <td>0.002570</td>\n",
       "    </tr>\n",
       "    <tr>\n",
       "      <th>Температура</th>\n",
       "      <td>0.175668</td>\n",
       "      <td>0.278716</td>\n",
       "      <td>0.114453</td>\n",
       "      <td>-0.075206</td>\n",
       "      <td>-0.082454</td>\n",
       "      <td>-0.035977</td>\n",
       "      <td>0.187970</td>\n",
       "      <td>-0.028355</td>\n",
       "      <td>-0.181816</td>\n",
       "      <td>-0.107275</td>\n",
       "      <td>...</td>\n",
       "      <td>0.301320</td>\n",
       "      <td>1.000000</td>\n",
       "      <td>0.317575</td>\n",
       "      <td>-0.206672</td>\n",
       "      <td>-0.047537</td>\n",
       "      <td>-0.159719</td>\n",
       "      <td>-0.084034</td>\n",
       "      <td>-0.137262</td>\n",
       "      <td>-0.010767</td>\n",
       "      <td>-0.027488</td>\n",
       "    </tr>\n",
       "    <tr>\n",
       "      <th>Wire 1</th>\n",
       "      <td>0.138347</td>\n",
       "      <td>0.055495</td>\n",
       "      <td>0.146462</td>\n",
       "      <td>0.013682</td>\n",
       "      <td>-0.169477</td>\n",
       "      <td>0.039637</td>\n",
       "      <td>0.297591</td>\n",
       "      <td>-0.013493</td>\n",
       "      <td>-0.235793</td>\n",
       "      <td>-0.143267</td>\n",
       "      <td>...</td>\n",
       "      <td>0.262598</td>\n",
       "      <td>0.317575</td>\n",
       "      <td>1.000000</td>\n",
       "      <td>-0.068301</td>\n",
       "      <td>0.038075</td>\n",
       "      <td>-0.142005</td>\n",
       "      <td>-0.128036</td>\n",
       "      <td>-0.067509</td>\n",
       "      <td>0.017234</td>\n",
       "      <td>0.021074</td>\n",
       "    </tr>\n",
       "    <tr>\n",
       "      <th>Wire 2</th>\n",
       "      <td>0.062370</td>\n",
       "      <td>0.054543</td>\n",
       "      <td>0.057718</td>\n",
       "      <td>-0.009229</td>\n",
       "      <td>-0.039058</td>\n",
       "      <td>0.095723</td>\n",
       "      <td>-0.268142</td>\n",
       "      <td>-0.013794</td>\n",
       "      <td>0.204627</td>\n",
       "      <td>-0.000631</td>\n",
       "      <td>...</td>\n",
       "      <td>-0.100733</td>\n",
       "      <td>-0.206672</td>\n",
       "      <td>-0.068301</td>\n",
       "      <td>1.000000</td>\n",
       "      <td>0.094073</td>\n",
       "      <td>-0.033758</td>\n",
       "      <td>-0.058700</td>\n",
       "      <td>-0.016201</td>\n",
       "      <td>0.069272</td>\n",
       "      <td>0.213150</td>\n",
       "    </tr>\n",
       "    <tr>\n",
       "      <th>Wire 3</th>\n",
       "      <td>0.055113</td>\n",
       "      <td>0.033409</td>\n",
       "      <td>0.069138</td>\n",
       "      <td>0.020271</td>\n",
       "      <td>0.223202</td>\n",
       "      <td>0.005780</td>\n",
       "      <td>-0.039219</td>\n",
       "      <td>0.070916</td>\n",
       "      <td>-0.046518</td>\n",
       "      <td>0.156626</td>\n",
       "      <td>...</td>\n",
       "      <td>-0.003485</td>\n",
       "      <td>-0.047537</td>\n",
       "      <td>0.038075</td>\n",
       "      <td>0.094073</td>\n",
       "      <td>1.000000</td>\n",
       "      <td>0.169810</td>\n",
       "      <td>0.183456</td>\n",
       "      <td>0.100392</td>\n",
       "      <td>-0.008189</td>\n",
       "      <td>-0.010625</td>\n",
       "    </tr>\n",
       "    <tr>\n",
       "      <th>Wire 4</th>\n",
       "      <td>0.102785</td>\n",
       "      <td>0.054802</td>\n",
       "      <td>0.250843</td>\n",
       "      <td>0.146301</td>\n",
       "      <td>0.699342</td>\n",
       "      <td>-0.040526</td>\n",
       "      <td>0.034421</td>\n",
       "      <td>0.262763</td>\n",
       "      <td>-0.025915</td>\n",
       "      <td>0.740572</td>\n",
       "      <td>...</td>\n",
       "      <td>0.076022</td>\n",
       "      <td>-0.159719</td>\n",
       "      <td>-0.142005</td>\n",
       "      <td>-0.033758</td>\n",
       "      <td>0.169810</td>\n",
       "      <td>1.000000</td>\n",
       "      <td>0.445960</td>\n",
       "      <td>0.602964</td>\n",
       "      <td>-0.004558</td>\n",
       "      <td>-0.005914</td>\n",
       "    </tr>\n",
       "    <tr>\n",
       "      <th>Wire 6</th>\n",
       "      <td>0.055588</td>\n",
       "      <td>0.042296</td>\n",
       "      <td>0.139356</td>\n",
       "      <td>0.148561</td>\n",
       "      <td>0.558889</td>\n",
       "      <td>0.007113</td>\n",
       "      <td>-0.011417</td>\n",
       "      <td>0.204819</td>\n",
       "      <td>-0.020223</td>\n",
       "      <td>0.456101</td>\n",
       "      <td>...</td>\n",
       "      <td>0.020635</td>\n",
       "      <td>-0.084034</td>\n",
       "      <td>-0.128036</td>\n",
       "      <td>-0.058700</td>\n",
       "      <td>0.183456</td>\n",
       "      <td>0.445960</td>\n",
       "      <td>1.000000</td>\n",
       "      <td>0.302742</td>\n",
       "      <td>-0.007965</td>\n",
       "      <td>-0.010334</td>\n",
       "    </tr>\n",
       "    <tr>\n",
       "      <th>Wire 7</th>\n",
       "      <td>0.063541</td>\n",
       "      <td>0.027619</td>\n",
       "      <td>0.152616</td>\n",
       "      <td>0.083443</td>\n",
       "      <td>0.431737</td>\n",
       "      <td>-0.019448</td>\n",
       "      <td>0.033829</td>\n",
       "      <td>0.172141</td>\n",
       "      <td>-0.012437</td>\n",
       "      <td>0.372250</td>\n",
       "      <td>...</td>\n",
       "      <td>0.052750</td>\n",
       "      <td>-0.137262</td>\n",
       "      <td>-0.067509</td>\n",
       "      <td>-0.016201</td>\n",
       "      <td>0.100392</td>\n",
       "      <td>0.602964</td>\n",
       "      <td>0.302742</td>\n",
       "      <td>1.000000</td>\n",
       "      <td>-0.002187</td>\n",
       "      <td>-0.002838</td>\n",
       "    </tr>\n",
       "    <tr>\n",
       "      <th>Wire 8</th>\n",
       "      <td>0.032595</td>\n",
       "      <td>0.017882</td>\n",
       "      <td>0.002896</td>\n",
       "      <td>-0.019535</td>\n",
       "      <td>-0.005273</td>\n",
       "      <td>0.004846</td>\n",
       "      <td>0.007830</td>\n",
       "      <td>-0.008337</td>\n",
       "      <td>-0.028440</td>\n",
       "      <td>-0.004623</td>\n",
       "      <td>...</td>\n",
       "      <td>-0.029860</td>\n",
       "      <td>-0.010767</td>\n",
       "      <td>0.017234</td>\n",
       "      <td>0.069272</td>\n",
       "      <td>-0.008189</td>\n",
       "      <td>-0.004558</td>\n",
       "      <td>-0.007965</td>\n",
       "      <td>-0.002187</td>\n",
       "      <td>1.000000</td>\n",
       "      <td>-0.006490</td>\n",
       "    </tr>\n",
       "    <tr>\n",
       "      <th>Wire 9</th>\n",
       "      <td>-0.022317</td>\n",
       "      <td>-0.011570</td>\n",
       "      <td>-0.005037</td>\n",
       "      <td>0.011066</td>\n",
       "      <td>-0.006842</td>\n",
       "      <td>0.004621</td>\n",
       "      <td>-0.058138</td>\n",
       "      <td>-0.010817</td>\n",
       "      <td>-0.013335</td>\n",
       "      <td>-0.005998</td>\n",
       "      <td>...</td>\n",
       "      <td>0.002570</td>\n",
       "      <td>-0.027488</td>\n",
       "      <td>0.021074</td>\n",
       "      <td>0.213150</td>\n",
       "      <td>-0.010625</td>\n",
       "      <td>-0.005914</td>\n",
       "      <td>-0.010334</td>\n",
       "      <td>-0.002838</td>\n",
       "      <td>-0.006490</td>\n",
       "      <td>1.000000</td>\n",
       "    </tr>\n",
       "  </tbody>\n",
       "</table>\n",
       "<p>29 rows × 29 columns</p>\n",
       "</div>"
      ],
      "text/plain": [
       "                full_energy  line_time  time_delta    Bulk 1    Bulk 2  \\\n",
       "full_energy        1.000000   0.719734    0.616322  0.098198  0.090067   \n",
       "line_time          0.719734   1.000000    0.653428  0.103047  0.038217   \n",
       "time_delta         0.616322   0.653428    1.000000  0.142438  0.252779   \n",
       "Bulk 1             0.098198   0.103047    0.142438  1.000000  0.224701   \n",
       "Bulk 2             0.090067   0.038217    0.252779  0.224701  1.000000   \n",
       "Bulk 3             0.102638   0.092682    0.038237 -0.011628 -0.046888   \n",
       "Bulk 4             0.005236  -0.028237   -0.002659  0.041846  0.040792   \n",
       "Bulk 5             0.073118   0.013533    0.099963  0.060429  0.360302   \n",
       "Bulk 6             0.132792   0.161597    0.160613 -0.003630 -0.029984   \n",
       "Bulk 7             0.145061   0.084614    0.234641  0.237213  0.679356   \n",
       "Bulk 8            -0.025532  -0.011286   -0.004365 -0.005725 -0.001545   \n",
       "Bulk 9             0.025588   0.012955   -0.001737 -0.019756 -0.005333   \n",
       "Bulk 10            0.009833  -0.004997   -0.003358 -0.023187 -0.018015   \n",
       "Bulk 11            0.065340   0.078183    0.038681 -0.037892  0.001479   \n",
       "Bulk 12            0.286423   0.466789    0.252514  0.325771 -0.098962   \n",
       "Bulk 13            0.104599   0.129262    0.258493 -0.010279 -0.005592   \n",
       "Bulk 14            0.299090   0.461181    0.222587  0.207718 -0.140952   \n",
       "Bulk 15            0.169506   0.295854    0.144513 -0.000800 -0.105693   \n",
       "Газ 1              0.370555   0.396306    0.450377  0.234141  0.217415   \n",
       "Температура_be    -0.154205  -0.384507    0.124474  0.078831  0.141386   \n",
       "Температура        0.175668   0.278716    0.114453 -0.075206 -0.082454   \n",
       "Wire 1             0.138347   0.055495    0.146462  0.013682 -0.169477   \n",
       "Wire 2             0.062370   0.054543    0.057718 -0.009229 -0.039058   \n",
       "Wire 3             0.055113   0.033409    0.069138  0.020271  0.223202   \n",
       "Wire 4             0.102785   0.054802    0.250843  0.146301  0.699342   \n",
       "Wire 6             0.055588   0.042296    0.139356  0.148561  0.558889   \n",
       "Wire 7             0.063541   0.027619    0.152616  0.083443  0.431737   \n",
       "Wire 8             0.032595   0.017882    0.002896 -0.019535 -0.005273   \n",
       "Wire 9            -0.022317  -0.011570   -0.005037  0.011066 -0.006842   \n",
       "\n",
       "                  Bulk 3    Bulk 4    Bulk 5    Bulk 6    Bulk 7  ...  \\\n",
       "full_energy     0.102638  0.005236  0.073118  0.132792  0.145061  ...   \n",
       "line_time       0.092682 -0.028237  0.013533  0.161597  0.084614  ...   \n",
       "time_delta      0.038237 -0.002659  0.099963  0.160613  0.234641  ...   \n",
       "Bulk 1         -0.011628  0.041846  0.060429 -0.003630  0.237213  ...   \n",
       "Bulk 2         -0.046888  0.040792  0.360302 -0.029984  0.679356  ...   \n",
       "Bulk 3          1.000000 -0.295431 -0.006801  0.065284 -0.033480  ...   \n",
       "Bulk 4         -0.295431  1.000000  0.028348 -0.251562  0.045893  ...   \n",
       "Bulk 5         -0.006801  0.028348  1.000000 -0.021852  0.288338  ...   \n",
       "Bulk 6          0.065284 -0.251562 -0.021852  1.000000 -0.025099  ...   \n",
       "Bulk 7         -0.033480  0.045893  0.288338 -0.025099  1.000000  ...   \n",
       "Bulk 8          0.020824 -0.013187 -0.002443 -0.008334 -0.001355  ...   \n",
       "Bulk 9          0.011337 -0.002940 -0.008431 -0.028762 -0.004675  ...   \n",
       "Bulk 10        -0.085186 -0.084746 -0.028480 -0.097157 -0.015793  ...   \n",
       "Bulk 11        -0.007445 -0.119529 -0.015840  0.196733 -0.004910  ...   \n",
       "Bulk 12         0.018371  0.105791 -0.072758 -0.112902 -0.017742  ...   \n",
       "Bulk 13        -0.013389  0.003209 -0.008841  0.042632 -0.004902  ...   \n",
       "Bulk 14         0.010772 -0.090602 -0.065890  0.177490 -0.076388  ...   \n",
       "Bulk 15        -0.012860  0.101514 -0.067190 -0.109316 -0.090099  ...   \n",
       "Газ 1           0.059628  0.017578  0.086902  0.139625  0.198311  ...   \n",
       "Температура_be -0.113925  0.164936  0.078583 -0.127486  0.087660  ...   \n",
       "Температура    -0.035977  0.187970 -0.028355 -0.181816 -0.107275  ...   \n",
       "Wire 1          0.039637  0.297591 -0.013493 -0.235793 -0.143267  ...   \n",
       "Wire 2          0.095723 -0.268142 -0.013794  0.204627 -0.000631  ...   \n",
       "Wire 3          0.005780 -0.039219  0.070916 -0.046518  0.156626  ...   \n",
       "Wire 4         -0.040526  0.034421  0.262763 -0.025915  0.740572  ...   \n",
       "Wire 6          0.007113 -0.011417  0.204819 -0.020223  0.456101  ...   \n",
       "Wire 7         -0.019448  0.033829  0.172141 -0.012437  0.372250  ...   \n",
       "Wire 8          0.004846  0.007830 -0.008337 -0.028440 -0.004623  ...   \n",
       "Wire 9          0.004621 -0.058138 -0.010817 -0.013335 -0.005998  ...   \n",
       "\n",
       "                Температура_be  Температура    Wire 1    Wire 2    Wire 3  \\\n",
       "full_energy          -0.154205     0.175668  0.138347  0.062370  0.055113   \n",
       "line_time            -0.384507     0.278716  0.055495  0.054543  0.033409   \n",
       "time_delta            0.124474     0.114453  0.146462  0.057718  0.069138   \n",
       "Bulk 1                0.078831    -0.075206  0.013682 -0.009229  0.020271   \n",
       "Bulk 2                0.141386    -0.082454 -0.169477 -0.039058  0.223202   \n",
       "Bulk 3               -0.113925    -0.035977  0.039637  0.095723  0.005780   \n",
       "Bulk 4                0.164936     0.187970  0.297591 -0.268142 -0.039219   \n",
       "Bulk 5                0.078583    -0.028355 -0.013493 -0.013794  0.070916   \n",
       "Bulk 6               -0.127486    -0.181816 -0.235793  0.204627 -0.046518   \n",
       "Bulk 7                0.087660    -0.107275 -0.143267 -0.000631  0.156626   \n",
       "Bulk 8               -0.011748    -0.026587  0.034650  0.018912 -0.002400   \n",
       "Bulk 9               -0.033421    -0.016075  0.022596  0.066733 -0.008282   \n",
       "Bulk 10               0.035584     0.061350  0.062713 -0.103758 -0.027977   \n",
       "Bulk 11              -0.110481    -0.114753 -0.117755  0.062067 -0.021829   \n",
       "Bulk 12              -0.080115     0.267424  0.170167 -0.098263 -0.120469   \n",
       "Bulk 13               0.020167    -0.010920  0.039439 -0.001390 -0.008685   \n",
       "Bulk 14              -0.181076     0.114617 -0.053835  0.036309 -0.008859   \n",
       "Bulk 15              -0.063041     0.266414  0.118437 -0.096415 -0.118076   \n",
       "Газ 1                 0.036047     0.059160  0.117313  0.104248  0.103382   \n",
       "Температура_be        1.000000     0.301320  0.262598 -0.100733 -0.003485   \n",
       "Температура           0.301320     1.000000  0.317575 -0.206672 -0.047537   \n",
       "Wire 1                0.262598     0.317575  1.000000 -0.068301  0.038075   \n",
       "Wire 2               -0.100733    -0.206672 -0.068301  1.000000  0.094073   \n",
       "Wire 3               -0.003485    -0.047537  0.038075  0.094073  1.000000   \n",
       "Wire 4                0.076022    -0.159719 -0.142005 -0.033758  0.169810   \n",
       "Wire 6                0.020635    -0.084034 -0.128036 -0.058700  0.183456   \n",
       "Wire 7                0.052750    -0.137262 -0.067509 -0.016201  0.100392   \n",
       "Wire 8               -0.029860    -0.010767  0.017234  0.069272 -0.008189   \n",
       "Wire 9                0.002570    -0.027488  0.021074  0.213150 -0.010625   \n",
       "\n",
       "                  Wire 4    Wire 6    Wire 7    Wire 8    Wire 9  \n",
       "full_energy     0.102785  0.055588  0.063541  0.032595 -0.022317  \n",
       "line_time       0.054802  0.042296  0.027619  0.017882 -0.011570  \n",
       "time_delta      0.250843  0.139356  0.152616  0.002896 -0.005037  \n",
       "Bulk 1          0.146301  0.148561  0.083443 -0.019535  0.011066  \n",
       "Bulk 2          0.699342  0.558889  0.431737 -0.005273 -0.006842  \n",
       "Bulk 3         -0.040526  0.007113 -0.019448  0.004846  0.004621  \n",
       "Bulk 4          0.034421 -0.011417  0.033829  0.007830 -0.058138  \n",
       "Bulk 5          0.262763  0.204819  0.172141 -0.008337 -0.010817  \n",
       "Bulk 6         -0.025915 -0.020223 -0.012437 -0.028440 -0.013335  \n",
       "Bulk 7          0.740572  0.456101  0.372250 -0.004623 -0.005998  \n",
       "Bulk 8         -0.001336 -0.002334 -0.000641  0.321040 -0.001902  \n",
       "Bulk 9         -0.004609 -0.008055 -0.002212  0.974969 -0.006563  \n",
       "Bulk 10        -0.015571 -0.017800 -0.007472 -0.017087 -0.022170  \n",
       "Bulk 11        -0.012153  0.008701 -0.005832 -0.013338 -0.017305  \n",
       "Bulk 12        -0.085535 -0.042731 -0.041048 -0.055774 -0.042218  \n",
       "Bulk 13        -0.004833 -0.008447 -0.002320 -0.005304 -0.006882  \n",
       "Bulk 14        -0.121828 -0.052387 -0.058465  0.043656  0.018576  \n",
       "Bulk 15        -0.091352 -0.032421 -0.043840 -0.089947 -0.036960  \n",
       "Газ 1           0.145413  0.108089  0.078953  0.118068  0.014070  \n",
       "Температура_be  0.076022  0.020635  0.052750 -0.029860  0.002570  \n",
       "Температура    -0.159719 -0.084034 -0.137262 -0.010767 -0.027488  \n",
       "Wire 1         -0.142005 -0.128036 -0.067509  0.017234  0.021074  \n",
       "Wire 2         -0.033758 -0.058700 -0.016201  0.069272  0.213150  \n",
       "Wire 3          0.169810  0.183456  0.100392 -0.008189 -0.010625  \n",
       "Wire 4          1.000000  0.445960  0.602964 -0.004558 -0.005914  \n",
       "Wire 6          0.445960  1.000000  0.302742 -0.007965 -0.010334  \n",
       "Wire 7          0.602964  0.302742  1.000000 -0.002187 -0.002838  \n",
       "Wire 8         -0.004558 -0.007965 -0.002187  1.000000 -0.006490  \n",
       "Wire 9         -0.005914 -0.010334 -0.002838 -0.006490  1.000000  \n",
       "\n",
       "[29 rows x 29 columns]"
      ]
     },
     "execution_count": 43,
     "metadata": {},
     "output_type": "execute_result"
    }
   ],
   "source": [
    "table.corr()"
   ]
  },
  {
   "cell_type": "code",
   "execution_count": 44,
   "id": "87dc5a96",
   "metadata": {},
   "outputs": [
    {
     "data": {
      "image/png": "[encoded data removed]",
      "text/plain": [
       "<Figure size 1440x1440 with 2 Axes>"
      ]
     },
     "metadata": {
      "needs_background": "light"
     },
     "output_type": "display_data"
    }
   ],
   "source": [
    "fig, ax = plt.subplots(figsize=(20,20))       \n",
    "sb.heatmap(table.corr(), cmap=\"YlGnBu\", annot=True,ax=ax)\n",
    "plt.show()"
   ]
  },
  {
   "cell_type": "markdown",
   "id": "3304395f",
   "metadata": {},
   "source": [
    "Удалим Bulk 9, который имеет автокорелляцию с Wire 8"
   ]
  },
  {
   "cell_type": "code",
   "execution_count": 45,
   "id": "133822e5",
   "metadata": {},
   "outputs": [],
   "source": [
    "table.drop('Bulk 9',inplace=True,axis=1)"
   ]
  },
  {
   "cell_type": "code",
   "execution_count": 46,
   "id": "7e2af7b3",
   "metadata": {},
   "outputs": [
    {
     "data": {
      "text/plain": [
       "Index(['full_energy', 'line_time', 'time_delta', 'Bulk 1', 'Bulk 2', 'Bulk 3',\n",
       "       'Bulk 4', 'Bulk 5', 'Bulk 6', 'Bulk 7', 'Bulk 8', 'Bulk 10', 'Bulk 11',\n",
       "       'Bulk 12', 'Bulk 13', 'Bulk 14', 'Bulk 15', 'Газ 1', 'Температура_be',\n",
       "       'Температура', 'Wire 1', 'Wire 2', 'Wire 3', 'Wire 4', 'Wire 6',\n",
       "       'Wire 7', 'Wire 8', 'Wire 9'],\n",
       "      dtype='object')"
      ]
     },
     "execution_count": 46,
     "metadata": {},
     "output_type": "execute_result"
    }
   ],
   "source": [
    "table.columns"
   ]
  },
  {
   "cell_type": "code",
   "execution_count": 47,
   "id": "60b6d718",
   "metadata": {},
   "outputs": [],
   "source": [
    "table.columns=['full_energy', 'line_time', 'time_delta', 'bulk_1', 'bulk_2', 'bulk_3',\n",
    "       'bulk_4', 'bulk_5', 'bulk_6', 'bulk_7', 'bulk_8', 'bulk_10', 'bulk_11',\n",
    "       'bulk_12', 'bulk_13', 'bulk_14', 'bulk_15', 'gas_1', 'temp_be',\n",
    "       'temp_end', 'wire_1', 'wire_2', 'wire_3', 'wire_4', 'wire_5',\n",
    "       'wire_7', 'wire_8', 'wire_9']"
   ]
  },
  {
   "cell_type": "markdown",
   "id": "916c9e5e",
   "metadata": {},
   "source": [
    "**Выводы:**\n",
    "*Данные готовы к обучению*\n",
    "\n",
    "- данные очищены\n",
    "- ДатаСет объединён\n",
    "- изучена корелляционная матрица, устранена автоколерряция"
   ]
  },
  {
   "cell_type": "markdown",
   "id": "258a04e9",
   "metadata": {},
   "source": [
    "## Часть 6: Машинное обучение"
   ]
  },
  {
   "cell_type": "markdown",
   "id": "807f5c44",
   "metadata": {},
   "source": [
    "Разделим данные на параметры и целевые."
   ]
  },
  {
   "cell_type": "code",
   "execution_count": 48,
   "id": "2fc17b31",
   "metadata": {},
   "outputs": [],
   "source": [
    "target=table['temp_end']\n",
    "features=table.drop('temp_end',axis=1)"
   ]
  },
  {
   "cell_type": "code",
   "execution_count": 49,
   "id": "f1f75314",
   "metadata": {},
   "outputs": [
    {
     "data": {
      "text/html": [
       "<div>\n",
       "<style scoped>\n",
       "    .dataframe tbody tr th:only-of-type {\n",
       "        vertical-align: middle;\n",
       "    }\n",
       "\n",
       "    .dataframe tbody tr th {\n",
       "        vertical-align: top;\n",
       "    }\n",
       "\n",
       "    .dataframe thead th {\n",
       "        text-align: right;\n",
       "    }\n",
       "</style>\n",
       "<table border=\"1\" class=\"dataframe\">\n",
       "  <thead>\n",
       "    <tr style=\"text-align: right;\">\n",
       "      <th></th>\n",
       "      <th>full_energy</th>\n",
       "      <th>line_time</th>\n",
       "      <th>time_delta</th>\n",
       "      <th>bulk_1</th>\n",
       "      <th>bulk_2</th>\n",
       "      <th>bulk_3</th>\n",
       "      <th>bulk_4</th>\n",
       "      <th>bulk_5</th>\n",
       "      <th>bulk_6</th>\n",
       "      <th>bulk_7</th>\n",
       "      <th>...</th>\n",
       "      <th>gas_1</th>\n",
       "      <th>temp_be</th>\n",
       "      <th>wire_1</th>\n",
       "      <th>wire_2</th>\n",
       "      <th>wire_3</th>\n",
       "      <th>wire_4</th>\n",
       "      <th>wire_5</th>\n",
       "      <th>wire_7</th>\n",
       "      <th>wire_8</th>\n",
       "      <th>wire_9</th>\n",
       "    </tr>\n",
       "    <tr>\n",
       "      <th>key</th>\n",
       "      <th></th>\n",
       "      <th></th>\n",
       "      <th></th>\n",
       "      <th></th>\n",
       "      <th></th>\n",
       "      <th></th>\n",
       "      <th></th>\n",
       "      <th></th>\n",
       "      <th></th>\n",
       "      <th></th>\n",
       "      <th></th>\n",
       "      <th></th>\n",
       "      <th></th>\n",
       "      <th></th>\n",
       "      <th></th>\n",
       "      <th></th>\n",
       "      <th></th>\n",
       "      <th></th>\n",
       "      <th></th>\n",
       "      <th></th>\n",
       "      <th></th>\n",
       "    </tr>\n",
       "  </thead>\n",
       "  <tbody>\n",
       "    <tr>\n",
       "      <th>1</th>\n",
       "      <td>3.718736</td>\n",
       "      <td>1098.0</td>\n",
       "      <td>1583.0</td>\n",
       "      <td>0.0</td>\n",
       "      <td>0.0</td>\n",
       "      <td>0.0</td>\n",
       "      <td>43.0</td>\n",
       "      <td>0.0</td>\n",
       "      <td>0.0</td>\n",
       "      <td>0.0</td>\n",
       "      <td>...</td>\n",
       "      <td>29.749986</td>\n",
       "      <td>1571.0</td>\n",
       "      <td>60.059998</td>\n",
       "      <td>0.00000</td>\n",
       "      <td>0.0</td>\n",
       "      <td>0.0</td>\n",
       "      <td>0.0</td>\n",
       "      <td>0.0</td>\n",
       "      <td>0.0</td>\n",
       "      <td>0.0</td>\n",
       "    </tr>\n",
       "    <tr>\n",
       "      <th>2</th>\n",
       "      <td>2.588349</td>\n",
       "      <td>811.0</td>\n",
       "      <td>1144.0</td>\n",
       "      <td>0.0</td>\n",
       "      <td>0.0</td>\n",
       "      <td>0.0</td>\n",
       "      <td>73.0</td>\n",
       "      <td>0.0</td>\n",
       "      <td>0.0</td>\n",
       "      <td>0.0</td>\n",
       "      <td>...</td>\n",
       "      <td>12.555561</td>\n",
       "      <td>1581.0</td>\n",
       "      <td>96.052315</td>\n",
       "      <td>0.00000</td>\n",
       "      <td>0.0</td>\n",
       "      <td>0.0</td>\n",
       "      <td>0.0</td>\n",
       "      <td>0.0</td>\n",
       "      <td>0.0</td>\n",
       "      <td>0.0</td>\n",
       "    </tr>\n",
       "    <tr>\n",
       "      <th>3</th>\n",
       "      <td>5.019223</td>\n",
       "      <td>655.0</td>\n",
       "      <td>1525.0</td>\n",
       "      <td>0.0</td>\n",
       "      <td>0.0</td>\n",
       "      <td>0.0</td>\n",
       "      <td>34.0</td>\n",
       "      <td>0.0</td>\n",
       "      <td>0.0</td>\n",
       "      <td>0.0</td>\n",
       "      <td>...</td>\n",
       "      <td>28.554793</td>\n",
       "      <td>1596.0</td>\n",
       "      <td>91.160157</td>\n",
       "      <td>0.00000</td>\n",
       "      <td>0.0</td>\n",
       "      <td>0.0</td>\n",
       "      <td>0.0</td>\n",
       "      <td>0.0</td>\n",
       "      <td>0.0</td>\n",
       "      <td>0.0</td>\n",
       "    </tr>\n",
       "    <tr>\n",
       "      <th>4</th>\n",
       "      <td>3.400038</td>\n",
       "      <td>741.0</td>\n",
       "      <td>1093.0</td>\n",
       "      <td>0.0</td>\n",
       "      <td>0.0</td>\n",
       "      <td>0.0</td>\n",
       "      <td>81.0</td>\n",
       "      <td>0.0</td>\n",
       "      <td>0.0</td>\n",
       "      <td>0.0</td>\n",
       "      <td>...</td>\n",
       "      <td>18.841219</td>\n",
       "      <td>1601.0</td>\n",
       "      <td>89.063515</td>\n",
       "      <td>0.00000</td>\n",
       "      <td>0.0</td>\n",
       "      <td>0.0</td>\n",
       "      <td>0.0</td>\n",
       "      <td>0.0</td>\n",
       "      <td>0.0</td>\n",
       "      <td>0.0</td>\n",
       "    </tr>\n",
       "    <tr>\n",
       "      <th>5</th>\n",
       "      <td>2.816980</td>\n",
       "      <td>869.0</td>\n",
       "      <td>1362.0</td>\n",
       "      <td>0.0</td>\n",
       "      <td>0.0</td>\n",
       "      <td>0.0</td>\n",
       "      <td>78.0</td>\n",
       "      <td>0.0</td>\n",
       "      <td>0.0</td>\n",
       "      <td>0.0</td>\n",
       "      <td>...</td>\n",
       "      <td>5.413692</td>\n",
       "      <td>1576.0</td>\n",
       "      <td>89.238236</td>\n",
       "      <td>9.11456</td>\n",
       "      <td>0.0</td>\n",
       "      <td>0.0</td>\n",
       "      <td>0.0</td>\n",
       "      <td>0.0</td>\n",
       "      <td>0.0</td>\n",
       "      <td>0.0</td>\n",
       "    </tr>\n",
       "  </tbody>\n",
       "</table>\n",
       "<p>5 rows × 27 columns</p>\n",
       "</div>"
      ],
      "text/plain": [
       "     full_energy  line_time  time_delta  bulk_1  bulk_2  bulk_3  bulk_4  \\\n",
       "key                                                                       \n",
       "1       3.718736     1098.0      1583.0     0.0     0.0     0.0    43.0   \n",
       "2       2.588349      811.0      1144.0     0.0     0.0     0.0    73.0   \n",
       "3       5.019223      655.0      1525.0     0.0     0.0     0.0    34.0   \n",
       "4       3.400038      741.0      1093.0     0.0     0.0     0.0    81.0   \n",
       "5       2.816980      869.0      1362.0     0.0     0.0     0.0    78.0   \n",
       "\n",
       "     bulk_5  bulk_6  bulk_7  ...      gas_1  temp_be     wire_1   wire_2  \\\n",
       "key                          ...                                           \n",
       "1       0.0     0.0     0.0  ...  29.749986   1571.0  60.059998  0.00000   \n",
       "2       0.0     0.0     0.0  ...  12.555561   1581.0  96.052315  0.00000   \n",
       "3       0.0     0.0     0.0  ...  28.554793   1596.0  91.160157  0.00000   \n",
       "4       0.0     0.0     0.0  ...  18.841219   1601.0  89.063515  0.00000   \n",
       "5       0.0     0.0     0.0  ...   5.413692   1576.0  89.238236  9.11456   \n",
       "\n",
       "     wire_3  wire_4  wire_5  wire_7  wire_8  wire_9  \n",
       "key                                                  \n",
       "1       0.0     0.0     0.0     0.0     0.0     0.0  \n",
       "2       0.0     0.0     0.0     0.0     0.0     0.0  \n",
       "3       0.0     0.0     0.0     0.0     0.0     0.0  \n",
       "4       0.0     0.0     0.0     0.0     0.0     0.0  \n",
       "5       0.0     0.0     0.0     0.0     0.0     0.0  \n",
       "\n",
       "[5 rows x 27 columns]"
      ]
     },
     "execution_count": 49,
     "metadata": {},
     "output_type": "execute_result"
    }
   ],
   "source": [
    "features.head()"
   ]
  },
  {
   "cell_type": "code",
   "execution_count": 50,
   "id": "559878f7",
   "metadata": {},
   "outputs": [
    {
     "data": {
      "text/plain": [
       "key\n",
       "1    1613.0\n",
       "2    1602.0\n",
       "3    1599.0\n",
       "4    1625.0\n",
       "5    1602.0\n",
       "Name: temp_end, dtype: float64"
      ]
     },
     "execution_count": 50,
     "metadata": {},
     "output_type": "execute_result"
    }
   ],
   "source": [
    "target.head()"
   ]
  },
  {
   "cell_type": "markdown",
   "id": "f025a474",
   "metadata": {},
   "source": [
    "Теперь разделим на **тренировочные и тестовые**"
   ]
  },
  {
   "cell_type": "code",
   "execution_count": 51,
   "id": "f496a930",
   "metadata": {},
   "outputs": [],
   "source": [
    "train_features,test_features,train_target,test_target=train_test_split(features,target,random_state=RANDOM_STATE,test_size=.25)"
   ]
  },
  {
   "cell_type": "code",
   "execution_count": 52,
   "id": "5224c9a2",
   "metadata": {},
   "outputs": [
    {
     "name": "stdout",
     "output_type": "stream",
     "text": [
      "(1746, 27)\n",
      "(583, 27)\n",
      "(1746,)\n",
      "(583,)\n"
     ]
    }
   ],
   "source": [
    "for i in (train_features,test_features,train_target,test_target):\n",
    "    print(i.shape)\n",
    "#рассмотрим размеры"
   ]
  },
  {
   "cell_type": "markdown",
   "id": "4ddee141",
   "metadata": {},
   "source": [
    "### Линейная регрессия"
   ]
  },
  {
   "cell_type": "code",
   "execution_count": 53,
   "id": "6e2691a1",
   "metadata": {},
   "outputs": [
    {
     "name": "stdout",
     "output_type": "stream",
     "text": [
      "MAE with LinReg: 6.18148807206426\n"
     ]
    }
   ],
   "source": [
    "model=LinearRegression()\n",
    "mae = make_scorer(mean_absolute_error, greater_is_better=False)\n",
    "res_linreg=abs(cross_val_score(model,train_features,train_target,scoring=mae,cv=CV).mean())\n",
    "print('MAE with LinReg:',res_linreg)"
   ]
  },
  {
   "cell_type": "markdown",
   "id": "4d7c1ee7",
   "metadata": {},
   "source": [
    "### LightGBM Regressor"
   ]
  },
  {
   "cell_type": "code",
   "execution_count": 54,
   "id": "60047858",
   "metadata": {},
   "outputs": [
    {
     "name": "stdout",
     "output_type": "stream",
     "text": [
      "\n",
      "MAE of LGBMRegressor = 5.962603142659567\n",
      "Wall time: 6.44 s\n"
     ]
    }
   ],
   "source": [
    "%%time\n",
    "\n",
    "\n",
    "params = { 'max_depth': range(2, 3),           \n",
    "           'n_estimators': range(100, 150),        \n",
    "           'learning_rate': [0.2],            \n",
    "           'boosting_type': ['gbdt'],     \n",
    "           'random_state': [RANDOM_STATE]}\n",
    "\n",
    "\n",
    "model_lgbm, lgbm_score = model_initialize(LGBMRegressor(verbose=-1), params)\n",
    "\n"
   ]
  },
  {
   "cell_type": "markdown",
   "id": "d4b83531",
   "metadata": {},
   "source": [
    "### CatBoost Regressor"
   ]
  },
  {
   "cell_type": "code",
   "execution_count": 55,
   "id": "f4fd8b12",
   "metadata": {
    "scrolled": true
   },
   "outputs": [
    {
     "name": "stdout",
     "output_type": "stream",
     "text": [
      "\n",
      "MAE of CatBoostRegressor = 6.066427111304719\n",
      "Wall time: 860 ms\n"
     ]
    }
   ],
   "source": [
    "%%time\n",
    "\n",
    "params = { 'depth':  range(6, 7),             \n",
    "           'n_estimators': range(31, 32),     \n",
    "           'learning_rate': [0.34],                        \n",
    "           'silent': [True],\n",
    "           'random_seed': [RANDOM_STATE]\n",
    "        }\n",
    "\n",
    "\n",
    "model_cat, cat_score = model_initialize(CatBoostRegressor(), params)   "
   ]
  },
  {
   "cell_type": "code",
   "execution_count": 56,
   "id": "8ba6c940",
   "metadata": {},
   "outputs": [
    {
     "data": {
      "text/html": [
       "<div>\n",
       "<style scoped>\n",
       "    .dataframe tbody tr th:only-of-type {\n",
       "        vertical-align: middle;\n",
       "    }\n",
       "\n",
       "    .dataframe tbody tr th {\n",
       "        vertical-align: top;\n",
       "    }\n",
       "\n",
       "    .dataframe thead th {\n",
       "        text-align: right;\n",
       "    }\n",
       "</style>\n",
       "<table border=\"1\" class=\"dataframe\">\n",
       "  <thead>\n",
       "    <tr style=\"text-align: right;\">\n",
       "      <th></th>\n",
       "      <th>model</th>\n",
       "      <th>МАЕ</th>\n",
       "    </tr>\n",
       "  </thead>\n",
       "  <tbody>\n",
       "    <tr>\n",
       "      <th>0</th>\n",
       "      <td>LinearRegression</td>\n",
       "      <td>6.181488</td>\n",
       "    </tr>\n",
       "    <tr>\n",
       "      <th>1</th>\n",
       "      <td>LGBMRegressor</td>\n",
       "      <td>5.962603</td>\n",
       "    </tr>\n",
       "    <tr>\n",
       "      <th>2</th>\n",
       "      <td>CatBoostRegressor</td>\n",
       "      <td>6.066427</td>\n",
       "    </tr>\n",
       "  </tbody>\n",
       "</table>\n",
       "</div>"
      ],
      "text/plain": [
       "               model       МАЕ\n",
       "0   LinearRegression  6.181488\n",
       "1      LGBMRegressor  5.962603\n",
       "2  CatBoostRegressor  6.066427"
      ]
     },
     "execution_count": 56,
     "metadata": {},
     "output_type": "execute_result"
    }
   ],
   "source": [
    "#results=pd.DataFrame()\n",
    "#results.index=\n",
    "results = pd.DataFrame({'model':[LinearRegression().__class__.__name__,LGBMRegressor().__class__.__name__,\\\n",
    "                                 CatBoostRegressor().__class__.__name__], 'МАЕ': [res_linreg,lgbm_score,cat_score]})\n",
    "\n",
    "#for i in \n",
    "\n",
    "\n",
    "results"
   ]
  },
  {
   "cell_type": "markdown",
   "id": "16274928",
   "metadata": {},
   "source": [
    "Итак, победил **LightGBM Regressor**"
   ]
  },
  {
   "cell_type": "markdown",
   "id": "9a618d9a",
   "metadata": {},
   "source": [
    "**Выводы:**\n",
    "- найдена наиболее точная модель LGBM (лучше, чем LinReg и CatBoost)\n",
    "- перебраны 5 гиперпараметров для моделей (кроме LinReg)\n",
    "- MAE в кросс-валидации в допустимых пределах\n",
    "- в обучении использованы 27 параметров\n"
   ]
  },
  {
   "cell_type": "markdown",
   "id": "a7716529",
   "metadata": {},
   "source": [
    "## Часть 7: Тестирование и рассмотрение важности признаков"
   ]
  },
  {
   "cell_type": "code",
   "execution_count": 57,
   "id": "7ff1768c",
   "metadata": {},
   "outputs": [
    {
     "name": "stdout",
     "output_type": "stream",
     "text": [
      "MAE of LGBM on test data: 6.012311570469401\n"
     ]
    }
   ],
   "source": [
    "print('MAE of LGBM on test data:',mean_absolute_error(model_lgbm.predict(test_features),test_target))"
   ]
  },
  {
   "cell_type": "markdown",
   "id": "3b920710",
   "metadata": {},
   "source": [
    "Задача **выполнена**, MAE < 6.8\n",
    "\n",
    "Проверим модель на адекватность"
   ]
  },
  {
   "cell_type": "code",
   "execution_count": 58,
   "id": "23cf983e",
   "metadata": {},
   "outputs": [
    {
     "name": "stdout",
     "output_type": "stream",
     "text": [
      "\n",
      "MAE dummy (mean) = 7.915954919747958\n"
     ]
    }
   ],
   "source": [
    "check = DummyRegressor(strategy='mean').fit(train_features, train_target)\n",
    "check_mae = mean_absolute_error(test_target, check.predict(test_features))\n",
    "\n",
    "print('\\nMAE dummy (mean) =', check_mae) "
   ]
  },
  {
   "cell_type": "markdown",
   "id": "5ffe2b7f",
   "metadata": {},
   "source": [
    "Модель лучше, чем константный регрессор, предсказывающий среднее значение"
   ]
  },
  {
   "cell_type": "markdown",
   "id": "c41ddeae",
   "metadata": {},
   "source": [
    "Рассмотрим важность признаков"
   ]
  },
  {
   "cell_type": "code",
   "execution_count": 59,
   "id": "b58bd358",
   "metadata": {},
   "outputs": [
    {
     "data": {
      "image/png": "[encoded data removed]",
      "text/plain": [
       "<Figure size 864x864 with 1 Axes>"
      ]
     },
     "metadata": {
      "needs_background": "light"
     },
     "output_type": "display_data"
    }
   ],
   "source": [
    "#fig, ax = plt.subplots(figsize=(20,20))       \n",
    "\n",
    "plot_importance(model_lgbm,figsize=(12,12),xlabel='%',ylabel='Признаки',title=\"Важность признаков\")\n",
    "plt.show()"
   ]
  },
  {
   "cell_type": "markdown",
   "id": "253c5c1a",
   "metadata": {},
   "source": [
    "Итак, топ-3 важных параметров:\n",
    "\n",
    "1) Время на процессы обработки (96)\n",
    "\n",
    "2) Изначальная температура (79)\n",
    "\n",
    "3) Общее время обработку (67)"
   ]
  },
  {
   "cell_type": "markdown",
   "id": "d57070f1",
   "metadata": {},
   "source": [
    "**Выводы:**\n",
    "- найдена наиболее точная модель LGBM (лучше, чем LinReg и CatBoost)\n",
    "- MAE в допустимых пределах\n",
    "- наиболее важный параметр - время на процессы обработки ковша\n",
    "- модель адекватна"
   ]
  },
  {
   "cell_type": "markdown",
   "id": "2864cb44",
   "metadata": {},
   "source": [
    "# Отчет\n",
    "\n"
   ]
  },
  {
   "cell_type": "markdown",
   "id": "959327b5",
   "metadata": {},
   "source": [
    "Согласно плану, предполагалось выполнить следующие действия:\n",
    "\n",
    "    1. Предобработка исходных данных. -- ✅ данные изучены, рассмотрены выбросы и распределения\n",
    "\n",
    "    2. Подготовка данных к обучению. -- ✅ были отобраны и созданы важные числовые параметры, а также отброшены выбросы и пропуски\n",
    "\n",
    "    3. Подбор релевантной модели и её обучение. -- ✅ по результатам выиграла модель LGBM Regressor\n",
    "\n",
    "    4. Тестирование модели. -- ✅ модель протестирована. Результат - MAE 6.012, что *меньше* порога в 6.8\n",
    "    \n",
    "В процессе создания модели возникли трудности с:\n",
    "    \n",
    "    - обработкой данных и исключением действительно маловажных значений\n",
    "    \n",
    "    - \"сшиванием\" нескольких таблиц в одну\n",
    "    \n",
    "    в остальном трудностей не возникало\n",
    "    \n",
    "Ключевые шаги в решении задачи:\n",
    "\n",
    "    - изучить бизнес-задачу и понять, как решить её с помощью DS\n",
    "    \n",
    "    - определить важные параметры для модели, поработать со столбцами datetime\n",
    "    \n",
    "    - подобрать лучшую модель, используя различные гиперпараметры\n",
    "    \n",
    "    - изучить важность факторов, определяющих целевую переменную\n",
    "    \n",
    "Итоговая модель -- LGBM Regressor (MAE = 6.012 test выборка)\n",
    "\n",
    "Признаки, использованные при обучении модели:\n",
    "\n",
    "    'full_energy' - полная энергия, затраченная на весь процесс обработки\n",
    "\n",
    "    'line_time' - суммарное время всех операций обработки\n",
    "\n",
    "    'time_delta' - общее время обработки (время конца - время начала)\n",
    "\n",
    "    'bulk_X' (14 параметров с разными X) - данные об обработки bulk\n",
    "\n",
    "    'gas_1' - данные об обработки gas\n",
    "\n",
    "    'temp_be'- температура ковша до обработки\n",
    "\n",
    "    'wire_X' (8 параметров с разными X) - данные об обработки wire\n",
    "\n",
    "Гиперпараметры модели (переменная model_lgbm):\n",
    "\n",
    "- learning_rate=0.2\n",
    "- max_depth=2\n",
    "- n_estimators=144\n",
    "- random_state=170723\n",
    "\n",
    "Для улучшения модели рекомендуется:\n",
    "\n",
    "- уточнить данные по пропущенным значениям\n",
    "- увеличить объем входных данных\n",
    "- рассмотреть иные модели (напр., RandomForestRegressor, XGBoost)\n",
    "- учесть иные данные, влияющие на температуру (напр., температура окружающей среды, влажность)"
   ]
  }
 ],
 "metadata": {
  "ExecuteTimeLog": [
   {
    "duration": 747,
    "start_time": "2023-07-25T10:11:40.525Z"
   },
   {
    "duration": 184,
    "start_time": "2023-07-25T10:11:41.468Z"
   },
   {
    "duration": 4,
    "start_time": "2023-07-25T10:12:04.487Z"
   },
   {
    "duration": 105,
    "start_time": "2023-07-25T10:12:05.771Z"
   },
   {
    "duration": 416,
    "start_time": "2023-07-25T10:12:32.875Z"
   },
   {
    "duration": 7,
    "start_time": "2023-07-25T10:12:40.470Z"
   },
   {
    "duration": 6,
    "start_time": "2023-07-25T10:12:40.843Z"
   },
   {
    "duration": 14,
    "start_time": "2023-07-25T10:12:41.408Z"
   },
   {
    "duration": 381,
    "start_time": "2023-07-25T10:12:48.441Z"
   },
   {
    "duration": 468,
    "start_time": "2023-07-25T10:12:49.709Z"
   },
   {
    "duration": 1180,
    "start_time": "2023-07-25T10:12:50.807Z"
   },
   {
    "duration": 349,
    "start_time": "2023-07-25T10:12:52.383Z"
   },
   {
    "duration": 4,
    "start_time": "2023-07-25T10:12:54.987Z"
   },
   {
    "duration": 65,
    "start_time": "2023-07-25T10:12:55.744Z"
   },
   {
    "duration": 14,
    "start_time": "2023-07-25T10:12:56.338Z"
   },
   {
    "duration": 2109,
    "start_time": "2023-07-28T12:56:55.262Z"
   },
   {
    "duration": 3,
    "start_time": "2023-07-28T12:56:57.372Z"
   },
   {
    "duration": 15,
    "start_time": "2023-07-28T12:56:57.377Z"
   },
   {
    "duration": 949,
    "start_time": "2023-07-28T12:56:57.394Z"
   },
   {
    "duration": 4,
    "start_time": "2023-07-28T12:56:58.345Z"
   },
   {
    "duration": 100,
    "start_time": "2023-07-28T12:56:58.351Z"
   },
   {
    "duration": 366,
    "start_time": "2023-07-28T12:56:58.453Z"
   },
   {
    "duration": 8,
    "start_time": "2023-07-28T12:56:58.821Z"
   },
   {
    "duration": 19,
    "start_time": "2023-07-28T12:56:58.830Z"
   },
   {
    "duration": 23,
    "start_time": "2023-07-28T12:56:58.852Z"
   },
   {
    "duration": 273,
    "start_time": "2023-07-28T12:56:58.877Z"
   },
   {
    "duration": 381,
    "start_time": "2023-07-28T12:56:59.152Z"
   },
   {
    "duration": 3379,
    "start_time": "2023-07-28T12:56:59.535Z"
   },
   {
    "duration": 1038,
    "start_time": "2023-07-28T12:57:02.915Z"
   },
   {
    "duration": 5,
    "start_time": "2023-07-28T12:57:03.954Z"
   },
   {
    "duration": 18,
    "start_time": "2023-07-28T12:57:03.961Z"
   },
   {
    "duration": 2137,
    "start_time": "2023-07-28T12:57:03.981Z"
   },
   {
    "duration": 4,
    "start_time": "2023-07-28T12:57:06.119Z"
   },
   {
    "duration": 87,
    "start_time": "2023-07-28T12:57:06.126Z"
   },
   {
    "duration": 28,
    "start_time": "2023-07-28T12:57:06.222Z"
   },
   {
    "duration": 26,
    "start_time": "2023-07-28T12:57:06.252Z"
   },
   {
    "duration": 30,
    "start_time": "2023-07-28T12:57:06.280Z"
   },
   {
    "duration": 45,
    "start_time": "2023-07-28T12:57:06.318Z"
   },
   {
    "duration": 16,
    "start_time": "2023-07-28T12:57:06.365Z"
   },
   {
    "duration": 57,
    "start_time": "2023-07-28T12:57:06.384Z"
   },
   {
    "duration": 41,
    "start_time": "2023-07-28T12:57:06.443Z"
   },
   {
    "duration": 31,
    "start_time": "2023-07-28T12:57:06.486Z"
   },
   {
    "duration": 36,
    "start_time": "2023-07-28T12:57:06.521Z"
   },
   {
    "duration": 3,
    "start_time": "2023-07-28T12:57:06.558Z"
   },
   {
    "duration": 13,
    "start_time": "2023-07-28T12:57:06.562Z"
   },
   {
    "duration": 11,
    "start_time": "2023-07-28T12:57:06.577Z"
   },
   {
    "duration": 35,
    "start_time": "2023-07-28T12:57:06.591Z"
   },
   {
    "duration": 31,
    "start_time": "2023-07-28T12:57:06.628Z"
   },
   {
    "duration": 26,
    "start_time": "2023-07-28T12:57:06.661Z"
   },
   {
    "duration": 34,
    "start_time": "2023-07-28T12:57:06.689Z"
   },
   {
    "duration": 31,
    "start_time": "2023-07-28T12:57:06.725Z"
   },
   {
    "duration": 56,
    "start_time": "2023-07-28T12:57:06.757Z"
   },
   {
    "duration": 33,
    "start_time": "2023-07-28T12:57:06.814Z"
   },
   {
    "duration": 11,
    "start_time": "2023-07-28T12:57:06.849Z"
   },
   {
    "duration": 20,
    "start_time": "2023-07-28T12:57:06.861Z"
   },
   {
    "duration": 26,
    "start_time": "2023-07-28T12:57:06.883Z"
   },
   {
    "duration": 75,
    "start_time": "2023-07-28T12:57:06.911Z"
   },
   {
    "duration": 58,
    "start_time": "2023-07-28T12:57:06.988Z"
   },
   {
    "duration": 4283,
    "start_time": "2023-07-28T12:57:07.047Z"
   },
   {
    "duration": 4,
    "start_time": "2023-07-28T12:57:11.332Z"
   },
   {
    "duration": 34,
    "start_time": "2023-07-28T12:57:11.337Z"
   },
   {
    "duration": 6,
    "start_time": "2023-07-28T12:57:11.372Z"
   },
   {
    "duration": 14,
    "start_time": "2023-07-28T12:57:11.379Z"
   },
   {
    "duration": 37,
    "start_time": "2023-07-28T12:57:11.394Z"
   },
   {
    "duration": 13,
    "start_time": "2023-07-28T12:57:11.432Z"
   },
   {
    "duration": 8,
    "start_time": "2023-07-28T12:57:11.447Z"
   },
   {
    "duration": 9,
    "start_time": "2023-07-28T12:57:11.457Z"
   },
   {
    "duration": 1038,
    "start_time": "2023-07-28T12:57:11.468Z"
   }
  ],
  "kernelspec": {
   "display_name": "Python 3 (ipykernel)",
   "language": "python",
   "name": "python3"
  },
  "language_info": {
   "codemirror_mode": {
    "name": "ipython",
    "version": 3
   },
   "file_extension": ".py",
   "mimetype": "text/x-python",
   "name": "python",
   "nbconvert_exporter": "python",
   "pygments_lexer": "ipython3",
   "version": "3.9.7"
  },
  "toc": {
   "base_numbering": 1,
   "nav_menu": {},
   "number_sections": true,
   "sideBar": true,
   "skip_h1_title": true,
   "title_cell": "Table of Contents",
   "title_sidebar": "Contents",
   "toc_cell": false,
   "toc_position": {},
   "toc_section_display": true,
   "toc_window_display": false
  }
 },
 "nbformat": 4,
 "nbformat_minor": 5
}
